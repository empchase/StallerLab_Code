{
 "cells": [
  {
   "cell_type": "code",
   "execution_count": 1,
   "id": "274e83c7",
   "metadata": {},
   "outputs": [],
   "source": [
    "import pandas as pd\n",
    "import re\n",
    "import numpy as np\n",
    "import matplotlib.pyplot as plt\n",
    "import seaborn as sns\n",
    "import os\n",
    "\n",
    "import pyarrow\n",
    "import duckdb\n",
    "\n",
    "conn = duckdb.connect('mydb.db') # create an in-memory database"
   ]
  },
  {
   "cell_type": "code",
   "execution_count": 2,
   "id": "10460177",
   "metadata": {},
   "outputs": [
    {
     "data": {
      "text/plain": [
       "'/global/scratch/users/empchase/CiberVI_SpikeIn/wustl_outputs/read1'"
      ]
     },
     "execution_count": 2,
     "metadata": {},
     "output_type": "execute_result"
    }
   ],
   "source": [
    "pwd"
   ]
  },
  {
   "cell_type": "code",
   "execution_count": 3,
   "id": "fc308c1a",
   "metadata": {},
   "outputs": [
    {
     "name": "stdout",
     "output_type": "stream",
     "text": [
      "['Staller_AD_4_30_1_MVS_0001_I1_AACGCAATTC_CGTATCCGTA_S323_R1_001.fastq', 'Staller_AD_4_30_0_MVS_0003_I1_TGGACTCGAA_TTCCGTATTG_S325_R1_001.fastq']\n",
      "['Staller_RPTR_4_30_1_MVS_0002_I1_CGTCGCTAAG_AATACCAGGA_S324_R1_001.fastq', 'Staller_RPTR_4_30_0_MVS_0004_I1_TTAGGTTGTC_TCTTCAACCG_S326_R1_001.fastq']\n"
     ]
    }
   ],
   "source": [
    "path = '/global/scratch/users/empchase/CiberVI_SpikeIn/wustl_outputs/read1'\n",
    "\n",
    "directory = os.fsencode(path)\n",
    "AD1files = []\n",
    "RPTR1files = []\n",
    "\n",
    "for file in os.listdir(directory):\n",
    "    filename = os.fsdecode(file)\n",
    "    if filename.endswith('.fastq'):\n",
    "#         print (type(filename))\n",
    "#         read1files.append(filename)\n",
    "#         print(type(filename))\n",
    "        x = filename.split('_')\n",
    "#         print(x)\n",
    "        if 'AD' in x:\n",
    "            AD1files.append(filename)\n",
    "        elif 'RPTR' in x:\n",
    "            RPTR1files.append(filename)\n",
    "            \n",
    "print(AD1files)\n",
    "print(RPTR1files)"
   ]
  },
  {
   "cell_type": "code",
   "execution_count": 4,
   "id": "6a425998",
   "metadata": {},
   "outputs": [],
   "source": [
    "def complement(seq):\n",
    "    complement = {'A': 'T', 'C': 'G', 'G': 'C', 'T': 'A', 'N':'N', 'X':'X'} \n",
    "    bases = list(seq) \n",
    "    bases = [complement[base] for base in bases] \n",
    "    return ''.join(bases)\n",
    "def reverse_complement(s):\n",
    "        return complement(s[::-1])"
   ]
  },
  {
   "cell_type": "code",
   "execution_count": 5,
   "id": "539fd906",
   "metadata": {},
   "outputs": [],
   "source": [
    "def getmid(seq, pre, post):\n",
    "    # seq = the sequence to parse\n",
    "    # pre = substring that precedes piece of interest\n",
    "    # post = substring that follows piece of interest\n",
    "    # returns piece of interest\n",
    "    \n",
    "    re_key = pre + \"(.*)\"+ post\n",
    "    poi_search = re.search(re_key, seq)\n",
    "#     print(poi_search)\n",
    "    if poi_search is None:\n",
    "        poi = \"X\"\n",
    "    else:\n",
    "        poi = poi_search.group(1)\n",
    "    \n",
    "    return poi\n",
    "\n",
    "\n",
    "#putative consensus sequences - reverse complement of snapgene\n",
    "adp = 'CGGGCCC'#7 bp ; beforeAD barcode in read1\n",
    "adf = 'GGCGCGC' #7bp ; after AD barcode in read1\n",
    "\n",
    "rpp = 'AGCGGCC' #7bp ; before rptr barcode in read1\n",
    "rpf = 'CTCGAGT' #7 bp ; after rptr barcode in read1\n",
    "\n",
    "\n",
    "# function that just looks for bc\n",
    "def bc_finder(readfile,bc_pre, bc_post, bc_len):\n",
    "\n",
    "    # make lists of reads\n",
    "    seqlist = []\n",
    "    \n",
    "    with open(readfile, 'r') as fin:\n",
    "        for line in fin:\n",
    "            if line.startswith('@'):\n",
    "                #look at next line to get read sequence, add to list\n",
    "                seq = next(fin)\n",
    "                seq = seq.strip()\n",
    "                seqlist.append(seq)\n",
    "\n",
    "    \n",
    "    #make lists of BCs from list of reads\n",
    "    bc_list = []\n",
    "    bc_lens = []\n",
    "#     q_list = []\n",
    "       \n",
    "    for read in seqlist:\n",
    "   \n",
    "        bc = getmid(read, bc_pre, bc_post)\n",
    "        bc = reverse_complement(bc) #return reverse complement\n",
    "        bc_list.append(bc)\n",
    "        bcl = len(bc)\n",
    "        bc_lens.append(bcl)\n",
    "#         if bcl == bc_len:\n",
    "#             q_list.append(1)\n",
    "#         else:\n",
    "#             q_list.append(0)\n",
    "#     #         print(bc)\n",
    "\n",
    "               \n",
    "    # make the df\n",
    "    \n",
    "    BC_dict = {\"BCs\":bc_list, \"Length\":bc_lens} #in the future I don't really need the reads or quality\n",
    "    BC_df = pd.DataFrame.from_dict(BC_dict)\n",
    "    \n",
    "    return BC_df"
   ]
  },
  {
   "cell_type": "code",
   "execution_count": 11,
   "id": "73d04089",
   "metadata": {},
   "outputs": [],
   "source": [
    "def analyze_bcs (df, bc_len, tbb_dictkey):\n",
    "    # df = barcode containing df, parsed from fastq\n",
    "    # bc_len = int, expected barcode length\n",
    "    # tbb_dictkey = str, either 'ADbc' or 'RPTRbc'\n",
    "    \n",
    "    print('total reads')\n",
    "    print(df.shape[0]) #how many total reads\n",
    "    \n",
    "    cls = df[df['Length']== bc_len]\n",
    "    print('BCs of correct length')\n",
    "    print(cls.shape[0])\n",
    "    \n",
    "    print('% BCs of correct length')\n",
    "    print (cls.shape[0]/df.shape[0])\n",
    "    \n",
    "    \n",
    "    cl_covdf = cls['BCs'].value_counts().to_frame().reset_index()\n",
    "    print('Unique BCs')\n",
    "    print(cl_covdf.shape[0])\n",
    "    \n",
    "    bcs = cl_covdf['index'].tolist()\n",
    "#     print(bcs[:5])\n",
    "    \n",
    "    \n",
    "    print('# BC matches to A10 deep seq map')\n",
    "\n",
    "    matchlist = []\n",
    "    matches = 0\n",
    "    for x in bcs:\n",
    "        if x in tbb_dictkey:\n",
    "            matches += 1\n",
    "            matchlist.append(1)\n",
    "        else:\n",
    "            matchlist.append(0)\n",
    "            \n",
    "    cl_covdf['Mapped'] = matchlist\n",
    "    \n",
    "    print(matches)\n",
    "    \n",
    "    print('% unique BCs matched')\n",
    "    print(matches/cl_covdf.shape[0])\n",
    "    \n",
    "    \n",
    "    print()\n",
    "    \n",
    "    return cl_covdf\n",
    "    "
   ]
  },
  {
   "cell_type": "code",
   "execution_count": 6,
   "id": "6accc617",
   "metadata": {},
   "outputs": [],
   "source": [
    "# make df out of each fastq file\n",
    "Alist = []\n",
    "Rlist = []\n",
    "\n",
    "for file in AD1files:\n",
    "    x = bc_finder(file, adp, adf, 11)\n",
    "    Alist.append(x)\n",
    "\n",
    "\n",
    "for file in RPTR1files:\n",
    "    x = bc_finder(file, rpp, rpf, 14)\n",
    "    Rlist.append(x)"
   ]
  },
  {
   "cell_type": "code",
   "execution_count": 8,
   "id": "2420d1fa",
   "metadata": {},
   "outputs": [],
   "source": [
    "#read in parquet as df\n",
    "\n",
    "tbb_df = pd.read_parquet('TBB_deep.parquet', columns=[\"ADbc\", \"RPTRbc\"])\n",
    "tbb_dict = tbb_df.to_dict()\n"
   ]
  },
  {
   "cell_type": "code",
   "execution_count": 12,
   "id": "1325e828",
   "metadata": {},
   "outputs": [
    {
     "name": "stdout",
     "output_type": "stream",
     "text": [
      "<class 'dict_values'>\n"
     ]
    }
   ],
   "source": [
    "adbcs_tbb = tbb_dict['ADbc'].values()\n",
    "print(type(adbcs_tbb))\n",
    "rptrbcs_tbb = tbb_dict['RPTRbc'].values()"
   ]
  },
  {
   "cell_type": "code",
   "execution_count": 13,
   "id": "9e770515",
   "metadata": {
    "scrolled": true
   },
   "outputs": [
    {
     "name": "stdout",
     "output_type": "stream",
     "text": [
      "total reads\n",
      "616507\n",
      "BCs of correct length\n",
      "483108\n",
      "% BCs of correct length\n",
      "0.783621272751161\n",
      "Unique BCs\n",
      "2412\n",
      "# BC matches to A10 spike in\n"
     ]
    },
    {
     "ename": "KeyboardInterrupt",
     "evalue": "",
     "output_type": "error",
     "traceback": [
      "\u001b[0;31m---------------------------------------------------------------------------\u001b[0m",
      "\u001b[0;31mKeyboardInterrupt\u001b[0m                         Traceback (most recent call last)",
      "Cell \u001b[0;32mIn[13], line 1\u001b[0m\n\u001b[0;32m----> 1\u001b[0m \u001b[43manalyze_bcs\u001b[49m\u001b[43m \u001b[49m\u001b[43m(\u001b[49m\u001b[43mAlist\u001b[49m\u001b[43m[\u001b[49m\u001b[38;5;241;43m1\u001b[39;49m\u001b[43m]\u001b[49m\u001b[43m,\u001b[49m\u001b[43m \u001b[49m\u001b[38;5;241;43m11\u001b[39;49m\u001b[43m,\u001b[49m\u001b[43m \u001b[49m\u001b[43madbcs_tbb\u001b[49m\u001b[43m)\u001b[49m\n",
      "Cell \u001b[0;32mIn[11], line 34\u001b[0m, in \u001b[0;36manalyze_bcs\u001b[0;34m(df, bc_len, tbb_dictkey)\u001b[0m\n\u001b[1;32m     32\u001b[0m         matchlist\u001b[38;5;241m.\u001b[39mappend(\u001b[38;5;241m1\u001b[39m)\n\u001b[1;32m     33\u001b[0m     \u001b[38;5;28;01melse\u001b[39;00m:\n\u001b[0;32m---> 34\u001b[0m         matchlist\u001b[38;5;241m.\u001b[39mappend(\u001b[38;5;241m0\u001b[39m)\n\u001b[1;32m     36\u001b[0m cl_covdf[\u001b[38;5;124m'\u001b[39m\u001b[38;5;124mMapped\u001b[39m\u001b[38;5;124m'\u001b[39m] \u001b[38;5;241m=\u001b[39m matchlist\n\u001b[1;32m     38\u001b[0m \u001b[38;5;28mprint\u001b[39m(matches)\n",
      "\u001b[0;31mKeyboardInterrupt\u001b[0m: "
     ]
    }
   ],
   "source": [
    "analyze_bcs (Alist[1], 11, adbcs_tbb)"
   ]
  },
  {
   "cell_type": "code",
   "execution_count": null,
   "id": "3aa4ec31",
   "metadata": {},
   "outputs": [],
   "source": []
  }
 ],
 "metadata": {
  "kernelspec": {
   "display_name": "biopython",
   "language": "python",
   "name": "biopython"
  },
  "language_info": {
   "codemirror_mode": {
    "name": "ipython",
    "version": 3
   },
   "file_extension": ".py",
   "mimetype": "text/x-python",
   "name": "python",
   "nbconvert_exporter": "python",
   "pygments_lexer": "ipython3",
   "version": "3.11.4"
  }
 },
 "nbformat": 4,
 "nbformat_minor": 5
}
