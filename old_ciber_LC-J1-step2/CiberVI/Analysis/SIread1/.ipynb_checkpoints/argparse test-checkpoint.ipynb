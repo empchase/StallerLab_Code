{
 "cells": [
  {
   "cell_type": "code",
   "execution_count": 1,
   "id": "720b8c92",
   "metadata": {},
   "outputs": [],
   "source": [
    "import argparse\n",
    "import sys\n",
    "\n",
    "from Bio import SeqIO"
   ]
  },
  {
   "cell_type": "code",
   "execution_count": 9,
   "id": "6db9ed7c",
   "metadata": {},
   "outputs": [],
   "source": [
    "parser = argparse.ArgumentParser(description='Count barcode reads from trimmed FastQ file')\n",
    "parser.add_argument('-i', '--input', help='Input filename of trimmed barcode FastQ')\n",
    "parser.add_argument('-o', '--output', help='Output filename for tab-delimited text count')\n",
    "parser.add_argument('-l', '--length', type=int, help='Length of barcode sequence')\n",
    "args = parser.parse_args(args=[])"
   ]
  },
  {
   "cell_type": "code",
   "execution_count": 10,
   "id": "031a3d4e",
   "metadata": {},
   "outputs": [
    {
     "ename": "AttributeError",
     "evalue": "'Namespace' object has no attribute 'filename'",
     "output_type": "error",
     "traceback": [
      "\u001b[0;31m---------------------------------------------------------------------------\u001b[0m",
      "\u001b[0;31mAttributeError\u001b[0m                            Traceback (most recent call last)",
      "Cell \u001b[0;32mIn[10], line 1\u001b[0m\n\u001b[0;32m----> 1\u001b[0m \u001b[38;5;28mprint\u001b[39m(\u001b[43margs\u001b[49m\u001b[38;5;241;43m.\u001b[39;49m\u001b[43mfilename\u001b[49m, args\u001b[38;5;241m.\u001b[39mcount, args\u001b[38;5;241m.\u001b[39mverbose)\n",
      "\u001b[0;31mAttributeError\u001b[0m: 'Namespace' object has no attribute 'filename'"
     ]
    }
   ],
   "source": [
    "print(args.filename, args.count, args.verbose)"
   ]
  },
  {
   "cell_type": "code",
   "execution_count": 11,
   "id": "d5525c0c",
   "metadata": {},
   "outputs": [
    {
     "name": "stdout",
     "output_type": "stream",
     "text": [
      "[]\n"
     ]
    }
   ],
   "source": [
    "lines = sys.stdin.readlines()\n",
    "print (lines)"
   ]
  },
  {
   "cell_type": "code",
   "execution_count": null,
   "id": "7c39339f",
   "metadata": {},
   "outputs": [],
   "source": [
    "testfastq_r = \"shortStaller_RPTR_4_30_0_MVS_0004_I1_TTAGGTTGTC_TCTTCAACCG_S326_R1_001.fastq\"\n",
    "for record in SeqIO.parse(testfastq_r, \"fastq\"):\n",
    "    print(record)"
   ]
  }
 ],
 "metadata": {
  "kernelspec": {
   "display_name": "biopython",
   "language": "python",
   "name": "biopython"
  },
  "language_info": {
   "codemirror_mode": {
    "name": "ipython",
    "version": 3
   },
   "file_extension": ".py",
   "mimetype": "text/x-python",
   "name": "python",
   "nbconvert_exporter": "python",
   "pygments_lexer": "ipython3",
   "version": "3.11.4"
  }
 },
 "nbformat": 4,
 "nbformat_minor": 5
}
