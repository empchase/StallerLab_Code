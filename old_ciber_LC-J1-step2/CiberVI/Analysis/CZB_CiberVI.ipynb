{
 "cells": [
  {
   "cell_type": "code",
   "execution_count": 1,
   "id": "5b84e02e",
   "metadata": {},
   "outputs": [],
   "source": [
    "import pandas as pd\n",
    "import re\n",
    "import numpy as np\n",
    "import matplotlib.pyplot as plt\n",
    "import os\n",
    "import csv\n",
    "\n",
    "import duckdb\n",
    "\n",
    "conn = duckdb.connect('mydb.db') # create/connect to an in-memory database"
   ]
  },
  {
   "cell_type": "code",
   "execution_count": 2,
   "id": "77fd3a73",
   "metadata": {},
   "outputs": [
    {
     "data": {
      "text/plain": [
       "┌──────────┬─────────┬───────────┬───────────────────────────┬──────────────────────────────────────┬───────────┐\n",
       "│ database │ schema  │   name    │       column_names        │             column_types             │ temporary │\n",
       "│ varchar  │ varchar │  varchar  │         varchar[]         │              varchar[]               │  boolean  │\n",
       "├──────────┼─────────┼───────────┼───────────────────────────┼──────────────────────────────────────┼───────────┤\n",
       "│ mydb     │ main    │ TBB       │ [Tiles, ADbc, RPTRbc]     │ [VARCHAR, VARCHAR, VARCHAR]          │ false     │\n",
       "│ mydb     │ main    │ TBB_UNION │ [Tile, ADbc, RPTRbc, TBB] │ [VARCHAR, VARCHAR, VARCHAR, VARCHAR] │ false     │\n",
       "└──────────┴─────────┴───────────┴───────────────────────────┴──────────────────────────────────────┴───────────┘"
      ]
     },
     "execution_count": 2,
     "metadata": {},
     "output_type": "execute_result"
    }
   ],
   "source": [
    "conn.sql(\"SHOW ALL TABLES\")"
   ]
  },
  {
   "cell_type": "code",
   "execution_count": 1,
   "id": "a5a723a2",
   "metadata": {},
   "outputs": [
    {
     "data": {
      "text/plain": [
       "'/global/scratch/users/empchase/CiberVI/Analysis'"
      ]
     },
     "execution_count": 1,
     "metadata": {},
     "output_type": "execute_result"
    }
   ],
   "source": [
    "pwd"
   ]
  },
  {
   "cell_type": "code",
   "execution_count": 4,
   "id": "d605ff16",
   "metadata": {},
   "outputs": [
    {
     "name": "stdout",
     "output_type": "stream",
     "text": [
      "['EC_1_AD_S205_L004_R1_001.fastq', 'EC_3_AD_S207_L004_R1_001.fastq', 'EC_3_AD_S207_L003_R1_001.fastq', 'EC_1_AD_S205_L003_R1_001.fastq']\n",
      "['EC_4_RPTR_S208_L003_R1_001.fastq', 'EC_4_RPTR_S208_L004_R1_001.fastq', 'EC_2_RPTR_S206_L003_R1_001.fastq', 'EC_2_RPTR_S206_L004_R1_001.fastq']\n"
     ]
    }
   ],
   "source": [
    "#where are the reads\n",
    "path = '/global/scratch/users/empchase/CiberVI/Analysis/CZB_EC'\n",
    "\n",
    "directory = os.fsencode(path)\n",
    "AD1files = []\n",
    "RPTR1files = []\n",
    "\n",
    "for file in os.listdir(directory):\n",
    "    filename = os.fsdecode(file)\n",
    "    if filename.endswith('.fastq'):\n",
    "#         print (type(filename))\n",
    "#         read1files.append(filename)\n",
    "#         print(type(filename))\n",
    "        x = filename.split('_')\n",
    "#         print(x)\n",
    "        if 'AD' in x:\n",
    "            AD1files.append(filename)\n",
    "        elif 'RPTR' in x:\n",
    "            RPTR1files.append(filename)\n",
    "            \n",
    "print(AD1files)\n",
    "print(RPTR1files)"
   ]
  },
  {
   "cell_type": "code",
   "execution_count": 5,
   "id": "cb5a3920",
   "metadata": {},
   "outputs": [],
   "source": [
    "def complement(seq):\n",
    "    complement = {'A': 'T', 'C': 'G', 'G': 'C', 'T': 'A', 'N':'N', 'X':'X'} \n",
    "    bases = list(seq) \n",
    "    bases = [complement[base] for base in bases] \n",
    "    return ''.join(bases)\n",
    "def reverse_complement(s):\n",
    "        return complement(s[::-1])"
   ]
  },
  {
   "cell_type": "code",
   "execution_count": 6,
   "id": "41607ec3",
   "metadata": {},
   "outputs": [],
   "source": [
    "def getmid(seq, pre, post, bclen):\n",
    "    # seq = the sequence to parse\n",
    "    # pre = substring that precedes piece of interest\n",
    "    # post = substring that follows piece of interest\n",
    "    # returns piece of interest\n",
    "\n",
    "    re_key = pre + \"(.*)\"+ post \n",
    "    poi_search = re.search(re_key, seq)\n",
    "#     print(poi_search)\n",
    "\n",
    "\n",
    "    if poi_search is None:\n",
    "        #the barcode will be called X\n",
    "        poi = \"X\"\n",
    "        \n",
    "        #then we search for which restriction site had the error\n",
    "        #regex for the bc we want to ignore\n",
    "        w = \"(.{\"+str(bclen)+\"})\" \n",
    "#         print(w)\n",
    "        pre_re = pre + w + \"(.{7})\"\n",
    "        pre_search = re.search(pre_re, seq)\n",
    "#         print(pre_search)\n",
    "        post_re = \"(\\w{7})\" + w + post\n",
    "        post_search = re.search(post_re, seq)\n",
    "#         print(post_search)\n",
    "        \n",
    "        if pre_search is None and post_search is None:\n",
    "            a = 'X'\n",
    "            z = 'X'\n",
    "        elif pre_search is None:\n",
    "            poi = post_search.group(2)\n",
    "            a = post_search.group(1)\n",
    "            z = post\n",
    "        elif post_search is None:\n",
    "            poi = pre_search.group(1)\n",
    "            z = pre_search.group(2)\n",
    "            a = pre\n",
    "            \n",
    "    else:\n",
    "        poi = poi_search.group(1)\n",
    "        a = pre\n",
    "        z = post\n",
    "    \n",
    "    return poi, a, z\n",
    "\n",
    "\n",
    "#putative consensus sequences ***reverse complement of snapgene***\n",
    "adp = 'CGGGCCC'#7 bp ; beforeAD barcode in read1\n",
    "adf = 'GGCGCGC' #7bp ; after AD barcode in read1\n",
    "\n",
    "rpp = 'AGCGGCC' #7bp ; before rptr barcode in read1\n",
    "rpf = 'CTCGAGT' #7 bp ; after rptr barcode in read1\n",
    "\n",
    "\n",
    "# function that just looks for bc\n",
    "def bc_finder(readfile,bc_pre, bc_post, bc_len):\n",
    "\n",
    "    # make lists of reads\n",
    "    seqlist = []\n",
    "    \n",
    "    with open(readfile, 'r') as fin:\n",
    "        for line in fin:\n",
    "            if line.startswith('@'):\n",
    "                #look at next line to get read sequence, add to list\n",
    "                seq = next(fin)\n",
    "                seq = seq.strip()\n",
    "                seqlist.append(seq)\n",
    "\n",
    "    \n",
    "    #make lists of BCs from list of reads\n",
    "    bc_list = []\n",
    "    bc_lens = []\n",
    "    q_list = []\n",
    "    \n",
    "    prex_list = []\n",
    "#     prex_len = []\n",
    "    postx_list = []\n",
    "#     postx_len = []\n",
    "       \n",
    "    for read in seqlist:\n",
    "   \n",
    "        bc, prex, postx = getmid(read, bc_pre, bc_post, bc_len)\n",
    "        bc = reverse_complement(bc) #return reverse complement\n",
    "        bc_list.append(bc)\n",
    "        bcl = len(bc)\n",
    "        bc_lens.append(bcl)\n",
    "        \n",
    "        #restriction sites: not doing reverse complement\n",
    "        prex_list.append(prex)\n",
    "#         prex_len.append(len(prex))\n",
    "        postx_list.append(postx)\n",
    "#         postx_len.append(len(postx))\n",
    "        if bcl == bc_len:\n",
    "            q_list.append(1)\n",
    "        else:\n",
    "            q_list.append(0)\n",
    "    #         print(bc)\n",
    "\n",
    "               \n",
    "    # make the df\n",
    "    \n",
    "#     print(len(bc_list))\n",
    "#     print(len(bc_lens))\n",
    "#     print(len(q_list))\n",
    "#     print(len(prex_list))\n",
    "#     print(len(prex_len))\n",
    "#     print(len(postx_list))\n",
    "#     print(len(postx_len))\n",
    "    \n",
    "    BC_dict = {\"BCs\":bc_list, \"Length\":bc_lens, #\"Qual\":q_list, \n",
    "               \"prex\":prex_list, #'prexl':prex_len,\n",
    "               'postx':postx_list, #'postxl':postx_len\n",
    "              } \n",
    "    BC_df = pd.DataFrame.from_dict(BC_dict)\n",
    "    \n",
    "    return BC_df"
   ]
  },
  {
   "cell_type": "code",
   "execution_count": 7,
   "id": "6dffc9bc",
   "metadata": {},
   "outputs": [
    {
     "data": {
      "text/html": [
       "<div>\n",
       "<style scoped>\n",
       "    .dataframe tbody tr th:only-of-type {\n",
       "        vertical-align: middle;\n",
       "    }\n",
       "\n",
       "    .dataframe tbody tr th {\n",
       "        vertical-align: top;\n",
       "    }\n",
       "\n",
       "    .dataframe thead th {\n",
       "        text-align: right;\n",
       "    }\n",
       "</style>\n",
       "<table border=\"1\" class=\"dataframe\">\n",
       "  <thead>\n",
       "    <tr style=\"text-align: right;\">\n",
       "      <th></th>\n",
       "      <th>Tile</th>\n",
       "      <th>ADbc</th>\n",
       "      <th>RPTRbc</th>\n",
       "      <th>TBB</th>\n",
       "    </tr>\n",
       "  </thead>\n",
       "  <tbody>\n",
       "    <tr>\n",
       "      <th>0</th>\n",
       "      <td>GATTTGCAAGGTAAATTCTTGGCTGCTCCATTGGAAGAGAATCCAA...</td>\n",
       "      <td>TTTATCCTCGG</td>\n",
       "      <td>AAAAAATTACTTGG</td>\n",
       "      <td>GATTTGCAAGGTAAATTCTTGGCTGCTCCATTGGAAGAGAATCCAA...</td>\n",
       "    </tr>\n",
       "    <tr>\n",
       "      <th>1</th>\n",
       "      <td>GACCCATATATGTCTGCTCCAAATTCTACTGCATTTACTGCTTTGA...</td>\n",
       "      <td>TGAAATGGTAA</td>\n",
       "      <td>CAAAAAGCTATGGT</td>\n",
       "      <td>GACCCATATATGTCTGCTCCAAATTCTACTGCATTTACTGCTTTGA...</td>\n",
       "    </tr>\n",
       "    <tr>\n",
       "      <th>2</th>\n",
       "      <td>GCTTTGGCTGGTGATCCATGGTATCCATTGTTTCCACAAGATGATC...</td>\n",
       "      <td>TGGTAATGAGA</td>\n",
       "      <td>TTTAAATGGCTAAT</td>\n",
       "      <td>GCTTTGGCTGGTGATCCATGGTATCCATTGTTTCCACAAGATGATC...</td>\n",
       "    </tr>\n",
       "    <tr>\n",
       "      <th>3</th>\n",
       "      <td>GATTATCATTCTCAAGCTACTGCTGACTTTGTCTTGTATCCACAAG...</td>\n",
       "      <td>AAGGTCCGAGG</td>\n",
       "      <td>AACAAATACAGAGT</td>\n",
       "      <td>GATTATCATTCTCAAGCTACTGCTGACTTTGTCTTGTATCCACAAG...</td>\n",
       "    </tr>\n",
       "    <tr>\n",
       "      <th>4</th>\n",
       "      <td>GATATTGAAGCTAGATCATTCTATGTCTTTGGTTCTCCAGTTTCTC...</td>\n",
       "      <td>CCCCGCCGTCG</td>\n",
       "      <td>TCTAGGTTTCACCC</td>\n",
       "      <td>GATATTGAAGCTAGATCATTCTATGTCTTTGGTTCTCCAGTTTCTC...</td>\n",
       "    </tr>\n",
       "  </tbody>\n",
       "</table>\n",
       "</div>"
      ],
      "text/plain": [
       "                                                Tile         ADbc  \\\n",
       "0  GATTTGCAAGGTAAATTCTTGGCTGCTCCATTGGAAGAGAATCCAA...  TTTATCCTCGG   \n",
       "1  GACCCATATATGTCTGCTCCAAATTCTACTGCATTTACTGCTTTGA...  TGAAATGGTAA   \n",
       "2  GCTTTGGCTGGTGATCCATGGTATCCATTGTTTCCACAAGATGATC...  TGGTAATGAGA   \n",
       "3  GATTATCATTCTCAAGCTACTGCTGACTTTGTCTTGTATCCACAAG...  AAGGTCCGAGG   \n",
       "4  GATATTGAAGCTAGATCATTCTATGTCTTTGGTTCTCCAGTTTCTC...  CCCCGCCGTCG   \n",
       "\n",
       "           RPTRbc                                                TBB  \n",
       "0  AAAAAATTACTTGG  GATTTGCAAGGTAAATTCTTGGCTGCTCCATTGGAAGAGAATCCAA...  \n",
       "1  CAAAAAGCTATGGT  GACCCATATATGTCTGCTCCAAATTCTACTGCATTTACTGCTTTGA...  \n",
       "2  TTTAAATGGCTAAT  GCTTTGGCTGGTGATCCATGGTATCCATTGTTTCCACAAGATGATC...  \n",
       "3  AACAAATACAGAGT  GATTATCATTCTCAAGCTACTGCTGACTTTGTCTTGTATCCACAAG...  \n",
       "4  TCTAGGTTTCACCC  GATATTGAAGCTAGATCATTCTATGTCTTTGGTTCTCCAGTTTCTC...  "
      ]
     },
     "execution_count": 7,
     "metadata": {},
     "output_type": "execute_result"
    }
   ],
   "source": [
    "#read in as df and create dictionary\n",
    "tbbdf = conn.sql(\"\"\"SELECT * FROM TBB_UNION\"\"\").df()\n",
    "tbbdf.head()"
   ]
  },
  {
   "cell_type": "code",
   "execution_count": 8,
   "id": "2da1627b",
   "metadata": {},
   "outputs": [],
   "source": [
    "#dictionary ~ {RPTRbc: TBB}\n",
    "\n",
    "RPTRdict = dict(zip(tbbdf.RPTRbc, tbbdf.TBB))"
   ]
  },
  {
   "cell_type": "code",
   "execution_count": null,
   "id": "6ce00e10",
   "metadata": {},
   "outputs": [],
   "source": []
  }
 ],
 "metadata": {
  "kernelspec": {
   "display_name": "biopython",
   "language": "python",
   "name": "biopython"
  },
  "language_info": {
   "codemirror_mode": {
    "name": "ipython",
    "version": 3
   },
   "file_extension": ".py",
   "mimetype": "text/x-python",
   "name": "python",
   "nbconvert_exporter": "python",
   "pygments_lexer": "ipython3",
   "version": "3.11.4"
  }
 },
 "nbformat": 4,
 "nbformat_minor": 5
}
