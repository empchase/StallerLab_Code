{
 "cells": [
  {
   "cell_type": "code",
   "execution_count": 1,
   "id": "ec9a7786",
   "metadata": {},
   "outputs": [],
   "source": [
    "import time\n",
    "import pandas as pd\n",
    "import re\n",
    "import numpy as np\n",
    "import matplotlib.pyplot as plt\n",
    "import seaborn as sns\n",
    "import os\n",
    "import csv\n",
    "\n",
    "import duckdb\n",
    "\n",
    "conn = duckdb.connect('/global/scratch/users/empchase/Seq_analysis/mydb.db') # create an in-memory database"
   ]
  },
  {
   "cell_type": "code",
   "execution_count": 11,
   "id": "6c908088",
   "metadata": {},
   "outputs": [
    {
     "data": {
      "text/plain": [
       "┌─────────────────────────────────────────────────────────────────────────────────────────────────────┬────────────────┐\n",
       "│                                                 TBB                                                 │     RPTRbc     │\n",
       "│                                               varchar                                               │    varchar     │\n",
       "├─────────────────────────────────────────────────────────────────────────────────────────────────────┼────────────────┤\n",
       "│ AATTCTGTTGCTCCAGATACTAGAAGACATTCTGTTCAACATTTGAGATCTCCATCTACTTATCCACAACAAATTCCACAAGATCCAAGAGTTACTA…  │ CGATCCACGCGCCA │\n",
       "│ ACTACTCATTTGACTTCTCCATTGTCATTCTTTGATTCTCCAAATGATTCTTATGATACTTCTCCATTGTTTGCTCCAGATGATATTACTCAAGATG…  │ CTGATAATGGCGCA │\n",
       "│ GTTGAATTGCCAGAAGAATTTACTGCATTTGATGGTGGTGCTAATACTGCATTCTCTTCTCCAGCTGTTCCATCTGTCTTTGACTTTGGTGGTTCTT…  │ AAGCCACCCGACGC │\n",
       "│ TCTCCAGCTACTAATGGTATTTCTAAATCTAGAAGAAGGAAAGGTCCATTGCCAGCTATTGCTGTTGATCCATCTGATAAGATTGCTTTGAAGAGAG…  │ CCGCCCGCAGTACG │\n",
       "│ GATATCTTTGCTGATGCATTTGGTTCTGCTCCACCATCTGCTGCATTTACTAATTTGACTTCTCCAGATATTGATGCTTCTCCATTCTTGAATGAAT…  │ CCGCCGACCTCTGA │\n",
       "└─────────────────────────────────────────────────────────────────────────────────────────────────────┴────────────────┘"
      ]
     },
     "execution_count": 11,
     "metadata": {},
     "output_type": "execute_result"
    }
   ],
   "source": [
    "# conn.sql(\"DROP TABLE IF EXISTS UNION_CURRENT\")\n",
    "# conn.sql(\"CREATE TABLE UNION_CURRENT AS SELECT * FROM read_parquet('/global/scratch/users/empchase/Seq_analysis/20240123_UNION.parquet');\")\n",
    "conn.sql(\"SELECT * FROM UNION_CURRENT LIMIT 5\")"
   ]
  },
  {
   "cell_type": "code",
   "execution_count": 6,
   "id": "e98852ad",
   "metadata": {
    "collapsed": true
   },
   "outputs": [
    {
     "data": {
      "text/plain": [
       "┌──────────┬─────────┬──────────────────┬──────────────────────┬───────────────────────────────────────────┬───────────┐\n",
       "│ database │ schema  │       name       │     column_names     │               column_types                │ temporary │\n",
       "│ varchar  │ varchar │     varchar      │      varchar[]       │                 varchar[]                 │  boolean  │\n",
       "├──────────┼─────────┼──────────────────┼──────────────────────┼───────────────────────────────────────────┼───────────┤\n",
       "│ mydb     │ main    │ SI_VI_AD0        │ [index, BCs, TBB, …  │ [VARCHAR, BIGINT, VARCHAR, VARCHAR]       │ false     │\n",
       "│ mydb     │ main    │ SI_VI_AD1        │ [index, BCs, TBB, …  │ [VARCHAR, BIGINT, VARCHAR, VARCHAR]       │ false     │\n",
       "│ mydb     │ main    │ SI_VI_RPTR0      │ [index, BCs, TBB, …  │ [VARCHAR, BIGINT, VARCHAR, VARCHAR]       │ false     │\n",
       "│ mydb     │ main    │ SI_VI_RPTR1      │ [index, BCs, TBB, …  │ [VARCHAR, BIGINT, VARCHAR, VARCHAR]       │ false     │\n",
       "│ mydb     │ main    │ TBB              │ [Tiles, ADbc, RPTR…  │ [VARCHAR, VARCHAR, VARCHAR, VARCHAR, VA…  │ false     │\n",
       "│ mydb     │ main    │ TBB_INTERSECTION │ [Tile, ADbc, RPTRb…  │ [VARCHAR, VARCHAR, VARCHAR, VARCHAR]      │ false     │\n",
       "│ mydb     │ main    │ TBB_UMOD         │ [Tiles, ADbc, RPTR…  │ [VARCHAR, VARCHAR, VARCHAR, VARCHAR]      │ false     │\n",
       "│ mydb     │ main    │ UNION_CURRENT    │ [TBB, RPTRbc]        │ [VARCHAR, VARCHAR]                        │ false     │\n",
       "└──────────┴─────────┴──────────────────┴──────────────────────┴───────────────────────────────────────────┴───────────┘"
      ]
     },
     "execution_count": 6,
     "metadata": {},
     "output_type": "execute_result"
    }
   ],
   "source": [
    "conn.sql(\"\"\" SHOW ALL TABLES \"\"\")\n"
   ]
  },
  {
   "cell_type": "code",
   "execution_count": 16,
   "id": "e0ef6f1f",
   "metadata": {
    "collapsed": true
   },
   "outputs": [
    {
     "name": "stdout",
     "output_type": "stream",
     "text": [
      "finished in 28.09 seconds\n",
      "┌───────────────────────────────────────────────────────────────────────────────────────┬─────────────┬────────────────┐\n",
      "│                                         Tiles                                         │    ADbc     │     RPTRbc     │\n",
      "│                                        varchar                                        │   varchar   │    varchar     │\n",
      "├───────────────────────────────────────────────────────────────────────────────────────┼─────────────┼────────────────┤\n",
      "│ CATAGATCTTCTCCATCTGGTCATGATTCTCATTCTGCTACTGATATGGATTTGTTTGATGACTTTACTGCATTTGAAGGTGG…  │ TCAAGTCGAAC │ CCCCCATCGGCGAG │\n",
      "│ ATTAATGGTGCTGCTATGACTCCATCTTTGTCTAGAAGATCTTCTTCTCCAGGTTCTTCTCCAAGATCTGGTGCTAGGAAACA…  │ TAACAATTAAG │ GAGTTGTGCCTGGT │\n",
      "│ TCTAATTTGTCTCCAGACTTCTTGTTGTCTTTGGCTGCTCAACAGAAACAAATGTATATTGGTTCTAATAAACCATTGGGTAA…  │ TCGGTACGACT │ ATAACGACTTTTCC │\n",
      "│ ACTCATGATACTGGTTGTGCTGCTACTTCTACTGTTACTTCTTCTTGGTTGCCATCTAAGAGATTGGCTCCAGCTACTTTGGA…  │ CTCTCTTTTCG │ CCCGTCCTGGAGTT │\n",
      "│ AGAAGAAGATCTTCTTCTTCTCCAAGAATTGATGAATTTGGTATTGTTGCTTATTCTAGGAAACCAAGATCTCAACCATTGAA…  │ ATGAAAATATC │ GGATTTGTGTCGAC │\n",
      "└───────────────────────────────────────────────────────────────────────────────────────┴─────────────┴────────────────┘\n",
      "\n"
     ]
    }
   ],
   "source": [
    "# start = time.perf_counter()\n",
    "# conn.sql(\"\"\" DROP TABLE IF EXISTS TBB_UMOD_PRE  \"\"\")\n",
    "# conn.sql(\"\"\" DROP TABLE IF EXISTS TBB_UMOD  \"\"\")\n",
    "# conn.sql(\"\"\" CREATE TABLE TBB_UMOD AS\n",
    "#         SELECT DISTINCT Tiles, ADbc, RPTRbc\n",
    "#         FROM TBB\n",
    "#         WHERE RPTRBC IN (\n",
    "#             SELECT RPTRBC\n",
    "#             FROM TBB\n",
    "#             GROUP BY RPTRBC\n",
    "#             HAVING COUNT(DISTINCT TILES) = 1)\"\"\")\n",
    "\n",
    "# finish = time.perf_counter()\n",
    "# print(f'finished in {round(finish-start, 2)} seconds')\n",
    "# print(conn.sql(\"SELECT * FROM TBB_UMOD LIMIT 5\"))"
   ]
  },
  {
   "cell_type": "code",
   "execution_count": 22,
   "id": "df72b7f0",
   "metadata": {
    "collapsed": true
   },
   "outputs": [
    {
     "data": {
      "text/plain": [
       "┌──────────┬────────────┐\n",
       "│  TBB_C   │ TBB_UMOD_C │\n",
       "│  int64   │   int64    │\n",
       "├──────────┼────────────┤\n",
       "│ 28241827 │   23511588 │\n",
       "└──────────┴────────────┘"
      ]
     },
     "execution_count": 22,
     "metadata": {},
     "output_type": "execute_result"
    }
   ],
   "source": [
    "# conn.sql(\"\"\"SELECT \n",
    "# (SELECT COUNT(DISTINCT TBB) FROM TBB) AS TBB_C,\n",
    "# (SELECT COUNT(RPTRBC) FROM TBB_UMOD) AS TBB_UMOD_C\n",
    "# \"\"\") #DEEP1UNIQ COUNT MATCHES WHEN I USED SELECT DISTINCT, CHECK"
   ]
  },
  {
   "cell_type": "code",
   "execution_count": 23,
   "id": "f0d31ea3",
   "metadata": {
    "collapsed": true
   },
   "outputs": [
    {
     "data": {
      "text/plain": [
       "4730239"
      ]
     },
     "execution_count": 23,
     "metadata": {},
     "output_type": "execute_result"
    }
   ],
   "source": [
    "# 28241827 - 23511588 \n",
    "# #28M DISTINCT ENTRIES IN TBB VS 23M DISTINCT ENTRIES IN UMOD: ~5M INSTANCES WHERE RPTRBC MAPS TO >1TILE"
   ]
  },
  {
   "cell_type": "code",
   "execution_count": 25,
   "id": "6f50a204",
   "metadata": {
    "collapsed": true
   },
   "outputs": [
    {
     "data": {
      "text/plain": [
       "┌─────────┬───────────────┐\n",
       "│ RPTRbc  │ count(RPTRBC) │\n",
       "│ varchar │     int64     │\n",
       "├─────────────────────────┤\n",
       "│         0 rows          │\n",
       "└─────────────────────────┘"
      ]
     },
     "execution_count": 25,
     "metadata": {},
     "output_type": "execute_result"
    }
   ],
   "source": [
    "# conn.sql(\"\"\" SELECT RPTRBC, COUNT(RPTRBC)\n",
    "# FROM TBB_UMOD\n",
    "# GROUP BY RPTRBC\n",
    "# HAVING COUNT(DISTINCT TILES) > 1;\"\"\")"
   ]
  },
  {
   "cell_type": "code",
   "execution_count": 26,
   "id": "16142233",
   "metadata": {
    "collapsed": true
   },
   "outputs": [
    {
     "data": {
      "text/plain": [
       "┌─────────┬────────────────────────┐\n",
       "│ RPTRbc  │ count(DISTINCT RPTRBC) │\n",
       "│ varchar │         int64          │\n",
       "├──────────────────────────────────┤\n",
       "│              0 rows              │\n",
       "└──────────────────────────────────┘"
      ]
     },
     "execution_count": 26,
     "metadata": {},
     "output_type": "execute_result"
    }
   ],
   "source": [
    "# conn.sql(\"\"\" SELECT RPTRBC, COUNT(DISTINCT RPTRBC)\n",
    "# FROM TBB_UMOD\n",
    "# GROUP BY RPTRBC\n",
    "# HAVING COUNT(DISTINCT RPTRBC) >1;\"\"\")"
   ]
  },
  {
   "cell_type": "code",
   "execution_count": null,
   "id": "6c981910",
   "metadata": {},
   "outputs": [],
   "source": []
  },
  {
   "cell_type": "code",
   "execution_count": null,
   "id": "eaebcc7a",
   "metadata": {},
   "outputs": [],
   "source": []
  },
  {
   "cell_type": "code",
   "execution_count": null,
   "id": "bbb88013",
   "metadata": {},
   "outputs": [],
   "source": []
  },
  {
   "cell_type": "code",
   "execution_count": null,
   "id": "565c7748",
   "metadata": {},
   "outputs": [],
   "source": []
  }
 ],
 "metadata": {
  "kernelspec": {
   "display_name": "biopython",
   "language": "python",
   "name": "biopython"
  },
  "language_info": {
   "codemirror_mode": {
    "name": "ipython",
    "version": 3
   },
   "file_extension": ".py",
   "mimetype": "text/x-python",
   "name": "python",
   "nbconvert_exporter": "python",
   "pygments_lexer": "ipython3",
   "version": "3.11.4"
  }
 },
 "nbformat": 4,
 "nbformat_minor": 5
}
