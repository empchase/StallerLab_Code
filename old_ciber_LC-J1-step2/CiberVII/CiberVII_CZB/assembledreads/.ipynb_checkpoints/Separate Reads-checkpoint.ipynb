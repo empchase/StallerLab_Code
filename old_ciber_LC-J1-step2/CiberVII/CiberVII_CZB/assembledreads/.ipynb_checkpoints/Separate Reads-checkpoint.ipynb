{
 "cells": [
  {
   "cell_type": "code",
   "execution_count": 2,
   "id": "8c200275",
   "metadata": {},
   "outputs": [],
   "source": [
    "import os,sys,re\n",
    "import gzip\n",
    "from Bio import SeqIO\n",
    "from Bio.SeqIO.QualityIO import FastqGeneralIterator\n",
    "import itertools\n",
    "import argparse\n",
    "import datetime"
   ]
  },
  {
   "cell_type": "code",
   "execution_count": 1,
   "id": "a9686c15",
   "metadata": {},
   "outputs": [
    {
     "data": {
      "text/plain": [
       "'/global/scratch/users/empchase/CiberVII/CiberVII_CZB/assembledreads'"
      ]
     },
     "execution_count": 1,
     "metadata": {},
     "output_type": "execute_result"
    }
   ],
   "source": [
    "pwd"
   ]
  },
  {
   "cell_type": "code",
   "execution_count": 3,
   "id": "cf39ea4f",
   "metadata": {},
   "outputs": [],
   "source": [
    "def SeperateFiles(fpath, E_outpath, K_outpath, ad_or_rptr):\n",
    "    with open(fpath,'rt') as fh:\n",
    "        print('file opened', datetime.datetime.now())\n",
    "        lines = fh.readlines()\n",
    "        E_set = []\n",
    "        K_set = []\n",
    "        for num, line in enumerate(lines):\n",
    "            if num%4==1:\n",
    "                if line.find(ad_or_rptr)!= -1:  #AD: GAAATTC #RPTR: TAATTAC \n",
    "                    E_set.append(lines[num - 1])\n",
    "                    E_set.append(line)\n",
    "                    E_set.append(lines[num + 1])\n",
    "                    E_set.append(lines[num + 2])\n",
    "                else:\n",
    "                    K_set.append(lines[num - 1])\n",
    "                    K_set.append(line)\n",
    "                    K_set.append(lines[num + 1])\n",
    "                    K_set.append(lines[num + 2])\n",
    "\n",
    "        print('file parsed', datetime.datetime.now())\n",
    "                    \n",
    "    E_handle = open(E_outpath, \"w\")\n",
    "    for line in E_set:\n",
    "        E_handle.write(line)\n",
    "    E_handle.close()\n",
    "    print('E files written', datetime.datetime.now())\n",
    "\n",
    "    K_handle = open(K_outpath, \"w\")\n",
    "    for line in K_set:\n",
    "        K_handle.write(line)\n",
    "    K_handle.close()\n",
    "    print('K files written', datetime.datetime.now())"
   ]
  },
  {
   "cell_type": "code",
   "execution_count": 4,
   "id": "ced3fd5a",
   "metadata": {},
   "outputs": [
    {
     "name": "stdout",
     "output_type": "stream",
     "text": [
      "AD_4_30_16X16_0927_S205_L003_R1_001_demultiplexed.assembled.fastq\n",
      "Test_L4_Oct2023-RPTR_3_30_30X20_S7_L004.fastq.gz.assembled.fastq\n",
      "SCU_Oct2023_S2_L004.fastq.gz.assembled.fastq\n",
      "AU_Oct2023_S1_L004_R1_001_demultiplexed.assembled.fastq\n",
      "AU_Oct2023_S1_L004.fastq.gz.assembled.fastq\n",
      "Test_L1_Oct2023-AD_4_30_30X20_S4_L004.fastq.gz.assembled.fastq\n",
      "Test_L2_Oct2023-AD_3_30_30X20_S5_L004.fastq.gz.assembled.fastq\n",
      "Test_L3_Oct2023-RPTR_4_30_30X20_S6_L004.fastq.gz.assembled.fastq\n"
     ]
    }
   ],
   "source": [
    "p = '/global/scratch/users/empchase/CiberVII/CiberVII_CZB/assembledreads/'\n",
    "directory = os.fsencode(p)\n",
    "\n",
    "for file in os.listdir(directory):\n",
    "    filename = os.fsdecode(file)\n",
    "    if filename.endswith('.fastq'):\n",
    "        print(filename)"
   ]
  },
  {
   "cell_type": "code",
   "execution_count": 5,
   "id": "7c3b1a46",
   "metadata": {},
   "outputs": [],
   "source": [
    "# p = '/global/scratch/users/empchase/CiberVII/CiberVII_CZB/assembledreads/'\n",
    "all1_1 = p + \"AU_Oct2023_S1_L004.fastq.gz.assembled.fastq\"\n",
    "all1_2 = p + 'SCU_Oct2023_S2_L004.fastq.gz.assembled.fastq'\n",
    "all2_1 = p + 'Test_L1_Oct2023-AD_4_30_30X20_S4_L004.fastq.gz.assembled.fastq'\n",
    "all2_2 = p + 'Test_L2_Oct2023-AD_3_30_30X20_S5_L004.fastq.gz.assembled.fastq'\n",
    "all3_1 = p + 'Test_L3_Oct2023-RPTR_4_30_30X20_S6_L004.fastq.gz.assembled.fastq'\n",
    "all3_2 = p + 'Test_L4_Oct2023-RPTR_3_30_30X20_S7_L004.fastq.gz.assembled.fastq'\n",
    "# all4_1 = p + 'KF_4_S208_L003_R1_001.fastq.gz'\n",
    "# all4_2 = p + 'KF_4_S208_L004_R1_001.fastq.gz'\n",
    "\n",
    "AU1_1 = p + \"AU_Oct2023_S1_L004_R1_001_demultiplexed.assembled.fastq\"\n",
    "SCU1_2 = p + 'SCU_Oct2023_S2_L004_R1_001_demultiplexed.assembled.fastq'\n",
    "TestL1_2_1 = p + 'Test_L1_Oct2023-AD_4_30_30X20_S4_L004_R1_001_demultiplexed.assembled.fastq'\n",
    "TestL2_2_2 = p + 'Test_L2_Oct2023-AD_3_30_30X20_S5_L004_R1_001_demultiplexed.assembled.fastq'\n",
    "TestL3_3_1 = p + 'Test_L3_Oct2023-RPTR_4_30_30X20_S6_L004_R1_001_demultiplexed.assembled.fastq'\n",
    "TestL4_3_2 = p + 'Test_L4_Oct2023-RPTR_3_30_30X20_S7_L004_R1_001_demultiplexed.assembled.fastq'\n",
    "\n",
    "ec1_1 = p + \"AD_4_30_16X16_0927_S205_L003_R1_001_demultiplexed.assembled.fastq\"\n",
    "ec1_2 = p + 'RPTR_4_30_16X16_0927_S205_L004_R1_001_demultiplexed.assembled.fastq'\n",
    "ec2_1 = p + 'AD_4_30_30X20_S206_L003_R1_001_demultiplexed.assembled.fastq'\n",
    "ec2_2 = p + 'AD_3_30_30X20_S206_L004_R1_001_demultiplexed.assembled.fastq'\n",
    "ec3_1 = p + 'RPTR_4_30_30X20_S207_L003_R1_001_demultiplexed.assembled.fastq'\n",
    "ec3_2 = p + 'RPTR_3_30_30X20_S207_L004_R1_001_demultiplexed.assembled.fastq'\n",
    "# ec4_1 = p + 'EC_4_S208_L003_R1_001.fastq'\n",
    "# ec4_2 = p + 'EC_4_S208_L004_R1_001.fastq'"
   ]
  },
  {
   "cell_type": "code",
   "execution_count": 6,
   "id": "8e62cf21",
   "metadata": {},
   "outputs": [],
   "source": [
    "ADid = 'GAAATTC'\n",
    "RPTRid = 'TAATTAC'"
   ]
  },
  {
   "cell_type": "code",
   "execution_count": 10,
   "id": "7f9cfa05",
   "metadata": {
    "scrolled": true
   },
   "outputs": [
    {
     "name": "stdout",
     "output_type": "stream",
     "text": [
      "file opened 2023-12-04 12:16:56.794612\n",
      "file parsed 2023-12-04 12:18:06.556155\n",
      "E files written 2023-12-04 12:18:06.562407\n",
      "K files written 2023-12-04 12:18:40.136384\n"
     ]
    }
   ],
   "source": [
    "# SeperateFiles(all1_1, ec1_1, AU1_1, 'GAAATTC')"
   ]
  },
  {
   "cell_type": "code",
   "execution_count": null,
   "id": "a8f9cfb1",
   "metadata": {},
   "outputs": [
    {
     "name": "stdout",
     "output_type": "stream",
     "text": [
      "file opened 2023-12-04 12:19:31.131758\n"
     ]
    }
   ],
   "source": [
    "# SeperateFiles(all1_2, ec1_2, SCU1_2, RPTRid) #kernel died"
   ]
  },
  {
   "cell_type": "code",
   "execution_count": 7,
   "id": "87cfa4ac",
   "metadata": {},
   "outputs": [
    {
     "name": "stdout",
     "output_type": "stream",
     "text": [
      "file opened 2023-12-04 12:23:50.064996\n",
      "file parsed 2023-12-04 12:25:40.909589\n",
      "E files written 2023-12-04 12:25:47.665183\n",
      "K files written 2023-12-04 12:26:38.996826\n"
     ]
    }
   ],
   "source": [
    "SeperateFiles(all2_1, ec2_1, TestL1_2_1, ADid)"
   ]
  },
  {
   "cell_type": "code",
   "execution_count": 8,
   "id": "5d04de35",
   "metadata": {},
   "outputs": [
    {
     "name": "stdout",
     "output_type": "stream",
     "text": [
      "file opened 2023-12-04 12:26:54.503657\n",
      "file parsed 2023-12-04 12:29:08.688975\n",
      "E files written 2023-12-04 12:29:13.299597\n",
      "K files written 2023-12-04 12:30:17.259682\n"
     ]
    }
   ],
   "source": [
    "SeperateFiles(all2_2, ec2_2, TestL2_2_2, ADid)"
   ]
  },
  {
   "cell_type": "code",
   "execution_count": 9,
   "id": "b076356b",
   "metadata": {},
   "outputs": [
    {
     "name": "stdout",
     "output_type": "stream",
     "text": [
      "file opened 2023-12-04 12:30:33.307399\n",
      "file parsed 2023-12-04 12:32:03.104492\n",
      "E files written 2023-12-04 12:32:06.985917\n",
      "K files written 2023-12-04 12:32:52.058826\n"
     ]
    }
   ],
   "source": [
    "SeperateFiles(all3_1, ec3_1, TestL3_3_1, RPTRid)"
   ]
  },
  {
   "cell_type": "code",
   "execution_count": 10,
   "id": "3af7e095",
   "metadata": {},
   "outputs": [
    {
     "name": "stdout",
     "output_type": "stream",
     "text": [
      "file opened 2023-12-04 12:33:07.075392\n",
      "file parsed 2023-12-04 12:34:58.526596\n",
      "E files written 2023-12-04 12:35:11.094207\n",
      "K files written 2023-12-04 12:35:55.314343\n"
     ]
    }
   ],
   "source": [
    "SeperateFiles(all3_2, ec3_2, TestL4_3_2, RPTRid)"
   ]
  },
  {
   "cell_type": "code",
   "execution_count": null,
   "id": "06aaacea",
   "metadata": {},
   "outputs": [],
   "source": []
  }
 ],
 "metadata": {
  "kernelspec": {
   "display_name": "biopython",
   "language": "python",
   "name": "biopython"
  },
  "language_info": {
   "codemirror_mode": {
    "name": "ipython",
    "version": 3
   },
   "file_extension": ".py",
   "mimetype": "text/x-python",
   "name": "python",
   "nbconvert_exporter": "python",
   "pygments_lexer": "ipython3",
   "version": "3.11.4"
  }
 },
 "nbformat": 4,
 "nbformat_minor": 5
}
