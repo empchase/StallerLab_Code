{
 "cells": [
  {
   "cell_type": "code",
   "execution_count": 1,
   "id": "aaa5ef8f",
   "metadata": {},
   "outputs": [],
   "source": [
    "import pandas as pd"
   ]
  },
  {
   "cell_type": "code",
   "execution_count": 7,
   "id": "c3eb80f5",
   "metadata": {},
   "outputs": [],
   "source": [
    "rawdfpath = '/global/scratch/users/empchase/CiberVII/CiberVII_CZB/rawdfs/'\n",
    "df_chunk = pd.read_csv(rawdfpath+'AD_3_30_30X20_S206_rawdf.csv.gzip', index_col = 'Unnamed: 0', chunksize=100000, compression='gzip')"
   ]
  },
  {
   "cell_type": "code",
   "execution_count": 6,
   "id": "98654267",
   "metadata": {},
   "outputs": [
    {
     "name": "stderr",
     "output_type": "stream",
     "text": [
      "/tmp/ipykernel_30979/4025720542.py:3: SettingWithCopyWarning: \n",
      "A value is trying to be set on a copy of a slice from a DataFrame\n",
      "\n",
      "See the caveats in the documentation: https://pandas.pydata.org/pandas-docs/stable/user_guide/indexing.html#returning-a-view-versus-a-copy\n",
      "  details['count'] =1\n"
     ]
    },
    {
     "data": {
      "text/plain": [
       "0    X-TGGCGGGGAGG\n",
       "1    X-TGGCGGGGAGG\n",
       "2    X-TGGCGGGGAGG\n",
       "3    X-TGGCGGGGAGG\n",
       "4    X-TGGCGGGGAGG\n",
       "Name: Tile-AD, dtype: object"
      ]
     },
     "metadata": {},
     "output_type": "display_data"
    }
   ],
   "source": [
    "for chunk in df_chunk:\n",
    "    details = chunk['Tile-AD']\n",
    "    details['count'] =1\n",
    "#     summary = details.groupby(['Tile-AD']).sum().reset_index()\n",
    "    display(details.head())\n",
    "    break"
   ]
  },
  {
   "cell_type": "code",
   "execution_count": null,
   "id": "a9645443",
   "metadata": {},
   "outputs": [],
   "source": [
    "chunk_list = []\n",
    "\n",
    "#each chunk is in df format\n",
    "for chunk in df_chunk:\n",
    "    # perform data filtering\n",
    "    chunk_filter = analyzer(chunk)\n",
    "    #once data is filtered, append the chunk to list\n",
    "    chunk_list.append(chunk_filter)\n",
    "    \n",
    "#concat the list into df\n",
    "df_concat = pd.concat(chunk_list)\n",
    "    "
   ]
  }
 ],
 "metadata": {
  "kernelspec": {
   "display_name": "biopython",
   "language": "python",
   "name": "biopython"
  },
  "language_info": {
   "codemirror_mode": {
    "name": "ipython",
    "version": 3
   },
   "file_extension": ".py",
   "mimetype": "text/x-python",
   "name": "python",
   "nbconvert_exporter": "python",
   "pygments_lexer": "ipython3",
   "version": "3.11.4"
  }
 },
 "nbformat": 4,
 "nbformat_minor": 5
}
