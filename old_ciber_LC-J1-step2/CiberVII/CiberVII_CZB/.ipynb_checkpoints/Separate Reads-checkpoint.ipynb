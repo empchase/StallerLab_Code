{
 "cells": [
  {
   "cell_type": "code",
   "execution_count": 1,
   "id": "f6525495",
   "metadata": {},
   "outputs": [],
   "source": [
    "import os,sys,re\n",
    "import gzip\n",
    "from Bio import SeqIO\n",
    "from Bio.SeqIO.QualityIO import FastqGeneralIterator\n",
    "import itertools\n",
    "import argparse\n",
    "import datetime"
   ]
  },
  {
   "cell_type": "code",
   "execution_count": 2,
   "id": "88d73d61",
   "metadata": {},
   "outputs": [
    {
     "data": {
      "text/plain": [
       "'/global/scratch/users/empchase/CiberVII/CiberVII_CZB'"
      ]
     },
     "execution_count": 2,
     "metadata": {},
     "output_type": "execute_result"
    }
   ],
   "source": [
    "pwd"
   ]
  },
  {
   "cell_type": "code",
   "execution_count": 3,
   "id": "419d3251",
   "metadata": {},
   "outputs": [],
   "source": [
    "def SeperateFiles(fpath, E_outpath, K_outpath, ad_or_rptr):\n",
    "    with gzip.open(fpath,'rt') as fh:\n",
    "        print('file opened', datetime.datetime.now())\n",
    "        lines = fh.readlines()\n",
    "        E_set = []\n",
    "        K_set = []\n",
    "        for num, line in enumerate(lines):\n",
    "            if num%4==1:\n",
    "                if line.find(ad_or_rptr)!= -1:  #AD: GAAATTC #RPTR: TAATTAC \n",
    "                    E_set.append(lines[num - 1])\n",
    "                    E_set.append(line)\n",
    "                    E_set.append(lines[num + 1])\n",
    "                    E_set.append(lines[num + 2])\n",
    "                else:\n",
    "                    K_set.append(lines[num - 1])\n",
    "                    K_set.append(line)\n",
    "                    K_set.append(lines[num + 1])\n",
    "                    K_set.append(lines[num + 2])\n",
    "\n",
    "        print('file parsed', datetime.datetime.now())\n",
    "                    \n",
    "    E_handle = open(E_outpath, \"w\")\n",
    "    for line in E_set:\n",
    "        E_handle.write(line)\n",
    "    E_handle.close()\n",
    "    print('E files written', datetime.datetime.now())\n",
    "\n",
    "    K_handle = open(K_outpath, \"w\")\n",
    "    for line in K_set:\n",
    "        K_handle.write(line)\n",
    "    K_handle.close()\n",
    "    print('K files written', datetime.datetime.now())"
   ]
  },
  {
   "cell_type": "code",
   "execution_count": 4,
   "id": "a93188a4",
   "metadata": {},
   "outputs": [],
   "source": [
    "p = '/global/scratch/users/empchase/CiberVII/CiberVII_CZB/'\n",
    "all1_1 = p + \"AU_Oct2023_S1_L004_R1_001.fastq.gz\"\n",
    "all1_2 = p + 'SCU_Oct2023_S2_L004_R1_001.fastq.gz'\n",
    "all2_1 = p + 'Test_L1_Oct2023-AD_4_30_30X20_S4_L004_R1_001.fastq.gz'\n",
    "all2_2 = p + 'Test_L2_Oct2023-AD_3_30_30X20_S5_L004_R1_001.fastq.gz'\n",
    "all3_1 = p + 'Test_L3_Oct2023-RPTR_4_30_30X20_S6_L004_R1_001.fastq.gz'\n",
    "all3_2 = p + 'Test_L4_Oct2023-RPTR_3_30_30X20_S7_L004_R1_001.fastq.gz'\n",
    "# all4_1 = p + 'KF_4_S208_L003_R1_001.fastq.gz'\n",
    "# all4_2 = p + 'KF_4_S208_L004_R1_001.fastq.gz'\n",
    "\n",
    "AU1_1 = p + \"AU_Oct2023_S1_L004_R1_001_demultiplexed.fastq\"\n",
    "SCU1_2 = p + 'SCU_Oct2023_S2_L004_R1_001_demultiplexed.fastq'\n",
    "TestL1_2_1 = p + 'Test_L1_Oct2023-AD_4_30_30X20_S4_L004_R1_001_demultiplexed.fastq'\n",
    "TestL2_2_2 = p + 'Test_L2_Oct2023-AD_3_30_30X20_S5_L004_R1_001_demultiplexed.fastq'\n",
    "TestL3_3_1 = p + 'Test_L3_Oct2023-RPTR_4_30_30X20_S6_L004_R1_001_demultiplexed.fastq'\n",
    "TestL4_3_2 = p + 'Test_L4_Oct2023-RPTR_3_30_30X20_S7_L004_R1_001_demultiplexed.fastq'\n",
    "\n",
    "ec1_1 = p + \"AD_4_30_16X16_0927_S205_L003_R1_001_demultiplexed.fastq\"\n",
    "ec1_2 = p + 'RPTR_4_30_16X16_0927_S205_L004_R1_001_demultiplexed.fastq'\n",
    "ec2_1 = p + 'AD_4_30_30X20_S206_L003_R1_001_demultiplexed.fastq'\n",
    "ec2_2 = p + 'AD_3_30_30X20_S206_L004_R1_001_demultiplexed.fastq'\n",
    "ec3_1 = p + 'RPTR_4_30_30X20_S207_L003_R1_001_demultiplexed.fastq'\n",
    "ec3_2 = p + 'RPTR_3_30_30X20_S207_L004_R1_001_demultiplexed.fastq'\n",
    "# ec4_1 = p + 'EC_4_S208_L003_R1_001.fastq'\n",
    "# ec4_2 = p + 'EC_4_S208_L004_R1_001.fastq'"
   ]
  },
  {
   "cell_type": "code",
   "execution_count": 5,
   "id": "bc3b1473",
   "metadata": {},
   "outputs": [],
   "source": [
    "ADid = 'GAAATTC'\n",
    "RPTRid = 'TAATTAC'"
   ]
  },
  {
   "cell_type": "code",
   "execution_count": 6,
   "id": "845cdd10",
   "metadata": {
    "scrolled": true
   },
   "outputs": [],
   "source": [
    "# SeperateFiles(all1_1, ec1_1, AU1_1, 'GAAATTC')"
   ]
  },
  {
   "cell_type": "code",
   "execution_count": null,
   "id": "f6b5aa60",
   "metadata": {},
   "outputs": [
    {
     "name": "stdout",
     "output_type": "stream",
     "text": [
      "file opened 2023-11-27 14:45:37.775152\n"
     ]
    }
   ],
   "source": [
    "SeperateFiles(all1_2, ec1_2, SCU1_2, RPTRid) #kernel died"
   ]
  },
  {
   "cell_type": "code",
   "execution_count": 6,
   "id": "a74a153a",
   "metadata": {},
   "outputs": [
    {
     "name": "stdout",
     "output_type": "stream",
     "text": [
      "file opened 2023-11-27 14:02:48.964737\n",
      "file parsed 2023-11-27 14:06:11.783919\n",
      "E files written 2023-11-27 14:06:23.304341\n",
      "K files written 2023-11-27 14:07:01.181355\n"
     ]
    }
   ],
   "source": [
    "# SeperateFiles(all2_1, ec2_1, TestL1_2_1, ADid)"
   ]
  },
  {
   "cell_type": "code",
   "execution_count": 8,
   "id": "c1bcba14",
   "metadata": {},
   "outputs": [
    {
     "name": "stdout",
     "output_type": "stream",
     "text": [
      "file opened 2023-11-27 14:15:47.464231\n",
      "file parsed 2023-11-27 14:19:38.268345\n",
      "E files written 2023-11-27 14:19:45.764809\n",
      "K files written 2023-11-27 14:20:37.294304\n"
     ]
    }
   ],
   "source": [
    "# SeperateFiles(all2_2, ec2_2, TestL2_2_2, ADid)"
   ]
  },
  {
   "cell_type": "code",
   "execution_count": 9,
   "id": "7fcf7214",
   "metadata": {},
   "outputs": [
    {
     "name": "stdout",
     "output_type": "stream",
     "text": [
      "file opened 2023-11-27 14:26:38.552928\n",
      "file parsed 2023-11-27 14:29:23.629835\n",
      "E files written 2023-11-27 14:29:31.222448\n",
      "K files written 2023-11-27 14:30:03.204997\n"
     ]
    }
   ],
   "source": [
    "# SeperateFiles(all3_1, ec3_1, TestL3_3_1, RPTRid)"
   ]
  },
  {
   "cell_type": "code",
   "execution_count": 10,
   "id": "db46eb8a",
   "metadata": {},
   "outputs": [
    {
     "name": "stdout",
     "output_type": "stream",
     "text": [
      "file opened 2023-11-27 14:32:47.893913\n",
      "file parsed 2023-11-27 14:36:19.012520\n",
      "E files written 2023-11-27 14:36:37.168871\n",
      "K files written 2023-11-27 14:37:13.047812\n"
     ]
    }
   ],
   "source": [
    "# SeperateFiles(all3_2, ec3_2, TestL4_3_2, RPTRid)"
   ]
  },
  {
   "cell_type": "code",
   "execution_count": 9,
   "id": "1487e36c",
   "metadata": {},
   "outputs": [],
   "source": [
    "# SeperateFiles(all4_1, ec4_1)"
   ]
  },
  {
   "cell_type": "code",
   "execution_count": 10,
   "id": "ff3adc41",
   "metadata": {},
   "outputs": [],
   "source": [
    "# SeperateFiles(all4_2, ec4_2)"
   ]
  },
  {
   "cell_type": "code",
   "execution_count": null,
   "id": "a6af7012",
   "metadata": {},
   "outputs": [],
   "source": []
  }
 ],
 "metadata": {
  "kernelspec": {
   "display_name": "biopython",
   "language": "python",
   "name": "biopython"
  },
  "language_info": {
   "codemirror_mode": {
    "name": "ipython",
    "version": 3
   },
   "file_extension": ".py",
   "mimetype": "text/x-python",
   "name": "python",
   "nbconvert_exporter": "python",
   "pygments_lexer": "ipython3",
   "version": "3.11.4"
  }
 },
 "nbformat": 4,
 "nbformat_minor": 5
}
