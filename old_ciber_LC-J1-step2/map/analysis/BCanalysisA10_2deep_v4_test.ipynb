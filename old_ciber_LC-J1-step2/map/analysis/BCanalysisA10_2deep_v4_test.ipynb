{
 "cells": [
  {
   "cell_type": "code",
   "execution_count": 1,
   "id": "737aeed5",
   "metadata": {},
   "outputs": [],
   "source": [
    "import pandas as pd\n",
    "import re\n",
    "import numpy as np\n",
    "import matplotlib.pyplot as plt\n",
    "# import seaborn as sns\n",
    "# from labtools.adtools.counter import seq_counter"
   ]
  },
  {
   "cell_type": "code",
   "execution_count": 2,
   "id": "a42a938a",
   "metadata": {},
   "outputs": [
    {
     "data": {
      "text/plain": [
       "'/global/scratch/users/empchase/A10_sequencing/analysis'"
      ]
     },
     "execution_count": 2,
     "metadata": {},
     "output_type": "execute_result"
    }
   ],
   "source": [
    "pwd"
   ]
  },
  {
   "cell_type": "code",
   "execution_count": 3,
   "id": "e0f8e18a",
   "metadata": {},
   "outputs": [],
   "source": [
    "path = '/global/scratch/users/empchase/A10_sequencing/analysis/'\n",
    "\n",
    "seqfile = path + 'A10_2_sequences.txt'\n",
    "\n",
    "a10design = 'a10_designfile.csv'"
   ]
  },
  {
   "cell_type": "markdown",
   "id": "96a662af",
   "metadata": {},
   "source": [
    "### Functions to make...\n",
    "1. List of designed tiles\n",
    "2. Dataframe of reads, tiles, barcodes from sequencing data"
   ]
  },
  {
   "cell_type": "code",
   "execution_count": 4,
   "id": "61616d54",
   "metadata": {},
   "outputs": [
    {
     "name": "stdout",
     "output_type": "stream",
     "text": [
      "20783\n"
     ]
    }
   ],
   "source": [
    "#get list of designed tiles\n",
    "\n",
    "a10dt = []\n",
    "\n",
    "with open(a10design, 'r') as f:\n",
    "    for line in f:\n",
    "        if \"ArrayDNA\" in line:\n",
    "            pass\n",
    "        else:\n",
    "            a10dt.append(line.strip())\n",
    "# print(a10dt[:5])\n",
    "print(len(a10dt))#20783\n",
    "\n",
    "#create a dictionary of values\n",
    "dtiles = {}\n",
    "for i in a10dt:\n",
    "    dtiles[i] = 1\n",
    "    \n",
    "# print(d)"
   ]
  },
  {
   "cell_type": "code",
   "execution_count": 5,
   "id": "c40342d0",
   "metadata": {},
   "outputs": [],
   "source": [
    "def getmid(seq, pre, post):\n",
    "    # seq = the sequence to parse\n",
    "    # pre = substring that precedes piece of interest\n",
    "    # post = substring that follows piece of interest\n",
    "    # returns piece of interest\n",
    "    \n",
    "    re_key = pre + \"(.*)\"+ post\n",
    "    poi_search = re.search(re_key, seq)\n",
    "#     print(poi_search)\n",
    "    if poi_search is None:\n",
    "        poi = \"X\"\n",
    "    else:\n",
    "        poi = poi_search.group(1)\n",
    "    \n",
    "    return poi\n",
    "\n",
    "\n",
    "def tilebc_mapper(readfile, tile_pre = \"GCTA.C\", tile_post = \"TGAC.AGCTGAGGCGCGCC\", \n",
    "                  adBC_pre = \"TGAC.AGCTGAGGCGCGCC\", adBC_post = \"GGGCCCCTT\", \n",
    "                  rpBC_pre = \"GCTCGAG\", rpBC_post = \"GGCC...CAT\"):\n",
    "    \n",
    "    #readfile = file of SEQUENCES ONLY\n",
    "    # *_pre or *_post = the consensus sequences before or after each feature\n",
    "\n",
    "    # make lists of reads\n",
    "    readlist = []\n",
    "\n",
    "    \n",
    "    with open(readfile, 'r') as fin:\n",
    "        for line in fin:\n",
    "            seq = line.strip()\n",
    "            readlist.append(seq)\n",
    "            \n",
    "    #make lists of tiles/BCs from list of reads\n",
    "    tile_list = []\n",
    "    tile_lengths= []\n",
    "    tq_list = [] #tile quality list: 1 is good, 0 is bad\n",
    "    \n",
    "    des_query = [] # tells us if tile matches design or not\n",
    "    \n",
    "    adBC_list = []\n",
    "    adBC_lengths = []\n",
    "    aq_list = []\n",
    "    rpBC_list = []\n",
    "    rpBC_lengths = []\n",
    "    rq_list = []\n",
    "    \n",
    "    for read in readlist:\n",
    "        tile = getmid(read, tile_pre, tile_post) #use consensus seq to find tile\n",
    "        tile_list.append(tile) #add tile to list\n",
    "        tile_len = len(tile) #find length of tile\n",
    "        tile_lengths.append(tile_len) #add length to list\n",
    "        if tile_len == 120: #check if the length matches expected length\n",
    "            tq_list.append(1) # if yes\n",
    "        else:\n",
    "            tq_list.append(0) # if no\n",
    "            \n",
    "        if tile in dtiles:\n",
    "            des_query.append(1)\n",
    "        else:\n",
    "            des_query.append(0)\n",
    "#         print(tile)\n",
    "        \n",
    "        adBC = getmid(read, adBC_pre, adBC_post)\n",
    "        adBC_list.append(adBC)\n",
    "        adBC_len = len(adBC)\n",
    "        adBC_lengths.append(adBC_len)\n",
    "        if adBC_len == 11:\n",
    "            aq_list.append(1)\n",
    "        else:\n",
    "            aq_list.append(0)\n",
    "#         print(adBC)\n",
    "\n",
    "        rpBC = getmid(read, rpBC_pre, rpBC_post)\n",
    "        rpBC_list.append(rpBC)\n",
    "        rpBC_len = len(rpBC)\n",
    "        rpBC_lengths.append(rpBC_len)\n",
    "        if rpBC_len == 14:\n",
    "            rq_list.append(1)\n",
    "        else:\n",
    "            rq_list.append(0)\n",
    "            \n",
    "    # make the df\n",
    "    \n",
    "    tileBC_dict = {\"Reads\":readlist, \"Tiles\":tile_list, \"T Len\" : tile_lengths, \"T Qual\":tq_list, \"Designed\": des_query, \n",
    "                  \"AD BCs\":adBC_list, \"A Len\": adBC_lengths,\"A Qual\": aq_list,\n",
    "                   \"RPTR BCs\":rpBC_list, \"R Len\": rpBC_lengths, \"R Qual\": rq_list}\n",
    "    tileBC_df = pd.DataFrame.from_dict(tileBC_dict)\n",
    "    \n",
    "    return tileBC_df"
   ]
  },
  {
   "cell_type": "markdown",
   "id": "53c40584",
   "metadata": {},
   "source": [
    "### Output df has all reads from the seqfile\n",
    "\n",
    "map1 is the original df"
   ]
  },
  {
   "cell_type": "code",
   "execution_count": 6,
   "id": "bb9a4b5f",
   "metadata": {},
   "outputs": [
    {
     "data": {
      "text/html": [
       "<div>\n",
       "<style scoped>\n",
       "    .dataframe tbody tr th:only-of-type {\n",
       "        vertical-align: middle;\n",
       "    }\n",
       "\n",
       "    .dataframe tbody tr th {\n",
       "        vertical-align: top;\n",
       "    }\n",
       "\n",
       "    .dataframe thead th {\n",
       "        text-align: right;\n",
       "    }\n",
       "</style>\n",
       "<table border=\"1\" class=\"dataframe\">\n",
       "  <thead>\n",
       "    <tr style=\"text-align: right;\">\n",
       "      <th></th>\n",
       "      <th>Reads</th>\n",
       "      <th>Tiles</th>\n",
       "      <th>T Len</th>\n",
       "      <th>T Qual</th>\n",
       "      <th>Designed</th>\n",
       "      <th>AD BCs</th>\n",
       "      <th>A Len</th>\n",
       "      <th>A Qual</th>\n",
       "      <th>RPTR BCs</th>\n",
       "      <th>R Len</th>\n",
       "      <th>R Qual</th>\n",
       "    </tr>\n",
       "  </thead>\n",
       "  <tbody>\n",
       "    <tr>\n",
       "      <td>0</td>\n",
       "      <td>ANTGCGGGCTCTACTTCATCGGCTAGCCATACTCCATCTACTGATG...</td>\n",
       "      <td>CATACTCCATCTACTGATGCTTTGATTAATCCAGCTGCTTTGATGT...</td>\n",
       "      <td>120</td>\n",
       "      <td>1</td>\n",
       "      <td>1</td>\n",
       "      <td>CAAAAGTACAG</td>\n",
       "      <td>11</td>\n",
       "      <td>1</td>\n",
       "      <td>TAGGCGCTTGTACA</td>\n",
       "      <td>14</td>\n",
       "      <td>1</td>\n",
       "    </tr>\n",
       "    <tr>\n",
       "      <td>1</td>\n",
       "      <td>ANTGCGGGCTCTACTTCATCGGCTAGCGGTGATTCTAGGACTCAAT...</td>\n",
       "      <td>GGTGATTCTAGGACTCAATATTAATATCAATATCCATATTCTTCTA...</td>\n",
       "      <td>119</td>\n",
       "      <td>0</td>\n",
       "      <td>0</td>\n",
       "      <td>CCCCCCCGGCG</td>\n",
       "      <td>11</td>\n",
       "      <td>1</td>\n",
       "      <td>GTTCACCAAGCGGT</td>\n",
       "      <td>14</td>\n",
       "      <td>1</td>\n",
       "    </tr>\n",
       "    <tr>\n",
       "      <td>2</td>\n",
       "      <td>ANTGCGGGCTCTACTTCATCGGCTAGCTCTCAATCTTCTTGGTTGC...</td>\n",
       "      <td>TCTCAATCTTCTTGGTTGCCATCTTCTTCTCCATCTTTGCCAGCTC...</td>\n",
       "      <td>120</td>\n",
       "      <td>1</td>\n",
       "      <td>1</td>\n",
       "      <td>TACGCGGAATC</td>\n",
       "      <td>11</td>\n",
       "      <td>1</td>\n",
       "      <td>ATTGTTGTTACACG</td>\n",
       "      <td>14</td>\n",
       "      <td>1</td>\n",
       "    </tr>\n",
       "    <tr>\n",
       "      <td>3</td>\n",
       "      <td>ANTGCGGGCTCTACTTCATCGGCTAGCTCTGGTGCTTCTTTGTTTG...</td>\n",
       "      <td>TCTGGTGCTTCTTTGTTTGCTGGTTTGCAGAATGATTCTCCATGGG...</td>\n",
       "      <td>120</td>\n",
       "      <td>1</td>\n",
       "      <td>1</td>\n",
       "      <td>TACAACCGTGC</td>\n",
       "      <td>11</td>\n",
       "      <td>1</td>\n",
       "      <td>GGACTCTAATATT</td>\n",
       "      <td>13</td>\n",
       "      <td>0</td>\n",
       "    </tr>\n",
       "    <tr>\n",
       "      <td>4</td>\n",
       "      <td>ANTGCGGGCTCTACTTCATCGGCTAGCAATCATTTGCCACAACAAT...</td>\n",
       "      <td>AATCATTTGCCACAACAATGTACTCCATCTTCTGTTCAATCTCCAC...</td>\n",
       "      <td>120</td>\n",
       "      <td>1</td>\n",
       "      <td>1</td>\n",
       "      <td>ATCCGTACAGC</td>\n",
       "      <td>11</td>\n",
       "      <td>1</td>\n",
       "      <td>GTTTTACCTTTGTC</td>\n",
       "      <td>14</td>\n",
       "      <td>1</td>\n",
       "    </tr>\n",
       "  </tbody>\n",
       "</table>\n",
       "</div>"
      ],
      "text/plain": [
       "                                               Reads  \\\n",
       "0  ANTGCGGGCTCTACTTCATCGGCTAGCCATACTCCATCTACTGATG...   \n",
       "1  ANTGCGGGCTCTACTTCATCGGCTAGCGGTGATTCTAGGACTCAAT...   \n",
       "2  ANTGCGGGCTCTACTTCATCGGCTAGCTCTCAATCTTCTTGGTTGC...   \n",
       "3  ANTGCGGGCTCTACTTCATCGGCTAGCTCTGGTGCTTCTTTGTTTG...   \n",
       "4  ANTGCGGGCTCTACTTCATCGGCTAGCAATCATTTGCCACAACAAT...   \n",
       "\n",
       "                                               Tiles  T Len  T Qual  Designed  \\\n",
       "0  CATACTCCATCTACTGATGCTTTGATTAATCCAGCTGCTTTGATGT...    120       1         1   \n",
       "1  GGTGATTCTAGGACTCAATATTAATATCAATATCCATATTCTTCTA...    119       0         0   \n",
       "2  TCTCAATCTTCTTGGTTGCCATCTTCTTCTCCATCTTTGCCAGCTC...    120       1         1   \n",
       "3  TCTGGTGCTTCTTTGTTTGCTGGTTTGCAGAATGATTCTCCATGGG...    120       1         1   \n",
       "4  AATCATTTGCCACAACAATGTACTCCATCTTCTGTTCAATCTCCAC...    120       1         1   \n",
       "\n",
       "        AD BCs  A Len  A Qual        RPTR BCs  R Len  R Qual  \n",
       "0  CAAAAGTACAG     11       1  TAGGCGCTTGTACA     14       1  \n",
       "1  CCCCCCCGGCG     11       1  GTTCACCAAGCGGT     14       1  \n",
       "2  TACGCGGAATC     11       1  ATTGTTGTTACACG     14       1  \n",
       "3  TACAACCGTGC     11       1   GGACTCTAATATT     13       0  \n",
       "4  ATCCGTACAGC     11       1  GTTTTACCTTTGTC     14       1  "
      ]
     },
     "execution_count": 6,
     "metadata": {},
     "output_type": "execute_result"
    }
   ],
   "source": [
    "#load the library\n",
    "map1 = tilebc_mapper(seqfile)\n",
    "map1.head()"
   ]
  },
  {
   "cell_type": "code",
   "execution_count": null,
   "id": "616ed772",
   "metadata": {},
   "outputs": [],
   "source": []
  },
  {
   "cell_type": "markdown",
   "id": "3024d36c",
   "metadata": {},
   "source": [
    "### Analysis before filtering out bad tiles or barcodes"
   ]
  },
  {
   "cell_type": "code",
   "execution_count": 7,
   "id": "e678d07e",
   "metadata": {},
   "outputs": [
    {
     "data": {
      "text/html": [
       "<div>\n",
       "<style scoped>\n",
       "    .dataframe tbody tr th:only-of-type {\n",
       "        vertical-align: middle;\n",
       "    }\n",
       "\n",
       "    .dataframe tbody tr th {\n",
       "        vertical-align: top;\n",
       "    }\n",
       "\n",
       "    .dataframe thead th {\n",
       "        text-align: right;\n",
       "    }\n",
       "</style>\n",
       "<table border=\"1\" class=\"dataframe\">\n",
       "  <thead>\n",
       "    <tr style=\"text-align: right;\">\n",
       "      <th></th>\n",
       "      <th>T Len</th>\n",
       "      <th>T Qual</th>\n",
       "      <th>Designed</th>\n",
       "      <th>A Len</th>\n",
       "      <th>A Qual</th>\n",
       "      <th>R Len</th>\n",
       "      <th>R Qual</th>\n",
       "    </tr>\n",
       "  </thead>\n",
       "  <tbody>\n",
       "    <tr>\n",
       "      <td>count</td>\n",
       "      <td>1.263952e+08</td>\n",
       "      <td>1.263952e+08</td>\n",
       "      <td>1.263952e+08</td>\n",
       "      <td>1.263952e+08</td>\n",
       "      <td>1.263952e+08</td>\n",
       "      <td>1.263952e+08</td>\n",
       "      <td>1.263952e+08</td>\n",
       "    </tr>\n",
       "    <tr>\n",
       "      <td>mean</td>\n",
       "      <td>1.132908e+02</td>\n",
       "      <td>6.430196e-01</td>\n",
       "      <td>5.856925e-01</td>\n",
       "      <td>1.049900e+01</td>\n",
       "      <td>9.442335e-01</td>\n",
       "      <td>1.361753e+01</td>\n",
       "      <td>9.625624e-01</td>\n",
       "    </tr>\n",
       "    <tr>\n",
       "      <td>std</td>\n",
       "      <td>2.466404e+01</td>\n",
       "      <td>4.791089e-01</td>\n",
       "      <td>4.926021e-01</td>\n",
       "      <td>2.194175e+00</td>\n",
       "      <td>2.294703e-01</td>\n",
       "      <td>2.501779e+00</td>\n",
       "      <td>1.898317e-01</td>\n",
       "    </tr>\n",
       "    <tr>\n",
       "      <td>min</td>\n",
       "      <td>0.000000e+00</td>\n",
       "      <td>0.000000e+00</td>\n",
       "      <td>0.000000e+00</td>\n",
       "      <td>0.000000e+00</td>\n",
       "      <td>0.000000e+00</td>\n",
       "      <td>0.000000e+00</td>\n",
       "      <td>0.000000e+00</td>\n",
       "    </tr>\n",
       "    <tr>\n",
       "      <td>25%</td>\n",
       "      <td>1.190000e+02</td>\n",
       "      <td>0.000000e+00</td>\n",
       "      <td>0.000000e+00</td>\n",
       "      <td>1.100000e+01</td>\n",
       "      <td>1.000000e+00</td>\n",
       "      <td>1.400000e+01</td>\n",
       "      <td>1.000000e+00</td>\n",
       "    </tr>\n",
       "    <tr>\n",
       "      <td>50%</td>\n",
       "      <td>1.200000e+02</td>\n",
       "      <td>1.000000e+00</td>\n",
       "      <td>1.000000e+00</td>\n",
       "      <td>1.100000e+01</td>\n",
       "      <td>1.000000e+00</td>\n",
       "      <td>1.400000e+01</td>\n",
       "      <td>1.000000e+00</td>\n",
       "    </tr>\n",
       "    <tr>\n",
       "      <td>75%</td>\n",
       "      <td>1.200000e+02</td>\n",
       "      <td>1.000000e+00</td>\n",
       "      <td>1.000000e+00</td>\n",
       "      <td>1.100000e+01</td>\n",
       "      <td>1.000000e+00</td>\n",
       "      <td>1.400000e+01</td>\n",
       "      <td>1.000000e+00</td>\n",
       "    </tr>\n",
       "    <tr>\n",
       "      <td>max</td>\n",
       "      <td>2.190000e+02</td>\n",
       "      <td>1.000000e+00</td>\n",
       "      <td>1.000000e+00</td>\n",
       "      <td>1.090000e+02</td>\n",
       "      <td>1.000000e+00</td>\n",
       "      <td>1.950000e+02</td>\n",
       "      <td>1.000000e+00</td>\n",
       "    </tr>\n",
       "  </tbody>\n",
       "</table>\n",
       "</div>"
      ],
      "text/plain": [
       "              T Len        T Qual      Designed         A Len        A Qual  \\\n",
       "count  1.263952e+08  1.263952e+08  1.263952e+08  1.263952e+08  1.263952e+08   \n",
       "mean   1.132908e+02  6.430196e-01  5.856925e-01  1.049900e+01  9.442335e-01   \n",
       "std    2.466404e+01  4.791089e-01  4.926021e-01  2.194175e+00  2.294703e-01   \n",
       "min    0.000000e+00  0.000000e+00  0.000000e+00  0.000000e+00  0.000000e+00   \n",
       "25%    1.190000e+02  0.000000e+00  0.000000e+00  1.100000e+01  1.000000e+00   \n",
       "50%    1.200000e+02  1.000000e+00  1.000000e+00  1.100000e+01  1.000000e+00   \n",
       "75%    1.200000e+02  1.000000e+00  1.000000e+00  1.100000e+01  1.000000e+00   \n",
       "max    2.190000e+02  1.000000e+00  1.000000e+00  1.090000e+02  1.000000e+00   \n",
       "\n",
       "              R Len        R Qual  \n",
       "count  1.263952e+08  1.263952e+08  \n",
       "mean   1.361753e+01  9.625624e-01  \n",
       "std    2.501779e+00  1.898317e-01  \n",
       "min    0.000000e+00  0.000000e+00  \n",
       "25%    1.400000e+01  1.000000e+00  \n",
       "50%    1.400000e+01  1.000000e+00  \n",
       "75%    1.400000e+01  1.000000e+00  \n",
       "max    1.950000e+02  1.000000e+00  "
      ]
     },
     "execution_count": 7,
     "metadata": {},
     "output_type": "execute_result"
    }
   ],
   "source": [
    "map1.describe()"
   ]
  },
  {
   "cell_type": "code",
   "execution_count": 8,
   "id": "b4381d1c",
   "metadata": {},
   "outputs": [
    {
     "data": {
      "image/png": "[encoded data removed]",
      "text/plain": [
       "<Figure size 432x288 with 1 Axes>"
      ]
     },
     "metadata": {
      "needs_background": "light"
     },
     "output_type": "display_data"
    }
   ],
   "source": [
    "#plot tiles as histogram\n",
    "\n",
    "# sns.histplot(data=A10_1map, x='Tile Lengths')\n",
    "plt.hist(map1['T Len'])\n",
    "# plt.xlim([100, 125])\n",
    "plt.show()"
   ]
  },
  {
   "cell_type": "code",
   "execution_count": 9,
   "id": "7e59b001",
   "metadata": {},
   "outputs": [
    {
     "data": {
      "text/plain": [
       "81274594"
      ]
     },
     "execution_count": 9,
     "metadata": {},
     "output_type": "execute_result"
    }
   ],
   "source": [
    "#look into specifics of who has what length...\n",
    "map1[map1[\"T Len\"] == 120].shape[0]"
   ]
  },
  {
   "cell_type": "code",
   "execution_count": 10,
   "id": "a8656d5d",
   "metadata": {},
   "outputs": [
    {
     "data": {
      "image/png": "[encoded data removed]",
      "text/plain": [
       "<Figure size 432x288 with 1 Axes>"
      ]
     },
     "metadata": {
      "needs_background": "light"
     },
     "output_type": "display_data"
    }
   ],
   "source": [
    "#plot tile qual as histogram\n",
    "\n",
    "plt.hist(map1['T Qual'])\n",
    "\n",
    "plt.show()"
   ]
  },
  {
   "cell_type": "code",
   "execution_count": 11,
   "id": "a84481a8",
   "metadata": {},
   "outputs": [
    {
     "data": {
      "image/png": "[encoded data removed]",
      "text/plain": [
       "<Figure size 432x288 with 1 Axes>"
      ]
     },
     "metadata": {
      "needs_background": "light"
     },
     "output_type": "display_data"
    }
   ],
   "source": [
    "# plot AD BC len\n",
    "\n",
    "plt.hist(map1['A Len'], bins=100)\n",
    "plt.show()"
   ]
  },
  {
   "cell_type": "code",
   "execution_count": 12,
   "id": "3f9e2099",
   "metadata": {},
   "outputs": [
    {
     "data": {
      "text/plain": [
       "119346572"
      ]
     },
     "execution_count": 12,
     "metadata": {},
     "output_type": "execute_result"
    }
   ],
   "source": [
    "#look into specifics of who has what length...\n",
    "map1[map1[\"A Qual\"] == 1].shape[0]"
   ]
  },
  {
   "cell_type": "code",
   "execution_count": 13,
   "id": "fb400d65",
   "metadata": {},
   "outputs": [
    {
     "data": {
      "image/png": "[encoded data removed]",
      "text/plain": [
       "<Figure size 432x288 with 1 Axes>"
      ]
     },
     "metadata": {
      "needs_background": "light"
     },
     "output_type": "display_data"
    }
   ],
   "source": [
    "# plot RPTR BC len\n",
    "\n",
    "plt.hist(map1['R Len'], bins=100)\n",
    "plt.show()"
   ]
  },
  {
   "cell_type": "code",
   "execution_count": 14,
   "id": "18580d64",
   "metadata": {},
   "outputs": [
    {
     "data": {
      "text/plain": [
       "121663257"
      ]
     },
     "execution_count": 14,
     "metadata": {},
     "output_type": "execute_result"
    }
   ],
   "source": [
    "#look into specifics of who has what length...\n",
    "map1[map1[\"R Qual\"] == 1].shape[0]"
   ]
  },
  {
   "cell_type": "code",
   "execution_count": 15,
   "id": "d6bccf3a",
   "metadata": {},
   "outputs": [
    {
     "data": {
      "text/plain": [
       "74028720"
      ]
     },
     "execution_count": 15,
     "metadata": {},
     "output_type": "execute_result"
    }
   ],
   "source": [
    "map1[map1[\"Designed\"] == 1].shape[0]"
   ]
  },
  {
   "cell_type": "code",
   "execution_count": 16,
   "id": "ccb03e3b",
   "metadata": {},
   "outputs": [],
   "source": [
    "color_conditions = {\n",
    "    'Designed_Not120': (map1['Designed'] & ~map1['T Qual']),\n",
    "    'NotDesigned_Yes120': (~map1['Designed'] & map1['T Qual']),\n",
    "    'true_both': (map1['Designed'] & map1['T Qual']),\n",
    "    'false_both': (~map1['Designed'] & ~map1['T Qual'])\n",
    "}"
   ]
  },
  {
   "cell_type": "code",
   "execution_count": 17,
   "id": "7e9467c6",
   "metadata": {},
   "outputs": [],
   "source": [
    "colors = {\n",
    "    'Designed_Not120': 'blue',\n",
    "    'NotDesigned_Yes120': 'orange',\n",
    "    'true_both': 'green',\n",
    "    'false_both': 'red'\n",
    "}"
   ]
  },
  {
   "cell_type": "code",
   "execution_count": 18,
   "id": "4b294a54",
   "metadata": {},
   "outputs": [],
   "source": [
    "color_counts = {category: condition.sum() for category, condition in color_conditions.items()}"
   ]
  },
  {
   "cell_type": "code",
   "execution_count": 19,
   "id": "3eccc5b1",
   "metadata": {},
   "outputs": [
    {
     "data": {
      "image/png": "[encoded data removed]",
      "text/plain": [
       "<Figure size 432x288 with 1 Axes>"
      ]
     },
     "metadata": {
      "needs_background": "light"
     },
     "output_type": "display_data"
    }
   ],
   "source": [
    "plt.bar(color_counts.keys(), color_counts.values(), color=[colors[c] for c in color_counts.keys()])\n",
    "plt.xlabel('Color Categories')\n",
    "plt.ylabel('Frequency')\n",
    "plt.title('Histogram with Color-Coded Categories')\n",
    "plt.xticks(rotation=45)\n",
    "plt.show()"
   ]
  },
  {
   "cell_type": "markdown",
   "id": "295a186c",
   "metadata": {},
   "source": [
    "Observations from above: Most reads have a tile, and nearly all the reads have a legible barcode. Most of the tiles that are legible are also designed\n",
    "\n",
    "\n",
    "Now we want to know:\n",
    "1. Coverage? ie Each tile shows up how many times? -- look at tiles ==120 bp\n",
    "2. How many of those tiles are designed?\n",
    "3. Coverage of tile-bc-bc combos??"
   ]
  },
  {
   "cell_type": "code",
   "execution_count": null,
   "id": "8c50efb4",
   "metadata": {},
   "outputs": [],
   "source": []
  },
  {
   "cell_type": "markdown",
   "id": "09bfaa82",
   "metadata": {},
   "source": [
    "### Filtering out reads that either do not have the consensus sequences to find the tiles/BCs OR have tiles/BCs of unexpected lengths\n",
    "\n",
    "map2 is the df with only tiles that match designed and where BC lengths are as expected. All length and quality columns are dropped, as well as the column that stored the full read strings."
   ]
  },
  {
   "cell_type": "code",
   "execution_count": 20,
   "id": "32d2bbc4",
   "metadata": {},
   "outputs": [
    {
     "name": "stdout",
     "output_type": "stream",
     "text": [
      "% Reads lost:\n",
      "44.056691395586675\n"
     ]
    },
    {
     "data": {
      "text/html": [
       "<div>\n",
       "<style scoped>\n",
       "    .dataframe tbody tr th:only-of-type {\n",
       "        vertical-align: middle;\n",
       "    }\n",
       "\n",
       "    .dataframe tbody tr th {\n",
       "        vertical-align: top;\n",
       "    }\n",
       "\n",
       "    .dataframe thead th {\n",
       "        text-align: right;\n",
       "    }\n",
       "</style>\n",
       "<table border=\"1\" class=\"dataframe\">\n",
       "  <thead>\n",
       "    <tr style=\"text-align: right;\">\n",
       "      <th></th>\n",
       "      <th>Tiles</th>\n",
       "      <th>AD BCs</th>\n",
       "      <th>RPTR BCs</th>\n",
       "    </tr>\n",
       "  </thead>\n",
       "  <tbody>\n",
       "    <tr>\n",
       "      <td>0</td>\n",
       "      <td>CATACTCCATCTACTGATGCTTTGATTAATCCAGCTGCTTTGATGT...</td>\n",
       "      <td>CAAAAGTACAG</td>\n",
       "      <td>TAGGCGCTTGTACA</td>\n",
       "    </tr>\n",
       "    <tr>\n",
       "      <td>1</td>\n",
       "      <td>TCTCAATCTTCTTGGTTGCCATCTTCTTCTCCATCTTTGCCAGCTC...</td>\n",
       "      <td>TACGCGGAATC</td>\n",
       "      <td>ATTGTTGTTACACG</td>\n",
       "    </tr>\n",
       "    <tr>\n",
       "      <td>2</td>\n",
       "      <td>AATCATTTGCCACAACAATGTACTCCATCTTCTGTTCAATCTCCAC...</td>\n",
       "      <td>ATCCGTACAGC</td>\n",
       "      <td>GTTTTACCTTTGTC</td>\n",
       "    </tr>\n",
       "    <tr>\n",
       "      <td>3</td>\n",
       "      <td>AAATCATTTGAAGCTAGGATTCCAAGAAGACATATGGTTATGACTT...</td>\n",
       "      <td>CAGAGATATCA</td>\n",
       "      <td>TAAAGAGGATCTAA</td>\n",
       "    </tr>\n",
       "    <tr>\n",
       "      <td>4</td>\n",
       "      <td>AATGGTATGGACTTCTCTGCTGCTGAAGCATTTACTAGAATGAAGA...</td>\n",
       "      <td>GGAGTGTTCAT</td>\n",
       "      <td>TCGAACCATCCTGA</td>\n",
       "    </tr>\n",
       "  </tbody>\n",
       "</table>\n",
       "</div>"
      ],
      "text/plain": [
       "                                               Tiles       AD BCs  \\\n",
       "0  CATACTCCATCTACTGATGCTTTGATTAATCCAGCTGCTTTGATGT...  CAAAAGTACAG   \n",
       "1  TCTCAATCTTCTTGGTTGCCATCTTCTTCTCCATCTTTGCCAGCTC...  TACGCGGAATC   \n",
       "2  AATCATTTGCCACAACAATGTACTCCATCTTCTGTTCAATCTCCAC...  ATCCGTACAGC   \n",
       "3  AAATCATTTGAAGCTAGGATTCCAAGAAGACATATGGTTATGACTT...  CAGAGATATCA   \n",
       "4  AATGGTATGGACTTCTCTGCTGCTGAAGCATTTACTAGAATGAAGA...  GGAGTGTTCAT   \n",
       "\n",
       "         RPTR BCs  \n",
       "0  TAGGCGCTTGTACA  \n",
       "1  ATTGTTGTTACACG  \n",
       "2  GTTTTACCTTTGTC  \n",
       "3  TAAAGAGGATCTAA  \n",
       "4  TCGAACCATCCTGA  "
      ]
     },
     "execution_count": 20,
     "metadata": {},
     "output_type": "execute_result"
    }
   ],
   "source": [
    "\n",
    "#Replace all 0s in map1 with NaN to filter out any Qual=0 reads\n",
    "map1_nans = map1.replace(0, np.nan)\n",
    "# map1_nans.head()\n",
    "map2 = map1_nans.dropna().reset_index()\n",
    "#get rid of some now useless columns\n",
    "clabels = ['index','Reads', 'T Len','T Qual', 'Designed', 'A Len','A Qual', 'R Len','R Qual']\n",
    "map2 = map2.drop(clabels, axis = 1)\n",
    "\n",
    "\n",
    "# how many reads are lost? rc = readcount\n",
    "rcmap1 = map1.shape[0]\n",
    "rcmap2 = map2.shape[0]\n",
    "diffpct = ((rcmap1 - rcmap2) / rcmap1)*100\n",
    "print(\"% Reads lost:\")\n",
    "print(diffpct)\n",
    "\n",
    "map2.head()"
   ]
  },
  {
   "cell_type": "markdown",
   "id": "e998d037",
   "metadata": {},
   "source": [
    "### Coverage\n",
    "map3 is a df with tiles, BCs, and combos of tiles and BCs"
   ]
  },
  {
   "cell_type": "code",
   "execution_count": 21,
   "id": "b2be2b23",
   "metadata": {},
   "outputs": [
    {
     "data": {
      "text/html": [
       "<div>\n",
       "<style scoped>\n",
       "    .dataframe tbody tr th:only-of-type {\n",
       "        vertical-align: middle;\n",
       "    }\n",
       "\n",
       "    .dataframe tbody tr th {\n",
       "        vertical-align: top;\n",
       "    }\n",
       "\n",
       "    .dataframe thead th {\n",
       "        text-align: right;\n",
       "    }\n",
       "</style>\n",
       "<table border=\"1\" class=\"dataframe\">\n",
       "  <thead>\n",
       "    <tr style=\"text-align: right;\">\n",
       "      <th></th>\n",
       "      <th>Tiles</th>\n",
       "      <th>AD BCs</th>\n",
       "      <th>RPTR BCs</th>\n",
       "    </tr>\n",
       "  </thead>\n",
       "  <tbody>\n",
       "    <tr>\n",
       "      <td>0</td>\n",
       "      <td>CATACTCCATCTACTGATGCTTTGATTAATCCAGCTGCTTTGATGT...</td>\n",
       "      <td>CAAAAGTACAG</td>\n",
       "      <td>TAGGCGCTTGTACA</td>\n",
       "    </tr>\n",
       "    <tr>\n",
       "      <td>1</td>\n",
       "      <td>TCTCAATCTTCTTGGTTGCCATCTTCTTCTCCATCTTTGCCAGCTC...</td>\n",
       "      <td>TACGCGGAATC</td>\n",
       "      <td>ATTGTTGTTACACG</td>\n",
       "    </tr>\n",
       "    <tr>\n",
       "      <td>2</td>\n",
       "      <td>AATCATTTGCCACAACAATGTACTCCATCTTCTGTTCAATCTCCAC...</td>\n",
       "      <td>ATCCGTACAGC</td>\n",
       "      <td>GTTTTACCTTTGTC</td>\n",
       "    </tr>\n",
       "    <tr>\n",
       "      <td>3</td>\n",
       "      <td>AAATCATTTGAAGCTAGGATTCCAAGAAGACATATGGTTATGACTT...</td>\n",
       "      <td>CAGAGATATCA</td>\n",
       "      <td>TAAAGAGGATCTAA</td>\n",
       "    </tr>\n",
       "    <tr>\n",
       "      <td>4</td>\n",
       "      <td>AATGGTATGGACTTCTCTGCTGCTGAAGCATTTACTAGAATGAAGA...</td>\n",
       "      <td>GGAGTGTTCAT</td>\n",
       "      <td>TCGAACCATCCTGA</td>\n",
       "    </tr>\n",
       "  </tbody>\n",
       "</table>\n",
       "</div>"
      ],
      "text/plain": [
       "                                               Tiles       AD BCs  \\\n",
       "0  CATACTCCATCTACTGATGCTTTGATTAATCCAGCTGCTTTGATGT...  CAAAAGTACAG   \n",
       "1  TCTCAATCTTCTTGGTTGCCATCTTCTTCTCCATCTTTGCCAGCTC...  TACGCGGAATC   \n",
       "2  AATCATTTGCCACAACAATGTACTCCATCTTCTGTTCAATCTCCAC...  ATCCGTACAGC   \n",
       "3  AAATCATTTGAAGCTAGGATTCCAAGAAGACATATGGTTATGACTT...  CAGAGATATCA   \n",
       "4  AATGGTATGGACTTCTCTGCTGCTGAAGCATTTACTAGAATGAAGA...  GGAGTGTTCAT   \n",
       "\n",
       "         RPTR BCs  \n",
       "0  TAGGCGCTTGTACA  \n",
       "1  ATTGTTGTTACACG  \n",
       "2  GTTTTACCTTTGTC  \n",
       "3  TAAAGAGGATCTAA  \n",
       "4  TCGAACCATCCTGA  "
      ]
     },
     "execution_count": 21,
     "metadata": {},
     "output_type": "execute_result"
    }
   ],
   "source": [
    "map3 = map2.copy()\n",
    "map3.head()"
   ]
  },
  {
   "cell_type": "code",
   "execution_count": 22,
   "id": "d59f1c08",
   "metadata": {},
   "outputs": [
    {
     "data": {
      "text/html": [
       "<div>\n",
       "<style scoped>\n",
       "    .dataframe tbody tr th:only-of-type {\n",
       "        vertical-align: middle;\n",
       "    }\n",
       "\n",
       "    .dataframe tbody tr th {\n",
       "        vertical-align: top;\n",
       "    }\n",
       "\n",
       "    .dataframe thead th {\n",
       "        text-align: right;\n",
       "    }\n",
       "</style>\n",
       "<table border=\"1\" class=\"dataframe\">\n",
       "  <thead>\n",
       "    <tr style=\"text-align: right;\">\n",
       "      <th></th>\n",
       "      <th>Tiles</th>\n",
       "      <th>AD BCs</th>\n",
       "      <th>RPTR BCs</th>\n",
       "      <th>Cat</th>\n",
       "      <th>BC Pairs</th>\n",
       "    </tr>\n",
       "  </thead>\n",
       "  <tbody>\n",
       "    <tr>\n",
       "      <td>0</td>\n",
       "      <td>CATACTCCATCTACTGATGCTTTGATTAATCCAGCTGCTTTGATGT...</td>\n",
       "      <td>CAAAAGTACAG</td>\n",
       "      <td>TAGGCGCTTGTACA</td>\n",
       "      <td>CATACTCCATCTACTGATGCTTTGATTAATCCAGCTGCTTTGATGT...</td>\n",
       "      <td>CAAAAGTACAG-TAGGCGCTTGTACA</td>\n",
       "    </tr>\n",
       "    <tr>\n",
       "      <td>1</td>\n",
       "      <td>TCTCAATCTTCTTGGTTGCCATCTTCTTCTCCATCTTTGCCAGCTC...</td>\n",
       "      <td>TACGCGGAATC</td>\n",
       "      <td>ATTGTTGTTACACG</td>\n",
       "      <td>TCTCAATCTTCTTGGTTGCCATCTTCTTCTCCATCTTTGCCAGCTC...</td>\n",
       "      <td>TACGCGGAATC-ATTGTTGTTACACG</td>\n",
       "    </tr>\n",
       "    <tr>\n",
       "      <td>2</td>\n",
       "      <td>AATCATTTGCCACAACAATGTACTCCATCTTCTGTTCAATCTCCAC...</td>\n",
       "      <td>ATCCGTACAGC</td>\n",
       "      <td>GTTTTACCTTTGTC</td>\n",
       "      <td>AATCATTTGCCACAACAATGTACTCCATCTTCTGTTCAATCTCCAC...</td>\n",
       "      <td>ATCCGTACAGC-GTTTTACCTTTGTC</td>\n",
       "    </tr>\n",
       "    <tr>\n",
       "      <td>3</td>\n",
       "      <td>AAATCATTTGAAGCTAGGATTCCAAGAAGACATATGGTTATGACTT...</td>\n",
       "      <td>CAGAGATATCA</td>\n",
       "      <td>TAAAGAGGATCTAA</td>\n",
       "      <td>AAATCATTTGAAGCTAGGATTCCAAGAAGACATATGGTTATGACTT...</td>\n",
       "      <td>CAGAGATATCA-TAAAGAGGATCTAA</td>\n",
       "    </tr>\n",
       "    <tr>\n",
       "      <td>4</td>\n",
       "      <td>AATGGTATGGACTTCTCTGCTGCTGAAGCATTTACTAGAATGAAGA...</td>\n",
       "      <td>GGAGTGTTCAT</td>\n",
       "      <td>TCGAACCATCCTGA</td>\n",
       "      <td>AATGGTATGGACTTCTCTGCTGCTGAAGCATTTACTAGAATGAAGA...</td>\n",
       "      <td>GGAGTGTTCAT-TCGAACCATCCTGA</td>\n",
       "    </tr>\n",
       "  </tbody>\n",
       "</table>\n",
       "</div>"
      ],
      "text/plain": [
       "                                               Tiles       AD BCs  \\\n",
       "0  CATACTCCATCTACTGATGCTTTGATTAATCCAGCTGCTTTGATGT...  CAAAAGTACAG   \n",
       "1  TCTCAATCTTCTTGGTTGCCATCTTCTTCTCCATCTTTGCCAGCTC...  TACGCGGAATC   \n",
       "2  AATCATTTGCCACAACAATGTACTCCATCTTCTGTTCAATCTCCAC...  ATCCGTACAGC   \n",
       "3  AAATCATTTGAAGCTAGGATTCCAAGAAGACATATGGTTATGACTT...  CAGAGATATCA   \n",
       "4  AATGGTATGGACTTCTCTGCTGCTGAAGCATTTACTAGAATGAAGA...  GGAGTGTTCAT   \n",
       "\n",
       "         RPTR BCs                                                Cat  \\\n",
       "0  TAGGCGCTTGTACA  CATACTCCATCTACTGATGCTTTGATTAATCCAGCTGCTTTGATGT...   \n",
       "1  ATTGTTGTTACACG  TCTCAATCTTCTTGGTTGCCATCTTCTTCTCCATCTTTGCCAGCTC...   \n",
       "2  GTTTTACCTTTGTC  AATCATTTGCCACAACAATGTACTCCATCTTCTGTTCAATCTCCAC...   \n",
       "3  TAAAGAGGATCTAA  AAATCATTTGAAGCTAGGATTCCAAGAAGACATATGGTTATGACTT...   \n",
       "4  TCGAACCATCCTGA  AATGGTATGGACTTCTCTGCTGCTGAAGCATTTACTAGAATGAAGA...   \n",
       "\n",
       "                     BC Pairs  \n",
       "0  CAAAAGTACAG-TAGGCGCTTGTACA  \n",
       "1  TACGCGGAATC-ATTGTTGTTACACG  \n",
       "2  ATCCGTACAGC-GTTTTACCTTTGTC  \n",
       "3  CAGAGATATCA-TAAAGAGGATCTAA  \n",
       "4  GGAGTGTTCAT-TCGAACCATCCTGA  "
      ]
     },
     "execution_count": 22,
     "metadata": {},
     "output_type": "execute_result"
    }
   ],
   "source": [
    "adcol = map3['AD BCs'].copy()\n",
    "rpcol = map3['RPTR BCs'].copy()\n",
    "\n",
    "map3['Cat'] = map3['Tiles'].str.cat(adcol, sep=\"-\").str.cat(rpcol, sep=\"-\")\n",
    "map3['BC Pairs'] = map3['AD BCs'].str.cat(rpcol, sep='-')\n",
    "\n",
    "map3.head()"
   ]
  },
  {
   "cell_type": "code",
   "execution_count": 23,
   "id": "5fe4fe7b",
   "metadata": {},
   "outputs": [
    {
     "name": "stdout",
     "output_type": "stream",
     "text": [
      "number unique tbb combos:\n",
      "22769597\n"
     ]
    },
    {
     "data": {
      "text/html": [
       "<div>\n",
       "<style scoped>\n",
       "    .dataframe tbody tr th:only-of-type {\n",
       "        vertical-align: middle;\n",
       "    }\n",
       "\n",
       "    .dataframe tbody tr th {\n",
       "        vertical-align: top;\n",
       "    }\n",
       "\n",
       "    .dataframe thead th {\n",
       "        text-align: right;\n",
       "    }\n",
       "</style>\n",
       "<table border=\"1\" class=\"dataframe\">\n",
       "  <thead>\n",
       "    <tr style=\"text-align: right;\">\n",
       "      <th></th>\n",
       "      <th>index</th>\n",
       "      <th>Cat</th>\n",
       "    </tr>\n",
       "  </thead>\n",
       "  <tbody>\n",
       "    <tr>\n",
       "      <td>0</td>\n",
       "      <td>TTCTCTCATGATCCATCTCCAATGTTGTCTGATGACTTTGGTTCTG...</td>\n",
       "      <td>54</td>\n",
       "    </tr>\n",
       "    <tr>\n",
       "      <td>1</td>\n",
       "      <td>TCTTTGGCTACTTCTGCTATTGAAGTTCCAACTGAAGATTCTACTG...</td>\n",
       "      <td>52</td>\n",
       "    </tr>\n",
       "    <tr>\n",
       "      <td>2</td>\n",
       "      <td>GAATTTGGTCCAATCTTGTCTTTGGATGATGGTGCTACTGCTGGTG...</td>\n",
       "      <td>51</td>\n",
       "    </tr>\n",
       "    <tr>\n",
       "      <td>3</td>\n",
       "      <td>TTGTTTGATAGATCTCCATCTGCTAGATCTGCTCCAAATTTGTCTT...</td>\n",
       "      <td>50</td>\n",
       "    </tr>\n",
       "    <tr>\n",
       "      <td>4</td>\n",
       "      <td>CAGAAACAGAAATCTATCTTGAGACCATCTGCTAGATTGAGAGGTG...</td>\n",
       "      <td>48</td>\n",
       "    </tr>\n",
       "    <tr>\n",
       "      <td>5</td>\n",
       "      <td>GTCTTGTATGATCAACCAGCTCCACCAAGAAGAGCTCCATCTGCTC...</td>\n",
       "      <td>47</td>\n",
       "    </tr>\n",
       "    <tr>\n",
       "      <td>6</td>\n",
       "      <td>GTTCCATTGTTCTCTCATGGTACTTCTGCTCAACAAACTCCATCTG...</td>\n",
       "      <td>46</td>\n",
       "    </tr>\n",
       "    <tr>\n",
       "      <td>7</td>\n",
       "      <td>GACCCATCTAGATGGGCTGCTACTGGTCAACAACCAGCTCCAACTC...</td>\n",
       "      <td>44</td>\n",
       "    </tr>\n",
       "    <tr>\n",
       "      <td>8</td>\n",
       "      <td>GATGGTGGTGCTACTACTGAAGCTGCATTTGCTTCTCCAGCTAATC...</td>\n",
       "      <td>44</td>\n",
       "    </tr>\n",
       "    <tr>\n",
       "      <td>9</td>\n",
       "      <td>CAACCAGAATTGATTCAACCAGTTCAACAAACTGTTCAACCAACTG...</td>\n",
       "      <td>44</td>\n",
       "    </tr>\n",
       "  </tbody>\n",
       "</table>\n",
       "</div>"
      ],
      "text/plain": [
       "                                               index  Cat\n",
       "0  TTCTCTCATGATCCATCTCCAATGTTGTCTGATGACTTTGGTTCTG...   54\n",
       "1  TCTTTGGCTACTTCTGCTATTGAAGTTCCAACTGAAGATTCTACTG...   52\n",
       "2  GAATTTGGTCCAATCTTGTCTTTGGATGATGGTGCTACTGCTGGTG...   51\n",
       "3  TTGTTTGATAGATCTCCATCTGCTAGATCTGCTCCAAATTTGTCTT...   50\n",
       "4  CAGAAACAGAAATCTATCTTGAGACCATCTGCTAGATTGAGAGGTG...   48\n",
       "5  GTCTTGTATGATCAACCAGCTCCACCAAGAAGAGCTCCATCTGCTC...   47\n",
       "6  GTTCCATTGTTCTCTCATGGTACTTCTGCTCAACAAACTCCATCTG...   46\n",
       "7  GACCCATCTAGATGGGCTGCTACTGGTCAACAACCAGCTCCAACTC...   44\n",
       "8  GATGGTGGTGCTACTACTGAAGCTGCATTTGCTTCTCCAGCTAATC...   44\n",
       "9  CAACCAGAATTGATTCAACCAGTTCAACAAACTGTTCAACCAACTG...   44"
      ]
     },
     "execution_count": 23,
     "metadata": {},
     "output_type": "execute_result"
    }
   ],
   "source": [
    "# Now make a df that tells me the frequency of each tile-bc-bc combo\n",
    "\n",
    "tbbcov = map3['Cat'].value_counts().to_frame().reset_index()\n",
    "print('number unique tbb combos:')\n",
    "print(tbbcov.shape[0]) \n",
    "tbbcov.head(10)"
   ]
  },
  {
   "cell_type": "code",
   "execution_count": 24,
   "id": "7d7d6f6e",
   "metadata": {},
   "outputs": [
    {
     "data": {
      "image/png": "[encoded data removed]",
      "text/plain": [
       "<Figure size 432x288 with 1 Axes>"
      ]
     },
     "metadata": {
      "needs_background": "light"
     },
     "output_type": "display_data"
    }
   ],
   "source": [
    "# plot tbb coverage on histogram\n",
    "\n",
    "plt.figure()\n",
    "plt.hist(tbbcov['Cat'],  bins=75)\n",
    "plt.xlabel('Coverage')\n",
    "plt.ylabel('Counts')\n",
    "plt.show()"
   ]
  },
  {
   "cell_type": "code",
   "execution_count": 25,
   "id": "8090cf9a",
   "metadata": {},
   "outputs": [
    {
     "data": {
      "text/html": [
       "<div>\n",
       "<style scoped>\n",
       "    .dataframe tbody tr th:only-of-type {\n",
       "        vertical-align: middle;\n",
       "    }\n",
       "\n",
       "    .dataframe tbody tr th {\n",
       "        vertical-align: top;\n",
       "    }\n",
       "\n",
       "    .dataframe thead th {\n",
       "        text-align: right;\n",
       "    }\n",
       "</style>\n",
       "<table border=\"1\" class=\"dataframe\">\n",
       "  <thead>\n",
       "    <tr style=\"text-align: right;\">\n",
       "      <th></th>\n",
       "      <th>Cat</th>\n",
       "    </tr>\n",
       "  </thead>\n",
       "  <tbody>\n",
       "    <tr>\n",
       "      <td>count</td>\n",
       "      <td>2.276960e+07</td>\n",
       "    </tr>\n",
       "    <tr>\n",
       "      <td>mean</td>\n",
       "      <td>3.105442e+00</td>\n",
       "    </tr>\n",
       "    <tr>\n",
       "      <td>std</td>\n",
       "      <td>2.670241e+00</td>\n",
       "    </tr>\n",
       "    <tr>\n",
       "      <td>min</td>\n",
       "      <td>1.000000e+00</td>\n",
       "    </tr>\n",
       "    <tr>\n",
       "      <td>25%</td>\n",
       "      <td>1.000000e+00</td>\n",
       "    </tr>\n",
       "    <tr>\n",
       "      <td>50%</td>\n",
       "      <td>2.000000e+00</td>\n",
       "    </tr>\n",
       "    <tr>\n",
       "      <td>75%</td>\n",
       "      <td>4.000000e+00</td>\n",
       "    </tr>\n",
       "    <tr>\n",
       "      <td>max</td>\n",
       "      <td>5.400000e+01</td>\n",
       "    </tr>\n",
       "  </tbody>\n",
       "</table>\n",
       "</div>"
      ],
      "text/plain": [
       "                Cat\n",
       "count  2.276960e+07\n",
       "mean   3.105442e+00\n",
       "std    2.670241e+00\n",
       "min    1.000000e+00\n",
       "25%    1.000000e+00\n",
       "50%    2.000000e+00\n",
       "75%    4.000000e+00\n",
       "max    5.400000e+01"
      ]
     },
     "execution_count": 25,
     "metadata": {},
     "output_type": "execute_result"
    }
   ],
   "source": [
    "tbbcov.describe()"
   ]
  },
  {
   "cell_type": "code",
   "execution_count": 26,
   "id": "b56de679",
   "metadata": {},
   "outputs": [
    {
     "name": "stdout",
     "output_type": "stream",
     "text": [
      "# unique Tiles:\n",
      "20695\n"
     ]
    },
    {
     "data": {
      "text/html": [
       "<div>\n",
       "<style scoped>\n",
       "    .dataframe tbody tr th:only-of-type {\n",
       "        vertical-align: middle;\n",
       "    }\n",
       "\n",
       "    .dataframe tbody tr th {\n",
       "        vertical-align: top;\n",
       "    }\n",
       "\n",
       "    .dataframe thead th {\n",
       "        text-align: right;\n",
       "    }\n",
       "</style>\n",
       "<table border=\"1\" class=\"dataframe\">\n",
       "  <thead>\n",
       "    <tr style=\"text-align: right;\">\n",
       "      <th></th>\n",
       "      <th>index</th>\n",
       "      <th>Tiles</th>\n",
       "    </tr>\n",
       "  </thead>\n",
       "  <tbody>\n",
       "    <tr>\n",
       "      <td>0</td>\n",
       "      <td>TTGACTGCTTTGACTTCTCCATCTTTGTTTGATGGTTCTCCAGACT...</td>\n",
       "      <td>14424</td>\n",
       "    </tr>\n",
       "    <tr>\n",
       "      <td>1</td>\n",
       "      <td>GATGTTACTCCAGCTTCTCCAATGATTAGAACTACTTCTTCTAGAG...</td>\n",
       "      <td>9573</td>\n",
       "    </tr>\n",
       "    <tr>\n",
       "      <td>2</td>\n",
       "      <td>TCTACTGCTCCACCAACTGATGTTTCTTTGGGTGATGAATTGCATT...</td>\n",
       "      <td>9484</td>\n",
       "    </tr>\n",
       "    <tr>\n",
       "      <td>3</td>\n",
       "      <td>TTGCAACAGAAACATAGATTGGCTCAAATTCAAGCTTCTGGTTCTC...</td>\n",
       "      <td>9282</td>\n",
       "    </tr>\n",
       "    <tr>\n",
       "      <td>4</td>\n",
       "      <td>TCTGCTGATTATTCTGGTTTGCAATCTGATTATTCTCCATTGACTG...</td>\n",
       "      <td>9090</td>\n",
       "    </tr>\n",
       "  </tbody>\n",
       "</table>\n",
       "</div>"
      ],
      "text/plain": [
       "                                               index  Tiles\n",
       "0  TTGACTGCTTTGACTTCTCCATCTTTGTTTGATGGTTCTCCAGACT...  14424\n",
       "1  GATGTTACTCCAGCTTCTCCAATGATTAGAACTACTTCTTCTAGAG...   9573\n",
       "2  TCTACTGCTCCACCAACTGATGTTTCTTTGGGTGATGAATTGCATT...   9484\n",
       "3  TTGCAACAGAAACATAGATTGGCTCAAATTCAAGCTTCTGGTTCTC...   9282\n",
       "4  TCTGCTGATTATTCTGGTTTGCAATCTGATTATTCTCCATTGACTG...   9090"
      ]
     },
     "execution_count": 26,
     "metadata": {},
     "output_type": "execute_result"
    }
   ],
   "source": [
    "# Tile coverage\n",
    "tcov = map2['Tiles'].value_counts().to_frame().reset_index()\n",
    "print ('# unique Tiles:')\n",
    "print(tcov.shape[0])\n",
    "tcov.head()"
   ]
  },
  {
   "cell_type": "code",
   "execution_count": 27,
   "id": "e57af589",
   "metadata": {},
   "outputs": [
    {
     "data": {
      "image/png": "[encoded data removed]",
      "text/plain": [
       "<Figure size 432x288 with 1 Axes>"
      ]
     },
     "metadata": {
      "needs_background": "light"
     },
     "output_type": "display_data"
    }
   ],
   "source": [
    "# plot tile coverage \n",
    "plt.hist(tcov['Tiles'], bins=100)\n",
    "plt.show()"
   ]
  },
  {
   "cell_type": "code",
   "execution_count": 28,
   "id": "fb87ce13",
   "metadata": {},
   "outputs": [
    {
     "name": "stdout",
     "output_type": "stream",
     "text": [
      "(4063749, 2)\n"
     ]
    },
    {
     "data": {
      "text/html": [
       "<div>\n",
       "<style scoped>\n",
       "    .dataframe tbody tr th:only-of-type {\n",
       "        vertical-align: middle;\n",
       "    }\n",
       "\n",
       "    .dataframe tbody tr th {\n",
       "        vertical-align: top;\n",
       "    }\n",
       "\n",
       "    .dataframe thead th {\n",
       "        text-align: right;\n",
       "    }\n",
       "</style>\n",
       "<table border=\"1\" class=\"dataframe\">\n",
       "  <thead>\n",
       "    <tr style=\"text-align: right;\">\n",
       "      <th></th>\n",
       "      <th>index</th>\n",
       "      <th>AD BCs</th>\n",
       "    </tr>\n",
       "  </thead>\n",
       "  <tbody>\n",
       "    <tr>\n",
       "      <td>0</td>\n",
       "      <td>TCCCCCCCCCC</td>\n",
       "      <td>898</td>\n",
       "    </tr>\n",
       "    <tr>\n",
       "      <td>1</td>\n",
       "      <td>CCCCGCCCCCC</td>\n",
       "      <td>774</td>\n",
       "    </tr>\n",
       "    <tr>\n",
       "      <td>2</td>\n",
       "      <td>CCCCCTCCCCC</td>\n",
       "      <td>719</td>\n",
       "    </tr>\n",
       "    <tr>\n",
       "      <td>3</td>\n",
       "      <td>TCCCCTCCCCC</td>\n",
       "      <td>714</td>\n",
       "    </tr>\n",
       "    <tr>\n",
       "      <td>4</td>\n",
       "      <td>CCCCTCCCCCC</td>\n",
       "      <td>704</td>\n",
       "    </tr>\n",
       "  </tbody>\n",
       "</table>\n",
       "</div>"
      ],
      "text/plain": [
       "         index  AD BCs\n",
       "0  TCCCCCCCCCC     898\n",
       "1  CCCCGCCCCCC     774\n",
       "2  CCCCCTCCCCC     719\n",
       "3  TCCCCTCCCCC     714\n",
       "4  CCCCTCCCCCC     704"
      ]
     },
     "execution_count": 28,
     "metadata": {},
     "output_type": "execute_result"
    }
   ],
   "source": [
    "#ad bc coverage\n",
    "abcov = map3['AD BCs'].value_counts().to_frame().reset_index()\n",
    "print(abcov.shape) # number unique ad bcs:\n",
    "abcov.head()"
   ]
  },
  {
   "cell_type": "code",
   "execution_count": 29,
   "id": "37208c84",
   "metadata": {},
   "outputs": [
    {
     "data": {
      "image/png": "[encoded data removed]",
      "text/plain": [
       "<Figure size 432x288 with 1 Axes>"
      ]
     },
     "metadata": {
      "needs_background": "light"
     },
     "output_type": "display_data"
    }
   ],
   "source": [
    "# plot ad bc coverage \n",
    "plt.hist(abcov['AD BCs'], bins=100)\n",
    "plt.show()"
   ]
  },
  {
   "cell_type": "code",
   "execution_count": 30,
   "id": "1d3a26a9",
   "metadata": {},
   "outputs": [
    {
     "name": "stdout",
     "output_type": "stream",
     "text": [
      "(17998135, 2)\n"
     ]
    },
    {
     "data": {
      "text/html": [
       "<div>\n",
       "<style scoped>\n",
       "    .dataframe tbody tr th:only-of-type {\n",
       "        vertical-align: middle;\n",
       "    }\n",
       "\n",
       "    .dataframe tbody tr th {\n",
       "        vertical-align: top;\n",
       "    }\n",
       "\n",
       "    .dataframe thead th {\n",
       "        text-align: right;\n",
       "    }\n",
       "</style>\n",
       "<table border=\"1\" class=\"dataframe\">\n",
       "  <thead>\n",
       "    <tr style=\"text-align: right;\">\n",
       "      <th></th>\n",
       "      <th>index</th>\n",
       "      <th>RPTR BCs</th>\n",
       "    </tr>\n",
       "  </thead>\n",
       "  <tbody>\n",
       "    <tr>\n",
       "      <td>0</td>\n",
       "      <td>CTATACTACTAGTA</td>\n",
       "      <td>59</td>\n",
       "    </tr>\n",
       "    <tr>\n",
       "      <td>1</td>\n",
       "      <td>GGGTTGTACATACA</td>\n",
       "      <td>54</td>\n",
       "    </tr>\n",
       "    <tr>\n",
       "      <td>2</td>\n",
       "      <td>GCCGCGCCCAGGGC</td>\n",
       "      <td>52</td>\n",
       "    </tr>\n",
       "    <tr>\n",
       "      <td>3</td>\n",
       "      <td>AGACGAGGGATGGG</td>\n",
       "      <td>51</td>\n",
       "    </tr>\n",
       "    <tr>\n",
       "      <td>4</td>\n",
       "      <td>CACTCCGCCGCGCC</td>\n",
       "      <td>50</td>\n",
       "    </tr>\n",
       "  </tbody>\n",
       "</table>\n",
       "</div>"
      ],
      "text/plain": [
       "            index  RPTR BCs\n",
       "0  CTATACTACTAGTA        59\n",
       "1  GGGTTGTACATACA        54\n",
       "2  GCCGCGCCCAGGGC        52\n",
       "3  AGACGAGGGATGGG        51\n",
       "4  CACTCCGCCGCGCC        50"
      ]
     },
     "execution_count": 30,
     "metadata": {},
     "output_type": "execute_result"
    }
   ],
   "source": [
    "#rptr bc coverage\n",
    "rbcov = map3['RPTR BCs'].value_counts().to_frame().reset_index()\n",
    "print(rbcov.shape) # number unique ad bcs:\n",
    "rbcov.head()"
   ]
  },
  {
   "cell_type": "code",
   "execution_count": 31,
   "id": "67502c82",
   "metadata": {},
   "outputs": [
    {
     "data": {
      "image/png": "[encoded data removed]",
      "text/plain": [
       "<Figure size 432x288 with 1 Axes>"
      ]
     },
     "metadata": {
      "needs_background": "light"
     },
     "output_type": "display_data"
    }
   ],
   "source": [
    "# plot rptr bc coverage \n",
    "plt.hist(rbcov['RPTR BCs'], bins=100)\n",
    "plt.show()"
   ]
  },
  {
   "cell_type": "code",
   "execution_count": null,
   "id": "84b26ec7",
   "metadata": {},
   "outputs": [],
   "source": [
    "map3.to_csv('A10_2_tbcmapDEEP.csv')"
   ]
  },
  {
   "cell_type": "code",
   "execution_count": null,
   "id": "94327934",
   "metadata": {},
   "outputs": [],
   "source": []
  }
 ],
 "metadata": {
  "kernelspec": {
   "display_name": "Python 3.7",
   "language": "python",
   "name": "python3"
  },
  "language_info": {
   "codemirror_mode": {
    "name": "ipython",
    "version": 3
   },
   "file_extension": ".py",
   "mimetype": "text/x-python",
   "name": "python",
   "nbconvert_exporter": "python",
   "pygments_lexer": "ipython3",
   "version": "3.7.4"
  }
 },
 "nbformat": 4,
 "nbformat_minor": 5
}
