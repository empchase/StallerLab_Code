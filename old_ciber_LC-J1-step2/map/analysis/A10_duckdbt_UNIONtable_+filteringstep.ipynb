{
 "cells": [
  {
   "cell_type": "code",
   "execution_count": 5,
   "id": "061759f0",
   "metadata": {},
   "outputs": [],
   "source": [
    "import pandas as pd\n",
    "import duckdb\n",
    "import csv\n",
    "\n",
    "conn = duckdb.connect('mydb.db') # create an in-memory database"
   ]
  },
  {
   "cell_type": "code",
   "execution_count": 2,
   "id": "97ccc0a0",
   "metadata": {},
   "outputs": [
    {
     "data": {
      "text/plain": [
       "┌──────────┬─────────┬─────────────┬───────────────────────────┬──────────────────────────────────────┬───────────┐\n",
       "│ database │ schema  │    name     │       column_names        │             column_types             │ temporary │\n",
       "│ varchar  │ varchar │   varchar   │         varchar[]         │              varchar[]               │  boolean  │\n",
       "├──────────┼─────────┼─────────────┼───────────────────────────┼──────────────────────────────────────┼───────────┤\n",
       "│ mydb     │ main    │ DEEP1       │ [Tile, ADbc, RPTRbc, TBB] │ [VARCHAR, VARCHAR, VARCHAR, VARCHAR] │ false     │\n",
       "│ mydb     │ main    │ DEEP1UNIQ   │ [Tile, ADbc, RPTRbc, TBB] │ [VARCHAR, VARCHAR, VARCHAR, VARCHAR] │ false     │\n",
       "│ mydb     │ main    │ DEEP2       │ [Tile, ADbc, RPTRbc, TBB] │ [VARCHAR, VARCHAR, VARCHAR, VARCHAR] │ false     │\n",
       "│ mydb     │ main    │ DEEP2UNIQ   │ [Tile, ADbc, RPTRbc, TBB] │ [VARCHAR, VARCHAR, VARCHAR, VARCHAR] │ false     │\n",
       "│ mydb     │ main    │ TBB_U       │ [TBB]                     │ [VARCHAR]                            │ false     │\n",
       "│ mydb     │ main    │ UDEEP       │ [Tile, ADbc, RPTRbc, TBB] │ [VARCHAR, VARCHAR, VARCHAR, VARCHAR] │ false     │\n",
       "│ mydb     │ main    │ UFIL_BIG    │ [Tile, ADbc, RPTRbc, TBB] │ [VARCHAR, VARCHAR, VARCHAR, VARCHAR] │ false     │\n",
       "│ mydb     │ main    │ UNIONFIL    │ [count(TBB), RPTRbc]      │ [BIGINT, VARCHAR]                    │ false     │\n",
       "│ mydb     │ main    │ UNIONFIL_AD │ [count(TBB), ADbc]        │ [BIGINT, VARCHAR]                    │ false     │\n",
       "└──────────┴─────────┴─────────────┴───────────────────────────┴──────────────────────────────────────┴───────────┘"
      ]
     },
     "execution_count": 2,
     "metadata": {},
     "output_type": "execute_result"
    }
   ],
   "source": [
    "conn.sql(\"SHOW ALL TABLES\")"
   ]
  },
  {
   "cell_type": "code",
   "execution_count": 3,
   "id": "920fc68b",
   "metadata": {},
   "outputs": [],
   "source": [
    "# #Create tables with all values from A10_1 and A10_2...\n",
    "\n",
    "\n",
    "# #A10_1 ~ create table with tiles, bcs, tbb\n",
    "\n",
    "# # conn.sql(\"drop view if exists DEEP1\")\n",
    "# conn.sql(\"drop table if exists DEEP1\")\n",
    "\n",
    "# conn.sql(\"\"\"CREATE TABLE DEEP1(\n",
    "#     Tile VARCHAR,\n",
    "#     ADbc VARCHAR,\n",
    "#     RPTRbc VARCHAR,\n",
    "#     TBB VARCHAR);\"\"\")\n",
    "\n",
    "# conn.sql(\"\"\"INSERT INTO DEEP1 \n",
    "# SELECT  Tiles, \"AD BCs\", \"RPTR BCs\", Cat \n",
    "# from read_csv_auto ('A10_1_tbcmapDEEP.csv', header=True)\"\"\")\n"
   ]
  },
  {
   "cell_type": "code",
   "execution_count": 4,
   "id": "d1b4a7e1",
   "metadata": {},
   "outputs": [
    {
     "data": {
      "text/html": [
       "<div>\n",
       "<style scoped>\n",
       "    .dataframe tbody tr th:only-of-type {\n",
       "        vertical-align: middle;\n",
       "    }\n",
       "\n",
       "    .dataframe tbody tr th {\n",
       "        vertical-align: top;\n",
       "    }\n",
       "\n",
       "    .dataframe thead th {\n",
       "        text-align: right;\n",
       "    }\n",
       "</style>\n",
       "<table border=\"1\" class=\"dataframe\">\n",
       "  <thead>\n",
       "    <tr style=\"text-align: right;\">\n",
       "      <th></th>\n",
       "      <th>Tile</th>\n",
       "      <th>ADbc</th>\n",
       "      <th>RPTRbc</th>\n",
       "      <th>TBB</th>\n",
       "    </tr>\n",
       "  </thead>\n",
       "  <tbody>\n",
       "    <tr>\n",
       "      <th>0</th>\n",
       "      <td>GGTGTTACTGCTGCTGATGCTGAATCTTTGGTTGCTGATCACTTCT...</td>\n",
       "      <td>ACCTCAAAGGC</td>\n",
       "      <td>CCGCTCATAGTTTT</td>\n",
       "      <td>GGTGTTACTGCTGCTGATGCTGAATCTTTGGTTGCTGATCACTTCT...</td>\n",
       "    </tr>\n",
       "    <tr>\n",
       "      <th>1</th>\n",
       "      <td>CAACAAGTTTCTGTTTCTGCTGCTCATGCTCCACATCCAAGATTGT...</td>\n",
       "      <td>AATTGTTAACA</td>\n",
       "      <td>TCAGCGTCTCTCGC</td>\n",
       "      <td>CAACAAGTTTCTGTTTCTGCTGCTCATGCTCCACATCCAAGATTGT...</td>\n",
       "    </tr>\n",
       "    <tr>\n",
       "      <th>2</th>\n",
       "      <td>TCTCATTATAGACCACCAGTTCCATTGTTTAATAATTCTACTACTA...</td>\n",
       "      <td>GCACTCAAGGT</td>\n",
       "      <td>TGAGTCACTAATCA</td>\n",
       "      <td>TCTCATTATAGACCACCAGTTCCATTGTTTAATAATTCTACTACTA...</td>\n",
       "    </tr>\n",
       "    <tr>\n",
       "      <th>3</th>\n",
       "      <td>CAACCAGATTCTGCTAATATGAATATTGCTGACTTTGAAGAATTTA...</td>\n",
       "      <td>TAAATATACCC</td>\n",
       "      <td>TTACAATTAGCACT</td>\n",
       "      <td>CAACCAGATTCTGCTAATATGAATATTGCTGACTTTGAAGAATTTA...</td>\n",
       "    </tr>\n",
       "    <tr>\n",
       "      <th>4</th>\n",
       "      <td>AGAGCTGGTCCATCTCCATTGTTGCAAGATTTGGCTGCTAGATGTC...</td>\n",
       "      <td>TCGGGCCTTCT</td>\n",
       "      <td>TTGATTCTTCTTCG</td>\n",
       "      <td>AGAGCTGGTCCATCTCCATTGTTGCAAGATTTGGCTGCTAGATGTC...</td>\n",
       "    </tr>\n",
       "  </tbody>\n",
       "</table>\n",
       "</div>"
      ],
      "text/plain": [
       "                                                Tile         ADbc  \\\n",
       "0  GGTGTTACTGCTGCTGATGCTGAATCTTTGGTTGCTGATCACTTCT...  ACCTCAAAGGC   \n",
       "1  CAACAAGTTTCTGTTTCTGCTGCTCATGCTCCACATCCAAGATTGT...  AATTGTTAACA   \n",
       "2  TCTCATTATAGACCACCAGTTCCATTGTTTAATAATTCTACTACTA...  GCACTCAAGGT   \n",
       "3  CAACCAGATTCTGCTAATATGAATATTGCTGACTTTGAAGAATTTA...  TAAATATACCC   \n",
       "4  AGAGCTGGTCCATCTCCATTGTTGCAAGATTTGGCTGCTAGATGTC...  TCGGGCCTTCT   \n",
       "\n",
       "           RPTRbc                                                TBB  \n",
       "0  CCGCTCATAGTTTT  GGTGTTACTGCTGCTGATGCTGAATCTTTGGTTGCTGATCACTTCT...  \n",
       "1  TCAGCGTCTCTCGC  CAACAAGTTTCTGTTTCTGCTGCTCATGCTCCACATCCAAGATTGT...  \n",
       "2  TGAGTCACTAATCA  TCTCATTATAGACCACCAGTTCCATTGTTTAATAATTCTACTACTA...  \n",
       "3  TTACAATTAGCACT  CAACCAGATTCTGCTAATATGAATATTGCTGACTTTGAAGAATTTA...  \n",
       "4  TTGATTCTTCTTCG  AGAGCTGGTCCATCTCCATTGTTGCAAGATTTGGCTGCTAGATGTC...  "
      ]
     },
     "execution_count": 4,
     "metadata": {},
     "output_type": "execute_result"
    }
   ],
   "source": [
    "conn.sql(\"SELECT * FROM DEEP1 LIMIT 5\").df()"
   ]
  },
  {
   "cell_type": "code",
   "execution_count": 5,
   "id": "3b5a712b",
   "metadata": {},
   "outputs": [],
   "source": [
    "# #A10_2 ~ create table with tiles, bcs, tbb\n",
    "\n",
    "\n",
    "# # conn.sql(\"drop view if exists DEEP2\")\n",
    "# conn.sql(\"drop table if exists DEEP2\")\n",
    "\n",
    "\n",
    "\n",
    "# #A10_2\n",
    "# conn.sql(\"\"\"CREATE TABLE DEEP2(\n",
    "#     Tile VARCHAR,\n",
    "#     ADbc VARCHAR,\n",
    "#     RPTRbc VARCHAR,\n",
    "#     TBB VARCHAR);\"\"\")\n",
    "\n",
    "# conn.sql(\"\"\"INSERT INTO DEEP2 \n",
    "# SELECT  Tiles, \"AD BCs\", \"RPTR BCs\", Cat \n",
    "# from read_csv_auto ('A10_2_tbcmapDEEP.csv', header=True)\"\"\")\n"
   ]
  },
  {
   "cell_type": "code",
   "execution_count": 6,
   "id": "04aa5434",
   "metadata": {},
   "outputs": [
    {
     "data": {
      "text/html": [
       "<div>\n",
       "<style scoped>\n",
       "    .dataframe tbody tr th:only-of-type {\n",
       "        vertical-align: middle;\n",
       "    }\n",
       "\n",
       "    .dataframe tbody tr th {\n",
       "        vertical-align: top;\n",
       "    }\n",
       "\n",
       "    .dataframe thead th {\n",
       "        text-align: right;\n",
       "    }\n",
       "</style>\n",
       "<table border=\"1\" class=\"dataframe\">\n",
       "  <thead>\n",
       "    <tr style=\"text-align: right;\">\n",
       "      <th></th>\n",
       "      <th>Tile</th>\n",
       "      <th>ADbc</th>\n",
       "      <th>RPTRbc</th>\n",
       "      <th>TBB</th>\n",
       "    </tr>\n",
       "  </thead>\n",
       "  <tbody>\n",
       "    <tr>\n",
       "      <th>0</th>\n",
       "      <td>CATACTCCATCTACTGATGCTTTGATTAATCCAGCTGCTTTGATGT...</td>\n",
       "      <td>CAAAAGTACAG</td>\n",
       "      <td>TAGGCGCTTGTACA</td>\n",
       "      <td>CATACTCCATCTACTGATGCTTTGATTAATCCAGCTGCTTTGATGT...</td>\n",
       "    </tr>\n",
       "    <tr>\n",
       "      <th>1</th>\n",
       "      <td>TCTCAATCTTCTTGGTTGCCATCTTCTTCTCCATCTTTGCCAGCTC...</td>\n",
       "      <td>TACGCGGAATC</td>\n",
       "      <td>ATTGTTGTTACACG</td>\n",
       "      <td>TCTCAATCTTCTTGGTTGCCATCTTCTTCTCCATCTTTGCCAGCTC...</td>\n",
       "    </tr>\n",
       "    <tr>\n",
       "      <th>2</th>\n",
       "      <td>AATCATTTGCCACAACAATGTACTCCATCTTCTGTTCAATCTCCAC...</td>\n",
       "      <td>ATCCGTACAGC</td>\n",
       "      <td>GTTTTACCTTTGTC</td>\n",
       "      <td>AATCATTTGCCACAACAATGTACTCCATCTTCTGTTCAATCTCCAC...</td>\n",
       "    </tr>\n",
       "    <tr>\n",
       "      <th>3</th>\n",
       "      <td>AAATCATTTGAAGCTAGGATTCCAAGAAGACATATGGTTATGACTT...</td>\n",
       "      <td>CAGAGATATCA</td>\n",
       "      <td>TAAAGAGGATCTAA</td>\n",
       "      <td>AAATCATTTGAAGCTAGGATTCCAAGAAGACATATGGTTATGACTT...</td>\n",
       "    </tr>\n",
       "    <tr>\n",
       "      <th>4</th>\n",
       "      <td>AATGGTATGGACTTCTCTGCTGCTGAAGCATTTACTAGAATGAAGA...</td>\n",
       "      <td>GGAGTGTTCAT</td>\n",
       "      <td>TCGAACCATCCTGA</td>\n",
       "      <td>AATGGTATGGACTTCTCTGCTGCTGAAGCATTTACTAGAATGAAGA...</td>\n",
       "    </tr>\n",
       "  </tbody>\n",
       "</table>\n",
       "</div>"
      ],
      "text/plain": [
       "                                                Tile         ADbc  \\\n",
       "0  CATACTCCATCTACTGATGCTTTGATTAATCCAGCTGCTTTGATGT...  CAAAAGTACAG   \n",
       "1  TCTCAATCTTCTTGGTTGCCATCTTCTTCTCCATCTTTGCCAGCTC...  TACGCGGAATC   \n",
       "2  AATCATTTGCCACAACAATGTACTCCATCTTCTGTTCAATCTCCAC...  ATCCGTACAGC   \n",
       "3  AAATCATTTGAAGCTAGGATTCCAAGAAGACATATGGTTATGACTT...  CAGAGATATCA   \n",
       "4  AATGGTATGGACTTCTCTGCTGCTGAAGCATTTACTAGAATGAAGA...  GGAGTGTTCAT   \n",
       "\n",
       "           RPTRbc                                                TBB  \n",
       "0  TAGGCGCTTGTACA  CATACTCCATCTACTGATGCTTTGATTAATCCAGCTGCTTTGATGT...  \n",
       "1  ATTGTTGTTACACG  TCTCAATCTTCTTGGTTGCCATCTTCTTCTCCATCTTTGCCAGCTC...  \n",
       "2  GTTTTACCTTTGTC  AATCATTTGCCACAACAATGTACTCCATCTTCTGTTCAATCTCCAC...  \n",
       "3  TAAAGAGGATCTAA  AAATCATTTGAAGCTAGGATTCCAAGAAGACATATGGTTATGACTT...  \n",
       "4  TCGAACCATCCTGA  AATGGTATGGACTTCTCTGCTGCTGAAGCATTTACTAGAATGAAGA...  "
      ]
     },
     "execution_count": 6,
     "metadata": {},
     "output_type": "execute_result"
    }
   ],
   "source": [
    "conn.sql(\"SELECT * FROM DEEP2 LIMIT 5\").df()"
   ]
  },
  {
   "cell_type": "code",
   "execution_count": 14,
   "id": "fe855564",
   "metadata": {
    "collapsed": true
   },
   "outputs": [
    {
     "ename": "CatalogException",
     "evalue": "Catalog Error: Table with name UNIONALL does not exist!\nDid you mean \"system.information_schema.tables\"?",
     "output_type": "error",
     "traceback": [
      "\u001b[0;31m---------------------------------------------------------------------------\u001b[0m",
      "\u001b[0;31mCatalogException\u001b[0m                          Traceback (most recent call last)",
      "Cell \u001b[0;32mIn[14], line 19\u001b[0m\n\u001b[1;32m      3\u001b[0m conn\u001b[38;5;241m.\u001b[39msql(\u001b[38;5;124m\"\u001b[39m\u001b[38;5;124mdrop table if exists DEEP1UNIQ\u001b[39m\u001b[38;5;124m\"\u001b[39m)\n\u001b[1;32m      7\u001b[0m conn\u001b[38;5;241m.\u001b[39msql(\u001b[38;5;124m\"\"\"\u001b[39m\u001b[38;5;124mCREATE TABLE DEEP1UNIQ AS \u001b[39m\n\u001b[1;32m      8\u001b[0m \u001b[38;5;124mSELECT Tile, ADbc, RPTRbc, TBB\u001b[39m\n\u001b[1;32m      9\u001b[0m \u001b[38;5;124mFROM (\u001b[39m\n\u001b[0;32m   (...)\u001b[0m\n\u001b[1;32m     16\u001b[0m \u001b[38;5;124m              ) a\u001b[39m\n\u001b[1;32m     17\u001b[0m \u001b[38;5;124mWHERE rn = 1\u001b[39m\u001b[38;5;124m\"\"\"\u001b[39m )\n\u001b[0;32m---> 19\u001b[0m \u001b[43mconn\u001b[49m\u001b[38;5;241;43m.\u001b[39;49m\u001b[43msql\u001b[49m\u001b[43m(\u001b[49m\u001b[38;5;124;43m\"\u001b[39;49m\u001b[38;5;124;43mSELECT * FROM UNIONALL LIMIT 10\u001b[39;49m\u001b[38;5;124;43m\"\u001b[39;49m\u001b[43m)\u001b[49m\n",
      "\u001b[0;31mCatalogException\u001b[0m: Catalog Error: Table with name UNIONALL does not exist!\nDid you mean \"system.information_schema.tables\"?"
     ]
    }
   ],
   "source": [
    "# #get rid of duplicates in tables deep 1 ...\n",
    "# conn.sql(\"drop table if exists UNIONALL\")\n",
    "# conn.sql(\"drop table if exists DEEP1UNIQ\")\n",
    "\n",
    "\n",
    "\n",
    "# conn.sql(\"\"\"CREATE TABLE DEEP1UNIQ AS \n",
    "# SELECT Tile, ADbc, RPTRbc, TBB\n",
    "# FROM (\n",
    "#                 SELECT  Tile, \n",
    "#                         ADbc, \n",
    "#                         RPTRbc, \n",
    "#                         TBB,\n",
    "#                         ROW_NUMBER() OVER(PARTITION BY TBB) rn\n",
    "#                     FROM DEEP1\n",
    "#               ) a\n",
    "# WHERE rn = 1\"\"\" )\n"
   ]
  },
  {
   "cell_type": "code",
   "execution_count": 15,
   "id": "d7b590b3",
   "metadata": {
    "collapsed": true
   },
   "outputs": [
    {
     "data": {
      "text/plain": [
       "┌──────────────────────┬─────────────┬────────────────┬────────────────────────────────────────────────────────────────┐\n",
       "│         Tile         │    ADbc     │     RPTRbc     │                              TBB                               │\n",
       "│       varchar        │   varchar   │    varchar     │                            varchar                             │\n",
       "├──────────────────────┼─────────────┼────────────────┼────────────────────────────────────────────────────────────────┤\n",
       "│ AAAAATTCTAGATTTGTT…  │ CCCCTACTACG │ TCCACAAATCCCAA │ AAAAATTCTAGATTTGTTTCTTTGATGCAAGGATTCTCTGATGGTTCTAAAGATATTATT…  │\n",
       "│ AAACAAAATTCTCAAGTT…  │ CCCTTCCTGGT │ CCACATATTTCTGT │ AAACAAAATTCTCAAGTTGATCAATCTCCATTGTTGCCAGAAGAAGAATTGGAAGTTTCT…  │\n",
       "│ AAACAAAATTCTCAAGTT…  │ TCAGGACTACG │ CAGATACTCTGGTG │ AAACAAAATTCTCAAGTTGATCAATCTCCATTGTTGCCAGAAGAAGAATTGGAAGTTTCT…  │\n",
       "│ AAACAAAGAGCTACTCCA…  │ AACGTTAAATG │ ATTCGTTAATGGAG │ AAACAAAGAGCTACTCCATTGACTCCAGTTGTTCCAGAATCTGATGATCCAGTTGCTTTG…  │\n",
       "│ AAACAAAGAGCTACTCCA…  │ CCATGCCCGAC │ CCCCAGCTGTACGT │ AAACAAAGAGCTACTCCATTGACTCCAGTTGTTCCAGAATCTGATGATCCAGTTGCTTTG…  │\n",
       "│ AAACAAAGAGCTACTCCA…  │ GTGGTAGCCGA │ TTGTTCTTTACAAT │ AAACAAAGAGCTACTCCATTGACTCCAGTTGTTCCAGAATCTGATGATCCAGTTGCTTTG…  │\n",
       "│ AAACAAAGATCTATTCCA…  │ GGTATGGTCCA │ TTAGATTGCAATAG │ AAACAAAGATCTATTCCATTGTCTCCAATTGTTCCAGAATCTTCTGATCCAGCTGCTTTG…  │\n",
       "│ AAACAAAGATCTATTCCA…  │ GTAGAACAGGC │ GTATCGGAGTTTCC │ AAACAAAGATCTATTCCATTGTCTCCAATTGTTCCAGAATCTTCTGATCCAGCTGCTTTG…  │\n",
       "│ AAACAAAGATCTCAACCA…  │ GTAAGCCGCTC │ TGATTACCATGATT │ AAACAAAGATCTCAACCATTGCAACCAATTATTATTGATGATATTAAAGATGCTGCTGCT…  │\n",
       "│ AAACAAAGATCTCAACCA…  │ TGTAACAATTG │ AGTAGAAATACAAA │ AAACAAAGATCTCAACCATTGCAACCAATTATTATTGATGATATTAAAGATGCTGCTGCT…  │\n",
       "├──────────────────────┴─────────────┴────────────────┴────────────────────────────────────────────────────────────────┤\n",
       "│ 10 rows                                                                                                    4 columns │\n",
       "└──────────────────────────────────────────────────────────────────────────────────────────────────────────────────────┘"
      ]
     },
     "execution_count": 15,
     "metadata": {},
     "output_type": "execute_result"
    }
   ],
   "source": [
    "conn.sql(\"SELECT * FROM DEEP1UNIQ LIMIT 10\")"
   ]
  },
  {
   "cell_type": "code",
   "execution_count": 16,
   "id": "36d3bc41",
   "metadata": {},
   "outputs": [
    {
     "data": {
      "text/plain": [
       "┌─────────────┬──────────┐\n",
       "│ DEEP1UNIQ_C │    D1    │\n",
       "│    int64    │  int64   │\n",
       "├─────────────┼──────────┤\n",
       "│    20814311 │ 78470488 │\n",
       "└─────────────┴──────────┘"
      ]
     },
     "execution_count": 16,
     "metadata": {},
     "output_type": "execute_result"
    }
   ],
   "source": [
    "conn.sql(\"\"\"SELECT \n",
    "(SELECT COUNT(TBB) FROM DEEP1UNIQ) AS DEEP1UNIQ_C,\n",
    "(SELECT COUNT(TBB) FROM DEEP1) AS D1\n",
    "\"\"\") #DEEP1UNIQ COUNT MATCHES WHEN I USED SELECT DISTINCT, CHECK"
   ]
  },
  {
   "cell_type": "code",
   "execution_count": 17,
   "id": "23885685",
   "metadata": {},
   "outputs": [],
   "source": [
    "# # ... get rid of duplicates in tables deep 2\n",
    "# conn.sql(\"drop table if exists DEEP2UNIQ\")\n",
    "\n",
    "\n",
    "\n",
    "# conn.sql(\"\"\"CREATE TABLE DEEP2UNIQ AS \n",
    "# SELECT Tile, ADbc, RPTRbc, TBB\n",
    "# FROM (\n",
    "#                 SELECT  Tile, \n",
    "#                         ADbc, \n",
    "#                         RPTRbc, \n",
    "#                         TBB,\n",
    "#                         ROW_NUMBER() OVER(PARTITION BY TBB) rn\n",
    "#                     FROM DEEP2\n",
    "#               ) a\n",
    "# WHERE rn = 1\"\"\" )\n"
   ]
  },
  {
   "cell_type": "code",
   "execution_count": 18,
   "id": "f7336281",
   "metadata": {},
   "outputs": [
    {
     "data": {
      "text/plain": [
       "┌─────────────┬──────────┐\n",
       "│ DEEP2UNIQ_C │    D2    │\n",
       "│    int64    │  int64   │\n",
       "├─────────────┼──────────┤\n",
       "│    22769597 │ 70709654 │\n",
       "└─────────────┴──────────┘"
      ]
     },
     "execution_count": 18,
     "metadata": {},
     "output_type": "execute_result"
    }
   ],
   "source": [
    "conn.sql(\"\"\"SELECT \n",
    "(SELECT COUNT(TBB) FROM DEEP2UNIQ) AS DEEP2UNIQ_C,\n",
    "(SELECT COUNT(TBB) FROM DEEP2) AS D2\n",
    "\"\"\") #DEEP2UNIQ COUNT MATCHES WHEN I USED SELECT DISTINCT FOR DEEP2; CHECK!"
   ]
  },
  {
   "cell_type": "code",
   "execution_count": 22,
   "id": "e46e37f6",
   "metadata": {},
   "outputs": [],
   "source": [
    "# #get union\n",
    "# conn.sql(\"drop table if exists UDEEP\")\n",
    "# conn.sql(\"\"\"CREATE TABLE UDEEP AS\n",
    "# SELECT DEEP1UNIQ.*\n",
    "# FROM DEEP1UNIQ \n",
    "# INNER JOIN DEEP2UNIQ ON (DEEP1UNIQ.TBB = DEEP2UNIQ.TBB)\n",
    "\n",
    "# \"\"\")"
   ]
  },
  {
   "cell_type": "code",
   "execution_count": 23,
   "id": "b2ab1021",
   "metadata": {},
   "outputs": [
    {
     "data": {
      "text/html": [
       "<div>\n",
       "<style scoped>\n",
       "    .dataframe tbody tr th:only-of-type {\n",
       "        vertical-align: middle;\n",
       "    }\n",
       "\n",
       "    .dataframe tbody tr th {\n",
       "        vertical-align: top;\n",
       "    }\n",
       "\n",
       "    .dataframe thead th {\n",
       "        text-align: right;\n",
       "    }\n",
       "</style>\n",
       "<table border=\"1\" class=\"dataframe\">\n",
       "  <thead>\n",
       "    <tr style=\"text-align: right;\">\n",
       "      <th></th>\n",
       "      <th>Tile</th>\n",
       "      <th>ADbc</th>\n",
       "      <th>RPTRbc</th>\n",
       "      <th>TBB</th>\n",
       "    </tr>\n",
       "  </thead>\n",
       "  <tbody>\n",
       "    <tr>\n",
       "      <th>0</th>\n",
       "      <td>GCTATTATTCAAGGTTTGGGTCATTCTACTACTTCTTCTCAATTTA...</td>\n",
       "      <td>GTTTAGGAGCC</td>\n",
       "      <td>GTTTCTATGCATTA</td>\n",
       "      <td>GCTATTATTCAAGGTTTGGGTCATTCTACTACTTCTTCTCAATTTA...</td>\n",
       "    </tr>\n",
       "    <tr>\n",
       "      <th>1</th>\n",
       "      <td>GCTATTATTCAATCTACTGGTCATTCTATTTCTACTTCTCAATTGA...</td>\n",
       "      <td>CAATAAGCTTG</td>\n",
       "      <td>TGAGGCTAATCGCA</td>\n",
       "      <td>GCTATTATTCAATCTACTGGTCATTCTATTTCTACTTCTCAATTGA...</td>\n",
       "    </tr>\n",
       "    <tr>\n",
       "      <th>2</th>\n",
       "      <td>GCTATTCATCCAACTGGTTCTGCTATTCAACCAAATCCATATTTGA...</td>\n",
       "      <td>GCCATTCGGGT</td>\n",
       "      <td>CAACCTATTACTAC</td>\n",
       "      <td>GCTATTCATCCAACTGGTTCTGCTATTCAACCAAATCCATATTTGA...</td>\n",
       "    </tr>\n",
       "    <tr>\n",
       "      <th>3</th>\n",
       "      <td>GCTATTCCATCTTCTAGAGAATCTTCTAGGATTCCAGCTTTGTTCT...</td>\n",
       "      <td>AAGAGCCTTAC</td>\n",
       "      <td>ACACCGATACCCTG</td>\n",
       "      <td>GCTATTCCATCTTCTAGAGAATCTTCTAGGATTCCAGCTTTGTTCT...</td>\n",
       "    </tr>\n",
       "    <tr>\n",
       "      <th>4</th>\n",
       "      <td>GCTATTCCATCTTCTAGAGAATCTTCTAGGATTCCAGCTTTGTTCT...</td>\n",
       "      <td>ACCGGGACGAA</td>\n",
       "      <td>GACCTAAAAGTTTG</td>\n",
       "      <td>GCTATTCCATCTTCTAGAGAATCTTCTAGGATTCCAGCTTTGTTCT...</td>\n",
       "    </tr>\n",
       "  </tbody>\n",
       "</table>\n",
       "</div>"
      ],
      "text/plain": [
       "                                                Tile         ADbc  \\\n",
       "0  GCTATTATTCAAGGTTTGGGTCATTCTACTACTTCTTCTCAATTTA...  GTTTAGGAGCC   \n",
       "1  GCTATTATTCAATCTACTGGTCATTCTATTTCTACTTCTCAATTGA...  CAATAAGCTTG   \n",
       "2  GCTATTCATCCAACTGGTTCTGCTATTCAACCAAATCCATATTTGA...  GCCATTCGGGT   \n",
       "3  GCTATTCCATCTTCTAGAGAATCTTCTAGGATTCCAGCTTTGTTCT...  AAGAGCCTTAC   \n",
       "4  GCTATTCCATCTTCTAGAGAATCTTCTAGGATTCCAGCTTTGTTCT...  ACCGGGACGAA   \n",
       "\n",
       "           RPTRbc                                                TBB  \n",
       "0  GTTTCTATGCATTA  GCTATTATTCAAGGTTTGGGTCATTCTACTACTTCTTCTCAATTTA...  \n",
       "1  TGAGGCTAATCGCA  GCTATTATTCAATCTACTGGTCATTCTATTTCTACTTCTCAATTGA...  \n",
       "2  CAACCTATTACTAC  GCTATTCATCCAACTGGTTCTGCTATTCAACCAAATCCATATTTGA...  \n",
       "3  ACACCGATACCCTG  GCTATTCCATCTTCTAGAGAATCTTCTAGGATTCCAGCTTTGTTCT...  \n",
       "4  GACCTAAAAGTTTG  GCTATTCCATCTTCTAGAGAATCTTCTAGGATTCCAGCTTTGTTCT...  "
      ]
     },
     "execution_count": 23,
     "metadata": {},
     "output_type": "execute_result"
    }
   ],
   "source": [
    "conn.sql(\"SELECT * FROM UDEEP LIMIT 5\").df()"
   ]
  },
  {
   "cell_type": "code",
   "execution_count": 24,
   "id": "a19b2ff5",
   "metadata": {},
   "outputs": [
    {
     "data": {
      "text/plain": [
       "┌──────────┬──────────┬──────────┐\n",
       "│  UNION1  │    D1    │    D2    │\n",
       "│  int64   │  int64   │  int64   │\n",
       "├──────────┼──────────┼──────────┤\n",
       "│ 15342081 │ 20814311 │ 22769597 │\n",
       "└──────────┴──────────┴──────────┘"
      ]
     },
     "execution_count": 24,
     "metadata": {},
     "output_type": "execute_result"
    }
   ],
   "source": [
    "conn.sql(\"\"\"SELECT \n",
    "(SELECT COUNT(TBB) FROM UDEEP) AS UNION1,\n",
    "(SELECT COUNT(TBB) FROM DEEP1UNIQ) AS D1,\n",
    "(SELECT COUNT(TBB) FROM DEEP2UNIQ) AS D2\n",
    "\"\"\") #match, check!"
   ]
  },
  {
   "cell_type": "markdown",
   "id": "75d8b7bd",
   "metadata": {},
   "source": [
    "The totals above are wonky, why is the union count so much larger than even the sum of the two DFs?\n",
    "I think it's because there were likely duplicates of TBBs\n"
   ]
  },
  {
   "cell_type": "code",
   "execution_count": 25,
   "id": "a1c26602",
   "metadata": {},
   "outputs": [],
   "source": [
    "#save the union\n",
    "# conn.sql(\"\"\"COPY UDEEP TO 'A10_TBB_UNION.parquet'(FORMAT PARQUET);\"\"\")"
   ]
  },
  {
   "cell_type": "markdown",
   "id": "30dbe19a",
   "metadata": {},
   "source": [
    "How many RPTR BCs map to >1 AD BC?"
   ]
  },
  {
   "cell_type": "code",
   "execution_count": 32,
   "id": "b996f6ff",
   "metadata": {},
   "outputs": [
    {
     "data": {
      "text/html": [
       "<div>\n",
       "<style scoped>\n",
       "    .dataframe tbody tr th:only-of-type {\n",
       "        vertical-align: middle;\n",
       "    }\n",
       "\n",
       "    .dataframe tbody tr th {\n",
       "        vertical-align: top;\n",
       "    }\n",
       "\n",
       "    .dataframe thead th {\n",
       "        text-align: right;\n",
       "    }\n",
       "</style>\n",
       "<table border=\"1\" class=\"dataframe\">\n",
       "  <thead>\n",
       "    <tr style=\"text-align: right;\">\n",
       "      <th></th>\n",
       "      <th>count(TBB)</th>\n",
       "      <th>RPTRbc</th>\n",
       "    </tr>\n",
       "  </thead>\n",
       "  <tbody>\n",
       "    <tr>\n",
       "      <th>0</th>\n",
       "      <td>1</td>\n",
       "      <td>TCAGCAACCCGGGT</td>\n",
       "    </tr>\n",
       "    <tr>\n",
       "      <th>1</th>\n",
       "      <td>1</td>\n",
       "      <td>ACTAAGTCGTTTAC</td>\n",
       "    </tr>\n",
       "    <tr>\n",
       "      <th>2</th>\n",
       "      <td>1</td>\n",
       "      <td>AGTCTGACAATAAA</td>\n",
       "    </tr>\n",
       "    <tr>\n",
       "      <th>3</th>\n",
       "      <td>1</td>\n",
       "      <td>AACTATAGGTTGCA</td>\n",
       "    </tr>\n",
       "    <tr>\n",
       "      <th>4</th>\n",
       "      <td>1</td>\n",
       "      <td>CCAGCACTAGCTCA</td>\n",
       "    </tr>\n",
       "    <tr>\n",
       "      <th>...</th>\n",
       "      <td>...</td>\n",
       "      <td>...</td>\n",
       "    </tr>\n",
       "    <tr>\n",
       "      <th>13668528</th>\n",
       "      <td>1</td>\n",
       "      <td>CCCCAGGGCATAAG</td>\n",
       "    </tr>\n",
       "    <tr>\n",
       "      <th>13668529</th>\n",
       "      <td>1</td>\n",
       "      <td>TCTTCTGACAATAT</td>\n",
       "    </tr>\n",
       "    <tr>\n",
       "      <th>13668530</th>\n",
       "      <td>1</td>\n",
       "      <td>CCATTTTAATGCCC</td>\n",
       "    </tr>\n",
       "    <tr>\n",
       "      <th>13668531</th>\n",
       "      <td>1</td>\n",
       "      <td>AATGTGAGAAGATT</td>\n",
       "    </tr>\n",
       "    <tr>\n",
       "      <th>13668532</th>\n",
       "      <td>1</td>\n",
       "      <td>TCTATTAAATTTTA</td>\n",
       "    </tr>\n",
       "  </tbody>\n",
       "</table>\n",
       "<p>13668533 rows × 2 columns</p>\n",
       "</div>"
      ],
      "text/plain": [
       "          count(TBB)          RPTRbc\n",
       "0                  1  TCAGCAACCCGGGT\n",
       "1                  1  ACTAAGTCGTTTAC\n",
       "2                  1  AGTCTGACAATAAA\n",
       "3                  1  AACTATAGGTTGCA\n",
       "4                  1  CCAGCACTAGCTCA\n",
       "...              ...             ...\n",
       "13668528           1  CCCCAGGGCATAAG\n",
       "13668529           1  TCTTCTGACAATAT\n",
       "13668530           1  CCATTTTAATGCCC\n",
       "13668531           1  AATGTGAGAAGATT\n",
       "13668532           1  TCTATTAAATTTTA\n",
       "\n",
       "[13668533 rows x 2 columns]"
      ]
     },
     "execution_count": 32,
     "metadata": {},
     "output_type": "execute_result"
    }
   ],
   "source": [
    "#unique RPTR BCs / How many are duplicated ...\n",
    "conn.sql(\"\"\"SELECT COUNT(TBB), RPTRbc\n",
    "FROM UDEEP\n",
    "GROUP BY RPTRbc\"\"\").df() #.describe()"
   ]
  },
  {
   "cell_type": "code",
   "execution_count": 39,
   "id": "34bade07",
   "metadata": {},
   "outputs": [],
   "source": [
    "# Filter the uniondf so that there are no repeat RPTRs\n",
    "\n",
    "conn.sql(\"\"\"CREATE TABLE UNIONFIL AS SELECT * FROM(\n",
    "\n",
    "SELECT COUNT(TBB), RPTRbc\n",
    "FROM UDEEP\n",
    "GROUP BY RPTRbc)\n",
    "\n",
    "WHERE \"count(TBB)\"=1\"\"\") #.df().describe()"
   ]
  },
  {
   "cell_type": "code",
   "execution_count": 41,
   "id": "c22e7e0e",
   "metadata": {},
   "outputs": [
    {
     "data": {
      "text/html": [
       "<div>\n",
       "<style scoped>\n",
       "    .dataframe tbody tr th:only-of-type {\n",
       "        vertical-align: middle;\n",
       "    }\n",
       "\n",
       "    .dataframe tbody tr th {\n",
       "        vertical-align: top;\n",
       "    }\n",
       "\n",
       "    .dataframe thead th {\n",
       "        text-align: right;\n",
       "    }\n",
       "</style>\n",
       "<table border=\"1\" class=\"dataframe\">\n",
       "  <thead>\n",
       "    <tr style=\"text-align: right;\">\n",
       "      <th></th>\n",
       "      <th>count(TBB)</th>\n",
       "      <th>RPTRbc</th>\n",
       "    </tr>\n",
       "  </thead>\n",
       "  <tbody>\n",
       "    <tr>\n",
       "      <th>0</th>\n",
       "      <td>1</td>\n",
       "      <td>TTGCCGGGGACACT</td>\n",
       "    </tr>\n",
       "    <tr>\n",
       "      <th>1</th>\n",
       "      <td>1</td>\n",
       "      <td>GCGATATCGAACCA</td>\n",
       "    </tr>\n",
       "    <tr>\n",
       "      <th>2</th>\n",
       "      <td>1</td>\n",
       "      <td>GTTAGTACAGCTTG</td>\n",
       "    </tr>\n",
       "    <tr>\n",
       "      <th>3</th>\n",
       "      <td>1</td>\n",
       "      <td>TCACACAAAGTAGC</td>\n",
       "    </tr>\n",
       "    <tr>\n",
       "      <th>4</th>\n",
       "      <td>1</td>\n",
       "      <td>CGGTGTCACAGCCC</td>\n",
       "    </tr>\n",
       "    <tr>\n",
       "      <th>5</th>\n",
       "      <td>1</td>\n",
       "      <td>TCCAATGGCAACCG</td>\n",
       "    </tr>\n",
       "    <tr>\n",
       "      <th>6</th>\n",
       "      <td>1</td>\n",
       "      <td>TCCTTGAAATGTCC</td>\n",
       "    </tr>\n",
       "    <tr>\n",
       "      <th>7</th>\n",
       "      <td>1</td>\n",
       "      <td>TCTCGGTAGAGTAC</td>\n",
       "    </tr>\n",
       "    <tr>\n",
       "      <th>8</th>\n",
       "      <td>1</td>\n",
       "      <td>ACCAGAGCTCACTT</td>\n",
       "    </tr>\n",
       "    <tr>\n",
       "      <th>9</th>\n",
       "      <td>1</td>\n",
       "      <td>CTAAAGAGAACTTC</td>\n",
       "    </tr>\n",
       "  </tbody>\n",
       "</table>\n",
       "</div>"
      ],
      "text/plain": [
       "   count(TBB)          RPTRbc\n",
       "0           1  TTGCCGGGGACACT\n",
       "1           1  GCGATATCGAACCA\n",
       "2           1  GTTAGTACAGCTTG\n",
       "3           1  TCACACAAAGTAGC\n",
       "4           1  CGGTGTCACAGCCC\n",
       "5           1  TCCAATGGCAACCG\n",
       "6           1  TCCTTGAAATGTCC\n",
       "7           1  TCTCGGTAGAGTAC\n",
       "8           1  ACCAGAGCTCACTT\n",
       "9           1  CTAAAGAGAACTTC"
      ]
     },
     "execution_count": 41,
     "metadata": {},
     "output_type": "execute_result"
    }
   ],
   "source": [
    "conn.sql(\"SELECT * FROM UNIONFIL LIMIT 10\").df()"
   ]
  },
  {
   "cell_type": "code",
   "execution_count": 42,
   "id": "78a1a779",
   "metadata": {},
   "outputs": [],
   "source": [
    "# # RPTR bcs mapping to >1 ADBC-Tile pair = 1,578,535\n",
    "# conn.sql(\"\"\"SELECT * FROM(\n",
    "\n",
    "# SELECT COUNT(TBB), RPTRbc\n",
    "# FROM UDEEP\n",
    "# GROUP BY RPTRbc)\n",
    "\n",
    "# WHERE \"count(TBB)\">1\"\"\").df()"
   ]
  },
  {
   "cell_type": "code",
   "execution_count": null,
   "id": "68c2dcb4",
   "metadata": {},
   "outputs": [],
   "source": []
  },
  {
   "cell_type": "code",
   "execution_count": 3,
   "id": "3f39ef68",
   "metadata": {},
   "outputs": [],
   "source": [
    "#unique AD BCs / How many are duplicated ...\n",
    "adbc_cov = conn.sql(\"\"\"SELECT COUNT(TBB), ADbc\n",
    "FROM UDEEP\n",
    "GROUP BY ADbc\"\"\").df() #.describe()"
   ]
  },
  {
   "cell_type": "code",
   "execution_count": 4,
   "id": "0cc01975",
   "metadata": {},
   "outputs": [
    {
     "data": {
      "text/plain": [
       "['TCCCTTCCCCT',\n",
       " 'TTCCTGCTGCC',\n",
       " 'TATAAGTTTAT',\n",
       " 'TCGACACAAGA',\n",
       " 'TCTTCTTTGCT',\n",
       " 'GACATCGTTCC',\n",
       " 'TGGATTGAGTT',\n",
       " 'ATCCTAGTTAA',\n",
       " 'AGTTGGTATTC',\n",
       " 'CTCGGCTGATT']"
      ]
     },
     "execution_count": 4,
     "metadata": {},
     "output_type": "execute_result"
    }
   ],
   "source": [
    "adbclist = adbc_cov[\"ADbc\"].tolist()\n",
    "adbclist[:10]"
   ]
  },
  {
   "cell_type": "code",
   "execution_count": 7,
   "id": "d468dcc8",
   "metadata": {},
   "outputs": [],
   "source": [
    "with open(\"adbclist.csv\", 'w', newline='') as myfile:\n",
    "    wr = csv.writer(myfile, quoting=csv.QUOTE_ALL)\n",
    "    wr.writerow(adbclist)"
   ]
  },
  {
   "cell_type": "code",
   "execution_count": null,
   "id": "706c630e",
   "metadata": {},
   "outputs": [],
   "source": []
  },
  {
   "cell_type": "code",
   "execution_count": null,
   "id": "c8c852e8",
   "metadata": {},
   "outputs": [],
   "source": []
  },
  {
   "cell_type": "code",
   "execution_count": null,
   "id": "6f37f670",
   "metadata": {},
   "outputs": [],
   "source": []
  },
  {
   "cell_type": "code",
   "execution_count": null,
   "id": "e13a8f8c",
   "metadata": {},
   "outputs": [],
   "source": []
  },
  {
   "cell_type": "code",
   "execution_count": null,
   "id": "db71ce9e",
   "metadata": {},
   "outputs": [],
   "source": []
  },
  {
   "cell_type": "code",
   "execution_count": 5,
   "id": "e4552430",
   "metadata": {},
   "outputs": [],
   "source": [
    "# Filter the uniondf so that there are no repeat RPTRs\n",
    "\n",
    "conn.sql(\"\"\"CREATE TABLE UNIONFIL_AD AS SELECT * FROM(\n",
    "\n",
    "SELECT COUNT(TBB), ADbc\n",
    "FROM UDEEP\n",
    "GROUP BY ADbc)\n",
    "\n",
    "WHERE \"count(TBB)\"=1\"\"\") #.df().describe()"
   ]
  },
  {
   "cell_type": "code",
   "execution_count": 8,
   "id": "e10c9b36",
   "metadata": {},
   "outputs": [
    {
     "data": {
      "text/plain": [
       "┌──────────┬────────┐\n",
       "│  UNION1  │ UF_AD  │\n",
       "│  int64   │ int64  │\n",
       "├──────────┼────────┤\n",
       "│ 15342081 │ 615039 │\n",
       "└──────────┴────────┘"
      ]
     },
     "execution_count": 8,
     "metadata": {},
     "output_type": "execute_result"
    }
   ],
   "source": [
    "conn.sql(\"\"\"SELECT \n",
    "(SELECT COUNT(TBB) FROM UDEEP) AS UNION1,\n",
    "(SELECT COUNT(ADbc) FROM UNIONFIL_AD) AS UF_AD,\n",
    "\n",
    "\"\"\") #match, check!"
   ]
  },
  {
   "cell_type": "code",
   "execution_count": null,
   "id": "2b41198e",
   "metadata": {},
   "outputs": [],
   "source": []
  }
 ],
 "metadata": {
  "kernelspec": {
   "display_name": "biopython",
   "language": "python",
   "name": "biopython"
  },
  "language_info": {
   "codemirror_mode": {
    "name": "ipython",
    "version": 3
   },
   "file_extension": ".py",
   "mimetype": "text/x-python",
   "name": "python",
   "nbconvert_exporter": "python",
   "pygments_lexer": "ipython3",
   "version": "3.11.4"
  }
 },
 "nbformat": 4,
 "nbformat_minor": 5
}
