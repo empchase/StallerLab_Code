{
 "cells": [
  {
   "cell_type": "code",
   "execution_count": 1,
   "id": "9fad00bf",
   "metadata": {},
   "outputs": [],
   "source": [
    "import pandas as pd\n",
    "import re\n",
    "import numpy as np\n",
    "import matplotlib.pyplot as plt\n",
    "# import seaborn as sns\n",
    "# from labtools.adtools.counter import seq_counter"
   ]
  },
  {
   "cell_type": "code",
   "execution_count": 2,
   "id": "d0fdcc42",
   "metadata": {},
   "outputs": [
    {
     "data": {
      "text/plain": [
       "'/global/scratch/users/empchase/A10_sequencing/analysis'"
      ]
     },
     "execution_count": 2,
     "metadata": {},
     "output_type": "execute_result"
    }
   ],
   "source": [
    "pwd"
   ]
  },
  {
   "cell_type": "code",
   "execution_count": 3,
   "id": "e620c7b7",
   "metadata": {},
   "outputs": [],
   "source": [
    "path = '/global/scratch/users/empchase/A10_sequencing/analysis/'\n",
    "\n",
    "seqfile = path + 'A10_1_sequences.txt'\n",
    "\n",
    "a10design = 'a10_designfile.csv'"
   ]
  },
  {
   "cell_type": "markdown",
   "id": "83f8661d",
   "metadata": {},
   "source": [
    "### Functions to make...\n",
    "1. List of designed tiles\n",
    "2. Dataframe of reads, tiles, barcodes from sequencing data"
   ]
  },
  {
   "cell_type": "code",
   "execution_count": 4,
   "id": "7d63ae00",
   "metadata": {},
   "outputs": [
    {
     "name": "stdout",
     "output_type": "stream",
     "text": [
      "20783\n"
     ]
    }
   ],
   "source": [
    "#get list of designed tiles\n",
    "\n",
    "a10dt = []\n",
    "\n",
    "with open(a10design, 'r') as f:\n",
    "    for line in f:\n",
    "        if \"ArrayDNA\" in line:\n",
    "            pass\n",
    "        else:\n",
    "            a10dt.append(line.strip())\n",
    "# print(a10dt[:5])\n",
    "print(len(a10dt))#20783\n",
    "\n",
    "#create a dictionary of values\n",
    "dtiles = {}\n",
    "for i in a10dt:\n",
    "    dtiles[i] = 1\n",
    "    \n",
    "# print(d)"
   ]
  },
  {
   "cell_type": "code",
   "execution_count": 5,
   "id": "9f113e95",
   "metadata": {},
   "outputs": [],
   "source": [
    "def getmid(seq, pre, post):\n",
    "    # seq = the sequence to parse\n",
    "    # pre = substring that precedes piece of interest\n",
    "    # post = substring that follows piece of interest\n",
    "    # returns piece of interest\n",
    "    \n",
    "    re_key = pre + \"(.*)\"+ post\n",
    "    poi_search = re.search(re_key, seq)\n",
    "#     print(poi_search)\n",
    "    if poi_search is None:\n",
    "        poi = \"X\"\n",
    "    else:\n",
    "        poi = poi_search.group(1)\n",
    "    \n",
    "    return poi\n",
    "\n",
    "\n",
    "def tilebc_mapper(readfile, tile_pre = \"GCTA.C\", tile_post = \"TGAC.AGCTGAGGCGCGCC\", \n",
    "                  adBC_pre = \"TGAC.AGCTGAGGCGCGCC\", adBC_post = \"GGGCCCCTT\", \n",
    "                  rpBC_pre = \"GCTCGAG\", rpBC_post = \"GGCC...CAT\"):\n",
    "    \n",
    "    #readfile = file of SEQUENCES ONLY\n",
    "    # *_pre or *_post = the consensus sequences before or after each feature\n",
    "\n",
    "    # make lists of reads\n",
    "    readlist = []\n",
    "\n",
    "    \n",
    "    with open(readfile, 'r') as fin:\n",
    "        for line in fin:\n",
    "            seq = line.strip()\n",
    "            readlist.append(seq)\n",
    "            \n",
    "    #make lists of tiles/BCs from list of reads\n",
    "    tile_list = []\n",
    "    tile_lengths= []\n",
    "    tq_list = [] #tile quality list: 1 is good, 0 is bad\n",
    "    \n",
    "    des_query = [] # tells us if tile matches design or not\n",
    "    \n",
    "    adBC_list = []\n",
    "    adBC_lengths = []\n",
    "    aq_list = []\n",
    "    rpBC_list = []\n",
    "    rpBC_lengths = []\n",
    "    rq_list = []\n",
    "    \n",
    "    for read in readlist:\n",
    "        tile = getmid(read, tile_pre, tile_post) #use consensus seq to find tile\n",
    "        tile_list.append(tile) #add tile to list\n",
    "        tile_len = len(tile) #find length of tile\n",
    "        tile_lengths.append(tile_len) #add length to list\n",
    "        if tile_len == 120: #check if the length matches expected length\n",
    "            tq_list.append(1) # if yes\n",
    "        else:\n",
    "            tq_list.append(0) # if no\n",
    "            \n",
    "        if tile in dtiles:\n",
    "            des_query.append(1)\n",
    "        else:\n",
    "            des_query.append(0)\n",
    "#         print(tile)\n",
    "        \n",
    "        adBC = getmid(read, adBC_pre, adBC_post)\n",
    "        adBC_list.append(adBC)\n",
    "        adBC_len = len(adBC)\n",
    "        adBC_lengths.append(adBC_len)\n",
    "        if adBC_len == 11:\n",
    "            aq_list.append(1)\n",
    "        else:\n",
    "            aq_list.append(0)\n",
    "#         print(adBC)\n",
    "\n",
    "        rpBC = getmid(read, rpBC_pre, rpBC_post)\n",
    "        rpBC_list.append(rpBC)\n",
    "        rpBC_len = len(rpBC)\n",
    "        rpBC_lengths.append(rpBC_len)\n",
    "        if rpBC_len == 14:\n",
    "            rq_list.append(1)\n",
    "        else:\n",
    "            rq_list.append(0)\n",
    "            \n",
    "    # make the df\n",
    "    \n",
    "    tileBC_dict = {\"Reads\":readlist, \"Tiles\":tile_list, \"T Len\" : tile_lengths, \"T Qual\":tq_list, \"Designed\": des_query, \n",
    "                  \"AD BCs\":adBC_list, \"A Len\": adBC_lengths,\"A Qual\": aq_list,\n",
    "                   \"RPTR BCs\":rpBC_list, \"R Len\": rpBC_lengths, \"R Qual\": rq_list}\n",
    "    tileBC_df = pd.DataFrame.from_dict(tileBC_dict)\n",
    "    \n",
    "    return tileBC_df"
   ]
  },
  {
   "cell_type": "markdown",
   "id": "4218357f",
   "metadata": {},
   "source": [
    "### Output df has all reads from the seqfile\n",
    "\n",
    "map1 is the original df"
   ]
  },
  {
   "cell_type": "code",
   "execution_count": 6,
   "id": "93621e76",
   "metadata": {},
   "outputs": [
    {
     "data": {
      "text/html": [
       "<div>\n",
       "<style scoped>\n",
       "    .dataframe tbody tr th:only-of-type {\n",
       "        vertical-align: middle;\n",
       "    }\n",
       "\n",
       "    .dataframe tbody tr th {\n",
       "        vertical-align: top;\n",
       "    }\n",
       "\n",
       "    .dataframe thead th {\n",
       "        text-align: right;\n",
       "    }\n",
       "</style>\n",
       "<table border=\"1\" class=\"dataframe\">\n",
       "  <thead>\n",
       "    <tr style=\"text-align: right;\">\n",
       "      <th></th>\n",
       "      <th>Reads</th>\n",
       "      <th>Tiles</th>\n",
       "      <th>T Len</th>\n",
       "      <th>T Qual</th>\n",
       "      <th>Designed</th>\n",
       "      <th>AD BCs</th>\n",
       "      <th>A Len</th>\n",
       "      <th>A Qual</th>\n",
       "      <th>RPTR BCs</th>\n",
       "      <th>R Len</th>\n",
       "      <th>R Qual</th>\n",
       "    </tr>\n",
       "  </thead>\n",
       "  <tbody>\n",
       "    <tr>\n",
       "      <td>0</td>\n",
       "      <td>ANTGCGGGCTCTACTTCATCGGCTAGCGGTGTTACTGCTGCTGATG...</td>\n",
       "      <td>GGTGTTACTGCTGCTGATGCTGAATCTTTGGTTGCTGATCACTTCT...</td>\n",
       "      <td>120</td>\n",
       "      <td>1</td>\n",
       "      <td>1</td>\n",
       "      <td>ACCTCAAAGGC</td>\n",
       "      <td>11</td>\n",
       "      <td>1</td>\n",
       "      <td>CCGCTCATAGTTTT</td>\n",
       "      <td>14</td>\n",
       "      <td>1</td>\n",
       "    </tr>\n",
       "    <tr>\n",
       "      <td>1</td>\n",
       "      <td>ANTGCGGGCTCTACTTCATCGGCTAGCCAACAAGTTTCTGTTTCTG...</td>\n",
       "      <td>CAACAAGTTTCTGTTTCTGCTGCTCATGCTCCACATCCAAGATTGT...</td>\n",
       "      <td>120</td>\n",
       "      <td>1</td>\n",
       "      <td>1</td>\n",
       "      <td>AATTGTTAACA</td>\n",
       "      <td>11</td>\n",
       "      <td>1</td>\n",
       "      <td>TCAGCGTCTCTCGC</td>\n",
       "      <td>14</td>\n",
       "      <td>1</td>\n",
       "    </tr>\n",
       "    <tr>\n",
       "      <td>2</td>\n",
       "      <td>ANTGCGGGCTCTACTTCATCGGCTAGCTCTCATTATAGACCACCAG...</td>\n",
       "      <td>TCTCATTATAGACCACCAGTTCCATTGTTTAATAATTCTACTACTA...</td>\n",
       "      <td>120</td>\n",
       "      <td>1</td>\n",
       "      <td>1</td>\n",
       "      <td>GCACTCAAGGT</td>\n",
       "      <td>11</td>\n",
       "      <td>1</td>\n",
       "      <td>TGAGTCACTAATCA</td>\n",
       "      <td>14</td>\n",
       "      <td>1</td>\n",
       "    </tr>\n",
       "    <tr>\n",
       "      <td>3</td>\n",
       "      <td>ANTGCGGGCTCTACTTCATCGGCTAGCCCAGGTAACTTCTCTCAGA...</td>\n",
       "      <td>CCAGGTAACTTCTCTCAGAATACTTCTCCAATGTTTACTGATTTGA...</td>\n",
       "      <td>119</td>\n",
       "      <td>0</td>\n",
       "      <td>0</td>\n",
       "      <td>TATACGTACCT</td>\n",
       "      <td>11</td>\n",
       "      <td>1</td>\n",
       "      <td>TCCACGACAGCAAG</td>\n",
       "      <td>14</td>\n",
       "      <td>1</td>\n",
       "    </tr>\n",
       "    <tr>\n",
       "      <td>4</td>\n",
       "      <td>ANTGCGGGCTCTACTTCATCGGCTAGCAAACCATTGCCACCAATTA...</td>\n",
       "      <td>AAACCATTGCCACCAATTATTGTTGAAGATCCATCTGATGTTGTTG...</td>\n",
       "      <td>120</td>\n",
       "      <td>1</td>\n",
       "      <td>1</td>\n",
       "      <td>X</td>\n",
       "      <td>1</td>\n",
       "      <td>0</td>\n",
       "      <td>TGCTGCATATACTT</td>\n",
       "      <td>14</td>\n",
       "      <td>1</td>\n",
       "    </tr>\n",
       "  </tbody>\n",
       "</table>\n",
       "</div>"
      ],
      "text/plain": [
       "                                               Reads  \\\n",
       "0  ANTGCGGGCTCTACTTCATCGGCTAGCGGTGTTACTGCTGCTGATG...   \n",
       "1  ANTGCGGGCTCTACTTCATCGGCTAGCCAACAAGTTTCTGTTTCTG...   \n",
       "2  ANTGCGGGCTCTACTTCATCGGCTAGCTCTCATTATAGACCACCAG...   \n",
       "3  ANTGCGGGCTCTACTTCATCGGCTAGCCCAGGTAACTTCTCTCAGA...   \n",
       "4  ANTGCGGGCTCTACTTCATCGGCTAGCAAACCATTGCCACCAATTA...   \n",
       "\n",
       "                                               Tiles  T Len  T Qual  Designed  \\\n",
       "0  GGTGTTACTGCTGCTGATGCTGAATCTTTGGTTGCTGATCACTTCT...    120       1         1   \n",
       "1  CAACAAGTTTCTGTTTCTGCTGCTCATGCTCCACATCCAAGATTGT...    120       1         1   \n",
       "2  TCTCATTATAGACCACCAGTTCCATTGTTTAATAATTCTACTACTA...    120       1         1   \n",
       "3  CCAGGTAACTTCTCTCAGAATACTTCTCCAATGTTTACTGATTTGA...    119       0         0   \n",
       "4  AAACCATTGCCACCAATTATTGTTGAAGATCCATCTGATGTTGTTG...    120       1         1   \n",
       "\n",
       "        AD BCs  A Len  A Qual        RPTR BCs  R Len  R Qual  \n",
       "0  ACCTCAAAGGC     11       1  CCGCTCATAGTTTT     14       1  \n",
       "1  AATTGTTAACA     11       1  TCAGCGTCTCTCGC     14       1  \n",
       "2  GCACTCAAGGT     11       1  TGAGTCACTAATCA     14       1  \n",
       "3  TATACGTACCT     11       1  TCCACGACAGCAAG     14       1  \n",
       "4            X      1       0  TGCTGCATATACTT     14       1  "
      ]
     },
     "execution_count": 6,
     "metadata": {},
     "output_type": "execute_result"
    }
   ],
   "source": [
    "#load the library\n",
    "map1 = tilebc_mapper(seqfile)\n",
    "map1.head()"
   ]
  },
  {
   "cell_type": "code",
   "execution_count": null,
   "id": "15d8385f",
   "metadata": {},
   "outputs": [],
   "source": []
  },
  {
   "cell_type": "markdown",
   "id": "6f232a9f",
   "metadata": {},
   "source": [
    "### Analysis before filtering out bad tiles or barcodes"
   ]
  },
  {
   "cell_type": "code",
   "execution_count": 7,
   "id": "c678ae46",
   "metadata": {},
   "outputs": [
    {
     "data": {
      "text/html": [
       "<div>\n",
       "<style scoped>\n",
       "    .dataframe tbody tr th:only-of-type {\n",
       "        vertical-align: middle;\n",
       "    }\n",
       "\n",
       "    .dataframe tbody tr th {\n",
       "        vertical-align: top;\n",
       "    }\n",
       "\n",
       "    .dataframe thead th {\n",
       "        text-align: right;\n",
       "    }\n",
       "</style>\n",
       "<table border=\"1\" class=\"dataframe\">\n",
       "  <thead>\n",
       "    <tr style=\"text-align: right;\">\n",
       "      <th></th>\n",
       "      <th>T Len</th>\n",
       "      <th>T Qual</th>\n",
       "      <th>Designed</th>\n",
       "      <th>A Len</th>\n",
       "      <th>A Qual</th>\n",
       "      <th>R Len</th>\n",
       "      <th>R Qual</th>\n",
       "    </tr>\n",
       "  </thead>\n",
       "  <tbody>\n",
       "    <tr>\n",
       "      <td>count</td>\n",
       "      <td>1.373377e+08</td>\n",
       "      <td>1.373377e+08</td>\n",
       "      <td>1.373377e+08</td>\n",
       "      <td>1.373377e+08</td>\n",
       "      <td>1.373377e+08</td>\n",
       "      <td>1.373377e+08</td>\n",
       "      <td>1.373377e+08</td>\n",
       "    </tr>\n",
       "    <tr>\n",
       "      <td>mean</td>\n",
       "      <td>1.142578e+02</td>\n",
       "      <td>6.514141e-01</td>\n",
       "      <td>5.955760e-01</td>\n",
       "      <td>1.059735e+01</td>\n",
       "      <td>9.539669e-01</td>\n",
       "      <td>1.371033e+01</td>\n",
       "      <td>9.698163e-01</td>\n",
       "    </tr>\n",
       "    <tr>\n",
       "      <td>std</td>\n",
       "      <td>2.257425e+01</td>\n",
       "      <td>4.765226e-01</td>\n",
       "      <td>4.907802e-01</td>\n",
       "      <td>1.979540e+00</td>\n",
       "      <td>2.095569e-01</td>\n",
       "      <td>2.219121e+00</td>\n",
       "      <td>1.710924e-01</td>\n",
       "    </tr>\n",
       "    <tr>\n",
       "      <td>min</td>\n",
       "      <td>0.000000e+00</td>\n",
       "      <td>0.000000e+00</td>\n",
       "      <td>0.000000e+00</td>\n",
       "      <td>0.000000e+00</td>\n",
       "      <td>0.000000e+00</td>\n",
       "      <td>0.000000e+00</td>\n",
       "      <td>0.000000e+00</td>\n",
       "    </tr>\n",
       "    <tr>\n",
       "      <td>25%</td>\n",
       "      <td>1.190000e+02</td>\n",
       "      <td>0.000000e+00</td>\n",
       "      <td>0.000000e+00</td>\n",
       "      <td>1.100000e+01</td>\n",
       "      <td>1.000000e+00</td>\n",
       "      <td>1.400000e+01</td>\n",
       "      <td>1.000000e+00</td>\n",
       "    </tr>\n",
       "    <tr>\n",
       "      <td>50%</td>\n",
       "      <td>1.200000e+02</td>\n",
       "      <td>1.000000e+00</td>\n",
       "      <td>1.000000e+00</td>\n",
       "      <td>1.100000e+01</td>\n",
       "      <td>1.000000e+00</td>\n",
       "      <td>1.400000e+01</td>\n",
       "      <td>1.000000e+00</td>\n",
       "    </tr>\n",
       "    <tr>\n",
       "      <td>75%</td>\n",
       "      <td>1.200000e+02</td>\n",
       "      <td>1.000000e+00</td>\n",
       "      <td>1.000000e+00</td>\n",
       "      <td>1.100000e+01</td>\n",
       "      <td>1.000000e+00</td>\n",
       "      <td>1.400000e+01</td>\n",
       "      <td>1.000000e+00</td>\n",
       "    </tr>\n",
       "    <tr>\n",
       "      <td>max</td>\n",
       "      <td>1.950000e+02</td>\n",
       "      <td>1.000000e+00</td>\n",
       "      <td>1.000000e+00</td>\n",
       "      <td>1.090000e+02</td>\n",
       "      <td>1.000000e+00</td>\n",
       "      <td>1.950000e+02</td>\n",
       "      <td>1.000000e+00</td>\n",
       "    </tr>\n",
       "  </tbody>\n",
       "</table>\n",
       "</div>"
      ],
      "text/plain": [
       "              T Len        T Qual      Designed         A Len        A Qual  \\\n",
       "count  1.373377e+08  1.373377e+08  1.373377e+08  1.373377e+08  1.373377e+08   \n",
       "mean   1.142578e+02  6.514141e-01  5.955760e-01  1.059735e+01  9.539669e-01   \n",
       "std    2.257425e+01  4.765226e-01  4.907802e-01  1.979540e+00  2.095569e-01   \n",
       "min    0.000000e+00  0.000000e+00  0.000000e+00  0.000000e+00  0.000000e+00   \n",
       "25%    1.190000e+02  0.000000e+00  0.000000e+00  1.100000e+01  1.000000e+00   \n",
       "50%    1.200000e+02  1.000000e+00  1.000000e+00  1.100000e+01  1.000000e+00   \n",
       "75%    1.200000e+02  1.000000e+00  1.000000e+00  1.100000e+01  1.000000e+00   \n",
       "max    1.950000e+02  1.000000e+00  1.000000e+00  1.090000e+02  1.000000e+00   \n",
       "\n",
       "              R Len        R Qual  \n",
       "count  1.373377e+08  1.373377e+08  \n",
       "mean   1.371033e+01  9.698163e-01  \n",
       "std    2.219121e+00  1.710924e-01  \n",
       "min    0.000000e+00  0.000000e+00  \n",
       "25%    1.400000e+01  1.000000e+00  \n",
       "50%    1.400000e+01  1.000000e+00  \n",
       "75%    1.400000e+01  1.000000e+00  \n",
       "max    1.950000e+02  1.000000e+00  "
      ]
     },
     "execution_count": 7,
     "metadata": {},
     "output_type": "execute_result"
    }
   ],
   "source": [
    "map1.describe()"
   ]
  },
  {
   "cell_type": "code",
   "execution_count": 13,
   "id": "47c4242b",
   "metadata": {},
   "outputs": [
    {
     "data": {
      "image/png": "[encoded data removed]",
      "text/plain": [
       "<Figure size 432x288 with 1 Axes>"
      ]
     },
     "metadata": {
      "needs_background": "light"
     },
     "output_type": "display_data"
    }
   ],
   "source": [
    "#plot tiles as histogram\n",
    "\n",
    "# sns.histplot(data=A10_1map, x='Tile Lengths')\n",
    "plt.hist(map1['T Len'])\n",
    "plt.xlim([100, 125])\n",
    "plt.show()"
   ]
  },
  {
   "cell_type": "code",
   "execution_count": 11,
   "id": "874a00d5",
   "metadata": {},
   "outputs": [
    {
     "data": {
      "text/plain": [
       "89463698"
      ]
     },
     "execution_count": 11,
     "metadata": {},
     "output_type": "execute_result"
    }
   ],
   "source": [
    "#look into specifics of who has what length...\n",
    "map1[map1[\"T Len\"] == 120].shape[0]"
   ]
  },
  {
   "cell_type": "code",
   "execution_count": 14,
   "id": "f09ba34f",
   "metadata": {},
   "outputs": [
    {
     "data": {
      "image/png": "[encoded data removed]",
      "text/plain": [
       "<Figure size 432x288 with 1 Axes>"
      ]
     },
     "metadata": {
      "needs_background": "light"
     },
     "output_type": "display_data"
    }
   ],
   "source": [
    "#plot tile qual as histogram\n",
    "\n",
    "plt.hist(map1['T Qual'])\n",
    "\n",
    "plt.show()"
   ]
  },
  {
   "cell_type": "code",
   "execution_count": 12,
   "id": "3bc3337c",
   "metadata": {},
   "outputs": [
    {
     "data": {
      "image/png": "[encoded data removed]",
      "text/plain": [
       "<Figure size 432x288 with 1 Axes>"
      ]
     },
     "metadata": {
      "needs_background": "light"
     },
     "output_type": "display_data"
    }
   ],
   "source": [
    "# plot AD BC len\n",
    "\n",
    "plt.hist(map1['A Len'], bins=100)\n",
    "plt.show()"
   ]
  },
  {
   "cell_type": "code",
   "execution_count": 16,
   "id": "09280e40",
   "metadata": {},
   "outputs": [
    {
     "data": {
      "text/plain": [
       "131015599"
      ]
     },
     "execution_count": 16,
     "metadata": {},
     "output_type": "execute_result"
    }
   ],
   "source": [
    "#look into specifics of who has what length...\n",
    "map1[map1[\"A Qual\"] == 1].shape[0]"
   ]
  },
  {
   "cell_type": "code",
   "execution_count": 17,
   "id": "fe89c1c9",
   "metadata": {},
   "outputs": [
    {
     "data": {
      "image/png": "[encoded data removed]",
      "text/plain": [
       "<Figure size 432x288 with 1 Axes>"
      ]
     },
     "metadata": {
      "needs_background": "light"
     },
     "output_type": "display_data"
    }
   ],
   "source": [
    "# plot RPTR BC len\n",
    "\n",
    "plt.hist(map1['R Len'], bins=100)\n",
    "plt.show()"
   ]
  },
  {
   "cell_type": "code",
   "execution_count": 18,
   "id": "85bd9aca",
   "metadata": {},
   "outputs": [
    {
     "data": {
      "text/plain": [
       "133192330"
      ]
     },
     "execution_count": 18,
     "metadata": {},
     "output_type": "execute_result"
    }
   ],
   "source": [
    "#look into specifics of who has what length...\n",
    "map1[map1[\"R Qual\"] == 1].shape[0]"
   ]
  },
  {
   "cell_type": "code",
   "execution_count": 19,
   "id": "09caf7af",
   "metadata": {},
   "outputs": [
    {
     "data": {
      "text/plain": [
       "81795027"
      ]
     },
     "execution_count": 19,
     "metadata": {},
     "output_type": "execute_result"
    }
   ],
   "source": [
    "map1[map1[\"Designed\"] == 1].shape[0]"
   ]
  },
  {
   "cell_type": "code",
   "execution_count": 20,
   "id": "dde7fc66",
   "metadata": {},
   "outputs": [],
   "source": [
    "color_conditions = {\n",
    "    'Designed_Not120': (map1['Designed'] & ~map1['T Qual']),\n",
    "    'NotDesigned_Yes120': (~map1['Designed'] & map1['T Qual']),\n",
    "    'true_both': (map1['Designed'] & map1['T Qual']),\n",
    "    'false_both': (~map1['Designed'] & ~map1['T Qual'])\n",
    "}"
   ]
  },
  {
   "cell_type": "code",
   "execution_count": 21,
   "id": "9057914b",
   "metadata": {},
   "outputs": [],
   "source": [
    "colors = {\n",
    "    'Designed_Not120': 'blue',\n",
    "    'NotDesigned_Yes120': 'orange',\n",
    "    'true_both': 'green',\n",
    "    'false_both': 'red'\n",
    "}"
   ]
  },
  {
   "cell_type": "code",
   "execution_count": 22,
   "id": "5ec2f040",
   "metadata": {},
   "outputs": [],
   "source": [
    "color_counts = {category: condition.sum() for category, condition in color_conditions.items()}"
   ]
  },
  {
   "cell_type": "code",
   "execution_count": 23,
   "id": "fc8171d6",
   "metadata": {},
   "outputs": [
    {
     "data": {
      "image/png": "[encoded data removed]",
      "text/plain": [
       "<Figure size 432x288 with 1 Axes>"
      ]
     },
     "metadata": {
      "needs_background": "light"
     },
     "output_type": "display_data"
    }
   ],
   "source": [
    "plt.bar(color_counts.keys(), color_counts.values(), color=[colors[c] for c in color_counts.keys()])\n",
    "plt.xlabel('Color Categories')\n",
    "plt.ylabel('Frequency')\n",
    "plt.title('Histogram with Color-Coded Categories')\n",
    "plt.xticks(rotation=45)\n",
    "plt.show()"
   ]
  },
  {
   "cell_type": "markdown",
   "id": "ed6c8629",
   "metadata": {},
   "source": [
    "Observations from above: Most reads have a tile, and nearly all the reads have a legible barcode. Most of the tiles that are legible are also designed\n",
    "\n",
    "\n",
    "Now we want to know:\n",
    "1. Coverage? ie Each tile shows up how many times? -- look at tiles ==120 bp\n",
    "2. How many of those tiles are designed?\n",
    "3. Coverage of tile-bc-bc combos??"
   ]
  },
  {
   "cell_type": "code",
   "execution_count": null,
   "id": "343b00b7",
   "metadata": {},
   "outputs": [],
   "source": []
  },
  {
   "cell_type": "markdown",
   "id": "0d6cab06",
   "metadata": {},
   "source": [
    "### Filtering out reads that either do not have the consensus sequences to find the tiles/BCs OR have tiles/BCs of unexpected lengths\n",
    "\n",
    "map2 is the df with only tiles that match designed and where BC lengths are as expected. All length and quality columns are dropped, as well as the column that stored the full read strings."
   ]
  },
  {
   "cell_type": "code",
   "execution_count": 24,
   "id": "f850df99",
   "metadata": {},
   "outputs": [
    {
     "name": "stdout",
     "output_type": "stream",
     "text": [
      "% Reads lost:\n",
      "42.86310522026861\n"
     ]
    },
    {
     "data": {
      "text/html": [
       "<div>\n",
       "<style scoped>\n",
       "    .dataframe tbody tr th:only-of-type {\n",
       "        vertical-align: middle;\n",
       "    }\n",
       "\n",
       "    .dataframe tbody tr th {\n",
       "        vertical-align: top;\n",
       "    }\n",
       "\n",
       "    .dataframe thead th {\n",
       "        text-align: right;\n",
       "    }\n",
       "</style>\n",
       "<table border=\"1\" class=\"dataframe\">\n",
       "  <thead>\n",
       "    <tr style=\"text-align: right;\">\n",
       "      <th></th>\n",
       "      <th>Tiles</th>\n",
       "      <th>AD BCs</th>\n",
       "      <th>RPTR BCs</th>\n",
       "    </tr>\n",
       "  </thead>\n",
       "  <tbody>\n",
       "    <tr>\n",
       "      <td>0</td>\n",
       "      <td>GGTGTTACTGCTGCTGATGCTGAATCTTTGGTTGCTGATCACTTCT...</td>\n",
       "      <td>ACCTCAAAGGC</td>\n",
       "      <td>CCGCTCATAGTTTT</td>\n",
       "    </tr>\n",
       "    <tr>\n",
       "      <td>1</td>\n",
       "      <td>CAACAAGTTTCTGTTTCTGCTGCTCATGCTCCACATCCAAGATTGT...</td>\n",
       "      <td>AATTGTTAACA</td>\n",
       "      <td>TCAGCGTCTCTCGC</td>\n",
       "    </tr>\n",
       "    <tr>\n",
       "      <td>2</td>\n",
       "      <td>TCTCATTATAGACCACCAGTTCCATTGTTTAATAATTCTACTACTA...</td>\n",
       "      <td>GCACTCAAGGT</td>\n",
       "      <td>TGAGTCACTAATCA</td>\n",
       "    </tr>\n",
       "    <tr>\n",
       "      <td>3</td>\n",
       "      <td>CAACCAGATTCTGCTAATATGAATATTGCTGACTTTGAAGAATTTA...</td>\n",
       "      <td>TAAATATACCC</td>\n",
       "      <td>TTACAATTAGCACT</td>\n",
       "    </tr>\n",
       "    <tr>\n",
       "      <td>4</td>\n",
       "      <td>AGAGCTGGTCCATCTCCATTGTTGCAAGATTTGGCTGCTAGATGTC...</td>\n",
       "      <td>TCGGGCCTTCT</td>\n",
       "      <td>TTGATTCTTCTTCG</td>\n",
       "    </tr>\n",
       "  </tbody>\n",
       "</table>\n",
       "</div>"
      ],
      "text/plain": [
       "                                               Tiles       AD BCs  \\\n",
       "0  GGTGTTACTGCTGCTGATGCTGAATCTTTGGTTGCTGATCACTTCT...  ACCTCAAAGGC   \n",
       "1  CAACAAGTTTCTGTTTCTGCTGCTCATGCTCCACATCCAAGATTGT...  AATTGTTAACA   \n",
       "2  TCTCATTATAGACCACCAGTTCCATTGTTTAATAATTCTACTACTA...  GCACTCAAGGT   \n",
       "3  CAACCAGATTCTGCTAATATGAATATTGCTGACTTTGAAGAATTTA...  TAAATATACCC   \n",
       "4  AGAGCTGGTCCATCTCCATTGTTGCAAGATTTGGCTGCTAGATGTC...  TCGGGCCTTCT   \n",
       "\n",
       "         RPTR BCs  \n",
       "0  CCGCTCATAGTTTT  \n",
       "1  TCAGCGTCTCTCGC  \n",
       "2  TGAGTCACTAATCA  \n",
       "3  TTACAATTAGCACT  \n",
       "4  TTGATTCTTCTTCG  "
      ]
     },
     "execution_count": 24,
     "metadata": {},
     "output_type": "execute_result"
    }
   ],
   "source": [
    "\n",
    "#Replace all 0s in map1 with NaN to filter out any Qual=0 reads\n",
    "map1_nans = map1.replace(0, np.nan)\n",
    "# map1_nans.head()\n",
    "map2 = map1_nans.dropna().reset_index()\n",
    "#get rid of some now useless columns\n",
    "clabels = ['index','Reads', 'T Len','T Qual', 'Designed', 'A Len','A Qual', 'R Len','R Qual']\n",
    "map2 = map2.drop(clabels, axis = 1)\n",
    "\n",
    "\n",
    "# how many reads are lost? rc = readcount\n",
    "rcmap1 = map1.shape[0]\n",
    "rcmap2 = map2.shape[0]\n",
    "diffpct = ((rcmap1 - rcmap2) / rcmap1)*100\n",
    "print(\"% Reads lost:\")\n",
    "print(diffpct)\n",
    "\n",
    "map2.head()"
   ]
  },
  {
   "cell_type": "markdown",
   "id": "c8f78a34",
   "metadata": {},
   "source": [
    "### Coverage\n",
    "map3 is a df with tiles, BCs, and combos of tiles and BCs"
   ]
  },
  {
   "cell_type": "code",
   "execution_count": 25,
   "id": "d72fd595",
   "metadata": {},
   "outputs": [
    {
     "data": {
      "text/html": [
       "<div>\n",
       "<style scoped>\n",
       "    .dataframe tbody tr th:only-of-type {\n",
       "        vertical-align: middle;\n",
       "    }\n",
       "\n",
       "    .dataframe tbody tr th {\n",
       "        vertical-align: top;\n",
       "    }\n",
       "\n",
       "    .dataframe thead th {\n",
       "        text-align: right;\n",
       "    }\n",
       "</style>\n",
       "<table border=\"1\" class=\"dataframe\">\n",
       "  <thead>\n",
       "    <tr style=\"text-align: right;\">\n",
       "      <th></th>\n",
       "      <th>Tiles</th>\n",
       "      <th>AD BCs</th>\n",
       "      <th>RPTR BCs</th>\n",
       "    </tr>\n",
       "  </thead>\n",
       "  <tbody>\n",
       "    <tr>\n",
       "      <td>0</td>\n",
       "      <td>GGTGTTACTGCTGCTGATGCTGAATCTTTGGTTGCTGATCACTTCT...</td>\n",
       "      <td>ACCTCAAAGGC</td>\n",
       "      <td>CCGCTCATAGTTTT</td>\n",
       "    </tr>\n",
       "    <tr>\n",
       "      <td>1</td>\n",
       "      <td>CAACAAGTTTCTGTTTCTGCTGCTCATGCTCCACATCCAAGATTGT...</td>\n",
       "      <td>AATTGTTAACA</td>\n",
       "      <td>TCAGCGTCTCTCGC</td>\n",
       "    </tr>\n",
       "    <tr>\n",
       "      <td>2</td>\n",
       "      <td>TCTCATTATAGACCACCAGTTCCATTGTTTAATAATTCTACTACTA...</td>\n",
       "      <td>GCACTCAAGGT</td>\n",
       "      <td>TGAGTCACTAATCA</td>\n",
       "    </tr>\n",
       "    <tr>\n",
       "      <td>3</td>\n",
       "      <td>CAACCAGATTCTGCTAATATGAATATTGCTGACTTTGAAGAATTTA...</td>\n",
       "      <td>TAAATATACCC</td>\n",
       "      <td>TTACAATTAGCACT</td>\n",
       "    </tr>\n",
       "    <tr>\n",
       "      <td>4</td>\n",
       "      <td>AGAGCTGGTCCATCTCCATTGTTGCAAGATTTGGCTGCTAGATGTC...</td>\n",
       "      <td>TCGGGCCTTCT</td>\n",
       "      <td>TTGATTCTTCTTCG</td>\n",
       "    </tr>\n",
       "  </tbody>\n",
       "</table>\n",
       "</div>"
      ],
      "text/plain": [
       "                                               Tiles       AD BCs  \\\n",
       "0  GGTGTTACTGCTGCTGATGCTGAATCTTTGGTTGCTGATCACTTCT...  ACCTCAAAGGC   \n",
       "1  CAACAAGTTTCTGTTTCTGCTGCTCATGCTCCACATCCAAGATTGT...  AATTGTTAACA   \n",
       "2  TCTCATTATAGACCACCAGTTCCATTGTTTAATAATTCTACTACTA...  GCACTCAAGGT   \n",
       "3  CAACCAGATTCTGCTAATATGAATATTGCTGACTTTGAAGAATTTA...  TAAATATACCC   \n",
       "4  AGAGCTGGTCCATCTCCATTGTTGCAAGATTTGGCTGCTAGATGTC...  TCGGGCCTTCT   \n",
       "\n",
       "         RPTR BCs  \n",
       "0  CCGCTCATAGTTTT  \n",
       "1  TCAGCGTCTCTCGC  \n",
       "2  TGAGTCACTAATCA  \n",
       "3  TTACAATTAGCACT  \n",
       "4  TTGATTCTTCTTCG  "
      ]
     },
     "execution_count": 25,
     "metadata": {},
     "output_type": "execute_result"
    }
   ],
   "source": [
    "map3 = map2.copy()\n",
    "map3.head()"
   ]
  },
  {
   "cell_type": "code",
   "execution_count": 26,
   "id": "774ad6dc",
   "metadata": {},
   "outputs": [
    {
     "data": {
      "text/html": [
       "<div>\n",
       "<style scoped>\n",
       "    .dataframe tbody tr th:only-of-type {\n",
       "        vertical-align: middle;\n",
       "    }\n",
       "\n",
       "    .dataframe tbody tr th {\n",
       "        vertical-align: top;\n",
       "    }\n",
       "\n",
       "    .dataframe thead th {\n",
       "        text-align: right;\n",
       "    }\n",
       "</style>\n",
       "<table border=\"1\" class=\"dataframe\">\n",
       "  <thead>\n",
       "    <tr style=\"text-align: right;\">\n",
       "      <th></th>\n",
       "      <th>Tiles</th>\n",
       "      <th>AD BCs</th>\n",
       "      <th>RPTR BCs</th>\n",
       "      <th>Cat</th>\n",
       "      <th>BC Pairs</th>\n",
       "    </tr>\n",
       "  </thead>\n",
       "  <tbody>\n",
       "    <tr>\n",
       "      <td>0</td>\n",
       "      <td>GGTGTTACTGCTGCTGATGCTGAATCTTTGGTTGCTGATCACTTCT...</td>\n",
       "      <td>ACCTCAAAGGC</td>\n",
       "      <td>CCGCTCATAGTTTT</td>\n",
       "      <td>GGTGTTACTGCTGCTGATGCTGAATCTTTGGTTGCTGATCACTTCT...</td>\n",
       "      <td>ACCTCAAAGGC-CCGCTCATAGTTTT</td>\n",
       "    </tr>\n",
       "    <tr>\n",
       "      <td>1</td>\n",
       "      <td>CAACAAGTTTCTGTTTCTGCTGCTCATGCTCCACATCCAAGATTGT...</td>\n",
       "      <td>AATTGTTAACA</td>\n",
       "      <td>TCAGCGTCTCTCGC</td>\n",
       "      <td>CAACAAGTTTCTGTTTCTGCTGCTCATGCTCCACATCCAAGATTGT...</td>\n",
       "      <td>AATTGTTAACA-TCAGCGTCTCTCGC</td>\n",
       "    </tr>\n",
       "    <tr>\n",
       "      <td>2</td>\n",
       "      <td>TCTCATTATAGACCACCAGTTCCATTGTTTAATAATTCTACTACTA...</td>\n",
       "      <td>GCACTCAAGGT</td>\n",
       "      <td>TGAGTCACTAATCA</td>\n",
       "      <td>TCTCATTATAGACCACCAGTTCCATTGTTTAATAATTCTACTACTA...</td>\n",
       "      <td>GCACTCAAGGT-TGAGTCACTAATCA</td>\n",
       "    </tr>\n",
       "    <tr>\n",
       "      <td>3</td>\n",
       "      <td>CAACCAGATTCTGCTAATATGAATATTGCTGACTTTGAAGAATTTA...</td>\n",
       "      <td>TAAATATACCC</td>\n",
       "      <td>TTACAATTAGCACT</td>\n",
       "      <td>CAACCAGATTCTGCTAATATGAATATTGCTGACTTTGAAGAATTTA...</td>\n",
       "      <td>TAAATATACCC-TTACAATTAGCACT</td>\n",
       "    </tr>\n",
       "    <tr>\n",
       "      <td>4</td>\n",
       "      <td>AGAGCTGGTCCATCTCCATTGTTGCAAGATTTGGCTGCTAGATGTC...</td>\n",
       "      <td>TCGGGCCTTCT</td>\n",
       "      <td>TTGATTCTTCTTCG</td>\n",
       "      <td>AGAGCTGGTCCATCTCCATTGTTGCAAGATTTGGCTGCTAGATGTC...</td>\n",
       "      <td>TCGGGCCTTCT-TTGATTCTTCTTCG</td>\n",
       "    </tr>\n",
       "  </tbody>\n",
       "</table>\n",
       "</div>"
      ],
      "text/plain": [
       "                                               Tiles       AD BCs  \\\n",
       "0  GGTGTTACTGCTGCTGATGCTGAATCTTTGGTTGCTGATCACTTCT...  ACCTCAAAGGC   \n",
       "1  CAACAAGTTTCTGTTTCTGCTGCTCATGCTCCACATCCAAGATTGT...  AATTGTTAACA   \n",
       "2  TCTCATTATAGACCACCAGTTCCATTGTTTAATAATTCTACTACTA...  GCACTCAAGGT   \n",
       "3  CAACCAGATTCTGCTAATATGAATATTGCTGACTTTGAAGAATTTA...  TAAATATACCC   \n",
       "4  AGAGCTGGTCCATCTCCATTGTTGCAAGATTTGGCTGCTAGATGTC...  TCGGGCCTTCT   \n",
       "\n",
       "         RPTR BCs                                                Cat  \\\n",
       "0  CCGCTCATAGTTTT  GGTGTTACTGCTGCTGATGCTGAATCTTTGGTTGCTGATCACTTCT...   \n",
       "1  TCAGCGTCTCTCGC  CAACAAGTTTCTGTTTCTGCTGCTCATGCTCCACATCCAAGATTGT...   \n",
       "2  TGAGTCACTAATCA  TCTCATTATAGACCACCAGTTCCATTGTTTAATAATTCTACTACTA...   \n",
       "3  TTACAATTAGCACT  CAACCAGATTCTGCTAATATGAATATTGCTGACTTTGAAGAATTTA...   \n",
       "4  TTGATTCTTCTTCG  AGAGCTGGTCCATCTCCATTGTTGCAAGATTTGGCTGCTAGATGTC...   \n",
       "\n",
       "                     BC Pairs  \n",
       "0  ACCTCAAAGGC-CCGCTCATAGTTTT  \n",
       "1  AATTGTTAACA-TCAGCGTCTCTCGC  \n",
       "2  GCACTCAAGGT-TGAGTCACTAATCA  \n",
       "3  TAAATATACCC-TTACAATTAGCACT  \n",
       "4  TCGGGCCTTCT-TTGATTCTTCTTCG  "
      ]
     },
     "execution_count": 26,
     "metadata": {},
     "output_type": "execute_result"
    }
   ],
   "source": [
    "adcol = map3['AD BCs'].copy()\n",
    "rpcol = map3['RPTR BCs'].copy()\n",
    "\n",
    "map3['Cat'] = map3['Tiles'].str.cat(adcol, sep=\"-\").str.cat(rpcol, sep=\"-\")\n",
    "map3['BC Pairs'] = map3['AD BCs'].str.cat(rpcol, sep='-')\n",
    "\n",
    "map3.head()"
   ]
  },
  {
   "cell_type": "code",
   "execution_count": 27,
   "id": "9105843b",
   "metadata": {},
   "outputs": [
    {
     "name": "stdout",
     "output_type": "stream",
     "text": [
      "number unique tbb combos:\n",
      "20814311\n"
     ]
    },
    {
     "data": {
      "text/html": [
       "<div>\n",
       "<style scoped>\n",
       "    .dataframe tbody tr th:only-of-type {\n",
       "        vertical-align: middle;\n",
       "    }\n",
       "\n",
       "    .dataframe tbody tr th {\n",
       "        vertical-align: top;\n",
       "    }\n",
       "\n",
       "    .dataframe thead th {\n",
       "        text-align: right;\n",
       "    }\n",
       "</style>\n",
       "<table border=\"1\" class=\"dataframe\">\n",
       "  <thead>\n",
       "    <tr style=\"text-align: right;\">\n",
       "      <th></th>\n",
       "      <th>index</th>\n",
       "      <th>Cat</th>\n",
       "    </tr>\n",
       "  </thead>\n",
       "  <tbody>\n",
       "    <tr>\n",
       "      <td>0</td>\n",
       "      <td>GACTTTGATGGTGCTGCTGATCCATGGTTTCCATTGTTTCCACAAG...</td>\n",
       "      <td>66</td>\n",
       "    </tr>\n",
       "    <tr>\n",
       "      <td>1</td>\n",
       "      <td>AGACCAGCTCAAGCTACTACTACTGCTGAACATTTGAATGTTGCTT...</td>\n",
       "      <td>60</td>\n",
       "    </tr>\n",
       "    <tr>\n",
       "      <td>2</td>\n",
       "      <td>CAGAAACAGAAATCTATCTTGAGACCATCTGCTAGATTGAGAGGTG...</td>\n",
       "      <td>56</td>\n",
       "    </tr>\n",
       "    <tr>\n",
       "      <td>3</td>\n",
       "      <td>GCTCAAGCTCAAGTTCAAACTCAACCACAAACTCAAACTCAAACTG...</td>\n",
       "      <td>55</td>\n",
       "    </tr>\n",
       "    <tr>\n",
       "      <td>4</td>\n",
       "      <td>AATTCTGTTGCTCCAGATACTAGAAGACATTCTGTTCAACATTTGA...</td>\n",
       "      <td>54</td>\n",
       "    </tr>\n",
       "    <tr>\n",
       "      <td>5</td>\n",
       "      <td>CATCAAGACTTTGTCTTGTTTGATAGATCTCCATCTGCTAGATCTG...</td>\n",
       "      <td>50</td>\n",
       "    </tr>\n",
       "    <tr>\n",
       "      <td>6</td>\n",
       "      <td>AAGAGAGCTCCATTGCCACCAATTGTTGTTGAAGATCCATCTGATA...</td>\n",
       "      <td>49</td>\n",
       "    </tr>\n",
       "    <tr>\n",
       "      <td>7</td>\n",
       "      <td>GGTTTGAATGCTGCTGCTGCTGCTGGTGCTGCTGCTGGTGCTGCTG...</td>\n",
       "      <td>49</td>\n",
       "    </tr>\n",
       "    <tr>\n",
       "      <td>8</td>\n",
       "      <td>CAACAATTCTCTCCACCAGAACAATCTCCACAACAAGACTTTGTCT...</td>\n",
       "      <td>49</td>\n",
       "    </tr>\n",
       "    <tr>\n",
       "      <td>9</td>\n",
       "      <td>GTTGAATTGCCAGAAGAATTTACTGCATTTGATGGTGGTGCTAATA...</td>\n",
       "      <td>48</td>\n",
       "    </tr>\n",
       "  </tbody>\n",
       "</table>\n",
       "</div>"
      ],
      "text/plain": [
       "                                               index  Cat\n",
       "0  GACTTTGATGGTGCTGCTGATCCATGGTTTCCATTGTTTCCACAAG...   66\n",
       "1  AGACCAGCTCAAGCTACTACTACTGCTGAACATTTGAATGTTGCTT...   60\n",
       "2  CAGAAACAGAAATCTATCTTGAGACCATCTGCTAGATTGAGAGGTG...   56\n",
       "3  GCTCAAGCTCAAGTTCAAACTCAACCACAAACTCAAACTCAAACTG...   55\n",
       "4  AATTCTGTTGCTCCAGATACTAGAAGACATTCTGTTCAACATTTGA...   54\n",
       "5  CATCAAGACTTTGTCTTGTTTGATAGATCTCCATCTGCTAGATCTG...   50\n",
       "6  AAGAGAGCTCCATTGCCACCAATTGTTGTTGAAGATCCATCTGATA...   49\n",
       "7  GGTTTGAATGCTGCTGCTGCTGCTGGTGCTGCTGCTGGTGCTGCTG...   49\n",
       "8  CAACAATTCTCTCCACCAGAACAATCTCCACAACAAGACTTTGTCT...   49\n",
       "9  GTTGAATTGCCAGAAGAATTTACTGCATTTGATGGTGGTGCTAATA...   48"
      ]
     },
     "execution_count": 27,
     "metadata": {},
     "output_type": "execute_result"
    }
   ],
   "source": [
    "# Now make a df that tells me the frequency of each tile-bc-bc combo\n",
    "\n",
    "tbbcov = map3['Cat'].value_counts().to_frame().reset_index()\n",
    "print('number unique tbb combos:')\n",
    "print(tbbcov.shape[0]) \n",
    "tbbcov.head(10)"
   ]
  },
  {
   "cell_type": "code",
   "execution_count": 28,
   "id": "aa5860cb",
   "metadata": {},
   "outputs": [
    {
     "data": {
      "image/png": "[encoded data removed]",
      "text/plain": [
       "<Figure size 432x288 with 1 Axes>"
      ]
     },
     "metadata": {
      "needs_background": "light"
     },
     "output_type": "display_data"
    }
   ],
   "source": [
    "# plot tbb coverage on histogram\n",
    "\n",
    "plt.figure()\n",
    "plt.hist(tbbcov['Cat'],  bins=75)\n",
    "plt.xlabel('Coverage')\n",
    "plt.ylabel('Counts')\n",
    "plt.show()"
   ]
  },
  {
   "cell_type": "code",
   "execution_count": 29,
   "id": "d1f3e27b",
   "metadata": {},
   "outputs": [
    {
     "data": {
      "text/html": [
       "<div>\n",
       "<style scoped>\n",
       "    .dataframe tbody tr th:only-of-type {\n",
       "        vertical-align: middle;\n",
       "    }\n",
       "\n",
       "    .dataframe tbody tr th {\n",
       "        vertical-align: top;\n",
       "    }\n",
       "\n",
       "    .dataframe thead th {\n",
       "        text-align: right;\n",
       "    }\n",
       "</style>\n",
       "<table border=\"1\" class=\"dataframe\">\n",
       "  <thead>\n",
       "    <tr style=\"text-align: right;\">\n",
       "      <th></th>\n",
       "      <th>Cat</th>\n",
       "    </tr>\n",
       "  </thead>\n",
       "  <tbody>\n",
       "    <tr>\n",
       "      <td>count</td>\n",
       "      <td>2.081431e+07</td>\n",
       "    </tr>\n",
       "    <tr>\n",
       "      <td>mean</td>\n",
       "      <td>3.770026e+00</td>\n",
       "    </tr>\n",
       "    <tr>\n",
       "      <td>std</td>\n",
       "      <td>3.329860e+00</td>\n",
       "    </tr>\n",
       "    <tr>\n",
       "      <td>min</td>\n",
       "      <td>1.000000e+00</td>\n",
       "    </tr>\n",
       "    <tr>\n",
       "      <td>25%</td>\n",
       "      <td>1.000000e+00</td>\n",
       "    </tr>\n",
       "    <tr>\n",
       "      <td>50%</td>\n",
       "      <td>3.000000e+00</td>\n",
       "    </tr>\n",
       "    <tr>\n",
       "      <td>75%</td>\n",
       "      <td>5.000000e+00</td>\n",
       "    </tr>\n",
       "    <tr>\n",
       "      <td>max</td>\n",
       "      <td>6.600000e+01</td>\n",
       "    </tr>\n",
       "  </tbody>\n",
       "</table>\n",
       "</div>"
      ],
      "text/plain": [
       "                Cat\n",
       "count  2.081431e+07\n",
       "mean   3.770026e+00\n",
       "std    3.329860e+00\n",
       "min    1.000000e+00\n",
       "25%    1.000000e+00\n",
       "50%    3.000000e+00\n",
       "75%    5.000000e+00\n",
       "max    6.600000e+01"
      ]
     },
     "execution_count": 29,
     "metadata": {},
     "output_type": "execute_result"
    }
   ],
   "source": [
    "tbbcov.describe()"
   ]
  },
  {
   "cell_type": "code",
   "execution_count": 30,
   "id": "5c169abe",
   "metadata": {},
   "outputs": [
    {
     "name": "stdout",
     "output_type": "stream",
     "text": [
      "# unique Tiles:\n",
      "20643\n"
     ]
    },
    {
     "data": {
      "text/html": [
       "<div>\n",
       "<style scoped>\n",
       "    .dataframe tbody tr th:only-of-type {\n",
       "        vertical-align: middle;\n",
       "    }\n",
       "\n",
       "    .dataframe tbody tr th {\n",
       "        vertical-align: top;\n",
       "    }\n",
       "\n",
       "    .dataframe thead th {\n",
       "        text-align: right;\n",
       "    }\n",
       "</style>\n",
       "<table border=\"1\" class=\"dataframe\">\n",
       "  <thead>\n",
       "    <tr style=\"text-align: right;\">\n",
       "      <th></th>\n",
       "      <th>index</th>\n",
       "      <th>Tiles</th>\n",
       "    </tr>\n",
       "  </thead>\n",
       "  <tbody>\n",
       "    <tr>\n",
       "      <td>0</td>\n",
       "      <td>TTGACTGCTTTGACTTCTCCATCTTTGTTTGATGGTTCTCCAGACT...</td>\n",
       "      <td>15926</td>\n",
       "    </tr>\n",
       "    <tr>\n",
       "      <td>1</td>\n",
       "      <td>TTGCAACAGAAACATAGATTGGCTCAAATTCAAGCTTCTGGTTCTC...</td>\n",
       "      <td>10289</td>\n",
       "    </tr>\n",
       "    <tr>\n",
       "      <td>2</td>\n",
       "      <td>TCTGCTGATTATTCTGGTTTGCAATCTGATTATTCTCCATTGACTG...</td>\n",
       "      <td>10250</td>\n",
       "    </tr>\n",
       "    <tr>\n",
       "      <td>3</td>\n",
       "      <td>TCTATTGCTTCTAGATCTTCTTCTTCTTCTCCAAATAACTTTGCTC...</td>\n",
       "      <td>10161</td>\n",
       "    </tr>\n",
       "    <tr>\n",
       "      <td>4</td>\n",
       "      <td>GATGTTACTCCAGCTTCTCCAATGATTAGAACTACTTCTTCTAGAG...</td>\n",
       "      <td>9615</td>\n",
       "    </tr>\n",
       "  </tbody>\n",
       "</table>\n",
       "</div>"
      ],
      "text/plain": [
       "                                               index  Tiles\n",
       "0  TTGACTGCTTTGACTTCTCCATCTTTGTTTGATGGTTCTCCAGACT...  15926\n",
       "1  TTGCAACAGAAACATAGATTGGCTCAAATTCAAGCTTCTGGTTCTC...  10289\n",
       "2  TCTGCTGATTATTCTGGTTTGCAATCTGATTATTCTCCATTGACTG...  10250\n",
       "3  TCTATTGCTTCTAGATCTTCTTCTTCTTCTCCAAATAACTTTGCTC...  10161\n",
       "4  GATGTTACTCCAGCTTCTCCAATGATTAGAACTACTTCTTCTAGAG...   9615"
      ]
     },
     "execution_count": 30,
     "metadata": {},
     "output_type": "execute_result"
    }
   ],
   "source": [
    "# Tile coverage\n",
    "tcov = map2['Tiles'].value_counts().to_frame().reset_index()\n",
    "print ('# unique Tiles:')\n",
    "print(tcov.shape[0])\n",
    "tcov.head()"
   ]
  },
  {
   "cell_type": "code",
   "execution_count": 32,
   "id": "38aff431",
   "metadata": {},
   "outputs": [
    {
     "data": {
      "image/png": "[encoded data removed]",
      "text/plain": [
       "<Figure size 432x288 with 1 Axes>"
      ]
     },
     "metadata": {
      "needs_background": "light"
     },
     "output_type": "display_data"
    }
   ],
   "source": [
    "# plot tile coverage \n",
    "plt.hist(tcov['Tiles'], bins=100)\n",
    "plt.show()"
   ]
  },
  {
   "cell_type": "code",
   "execution_count": 33,
   "id": "b604b4c7",
   "metadata": {},
   "outputs": [
    {
     "name": "stdout",
     "output_type": "stream",
     "text": [
      "(4038576, 2)\n"
     ]
    },
    {
     "data": {
      "text/html": [
       "<div>\n",
       "<style scoped>\n",
       "    .dataframe tbody tr th:only-of-type {\n",
       "        vertical-align: middle;\n",
       "    }\n",
       "\n",
       "    .dataframe tbody tr th {\n",
       "        vertical-align: top;\n",
       "    }\n",
       "\n",
       "    .dataframe thead th {\n",
       "        text-align: right;\n",
       "    }\n",
       "</style>\n",
       "<table border=\"1\" class=\"dataframe\">\n",
       "  <thead>\n",
       "    <tr style=\"text-align: right;\">\n",
       "      <th></th>\n",
       "      <th>index</th>\n",
       "      <th>AD BCs</th>\n",
       "    </tr>\n",
       "  </thead>\n",
       "  <tbody>\n",
       "    <tr>\n",
       "      <td>0</td>\n",
       "      <td>TCCCCCCCCCC</td>\n",
       "      <td>798</td>\n",
       "    </tr>\n",
       "    <tr>\n",
       "      <td>1</td>\n",
       "      <td>GCCCCCCCGCC</td>\n",
       "      <td>740</td>\n",
       "    </tr>\n",
       "    <tr>\n",
       "      <td>2</td>\n",
       "      <td>TCCCCCCCCTC</td>\n",
       "      <td>725</td>\n",
       "    </tr>\n",
       "    <tr>\n",
       "      <td>3</td>\n",
       "      <td>TCCCCCGCCCC</td>\n",
       "      <td>675</td>\n",
       "    </tr>\n",
       "    <tr>\n",
       "      <td>4</td>\n",
       "      <td>GCCCCCGCCCC</td>\n",
       "      <td>675</td>\n",
       "    </tr>\n",
       "  </tbody>\n",
       "</table>\n",
       "</div>"
      ],
      "text/plain": [
       "         index  AD BCs\n",
       "0  TCCCCCCCCCC     798\n",
       "1  GCCCCCCCGCC     740\n",
       "2  TCCCCCCCCTC     725\n",
       "3  TCCCCCGCCCC     675\n",
       "4  GCCCCCGCCCC     675"
      ]
     },
     "execution_count": 33,
     "metadata": {},
     "output_type": "execute_result"
    }
   ],
   "source": [
    "#ad bc coverage\n",
    "abcov = map3['AD BCs'].value_counts().to_frame().reset_index()\n",
    "print(abcov.shape) # number unique ad bcs:\n",
    "abcov.head()"
   ]
  },
  {
   "cell_type": "code",
   "execution_count": 35,
   "id": "ca0cfa22",
   "metadata": {},
   "outputs": [
    {
     "data": {
      "image/png": "[encoded data removed]",
      "text/plain": [
       "<Figure size 432x288 with 1 Axes>"
      ]
     },
     "metadata": {
      "needs_background": "light"
     },
     "output_type": "display_data"
    }
   ],
   "source": [
    "# plot ad bc coverage \n",
    "plt.hist(abcov['AD BCs'], bins=100)\n",
    "plt.show()"
   ]
  },
  {
   "cell_type": "code",
   "execution_count": 36,
   "id": "a1edfeb9",
   "metadata": {},
   "outputs": [
    {
     "name": "stdout",
     "output_type": "stream",
     "text": [
      "(16996526, 2)\n"
     ]
    },
    {
     "data": {
      "text/html": [
       "<div>\n",
       "<style scoped>\n",
       "    .dataframe tbody tr th:only-of-type {\n",
       "        vertical-align: middle;\n",
       "    }\n",
       "\n",
       "    .dataframe tbody tr th {\n",
       "        vertical-align: top;\n",
       "    }\n",
       "\n",
       "    .dataframe thead th {\n",
       "        text-align: right;\n",
       "    }\n",
       "</style>\n",
       "<table border=\"1\" class=\"dataframe\">\n",
       "  <thead>\n",
       "    <tr style=\"text-align: right;\">\n",
       "      <th></th>\n",
       "      <th>index</th>\n",
       "      <th>RPTR BCs</th>\n",
       "    </tr>\n",
       "  </thead>\n",
       "  <tbody>\n",
       "    <tr>\n",
       "      <td>0</td>\n",
       "      <td>TACCTTCCATTATA</td>\n",
       "      <td>70</td>\n",
       "    </tr>\n",
       "    <tr>\n",
       "      <td>1</td>\n",
       "      <td>TTCAATGCGCCGGG</td>\n",
       "      <td>66</td>\n",
       "    </tr>\n",
       "    <tr>\n",
       "      <td>2</td>\n",
       "      <td>ATTGATATTTTAGT</td>\n",
       "      <td>60</td>\n",
       "    </tr>\n",
       "    <tr>\n",
       "      <td>3</td>\n",
       "      <td>ACATACAGAGCCAT</td>\n",
       "      <td>56</td>\n",
       "    </tr>\n",
       "    <tr>\n",
       "      <td>4</td>\n",
       "      <td>ATATCGATTTCTTG</td>\n",
       "      <td>56</td>\n",
       "    </tr>\n",
       "  </tbody>\n",
       "</table>\n",
       "</div>"
      ],
      "text/plain": [
       "            index  RPTR BCs\n",
       "0  TACCTTCCATTATA        70\n",
       "1  TTCAATGCGCCGGG        66\n",
       "2  ATTGATATTTTAGT        60\n",
       "3  ACATACAGAGCCAT        56\n",
       "4  ATATCGATTTCTTG        56"
      ]
     },
     "execution_count": 36,
     "metadata": {},
     "output_type": "execute_result"
    }
   ],
   "source": [
    "#rptr bc coverage\n",
    "rbcov = map3['RPTR BCs'].value_counts().to_frame().reset_index()\n",
    "print(rbcov.shape) # number unique ad bcs:\n",
    "rbcov.head()"
   ]
  },
  {
   "cell_type": "code",
   "execution_count": 37,
   "id": "b8e86685",
   "metadata": {},
   "outputs": [
    {
     "data": {
      "image/png": "[encoded data removed]",
      "text/plain": [
       "<Figure size 432x288 with 1 Axes>"
      ]
     },
     "metadata": {
      "needs_background": "light"
     },
     "output_type": "display_data"
    }
   ],
   "source": [
    "# plot rptr bc coverage \n",
    "plt.hist(rbcov['RPTR BCs'], bins=100)\n",
    "plt.show()"
   ]
  },
  {
   "cell_type": "code",
   "execution_count": null,
   "id": "5fc3221f",
   "metadata": {},
   "outputs": [],
   "source": [
    "map3.to_csv('A10_1_tbcmapDEEP.csv')"
   ]
  },
  {
   "cell_type": "code",
   "execution_count": null,
   "id": "1fd2f9a1",
   "metadata": {},
   "outputs": [],
   "source": []
  }
 ],
 "metadata": {
  "kernelspec": {
   "display_name": "Python 3.7",
   "language": "python",
   "name": "python3"
  },
  "language_info": {
   "codemirror_mode": {
    "name": "ipython",
    "version": 3
   },
   "file_extension": ".py",
   "mimetype": "text/x-python",
   "name": "python",
   "nbconvert_exporter": "python",
   "pygments_lexer": "ipython3",
   "version": "3.7.4"
  }
 },
 "nbformat": 4,
 "nbformat_minor": 5
}
