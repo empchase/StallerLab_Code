{
 "cells": [
  {
   "cell_type": "code",
   "execution_count": 1,
   "id": "ed81efbd",
   "metadata": {},
   "outputs": [],
   "source": [
    "import pandas as pd\n",
    "import duckdb\n",
    "import matplotlib.pyplot as plt\n",
    "conn = duckdb.connect('mydb.db') # create an in-memory database"
   ]
  },
  {
   "cell_type": "code",
   "execution_count": 2,
   "id": "1b91e2c1",
   "metadata": {},
   "outputs": [
    {
     "data": {
      "text/plain": [
       "┌──────────┬─────────┬───────────┬───────────────────────────┬──────────────────────────────────────┬───────────┐\n",
       "│ database │ schema  │   name    │       column_names        │             column_types             │ temporary │\n",
       "│ varchar  │ varchar │  varchar  │         varchar[]         │              varchar[]               │  boolean  │\n",
       "├──────────┼─────────┼───────────┼───────────────────────────┼──────────────────────────────────────┼───────────┤\n",
       "│ mydb     │ main    │ DEEP1     │ [Tile, ADbc, RPTRbc, TBB] │ [VARCHAR, VARCHAR, VARCHAR, VARCHAR] │ false     │\n",
       "│ mydb     │ main    │ DEEP1UNIQ │ [Tile, ADbc, RPTRbc, TBB] │ [VARCHAR, VARCHAR, VARCHAR, VARCHAR] │ false     │\n",
       "│ mydb     │ main    │ DEEP2     │ [Tile, ADbc, RPTRbc, TBB] │ [VARCHAR, VARCHAR, VARCHAR, VARCHAR] │ false     │\n",
       "│ mydb     │ main    │ DEEP2UNIQ │ [Tile, ADbc, RPTRbc, TBB] │ [VARCHAR, VARCHAR, VARCHAR, VARCHAR] │ false     │\n",
       "│ mydb     │ main    │ TBB_U     │ [TBB]                     │ [VARCHAR]                            │ false     │\n",
       "│ mydb     │ main    │ UDEEP     │ [Tile, ADbc, RPTRbc, TBB] │ [VARCHAR, VARCHAR, VARCHAR, VARCHAR] │ false     │\n",
       "│ mydb     │ main    │ UFIL_BIG  │ [Tile, ADbc, RPTRbc, TBB] │ [VARCHAR, VARCHAR, VARCHAR, VARCHAR] │ false     │\n",
       "│ mydb     │ main    │ UNIONFIL  │ [count(TBB), RPTRbc]      │ [BIGINT, VARCHAR]                    │ false     │\n",
       "└──────────┴─────────┴───────────┴───────────────────────────┴──────────────────────────────────────┴───────────┘"
      ]
     },
     "execution_count": 2,
     "metadata": {},
     "output_type": "execute_result"
    }
   ],
   "source": [
    "conn.sql(\"SHOW ALL TABLES\")"
   ]
  },
  {
   "cell_type": "code",
   "execution_count": 9,
   "id": "ba8e2921",
   "metadata": {},
   "outputs": [
    {
     "data": {
      "text/plain": [
       "┌──────────────────────┬─────────────┬────────────────┬────────────────────────────────────────────────────────────────┐\n",
       "│         Tile         │    ADbc     │     RPTRbc     │                              TBB                               │\n",
       "│       varchar        │   varchar   │    varchar     │                            varchar                             │\n",
       "├──────────────────────┼─────────────┼────────────────┼────────────────────────────────────────────────────────────────┤\n",
       "│ GATTTGCAAGGTAAATTC…  │ TTTATCCTCGG │ AAAAAATTACTTGG │ GATTTGCAAGGTAAATTCTTGGCTGCTCCATTGGAAGAGAATCCAAATTTGCCACAATCT…  │\n",
       "│ GACCCATATATGTCTGCT…  │ TGAAATGGTAA │ CAAAAAGCTATGGT │ GACCCATATATGTCTGCTCCAAATTCTACTGCATTTACTGCTTTGACTTCTCCATCTCCA…  │\n",
       "│ GCTTTGGCTGGTGATCCA…  │ TGGTAATGAGA │ TTTAAATGGCTAAT │ GCTTTGGCTGGTGATCCATGGTATCCATTGTTTCCACAAGATGATCAAGTTGAACAACCT…  │\n",
       "│ GATTATCATTCTCAAGCT…  │ AAGGTCCGAGG │ AACAAATACAGAGT │ GATTATCATTCTCAAGCTACTGCTGACTTTGTCTTGTATCCACAAGCTTCTCCAGCTCAT…  │\n",
       "│ GATATTGAAGCTAGATCA…  │ CCCCGCCGTCG │ TCTAGGTTTCACCC │ GATATTGAAGCTAGATCATTCTATGTCTTTGGTTCTCCAGTTTCTCAATCTAGATCTCCA…  │\n",
       "│ GTTACTTATTCTAAGAAA…  │ CGTGGTATGCA │ TGCATGTGAAATAA │ GTTACTTATTCTAAGAAACAAAGATCTCAACCATTGCAACCAATTATTATTGATGATATT…  │\n",
       "│ GTTGCTGCTAAGAGAGCT…  │ TGAATTATATT │ AGTAATACCGTAGC │ GTTGCTGCTAAGAGAGCTAGAAATACTGCTGCTGCTAGGAAATCTAGACAGAAGAAAGCT…  │\n",
       "│ GTTCCAGAATCTTCTGAT…  │ AGCCAGAAGCA │ TAGTATACTATAAC │ GTTCCAGAATCTTCTGATCCAGCTGCTTTGAAGAGAGCTAGAAATACTGAAGCTGCTAGA…  │\n",
       "│ GGTCAACAACAACATAGA…  │ CCTTGTTCTAG │ ACCAAAGTTGGCCA │ GGTCAACAACAACATAGACCACATTCTACTTTGCAAGCTTCTTCTGCTTCTCCAATTCAG…  │\n",
       "│ TCTACTGGTTCTGTTCCA…  │ CTAAAATGTAT │ AAAGGGGCTAACAC │ TCTACTGGTTCTGTTCCACAAATTCCAAATAAGATGGTCTTGGAAGATTTGCAAGGTTTG…  │\n",
       "├──────────────────────┴─────────────┴────────────────┴────────────────────────────────────────────────────────────────┤\n",
       "│ 10 rows                                                                                                    4 columns │\n",
       "└──────────────────────────────────────────────────────────────────────────────────────────────────────────────────────┘"
      ]
     },
     "execution_count": 9,
     "metadata": {},
     "output_type": "execute_result"
    }
   ],
   "source": [
    "# # take use values from unionfil and give Tile/BC/BC values using unionfil\n",
    "# conn.sql(\"\"\"CREATE TABLE UFIL_BIG AS\n",
    "#         SELECT UDEEP.Tile, UDEEP.ADbc, UNIONFIL.RPTRbc, UDEEP.TBB  \n",
    "#         FROM UNIONFIL\n",
    "#         LEFT JOIN UDEEP ON (UNIONFIL.RPTRbc = UDEEP.RPTRbc)\"\"\")\n",
    "\n",
    "# conn.sql(\"\"\"SELECT * FROM UFIL_BIG LIMIT 10\"\"\")"
   ]
  },
  {
   "cell_type": "code",
   "execution_count": 6,
   "id": "bc9fd7da",
   "metadata": {},
   "outputs": [
    {
     "data": {
      "text/plain": [
       "┌──────────┬──────────┬──────────┐\n",
       "│  UDEEP   │   UFIL   │ UFILBIG  │\n",
       "│  int64   │  int64   │  int64   │\n",
       "├──────────┼──────────┼──────────┤\n",
       "│ 15342081 │ 12089998 │ 12089998 │\n",
       "└──────────┴──────────┴──────────┘"
      ]
     },
     "execution_count": 6,
     "metadata": {},
     "output_type": "execute_result"
    }
   ],
   "source": [
    "conn.sql(\"\"\"SELECT \n",
    "(SELECT COUNT(TBB) FROM UDEEP) AS UDEEP,\n",
    "(SELECT COUNT(RPTRbc) FROM UNIONFIL) AS UFIL,\n",
    "(SELECT COUNT (TBB) FROM UFIL_BIG) as UFILBIG\n",
    "\"\"\")"
   ]
  },
  {
   "cell_type": "code",
   "execution_count": 5,
   "id": "b25cac61",
   "metadata": {},
   "outputs": [],
   "source": [
    "#unique AD BCs / How many are duplicated ...\n",
    "\n",
    "#save as df\n",
    "adbc_stats = conn.sql(\"\"\"SELECT COUNT(*), ADbc\n",
    "FROM UFIL_BIG\n",
    "GROUP BY ADbc\n",
    "ORDER BY count_star() ASC\"\"\").df()"
   ]
  },
  {
   "cell_type": "code",
   "execution_count": 6,
   "id": "71cf2244",
   "metadata": {},
   "outputs": [
    {
     "data": {
      "text/html": [
       "<div>\n",
       "<style scoped>\n",
       "    .dataframe tbody tr th:only-of-type {\n",
       "        vertical-align: middle;\n",
       "    }\n",
       "\n",
       "    .dataframe tbody tr th {\n",
       "        vertical-align: top;\n",
       "    }\n",
       "\n",
       "    .dataframe thead th {\n",
       "        text-align: right;\n",
       "    }\n",
       "</style>\n",
       "<table border=\"1\" class=\"dataframe\">\n",
       "  <thead>\n",
       "    <tr style=\"text-align: right;\">\n",
       "      <th></th>\n",
       "      <th>count_star()</th>\n",
       "    </tr>\n",
       "  </thead>\n",
       "  <tbody>\n",
       "    <tr>\n",
       "      <th>count</th>\n",
       "      <td>3.737674e+06</td>\n",
       "    </tr>\n",
       "    <tr>\n",
       "      <th>mean</th>\n",
       "      <td>3.234631e+00</td>\n",
       "    </tr>\n",
       "    <tr>\n",
       "      <th>std</th>\n",
       "      <td>2.374594e+00</td>\n",
       "    </tr>\n",
       "    <tr>\n",
       "      <th>min</th>\n",
       "      <td>1.000000e+00</td>\n",
       "    </tr>\n",
       "    <tr>\n",
       "      <th>25%</th>\n",
       "      <td>2.000000e+00</td>\n",
       "    </tr>\n",
       "    <tr>\n",
       "      <th>50%</th>\n",
       "      <td>3.000000e+00</td>\n",
       "    </tr>\n",
       "    <tr>\n",
       "      <th>75%</th>\n",
       "      <td>4.000000e+00</td>\n",
       "    </tr>\n",
       "    <tr>\n",
       "      <th>max</th>\n",
       "      <td>1.760000e+02</td>\n",
       "    </tr>\n",
       "  </tbody>\n",
       "</table>\n",
       "</div>"
      ],
      "text/plain": [
       "       count_star()\n",
       "count  3.737674e+06\n",
       "mean   3.234631e+00\n",
       "std    2.374594e+00\n",
       "min    1.000000e+00\n",
       "25%    2.000000e+00\n",
       "50%    3.000000e+00\n",
       "75%    4.000000e+00\n",
       "max    1.760000e+02"
      ]
     },
     "execution_count": 6,
     "metadata": {},
     "output_type": "execute_result"
    }
   ],
   "source": [
    "adbc_stats.describe()"
   ]
  },
  {
   "cell_type": "code",
   "execution_count": 7,
   "id": "a2a84ebe",
   "metadata": {},
   "outputs": [
    {
     "data": {
      "image/png": "[encoded data removed]",
      "text/plain": [
       "<Figure size 640x480 with 1 Axes>"
      ]
     },
     "metadata": {},
     "output_type": "display_data"
    }
   ],
   "source": [
    "# plot adbc counts on histogram\n",
    "\n",
    "plt.figure()\n",
    "plt.hist(adbc_stats['count_star()'],  bins=500)\n",
    "plt.xlabel('Coverage')\n",
    "plt.ylabel('Counts')\n",
    "\n",
    "plt.xlim([0, 10])\n",
    "plt.show()"
   ]
  },
  {
   "cell_type": "code",
   "execution_count": 7,
   "id": "22f97832",
   "metadata": {},
   "outputs": [],
   "source": [
    "#unique TILES / How many are duplicated ...\n",
    "\n",
    "#save as df\n",
    "tile_stats = conn.sql(\"\"\"SELECT COUNT(*), TILE\n",
    "FROM UFIL_BIG\n",
    "GROUP BY TILE\"\"\").df() #.describe()"
   ]
  },
  {
   "cell_type": "code",
   "execution_count": 11,
   "id": "2d4cb1bd",
   "metadata": {},
   "outputs": [
    {
     "data": {
      "text/html": [
       "<div>\n",
       "<style scoped>\n",
       "    .dataframe tbody tr th:only-of-type {\n",
       "        vertical-align: middle;\n",
       "    }\n",
       "\n",
       "    .dataframe tbody tr th {\n",
       "        vertical-align: top;\n",
       "    }\n",
       "\n",
       "    .dataframe thead th {\n",
       "        text-align: right;\n",
       "    }\n",
       "</style>\n",
       "<table border=\"1\" class=\"dataframe\">\n",
       "  <thead>\n",
       "    <tr style=\"text-align: right;\">\n",
       "      <th></th>\n",
       "      <th>count_star()</th>\n",
       "      <th>Tile</th>\n",
       "    </tr>\n",
       "  </thead>\n",
       "  <tbody>\n",
       "    <tr>\n",
       "      <th>0</th>\n",
       "      <td>879</td>\n",
       "      <td>TACTTCTCTCATGATCCATCTCCAATGTTGTCTGATGACTTTGGTT...</td>\n",
       "    </tr>\n",
       "    <tr>\n",
       "      <th>1</th>\n",
       "      <td>671</td>\n",
       "      <td>TATAGAAGAGTTATGTCTACTCCAAACTTTATGGAAGCTCATGAAG...</td>\n",
       "    </tr>\n",
       "    <tr>\n",
       "      <th>2</th>\n",
       "      <td>912</td>\n",
       "      <td>GTTTCTCCACAAGAATTGTTGTTGCATGAACCATATTTGTCTGCTC...</td>\n",
       "    </tr>\n",
       "    <tr>\n",
       "      <th>3</th>\n",
       "      <td>748</td>\n",
       "      <td>TCTGCTCCACCATCTGCTACATTTACTGATTTGTCTACTCCACCAT...</td>\n",
       "    </tr>\n",
       "    <tr>\n",
       "      <th>4</th>\n",
       "      <td>651</td>\n",
       "      <td>TTGGCTAGATCTCCATCTTATTGGTCTCATCCAACTTTGAAACATA...</td>\n",
       "    </tr>\n",
       "  </tbody>\n",
       "</table>\n",
       "</div>"
      ],
      "text/plain": [
       "   count_star()                                               Tile\n",
       "0           879  TACTTCTCTCATGATCCATCTCCAATGTTGTCTGATGACTTTGGTT...\n",
       "1           671  TATAGAAGAGTTATGTCTACTCCAAACTTTATGGAAGCTCATGAAG...\n",
       "2           912  GTTTCTCCACAAGAATTGTTGTTGCATGAACCATATTTGTCTGCTC...\n",
       "3           748  TCTGCTCCACCATCTGCTACATTTACTGATTTGTCTACTCCACCAT...\n",
       "4           651  TTGGCTAGATCTCCATCTTATTGGTCTCATCCAACTTTGAAACATA..."
      ]
     },
     "execution_count": 11,
     "metadata": {},
     "output_type": "execute_result"
    }
   ],
   "source": [
    "tile_stats.head()"
   ]
  },
  {
   "cell_type": "code",
   "execution_count": 8,
   "id": "5cce01ad",
   "metadata": {
    "scrolled": true
   },
   "outputs": [
    {
     "data": {
      "text/html": [
       "<div>\n",
       "<style scoped>\n",
       "    .dataframe tbody tr th:only-of-type {\n",
       "        vertical-align: middle;\n",
       "    }\n",
       "\n",
       "    .dataframe tbody tr th {\n",
       "        vertical-align: top;\n",
       "    }\n",
       "\n",
       "    .dataframe thead th {\n",
       "        text-align: right;\n",
       "    }\n",
       "</style>\n",
       "<table border=\"1\" class=\"dataframe\">\n",
       "  <thead>\n",
       "    <tr style=\"text-align: right;\">\n",
       "      <th></th>\n",
       "      <th>count_star()</th>\n",
       "    </tr>\n",
       "  </thead>\n",
       "  <tbody>\n",
       "    <tr>\n",
       "      <th>count</th>\n",
       "      <td>20630.000000</td>\n",
       "    </tr>\n",
       "    <tr>\n",
       "      <th>mean</th>\n",
       "      <td>586.039651</td>\n",
       "    </tr>\n",
       "    <tr>\n",
       "      <th>std</th>\n",
       "      <td>172.945566</td>\n",
       "    </tr>\n",
       "    <tr>\n",
       "      <th>min</th>\n",
       "      <td>1.000000</td>\n",
       "    </tr>\n",
       "    <tr>\n",
       "      <th>25%</th>\n",
       "      <td>471.000000</td>\n",
       "    </tr>\n",
       "    <tr>\n",
       "      <th>50%</th>\n",
       "      <td>589.000000</td>\n",
       "    </tr>\n",
       "    <tr>\n",
       "      <th>75%</th>\n",
       "      <td>702.000000</td>\n",
       "    </tr>\n",
       "    <tr>\n",
       "      <th>max</th>\n",
       "      <td>2485.000000</td>\n",
       "    </tr>\n",
       "  </tbody>\n",
       "</table>\n",
       "</div>"
      ],
      "text/plain": [
       "       count_star()\n",
       "count  20630.000000\n",
       "mean     586.039651\n",
       "std      172.945566\n",
       "min        1.000000\n",
       "25%      471.000000\n",
       "50%      589.000000\n",
       "75%      702.000000\n",
       "max     2485.000000"
      ]
     },
     "execution_count": 8,
     "metadata": {},
     "output_type": "execute_result"
    }
   ],
   "source": [
    "tile_stats.describe()"
   ]
  },
  {
   "cell_type": "code",
   "execution_count": 12,
   "id": "11e39cd3",
   "metadata": {
    "scrolled": true
   },
   "outputs": [
    {
     "name": "stderr",
     "output_type": "stream",
     "text": [
      "/tmp/ipykernel_29326/962320059.py:1: FutureWarning: The default value of numeric_only in DataFrame.quantile is deprecated. In a future version, it will default to False. Select only valid columns or specify the value of numeric_only to silence this warning.\n",
      "  tile_stats.quantile(q=[0.05, 0.95])\n"
     ]
    },
    {
     "data": {
      "text/html": [
       "<div>\n",
       "<style scoped>\n",
       "    .dataframe tbody tr th:only-of-type {\n",
       "        vertical-align: middle;\n",
       "    }\n",
       "\n",
       "    .dataframe tbody tr th {\n",
       "        vertical-align: top;\n",
       "    }\n",
       "\n",
       "    .dataframe thead th {\n",
       "        text-align: right;\n",
       "    }\n",
       "</style>\n",
       "<table border=\"1\" class=\"dataframe\">\n",
       "  <thead>\n",
       "    <tr style=\"text-align: right;\">\n",
       "      <th></th>\n",
       "      <th>count_star()</th>\n",
       "    </tr>\n",
       "  </thead>\n",
       "  <tbody>\n",
       "    <tr>\n",
       "      <th>0.05</th>\n",
       "      <td>310.0</td>\n",
       "    </tr>\n",
       "    <tr>\n",
       "      <th>0.95</th>\n",
       "      <td>863.0</td>\n",
       "    </tr>\n",
       "  </tbody>\n",
       "</table>\n",
       "</div>"
      ],
      "text/plain": [
       "      count_star()\n",
       "0.05         310.0\n",
       "0.95         863.0"
      ]
     },
     "execution_count": 12,
     "metadata": {},
     "output_type": "execute_result"
    }
   ],
   "source": [
    "tile_stats.quantile(q=[0.05, 0.95])"
   ]
  },
  {
   "cell_type": "code",
   "execution_count": 13,
   "id": "8b15b6f9",
   "metadata": {},
   "outputs": [
    {
     "data": {
      "image/png": "[encoded data removed]",
      "text/plain": [
       "<Figure size 640x480 with 1 Axes>"
      ]
     },
     "metadata": {},
     "output_type": "display_data"
    }
   ],
   "source": [
    "# plot tile counts on histogram\n",
    "\n",
    "plt.figure()\n",
    "plt.hist(tile_stats['count_star()'],  bins=500)\n",
    "plt.xlabel('Coverage')\n",
    "plt.ylabel('Counts')\n",
    "\n",
    "# plt.xlim([0, 10])\n",
    "plt.show()"
   ]
  },
  {
   "cell_type": "code",
   "execution_count": 19,
   "id": "f667cf79",
   "metadata": {},
   "outputs": [
    {
     "data": {
      "image/png": "[encoded data removed]",
      "text/plain": [
       "<Figure size 640x480 with 1 Axes>"
      ]
     },
     "metadata": {},
     "output_type": "display_data"
    }
   ],
   "source": [
    "# plot tile counts on histogram in log space\n",
    "\n",
    "plt.figure()\n",
    "plt.hist(tile_stats['count_star()'], bins=500)\n",
    "plt.xlabel('Coverage')\n",
    "plt.ylabel('Counts')\n",
    "plt.title('Tile Counts (logxy)')\n",
    "plt.xscale('log')\n",
    "plt.yscale('log')\n",
    "\n",
    "\n",
    "# plt.xlim([0, 10])\n",
    "plt.show()"
   ]
  },
  {
   "cell_type": "code",
   "execution_count": 14,
   "id": "c1058fa7",
   "metadata": {},
   "outputs": [
    {
     "data": {
      "text/html": [
       "<div>\n",
       "<style scoped>\n",
       "    .dataframe tbody tr th:only-of-type {\n",
       "        vertical-align: middle;\n",
       "    }\n",
       "\n",
       "    .dataframe tbody tr th {\n",
       "        vertical-align: top;\n",
       "    }\n",
       "\n",
       "    .dataframe thead th {\n",
       "        text-align: right;\n",
       "    }\n",
       "</style>\n",
       "<table border=\"1\" class=\"dataframe\">\n",
       "  <thead>\n",
       "    <tr style=\"text-align: right;\">\n",
       "      <th></th>\n",
       "      <th>count_star()</th>\n",
       "      <th>Tile</th>\n",
       "    </tr>\n",
       "  </thead>\n",
       "  <tbody>\n",
       "    <tr>\n",
       "      <th>0</th>\n",
       "      <td>728</td>\n",
       "      <td>TCTAATCATGTTGGTACTATTTCTCCACAAGATTTGTTGATTCAAG...</td>\n",
       "    </tr>\n",
       "    <tr>\n",
       "      <th>1</th>\n",
       "      <td>493</td>\n",
       "      <td>TCTCAAGATTTGTTTGCTTCTCCAGTTAAACAACAACATCAGAAAG...</td>\n",
       "    </tr>\n",
       "    <tr>\n",
       "      <th>2</th>\n",
       "      <td>458</td>\n",
       "      <td>CAACAACAACAACAACAACAACAACAACAACAACAACAACAACAAC...</td>\n",
       "    </tr>\n",
       "    <tr>\n",
       "      <th>3</th>\n",
       "      <td>524</td>\n",
       "      <td>GAAAGATCTGGTTCTTCTTCTATTGGTTCTCCAATTGTCTTGGATT...</td>\n",
       "    </tr>\n",
       "    <tr>\n",
       "      <th>4</th>\n",
       "      <td>573</td>\n",
       "      <td>AATGGTGATAATTGGTATTCTTTGTTTCCAGAAGTTAATCAAGATT...</td>\n",
       "    </tr>\n",
       "  </tbody>\n",
       "</table>\n",
       "</div>"
      ],
      "text/plain": [
       "   count_star()                                               Tile\n",
       "0           728  TCTAATCATGTTGGTACTATTTCTCCACAAGATTTGTTGATTCAAG...\n",
       "1           493  TCTCAAGATTTGTTTGCTTCTCCAGTTAAACAACAACATCAGAAAG...\n",
       "2           458  CAACAACAACAACAACAACAACAACAACAACAACAACAACAACAAC...\n",
       "3           524  GAAAGATCTGGTTCTTCTTCTATTGGTTCTCCAATTGTCTTGGATT...\n",
       "4           573  AATGGTGATAATTGGTATTCTTTGTTTCCAGAAGTTAATCAAGATT..."
      ]
     },
     "execution_count": 14,
     "metadata": {},
     "output_type": "execute_result"
    }
   ],
   "source": [
    "tile_stats.head()"
   ]
  },
  {
   "cell_type": "code",
   "execution_count": 22,
   "id": "5fb47864",
   "metadata": {},
   "outputs": [
    {
     "data": {
      "text/plain": [
       "'TCTAATCATGTTGGTACTATTTCTCCACAAGATTTGTTGATTCAAGATCCATATATGTCTGCTCCAAATTCTACTGCTTTGACTGCTTTGACTTCTCCATCTTTGTATGAATCTCCAGAT'"
      ]
     },
     "execution_count": 22,
     "metadata": {},
     "output_type": "execute_result"
    }
   ],
   "source": [
    "tile_stats.iloc[0,1]"
   ]
  },
  {
   "cell_type": "code",
   "execution_count": 17,
   "id": "a4e6f46e",
   "metadata": {},
   "outputs": [
    {
     "data": {
      "text/html": [
       "<div>\n",
       "<style scoped>\n",
       "    .dataframe tbody tr th:only-of-type {\n",
       "        vertical-align: middle;\n",
       "    }\n",
       "\n",
       "    .dataframe tbody tr th {\n",
       "        vertical-align: top;\n",
       "    }\n",
       "\n",
       "    .dataframe thead th {\n",
       "        text-align: right;\n",
       "    }\n",
       "</style>\n",
       "<table border=\"1\" class=\"dataframe\">\n",
       "  <thead>\n",
       "    <tr style=\"text-align: right;\">\n",
       "      <th></th>\n",
       "      <th>count_star()</th>\n",
       "      <th>Tile</th>\n",
       "    </tr>\n",
       "  </thead>\n",
       "  <tbody>\n",
       "    <tr>\n",
       "      <th>2644</th>\n",
       "      <td>1</td>\n",
       "      <td>TTCTTGCCAACTCCAATGATTGAAGAAGCTAAATTGTCTCAAACTA...</td>\n",
       "    </tr>\n",
       "    <tr>\n",
       "      <th>6605</th>\n",
       "      <td>1</td>\n",
       "      <td>CCAAATTCTCAATCTAATGATAATAATAATAATAATTCTGTTAATT...</td>\n",
       "    </tr>\n",
       "    <tr>\n",
       "      <th>6606</th>\n",
       "      <td>1</td>\n",
       "      <td>CATCAACAATCTTGGTTGCCATCTCCACCACCACAACAACCATTGG...</td>\n",
       "    </tr>\n",
       "    <tr>\n",
       "      <th>6607</th>\n",
       "      <td>1</td>\n",
       "      <td>AAATTGATGATTAATAATAATCATTCTTCTGGTAAGATTACTAAGA...</td>\n",
       "    </tr>\n",
       "    <tr>\n",
       "      <th>10558</th>\n",
       "      <td>1</td>\n",
       "      <td>GCTCAGAATCCAAATTCTCAATCTAATGATAATAATAATAATAATT...</td>\n",
       "    </tr>\n",
       "    <tr>\n",
       "      <th>11811</th>\n",
       "      <td>1</td>\n",
       "      <td>CAAATTTCTAATATTAAAGAAGATGATTCTAATAATACTATTAATG...</td>\n",
       "    </tr>\n",
       "    <tr>\n",
       "      <th>11814</th>\n",
       "      <td>1</td>\n",
       "      <td>CCATTGGCTCAGAATCCAAATTCTCAATCTAATGATAATAATAATA...</td>\n",
       "    </tr>\n",
       "    <tr>\n",
       "      <th>13047</th>\n",
       "      <td>1</td>\n",
       "      <td>CCAGACTTCTCATTTCAAATTTCTAATATTAAAGAAGATGATTCTA...</td>\n",
       "    </tr>\n",
       "    <tr>\n",
       "      <th>14288</th>\n",
       "      <td>1</td>\n",
       "      <td>AATAATAATAATAATTCTATTAACTTCTCTAATGAAAATTCTAATA...</td>\n",
       "    </tr>\n",
       "    <tr>\n",
       "      <th>20572</th>\n",
       "      <td>1</td>\n",
       "      <td>CCACCACCACAACAACCATTGGCTCAGAATCCAAATTCTCAATCTA...</td>\n",
       "    </tr>\n",
       "  </tbody>\n",
       "</table>\n",
       "</div>"
      ],
      "text/plain": [
       "       count_star()                                               Tile\n",
       "2644              1  TTCTTGCCAACTCCAATGATTGAAGAAGCTAAATTGTCTCAAACTA...\n",
       "6605              1  CCAAATTCTCAATCTAATGATAATAATAATAATAATTCTGTTAATT...\n",
       "6606              1  CATCAACAATCTTGGTTGCCATCTCCACCACCACAACAACCATTGG...\n",
       "6607              1  AAATTGATGATTAATAATAATCATTCTTCTGGTAAGATTACTAAGA...\n",
       "10558             1  GCTCAGAATCCAAATTCTCAATCTAATGATAATAATAATAATAATT...\n",
       "11811             1  CAAATTTCTAATATTAAAGAAGATGATTCTAATAATACTATTAATG...\n",
       "11814             1  CCATTGGCTCAGAATCCAAATTCTCAATCTAATGATAATAATAATA...\n",
       "13047             1  CCAGACTTCTCATTTCAAATTTCTAATATTAAAGAAGATGATTCTA...\n",
       "14288             1  AATAATAATAATAATTCTATTAACTTCTCTAATGAAAATTCTAATA...\n",
       "20572             1  CCACCACCACAACAACCATTGGCTCAGAATCCAAATTCTCAATCTA..."
      ]
     },
     "execution_count": 17,
     "metadata": {},
     "output_type": "execute_result"
    }
   ],
   "source": [
    "tile_stats[tile_stats['count_star()']==1]"
   ]
  },
  {
   "cell_type": "code",
   "execution_count": null,
   "id": "276246c8",
   "metadata": {},
   "outputs": [],
   "source": []
  },
  {
   "cell_type": "code",
   "execution_count": 36,
   "id": "1c5325a7",
   "metadata": {},
   "outputs": [
    {
     "data": {
      "text/html": [
       "<div>\n",
       "<style scoped>\n",
       "    .dataframe tbody tr th:only-of-type {\n",
       "        vertical-align: middle;\n",
       "    }\n",
       "\n",
       "    .dataframe tbody tr th {\n",
       "        vertical-align: top;\n",
       "    }\n",
       "\n",
       "    .dataframe thead th {\n",
       "        text-align: right;\n",
       "    }\n",
       "</style>\n",
       "<table border=\"1\" class=\"dataframe\">\n",
       "  <thead>\n",
       "    <tr style=\"text-align: right;\">\n",
       "      <th></th>\n",
       "      <th>count(RPTRbc)</th>\n",
       "    </tr>\n",
       "  </thead>\n",
       "  <tbody>\n",
       "    <tr>\n",
       "      <th>count</th>\n",
       "      <td>12089998.0</td>\n",
       "    </tr>\n",
       "    <tr>\n",
       "      <th>mean</th>\n",
       "      <td>1.0</td>\n",
       "    </tr>\n",
       "    <tr>\n",
       "      <th>std</th>\n",
       "      <td>0.0</td>\n",
       "    </tr>\n",
       "    <tr>\n",
       "      <th>min</th>\n",
       "      <td>1.0</td>\n",
       "    </tr>\n",
       "    <tr>\n",
       "      <th>25%</th>\n",
       "      <td>1.0</td>\n",
       "    </tr>\n",
       "    <tr>\n",
       "      <th>50%</th>\n",
       "      <td>1.0</td>\n",
       "    </tr>\n",
       "    <tr>\n",
       "      <th>75%</th>\n",
       "      <td>1.0</td>\n",
       "    </tr>\n",
       "    <tr>\n",
       "      <th>max</th>\n",
       "      <td>1.0</td>\n",
       "    </tr>\n",
       "  </tbody>\n",
       "</table>\n",
       "</div>"
      ],
      "text/plain": [
       "       count(RPTRbc)\n",
       "count     12089998.0\n",
       "mean             1.0\n",
       "std              0.0\n",
       "min              1.0\n",
       "25%              1.0\n",
       "50%              1.0\n",
       "75%              1.0\n",
       "max              1.0"
      ]
     },
     "execution_count": 36,
     "metadata": {},
     "output_type": "execute_result"
    }
   ],
   "source": [
    "#unique TBBs / How many are duplicated ...\n",
    "conn.sql(\"\"\"SELECT COUNT(RPTRbc), TBB\n",
    "FROM UFIL_BIG\n",
    "GROUP BY TBB\"\"\").df().describe() #result makes sense"
   ]
  },
  {
   "cell_type": "code",
   "execution_count": 19,
   "id": "82ad4be4",
   "metadata": {},
   "outputs": [
    {
     "data": {
      "text/html": [
       "<div>\n",
       "<style scoped>\n",
       "    .dataframe tbody tr th:only-of-type {\n",
       "        vertical-align: middle;\n",
       "    }\n",
       "\n",
       "    .dataframe tbody tr th {\n",
       "        vertical-align: top;\n",
       "    }\n",
       "\n",
       "    .dataframe thead th {\n",
       "        text-align: right;\n",
       "    }\n",
       "</style>\n",
       "<table border=\"1\" class=\"dataframe\">\n",
       "  <thead>\n",
       "    <tr style=\"text-align: right;\">\n",
       "      <th></th>\n",
       "      <th>Tile</th>\n",
       "      <th>ADbc</th>\n",
       "      <th>RPTRbc</th>\n",
       "      <th>TBB</th>\n",
       "    </tr>\n",
       "  </thead>\n",
       "  <tbody>\n",
       "    <tr>\n",
       "      <th>0</th>\n",
       "      <td>GATTTGCAAGGTAAATTCTTGGCTGCTCCATTGGAAGAGAATCCAA...</td>\n",
       "      <td>TTTATCCTCGG</td>\n",
       "      <td>AAAAAATTACTTGG</td>\n",
       "      <td>GATTTGCAAGGTAAATTCTTGGCTGCTCCATTGGAAGAGAATCCAA...</td>\n",
       "    </tr>\n",
       "    <tr>\n",
       "      <th>1</th>\n",
       "      <td>GACCCATATATGTCTGCTCCAAATTCTACTGCATTTACTGCTTTGA...</td>\n",
       "      <td>TGAAATGGTAA</td>\n",
       "      <td>CAAAAAGCTATGGT</td>\n",
       "      <td>GACCCATATATGTCTGCTCCAAATTCTACTGCATTTACTGCTTTGA...</td>\n",
       "    </tr>\n",
       "    <tr>\n",
       "      <th>2</th>\n",
       "      <td>GCTTTGGCTGGTGATCCATGGTATCCATTGTTTCCACAAGATGATC...</td>\n",
       "      <td>TGGTAATGAGA</td>\n",
       "      <td>TTTAAATGGCTAAT</td>\n",
       "      <td>GCTTTGGCTGGTGATCCATGGTATCCATTGTTTCCACAAGATGATC...</td>\n",
       "    </tr>\n",
       "    <tr>\n",
       "      <th>3</th>\n",
       "      <td>GATTATCATTCTCAAGCTACTGCTGACTTTGTCTTGTATCCACAAG...</td>\n",
       "      <td>AAGGTCCGAGG</td>\n",
       "      <td>AACAAATACAGAGT</td>\n",
       "      <td>GATTATCATTCTCAAGCTACTGCTGACTTTGTCTTGTATCCACAAG...</td>\n",
       "    </tr>\n",
       "    <tr>\n",
       "      <th>4</th>\n",
       "      <td>GATATTGAAGCTAGATCATTCTATGTCTTTGGTTCTCCAGTTTCTC...</td>\n",
       "      <td>CCCCGCCGTCG</td>\n",
       "      <td>TCTAGGTTTCACCC</td>\n",
       "      <td>GATATTGAAGCTAGATCATTCTATGTCTTTGGTTCTCCAGTTTCTC...</td>\n",
       "    </tr>\n",
       "  </tbody>\n",
       "</table>\n",
       "</div>"
      ],
      "text/plain": [
       "                                                Tile         ADbc  \\\n",
       "0  GATTTGCAAGGTAAATTCTTGGCTGCTCCATTGGAAGAGAATCCAA...  TTTATCCTCGG   \n",
       "1  GACCCATATATGTCTGCTCCAAATTCTACTGCATTTACTGCTTTGA...  TGAAATGGTAA   \n",
       "2  GCTTTGGCTGGTGATCCATGGTATCCATTGTTTCCACAAGATGATC...  TGGTAATGAGA   \n",
       "3  GATTATCATTCTCAAGCTACTGCTGACTTTGTCTTGTATCCACAAG...  AAGGTCCGAGG   \n",
       "4  GATATTGAAGCTAGATCATTCTATGTCTTTGGTTCTCCAGTTTCTC...  CCCCGCCGTCG   \n",
       "\n",
       "           RPTRbc                                                TBB  \n",
       "0  AAAAAATTACTTGG  GATTTGCAAGGTAAATTCTTGGCTGCTCCATTGGAAGAGAATCCAA...  \n",
       "1  CAAAAAGCTATGGT  GACCCATATATGTCTGCTCCAAATTCTACTGCATTTACTGCTTTGA...  \n",
       "2  TTTAAATGGCTAAT  GCTTTGGCTGGTGATCCATGGTATCCATTGTTTCCACAAGATGATC...  \n",
       "3  AACAAATACAGAGT  GATTATCATTCTCAAGCTACTGCTGACTTTGTCTTGTATCCACAAG...  \n",
       "4  TCTAGGTTTCACCC  GATATTGAAGCTAGATCATTCTATGTCTTTGGTTCTCCAGTTTCTC...  "
      ]
     },
     "execution_count": 19,
     "metadata": {},
     "output_type": "execute_result"
    }
   ],
   "source": [
    "totdf = conn.sql(\"\"\"SELECT * FROM UFIL_BIG\"\"\").df()\n",
    "totdf.head()"
   ]
  },
  {
   "cell_type": "code",
   "execution_count": 38,
   "id": "f0077b50",
   "metadata": {},
   "outputs": [],
   "source": [
    "# maxdict = dict(zip(totdf.RPTRbc, totdf.TBB))"
   ]
  },
  {
   "cell_type": "code",
   "execution_count": 39,
   "id": "1d83723c",
   "metadata": {},
   "outputs": [
    {
     "data": {
      "text/plain": [
       "'GATTTGCAAGGTAAATTCTTGGCTGCTCCATTGGAAGAGAATCCAAATTTGCCACAATCTGATGCTATGAACTCTTTGGAAGGATTTACTGCATTTGGTGGTGGTGCTTCTGCTTCTACT-TTTATCCTCGG-AAAAAATTACTTGG'"
      ]
     },
     "execution_count": 39,
     "metadata": {},
     "output_type": "execute_result"
    }
   ],
   "source": [
    "# maxdict['AAAAAATTACTTGG']"
   ]
  },
  {
   "cell_type": "code",
   "execution_count": 23,
   "id": "ec5b4f90",
   "metadata": {},
   "outputs": [
    {
     "data": {
      "text/html": [
       "<div>\n",
       "<style scoped>\n",
       "    .dataframe tbody tr th:only-of-type {\n",
       "        vertical-align: middle;\n",
       "    }\n",
       "\n",
       "    .dataframe tbody tr th {\n",
       "        vertical-align: top;\n",
       "    }\n",
       "\n",
       "    .dataframe thead th {\n",
       "        text-align: right;\n",
       "    }\n",
       "</style>\n",
       "<table border=\"1\" class=\"dataframe\">\n",
       "  <thead>\n",
       "    <tr style=\"text-align: right;\">\n",
       "      <th></th>\n",
       "      <th>Tile</th>\n",
       "      <th>ADbc</th>\n",
       "      <th>RPTRbc</th>\n",
       "      <th>TBB</th>\n",
       "    </tr>\n",
       "  </thead>\n",
       "  <tbody>\n",
       "    <tr>\n",
       "      <th>24150</th>\n",
       "      <td>TCTAATCATGTTGGTACTATTTCTCCACAAGATTTGTTGATTCAAG...</td>\n",
       "      <td>CCTCGCGCCCC</td>\n",
       "      <td>GACCCGCCGGGCAG</td>\n",
       "      <td>TCTAATCATGTTGGTACTATTTCTCCACAAGATTTGTTGATTCAAG...</td>\n",
       "    </tr>\n",
       "    <tr>\n",
       "      <th>26419</th>\n",
       "      <td>TCTAATCATGTTGGTACTATTTCTCCACAAGATTTGTTGATTCAAG...</td>\n",
       "      <td>AACCCCCGACC</td>\n",
       "      <td>GTTTTAATACCAGC</td>\n",
       "      <td>TCTAATCATGTTGGTACTATTTCTCCACAAGATTTGTTGATTCAAG...</td>\n",
       "    </tr>\n",
       "    <tr>\n",
       "      <th>32978</th>\n",
       "      <td>TCTAATCATGTTGGTACTATTTCTCCACAAGATTTGTTGATTCAAG...</td>\n",
       "      <td>CTCTCAGAGCC</td>\n",
       "      <td>ACGCTCTATAGCAG</td>\n",
       "      <td>TCTAATCATGTTGGTACTATTTCTCCACAAGATTTGTTGATTCAAG...</td>\n",
       "    </tr>\n",
       "    <tr>\n",
       "      <th>92123</th>\n",
       "      <td>TCTAATCATGTTGGTACTATTTCTCCACAAGATTTGTTGATTCAAG...</td>\n",
       "      <td>CAGGCCAAATT</td>\n",
       "      <td>TAATCAGGACATCT</td>\n",
       "      <td>TCTAATCATGTTGGTACTATTTCTCCACAAGATTTGTTGATTCAAG...</td>\n",
       "    </tr>\n",
       "    <tr>\n",
       "      <th>100712</th>\n",
       "      <td>TCTAATCATGTTGGTACTATTTCTCCACAAGATTTGTTGATTCAAG...</td>\n",
       "      <td>GTTGTTTTTAA</td>\n",
       "      <td>AAAAAATGGCGGGA</td>\n",
       "      <td>TCTAATCATGTTGGTACTATTTCTCCACAAGATTTGTTGATTCAAG...</td>\n",
       "    </tr>\n",
       "    <tr>\n",
       "      <th>...</th>\n",
       "      <td>...</td>\n",
       "      <td>...</td>\n",
       "      <td>...</td>\n",
       "      <td>...</td>\n",
       "    </tr>\n",
       "    <tr>\n",
       "      <th>12045326</th>\n",
       "      <td>TCTAATCATGTTGGTACTATTTCTCCACAAGATTTGTTGATTCAAG...</td>\n",
       "      <td>CTCCTGATACA</td>\n",
       "      <td>CTGTGCGGCCTTCC</td>\n",
       "      <td>TCTAATCATGTTGGTACTATTTCTCCACAAGATTTGTTGATTCAAG...</td>\n",
       "    </tr>\n",
       "    <tr>\n",
       "      <th>12065753</th>\n",
       "      <td>TCTAATCATGTTGGTACTATTTCTCCACAAGATTTGTTGATTCAAG...</td>\n",
       "      <td>GCTGCTAGATC</td>\n",
       "      <td>TTCTAGACAGTATT</td>\n",
       "      <td>TCTAATCATGTTGGTACTATTTCTCCACAAGATTTGTTGATTCAAG...</td>\n",
       "    </tr>\n",
       "    <tr>\n",
       "      <th>12079862</th>\n",
       "      <td>TCTAATCATGTTGGTACTATTTCTCCACAAGATTTGTTGATTCAAG...</td>\n",
       "      <td>TACTAACTATT</td>\n",
       "      <td>TAACACGACTCCAC</td>\n",
       "      <td>TCTAATCATGTTGGTACTATTTCTCCACAAGATTTGTTGATTCAAG...</td>\n",
       "    </tr>\n",
       "    <tr>\n",
       "      <th>12081149</th>\n",
       "      <td>TCTAATCATGTTGGTACTATTTCTCCACAAGATTTGTTGATTCAAG...</td>\n",
       "      <td>GATACGATTTG</td>\n",
       "      <td>ATCTCAGTATACCT</td>\n",
       "      <td>TCTAATCATGTTGGTACTATTTCTCCACAAGATTTGTTGATTCAAG...</td>\n",
       "    </tr>\n",
       "    <tr>\n",
       "      <th>12086420</th>\n",
       "      <td>TCTAATCATGTTGGTACTATTTCTCCACAAGATTTGTTGATTCAAG...</td>\n",
       "      <td>GTTGTTTGACC</td>\n",
       "      <td>TTTCGCTACCGTTA</td>\n",
       "      <td>TCTAATCATGTTGGTACTATTTCTCCACAAGATTTGTTGATTCAAG...</td>\n",
       "    </tr>\n",
       "  </tbody>\n",
       "</table>\n",
       "<p>728 rows × 4 columns</p>\n",
       "</div>"
      ],
      "text/plain": [
       "                                                       Tile         ADbc  \\\n",
       "24150     TCTAATCATGTTGGTACTATTTCTCCACAAGATTTGTTGATTCAAG...  CCTCGCGCCCC   \n",
       "26419     TCTAATCATGTTGGTACTATTTCTCCACAAGATTTGTTGATTCAAG...  AACCCCCGACC   \n",
       "32978     TCTAATCATGTTGGTACTATTTCTCCACAAGATTTGTTGATTCAAG...  CTCTCAGAGCC   \n",
       "92123     TCTAATCATGTTGGTACTATTTCTCCACAAGATTTGTTGATTCAAG...  CAGGCCAAATT   \n",
       "100712    TCTAATCATGTTGGTACTATTTCTCCACAAGATTTGTTGATTCAAG...  GTTGTTTTTAA   \n",
       "...                                                     ...          ...   \n",
       "12045326  TCTAATCATGTTGGTACTATTTCTCCACAAGATTTGTTGATTCAAG...  CTCCTGATACA   \n",
       "12065753  TCTAATCATGTTGGTACTATTTCTCCACAAGATTTGTTGATTCAAG...  GCTGCTAGATC   \n",
       "12079862  TCTAATCATGTTGGTACTATTTCTCCACAAGATTTGTTGATTCAAG...  TACTAACTATT   \n",
       "12081149  TCTAATCATGTTGGTACTATTTCTCCACAAGATTTGTTGATTCAAG...  GATACGATTTG   \n",
       "12086420  TCTAATCATGTTGGTACTATTTCTCCACAAGATTTGTTGATTCAAG...  GTTGTTTGACC   \n",
       "\n",
       "                  RPTRbc                                                TBB  \n",
       "24150     GACCCGCCGGGCAG  TCTAATCATGTTGGTACTATTTCTCCACAAGATTTGTTGATTCAAG...  \n",
       "26419     GTTTTAATACCAGC  TCTAATCATGTTGGTACTATTTCTCCACAAGATTTGTTGATTCAAG...  \n",
       "32978     ACGCTCTATAGCAG  TCTAATCATGTTGGTACTATTTCTCCACAAGATTTGTTGATTCAAG...  \n",
       "92123     TAATCAGGACATCT  TCTAATCATGTTGGTACTATTTCTCCACAAGATTTGTTGATTCAAG...  \n",
       "100712    AAAAAATGGCGGGA  TCTAATCATGTTGGTACTATTTCTCCACAAGATTTGTTGATTCAAG...  \n",
       "...                  ...                                                ...  \n",
       "12045326  CTGTGCGGCCTTCC  TCTAATCATGTTGGTACTATTTCTCCACAAGATTTGTTGATTCAAG...  \n",
       "12065753  TTCTAGACAGTATT  TCTAATCATGTTGGTACTATTTCTCCACAAGATTTGTTGATTCAAG...  \n",
       "12079862  TAACACGACTCCAC  TCTAATCATGTTGGTACTATTTCTCCACAAGATTTGTTGATTCAAG...  \n",
       "12081149  ATCTCAGTATACCT  TCTAATCATGTTGGTACTATTTCTCCACAAGATTTGTTGATTCAAG...  \n",
       "12086420  TTTCGCTACCGTTA  TCTAATCATGTTGGTACTATTTCTCCACAAGATTTGTTGATTCAAG...  \n",
       "\n",
       "[728 rows x 4 columns]"
      ]
     },
     "execution_count": 23,
     "metadata": {},
     "output_type": "execute_result"
    }
   ],
   "source": [
    "totdf[totdf['Tile'] == 'TCTAATCATGTTGGTACTATTTCTCCACAAGATTTGTTGATTCAAGATCCATATATGTCTGCTCCAAATTCTACTGCTTTGACTGCTTTGACTTCTCCATCTTTGTATGAATCTCCAGAT']"
   ]
  },
  {
   "cell_type": "code",
   "execution_count": null,
   "id": "7a4f831e",
   "metadata": {},
   "outputs": [],
   "source": []
  },
  {
   "cell_type": "code",
   "execution_count": null,
   "id": "082a635e",
   "metadata": {},
   "outputs": [],
   "source": []
  },
  {
   "cell_type": "code",
   "execution_count": 3,
   "id": "33e52714",
   "metadata": {},
   "outputs": [],
   "source": [
    "# conn.sql(\"\"\"COPY UFIL_BIG TO 'A10TBB_FIL_UNION.parquet' (FORMAT PARQUET);\"\"\")"
   ]
  },
  {
   "cell_type": "code",
   "execution_count": null,
   "id": "849a490d",
   "metadata": {},
   "outputs": [],
   "source": []
  }
 ],
 "metadata": {
  "kernelspec": {
   "display_name": "biopython",
   "language": "python",
   "name": "biopython"
  },
  "language_info": {
   "codemirror_mode": {
    "name": "ipython",
    "version": 3
   },
   "file_extension": ".py",
   "mimetype": "text/x-python",
   "name": "python",
   "nbconvert_exporter": "python",
   "pygments_lexer": "ipython3",
   "version": "3.11.4"
  }
 },
 "nbformat": 4,
 "nbformat_minor": 5
}
