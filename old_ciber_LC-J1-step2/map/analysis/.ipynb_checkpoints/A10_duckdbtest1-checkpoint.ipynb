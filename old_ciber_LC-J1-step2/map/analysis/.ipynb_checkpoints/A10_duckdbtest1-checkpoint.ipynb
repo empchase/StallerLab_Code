{
 "cells": [
  {
   "cell_type": "code",
   "execution_count": 1,
   "id": "94132150",
   "metadata": {},
   "outputs": [],
   "source": [
    "import pandas as pd\n",
    "import glob\n",
    "import time\n",
    "import duckdb\n",
    "\n",
    "conn = duckdb.connect('mydb.db') # create an in-memory database"
   ]
  },
  {
   "cell_type": "code",
   "execution_count": 2,
   "id": "bfa3bfaa",
   "metadata": {},
   "outputs": [
    {
     "data": {
      "text/plain": [
       "'/global/scratch/users/empchase/A10_sequencing/analysis'"
      ]
     },
     "execution_count": 2,
     "metadata": {},
     "output_type": "execute_result"
    }
   ],
   "source": [
    "pwd"
   ]
  },
  {
   "cell_type": "code",
   "execution_count": 3,
   "id": "9f51ffe3",
   "metadata": {},
   "outputs": [
    {
     "data": {
      "text/plain": [
       "<duckdb.DuckDBPyConnection at 0x2adaa60c2830>"
      ]
     },
     "execution_count": 3,
     "metadata": {},
     "output_type": "execute_result"
    }
   ],
   "source": [
    "# Seed it\n",
    "# conn = duckdb.connect(database=settings.db_path, read_only=False)\n",
    "conn.execute(\"drop view if exists DEEP1\")\n",
    "conn.execute(\"create view DEEP1 as select * from 'A10_1_tbcmapDEEP.csv' limit 10\")"
   ]
  },
  {
   "cell_type": "code",
   "execution_count": 3,
   "id": "4e23239e",
   "metadata": {},
   "outputs": [],
   "source": [
    "# deep1 = conn.execute(\"\"\"\n",
    "# SELECT *\n",
    "# FROM read_csv_auto('A10_1_tbcmapDEEP.csv', header=True)\"\"\").df() #takes 8 min"
   ]
  },
  {
   "cell_type": "code",
   "execution_count": null,
   "id": "7301d564",
   "metadata": {},
   "outputs": [],
   "source": [
    "# deep1 = conn.execute(\"\"\"\n",
    "# SELECT Tiles, \"AD BCs\", \"RPTR BCs\" \n",
    "# FROM read_csv_auto('A10_1_tbcmapDEEP.csv', header=True)\"\"\").df() #takes 8 min"
   ]
  },
  {
   "cell_type": "code",
   "execution_count": 4,
   "id": "866fa105",
   "metadata": {},
   "outputs": [
    {
     "data": {
      "text/plain": [
       "<duckdb.DuckDBPyConnection at 0x2b2a938c6f30>"
      ]
     },
     "execution_count": 4,
     "metadata": {},
     "output_type": "execute_result"
    }
   ],
   "source": [
    "# conn.register(\"deep1_view\", deep1)"
   ]
  },
  {
   "cell_type": "code",
   "execution_count": 4,
   "id": "b11950f2",
   "metadata": {},
   "outputs": [
    {
     "data": {
      "text/html": [
       "<div>\n",
       "<style scoped>\n",
       "    .dataframe tbody tr th:only-of-type {\n",
       "        vertical-align: middle;\n",
       "    }\n",
       "\n",
       "    .dataframe tbody tr th {\n",
       "        vertical-align: top;\n",
       "    }\n",
       "\n",
       "    .dataframe thead th {\n",
       "        text-align: right;\n",
       "    }\n",
       "</style>\n",
       "<table border=\"1\" class=\"dataframe\">\n",
       "  <thead>\n",
       "    <tr style=\"text-align: right;\">\n",
       "      <th></th>\n",
       "      <th>column_name</th>\n",
       "      <th>column_type</th>\n",
       "      <th>null</th>\n",
       "      <th>key</th>\n",
       "      <th>default</th>\n",
       "      <th>extra</th>\n",
       "    </tr>\n",
       "  </thead>\n",
       "  <tbody>\n",
       "    <tr>\n",
       "      <th>0</th>\n",
       "      <td>column0</td>\n",
       "      <td>BIGINT</td>\n",
       "      <td>YES</td>\n",
       "      <td>NaN</td>\n",
       "      <td>NaN</td>\n",
       "      <td>NaN</td>\n",
       "    </tr>\n",
       "    <tr>\n",
       "      <th>1</th>\n",
       "      <td>column1</td>\n",
       "      <td>VARCHAR</td>\n",
       "      <td>YES</td>\n",
       "      <td>NaN</td>\n",
       "      <td>NaN</td>\n",
       "      <td>NaN</td>\n",
       "    </tr>\n",
       "    <tr>\n",
       "      <th>2</th>\n",
       "      <td>column2</td>\n",
       "      <td>VARCHAR</td>\n",
       "      <td>YES</td>\n",
       "      <td>NaN</td>\n",
       "      <td>NaN</td>\n",
       "      <td>NaN</td>\n",
       "    </tr>\n",
       "    <tr>\n",
       "      <th>3</th>\n",
       "      <td>column3</td>\n",
       "      <td>VARCHAR</td>\n",
       "      <td>YES</td>\n",
       "      <td>NaN</td>\n",
       "      <td>NaN</td>\n",
       "      <td>NaN</td>\n",
       "    </tr>\n",
       "    <tr>\n",
       "      <th>4</th>\n",
       "      <td>column4</td>\n",
       "      <td>VARCHAR</td>\n",
       "      <td>YES</td>\n",
       "      <td>NaN</td>\n",
       "      <td>NaN</td>\n",
       "      <td>NaN</td>\n",
       "    </tr>\n",
       "    <tr>\n",
       "      <th>5</th>\n",
       "      <td>column5</td>\n",
       "      <td>VARCHAR</td>\n",
       "      <td>YES</td>\n",
       "      <td>NaN</td>\n",
       "      <td>NaN</td>\n",
       "      <td>NaN</td>\n",
       "    </tr>\n",
       "  </tbody>\n",
       "</table>\n",
       "</div>"
      ],
      "text/plain": [
       "  column_name column_type null  key default  extra\n",
       "0     column0      BIGINT  YES  NaN     NaN    NaN\n",
       "1     column1     VARCHAR  YES  NaN     NaN    NaN\n",
       "2     column2     VARCHAR  YES  NaN     NaN    NaN\n",
       "3     column3     VARCHAR  YES  NaN     NaN    NaN\n",
       "4     column4     VARCHAR  YES  NaN     NaN    NaN\n",
       "5     column5     VARCHAR  YES  NaN     NaN    NaN"
      ]
     },
     "execution_count": 4,
     "metadata": {},
     "output_type": "execute_result"
    }
   ],
   "source": [
    "conn.execute(\"DESCRIBE DEEP1\").df()"
   ]
  },
  {
   "cell_type": "code",
   "execution_count": null,
   "id": "92750e6a",
   "metadata": {},
   "outputs": [],
   "source": [
    "deep2 = conn.execute(\"\"\"\n",
    "SELECT *\n",
    "FROM read_csv_auto('A10_2_tbcmapDEEP.csv', header=True)\"\"\").df()"
   ]
  },
  {
   "cell_type": "code",
   "execution_count": null,
   "id": "3346c8da",
   "metadata": {},
   "outputs": [],
   "source": []
  }
 ],
 "metadata": {
  "kernelspec": {
   "display_name": "biopython",
   "language": "python",
   "name": "biopython"
  },
  "language_info": {
   "codemirror_mode": {
    "name": "ipython",
    "version": 3
   },
   "file_extension": ".py",
   "mimetype": "text/x-python",
   "name": "python",
   "nbconvert_exporter": "python",
   "pygments_lexer": "ipython3",
   "version": "3.11.4"
  }
 },
 "nbformat": 4,
 "nbformat_minor": 5
}
