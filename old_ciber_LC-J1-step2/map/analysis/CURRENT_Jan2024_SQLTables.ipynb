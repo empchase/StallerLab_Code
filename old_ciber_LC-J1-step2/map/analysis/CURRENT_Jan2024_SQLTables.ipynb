{
 "cells": [
  {
   "cell_type": "code",
   "execution_count": 1,
   "id": "dd11c0e5",
   "metadata": {},
   "outputs": [],
   "source": [
    "import pandas as pd\n",
    "import matplotlib.pyplot as plt\n",
    "import seaborn as sns\n",
    "import numpy as np\n",
    "import duckdb\n",
    "import csv\n",
    "\n",
    "conn = duckdb.connect('mydb.db') # create an in-memory database"
   ]
  },
  {
   "cell_type": "code",
   "execution_count": 2,
   "id": "0551054e",
   "metadata": {
    "scrolled": true
   },
   "outputs": [
    {
     "data": {
      "text/plain": [
       "┌──────────┬─────────┬───────────────┬───────────────────────────┬──────────────────────────────────────┬───────────┐\n",
       "│ database │ schema  │     name      │       column_names        │             column_types             │ temporary │\n",
       "│ varchar  │ varchar │    varchar    │         varchar[]         │              varchar[]               │  boolean  │\n",
       "├──────────┼─────────┼───────────────┼───────────────────────────┼──────────────────────────────────────┼───────────┤\n",
       "│ mydb     │ main    │ DEEP1         │ [Tile, ADbc, RPTRbc, TBB] │ [VARCHAR, VARCHAR, VARCHAR, VARCHAR] │ false     │\n",
       "│ mydb     │ main    │ DEEP1UNIQ     │ [Tile, ADbc, RPTRbc, TBB] │ [VARCHAR, VARCHAR, VARCHAR, VARCHAR] │ false     │\n",
       "│ mydb     │ main    │ DEEP2         │ [Tile, ADbc, RPTRbc, TBB] │ [VARCHAR, VARCHAR, VARCHAR, VARCHAR] │ false     │\n",
       "│ mydb     │ main    │ DEEP2UNIQ     │ [Tile, ADbc, RPTRbc, TBB] │ [VARCHAR, VARCHAR, VARCHAR, VARCHAR] │ false     │\n",
       "│ mydb     │ main    │ TBB_U         │ [TBB]                     │ [VARCHAR]                            │ false     │\n",
       "│ mydb     │ main    │ UDEEP         │ [Tile, ADbc, RPTRbc, TBB] │ [VARCHAR, VARCHAR, VARCHAR, VARCHAR] │ false     │\n",
       "│ mydb     │ main    │ UFIL_BIG      │ [Tile, ADbc, RPTRbc, TBB] │ [VARCHAR, VARCHAR, VARCHAR, VARCHAR] │ false     │\n",
       "│ mydb     │ main    │ UNIONFIL      │ [count(TBB), RPTRbc]      │ [BIGINT, VARCHAR]                    │ false     │\n",
       "│ mydb     │ main    │ UNIONFIL_AD   │ [count(TBB), ADbc]        │ [BIGINT, VARCHAR]                    │ false     │\n",
       "│ mydb     │ main    │ UNION_CURRENT │ [TBB, RPTRbc]             │ [VARCHAR, VARCHAR]                   │ false     │\n",
       "├──────────┴─────────┴───────────────┴───────────────────────────┴──────────────────────────────────────┴───────────┤\n",
       "│ 10 rows                                                                                                 6 columns │\n",
       "└───────────────────────────────────────────────────────────────────────────────────────────────────────────────────┘"
      ]
     },
     "execution_count": 2,
     "metadata": {},
     "output_type": "execute_result"
    }
   ],
   "source": [
    "conn.sql(\"SHOW ALL TABLES\")"
   ]
  },
  {
   "cell_type": "code",
   "execution_count": 3,
   "id": "7825797c",
   "metadata": {},
   "outputs": [
    {
     "data": {
      "text/html": [
       "<div>\n",
       "<style scoped>\n",
       "    .dataframe tbody tr th:only-of-type {\n",
       "        vertical-align: middle;\n",
       "    }\n",
       "\n",
       "    .dataframe tbody tr th {\n",
       "        vertical-align: top;\n",
       "    }\n",
       "\n",
       "    .dataframe thead th {\n",
       "        text-align: right;\n",
       "    }\n",
       "</style>\n",
       "<table border=\"1\" class=\"dataframe\">\n",
       "  <thead>\n",
       "    <tr style=\"text-align: right;\">\n",
       "      <th></th>\n",
       "      <th>count(Tile)</th>\n",
       "      <th>TBB</th>\n",
       "    </tr>\n",
       "  </thead>\n",
       "  <tbody>\n",
       "    <tr>\n",
       "      <th>0</th>\n",
       "      <td>66</td>\n",
       "      <td>GACTTTGATGGTGCTGCTGATCCATGGTTTCCATTGTTTCCACAAG...</td>\n",
       "    </tr>\n",
       "    <tr>\n",
       "      <th>1</th>\n",
       "      <td>60</td>\n",
       "      <td>AGACCAGCTCAAGCTACTACTACTGCTGAACATTTGAATGTTGCTT...</td>\n",
       "    </tr>\n",
       "    <tr>\n",
       "      <th>2</th>\n",
       "      <td>56</td>\n",
       "      <td>CAGAAACAGAAATCTATCTTGAGACCATCTGCTAGATTGAGAGGTG...</td>\n",
       "    </tr>\n",
       "    <tr>\n",
       "      <th>3</th>\n",
       "      <td>55</td>\n",
       "      <td>GCTCAAGCTCAAGTTCAAACTCAACCACAAACTCAAACTCAAACTG...</td>\n",
       "    </tr>\n",
       "    <tr>\n",
       "      <th>4</th>\n",
       "      <td>54</td>\n",
       "      <td>AATTCTGTTGCTCCAGATACTAGAAGACATTCTGTTCAACATTTGA...</td>\n",
       "    </tr>\n",
       "  </tbody>\n",
       "</table>\n",
       "</div>"
      ],
      "text/plain": [
       "   count(Tile)                                                TBB\n",
       "0           66  GACTTTGATGGTGCTGCTGATCCATGGTTTCCATTGTTTCCACAAG...\n",
       "1           60  AGACCAGCTCAAGCTACTACTACTGCTGAACATTTGAATGTTGCTT...\n",
       "2           56  CAGAAACAGAAATCTATCTTGAGACCATCTGCTAGATTGAGAGGTG...\n",
       "3           55  GCTCAAGCTCAAGTTCAAACTCAACCACAAACTCAAACTCAAACTG...\n",
       "4           54  AATTCTGTTGCTCCAGATACTAGAAGACATTCTGTTCAACATTTGA..."
      ]
     },
     "execution_count": 3,
     "metadata": {},
     "output_type": "execute_result"
    }
   ],
   "source": [
    "a10_1 = conn.sql(\n",
    "    \"\"\"SELECT COUNT(Tile), TBB\n",
    "    FROM DEEP1\n",
    "    GROUP BY TBB\n",
    "    ORDER BY COUNT(Tile) DESC;\"\"\").df()\n",
    "a10_1.head()"
   ]
  },
  {
   "cell_type": "code",
   "execution_count": 4,
   "id": "bbb969b3",
   "metadata": {},
   "outputs": [
    {
     "data": {
      "text/html": [
       "<div>\n",
       "<style scoped>\n",
       "    .dataframe tbody tr th:only-of-type {\n",
       "        vertical-align: middle;\n",
       "    }\n",
       "\n",
       "    .dataframe tbody tr th {\n",
       "        vertical-align: top;\n",
       "    }\n",
       "\n",
       "    .dataframe thead th {\n",
       "        text-align: right;\n",
       "    }\n",
       "</style>\n",
       "<table border=\"1\" class=\"dataframe\">\n",
       "  <thead>\n",
       "    <tr style=\"text-align: right;\">\n",
       "      <th></th>\n",
       "      <th>count(Tile)</th>\n",
       "      <th>TBB</th>\n",
       "    </tr>\n",
       "  </thead>\n",
       "  <tbody>\n",
       "    <tr>\n",
       "      <th>0</th>\n",
       "      <td>54</td>\n",
       "      <td>TTCTCTCATGATCCATCTCCAATGTTGTCTGATGACTTTGGTTCTG...</td>\n",
       "    </tr>\n",
       "    <tr>\n",
       "      <th>1</th>\n",
       "      <td>52</td>\n",
       "      <td>TCTTTGGCTACTTCTGCTATTGAAGTTCCAACTGAAGATTCTACTG...</td>\n",
       "    </tr>\n",
       "    <tr>\n",
       "      <th>2</th>\n",
       "      <td>51</td>\n",
       "      <td>GAATTTGGTCCAATCTTGTCTTTGGATGATGGTGCTACTGCTGGTG...</td>\n",
       "    </tr>\n",
       "    <tr>\n",
       "      <th>3</th>\n",
       "      <td>50</td>\n",
       "      <td>TTGTTTGATAGATCTCCATCTGCTAGATCTGCTCCAAATTTGTCTT...</td>\n",
       "    </tr>\n",
       "    <tr>\n",
       "      <th>4</th>\n",
       "      <td>48</td>\n",
       "      <td>CAGAAACAGAAATCTATCTTGAGACCATCTGCTAGATTGAGAGGTG...</td>\n",
       "    </tr>\n",
       "  </tbody>\n",
       "</table>\n",
       "</div>"
      ],
      "text/plain": [
       "   count(Tile)                                                TBB\n",
       "0           54  TTCTCTCATGATCCATCTCCAATGTTGTCTGATGACTTTGGTTCTG...\n",
       "1           52  TCTTTGGCTACTTCTGCTATTGAAGTTCCAACTGAAGATTCTACTG...\n",
       "2           51  GAATTTGGTCCAATCTTGTCTTTGGATGATGGTGCTACTGCTGGTG...\n",
       "3           50  TTGTTTGATAGATCTCCATCTGCTAGATCTGCTCCAAATTTGTCTT...\n",
       "4           48  CAGAAACAGAAATCTATCTTGAGACCATCTGCTAGATTGAGAGGTG..."
      ]
     },
     "execution_count": 4,
     "metadata": {},
     "output_type": "execute_result"
    }
   ],
   "source": [
    "a10_2 = conn.sql(\n",
    "    \"\"\"SELECT COUNT(Tile), TBB\n",
    "    FROM DEEP2\n",
    "    GROUP BY TBB\n",
    "    ORDER BY COUNT(Tile) DESC;\"\"\").df()\n",
    "a10_2.head()"
   ]
  },
  {
   "cell_type": "code",
   "execution_count": 5,
   "id": "0762a1a5",
   "metadata": {},
   "outputs": [
    {
     "data": {
      "text/html": [
       "<div>\n",
       "<style scoped>\n",
       "    .dataframe tbody tr th:only-of-type {\n",
       "        vertical-align: middle;\n",
       "    }\n",
       "\n",
       "    .dataframe tbody tr th {\n",
       "        vertical-align: top;\n",
       "    }\n",
       "\n",
       "    .dataframe thead th {\n",
       "        text-align: right;\n",
       "    }\n",
       "</style>\n",
       "<table border=\"1\" class=\"dataframe\">\n",
       "  <thead>\n",
       "    <tr style=\"text-align: right;\">\n",
       "      <th></th>\n",
       "      <th>count(Tile)_x</th>\n",
       "      <th>TBB</th>\n",
       "      <th>count(Tile)_y</th>\n",
       "    </tr>\n",
       "  </thead>\n",
       "  <tbody>\n",
       "    <tr>\n",
       "      <th>0</th>\n",
       "      <td>66.0</td>\n",
       "      <td>GACTTTGATGGTGCTGCTGATCCATGGTTTCCATTGTTTCCACAAG...</td>\n",
       "      <td>32.0</td>\n",
       "    </tr>\n",
       "    <tr>\n",
       "      <th>1</th>\n",
       "      <td>60.0</td>\n",
       "      <td>AGACCAGCTCAAGCTACTACTACTGCTGAACATTTGAATGTTGCTT...</td>\n",
       "      <td>31.0</td>\n",
       "    </tr>\n",
       "    <tr>\n",
       "      <th>2</th>\n",
       "      <td>56.0</td>\n",
       "      <td>CAGAAACAGAAATCTATCTTGAGACCATCTGCTAGATTGAGAGGTG...</td>\n",
       "      <td>48.0</td>\n",
       "    </tr>\n",
       "    <tr>\n",
       "      <th>3</th>\n",
       "      <td>55.0</td>\n",
       "      <td>GCTCAAGCTCAAGTTCAAACTCAACCACAAACTCAAACTCAAACTG...</td>\n",
       "      <td>33.0</td>\n",
       "    </tr>\n",
       "    <tr>\n",
       "      <th>4</th>\n",
       "      <td>54.0</td>\n",
       "      <td>AATTCTGTTGCTCCAGATACTAGAAGACATTCTGTTCAACATTTGA...</td>\n",
       "      <td>19.0</td>\n",
       "    </tr>\n",
       "  </tbody>\n",
       "</table>\n",
       "</div>"
      ],
      "text/plain": [
       "   count(Tile)_x                                                TBB  \\\n",
       "0           66.0  GACTTTGATGGTGCTGCTGATCCATGGTTTCCATTGTTTCCACAAG...   \n",
       "1           60.0  AGACCAGCTCAAGCTACTACTACTGCTGAACATTTGAATGTTGCTT...   \n",
       "2           56.0  CAGAAACAGAAATCTATCTTGAGACCATCTGCTAGATTGAGAGGTG...   \n",
       "3           55.0  GCTCAAGCTCAAGTTCAAACTCAACCACAAACTCAAACTCAAACTG...   \n",
       "4           54.0  AATTCTGTTGCTCCAGATACTAGAAGACATTCTGTTCAACATTTGA...   \n",
       "\n",
       "   count(Tile)_y  \n",
       "0           32.0  \n",
       "1           31.0  \n",
       "2           48.0  \n",
       "3           33.0  \n",
       "4           19.0  "
      ]
     },
     "execution_count": 5,
     "metadata": {},
     "output_type": "execute_result"
    }
   ],
   "source": [
    "union = pd.merge(a10_1, a10_2, how='outer', on=\"TBB\")\n",
    "union.head()"
   ]
  },
  {
   "cell_type": "code",
   "execution_count": 6,
   "id": "022d47fe",
   "metadata": {
    "scrolled": true
   },
   "outputs": [],
   "source": [
    "union['count(Tile)_x'] = union['count(Tile)_x'].fillna(0)\n",
    "union['count(Tile)_y'] = union['count(Tile)_y'].fillna(0)"
   ]
  },
  {
   "cell_type": "code",
   "execution_count": 27,
   "id": "98ebe198",
   "metadata": {},
   "outputs": [
    {
     "data": {
      "image/png": "[encoded data removed]",
      "text/plain": [
       "<Figure size 640x480 with 1 Axes>"
      ]
     },
     "metadata": {},
     "output_type": "display_data"
    }
   ],
   "source": [
    "# plot tbb counts on histogram\n",
    "\n",
    "plt.figure()\n",
    "plt.hist(a10_1['count(Tile)'],  bins=500)\n",
    "plt.xlabel('Coverage')\n",
    "plt.ylabel('Counts')\n",
    "plt.yscale('log')\n",
    "# plt.rcParams['axes.linewidth'] = 1.0\n",
    "# plt.xlim([0, 10])\n",
    "# plt.savefig('A10tilecoverage.png', dpi= 300, format='png')\n",
    "plt.show()"
   ]
  },
  {
   "cell_type": "code",
   "execution_count": 28,
   "id": "a5991a1a",
   "metadata": {},
   "outputs": [
    {
     "data": {
      "image/png": "[encoded data removed]",
      "text/plain": [
       "<Figure size 640x480 with 1 Axes>"
      ]
     },
     "metadata": {},
     "output_type": "display_data"
    }
   ],
   "source": [
    "# plot tbb counts on histogram\n",
    "\n",
    "plt.figure()\n",
    "plt.hist(a10_2['count(Tile)'],  bins=500)\n",
    "plt.xlabel('Coverage')\n",
    "plt.ylabel('Counts')\n",
    "plt.yscale('log')\n",
    "# plt.rcParams['axes.linewidth'] = 1.0\n",
    "# plt.xlim([0, 10])\n",
    "# plt.savefig('A10tilecoverage.png', dpi= 300, format='png')\n",
    "plt.show()"
   ]
  },
  {
   "cell_type": "code",
   "execution_count": 7,
   "id": "75a4dd46",
   "metadata": {
    "scrolled": true
   },
   "outputs": [
    {
     "data": {
      "text/html": [
       "<div>\n",
       "<style scoped>\n",
       "    .dataframe tbody tr th:only-of-type {\n",
       "        vertical-align: middle;\n",
       "    }\n",
       "\n",
       "    .dataframe tbody tr th {\n",
       "        vertical-align: top;\n",
       "    }\n",
       "\n",
       "    .dataframe thead th {\n",
       "        text-align: right;\n",
       "    }\n",
       "</style>\n",
       "<table border=\"1\" class=\"dataframe\">\n",
       "  <thead>\n",
       "    <tr style=\"text-align: right;\">\n",
       "      <th></th>\n",
       "      <th>count(Tile)_x</th>\n",
       "      <th>TBB</th>\n",
       "      <th>count(Tile)_y</th>\n",
       "      <th>totcount</th>\n",
       "    </tr>\n",
       "  </thead>\n",
       "  <tbody>\n",
       "    <tr>\n",
       "      <th>0</th>\n",
       "      <td>66.0</td>\n",
       "      <td>GACTTTGATGGTGCTGCTGATCCATGGTTTCCATTGTTTCCACAAG...</td>\n",
       "      <td>32.0</td>\n",
       "      <td>98.0</td>\n",
       "    </tr>\n",
       "    <tr>\n",
       "      <th>1</th>\n",
       "      <td>60.0</td>\n",
       "      <td>AGACCAGCTCAAGCTACTACTACTGCTGAACATTTGAATGTTGCTT...</td>\n",
       "      <td>31.0</td>\n",
       "      <td>91.0</td>\n",
       "    </tr>\n",
       "    <tr>\n",
       "      <th>2</th>\n",
       "      <td>56.0</td>\n",
       "      <td>CAGAAACAGAAATCTATCTTGAGACCATCTGCTAGATTGAGAGGTG...</td>\n",
       "      <td>48.0</td>\n",
       "      <td>104.0</td>\n",
       "    </tr>\n",
       "    <tr>\n",
       "      <th>3</th>\n",
       "      <td>55.0</td>\n",
       "      <td>GCTCAAGCTCAAGTTCAAACTCAACCACAAACTCAAACTCAAACTG...</td>\n",
       "      <td>33.0</td>\n",
       "      <td>88.0</td>\n",
       "    </tr>\n",
       "    <tr>\n",
       "      <th>4</th>\n",
       "      <td>54.0</td>\n",
       "      <td>AATTCTGTTGCTCCAGATACTAGAAGACATTCTGTTCAACATTTGA...</td>\n",
       "      <td>19.0</td>\n",
       "      <td>73.0</td>\n",
       "    </tr>\n",
       "  </tbody>\n",
       "</table>\n",
       "</div>"
      ],
      "text/plain": [
       "   count(Tile)_x                                                TBB  \\\n",
       "0           66.0  GACTTTGATGGTGCTGCTGATCCATGGTTTCCATTGTTTCCACAAG...   \n",
       "1           60.0  AGACCAGCTCAAGCTACTACTACTGCTGAACATTTGAATGTTGCTT...   \n",
       "2           56.0  CAGAAACAGAAATCTATCTTGAGACCATCTGCTAGATTGAGAGGTG...   \n",
       "3           55.0  GCTCAAGCTCAAGTTCAAACTCAACCACAAACTCAAACTCAAACTG...   \n",
       "4           54.0  AATTCTGTTGCTCCAGATACTAGAAGACATTCTGTTCAACATTTGA...   \n",
       "\n",
       "   count(Tile)_y  totcount  \n",
       "0           32.0      98.0  \n",
       "1           31.0      91.0  \n",
       "2           48.0     104.0  \n",
       "3           33.0      88.0  \n",
       "4           19.0      73.0  "
      ]
     },
     "execution_count": 7,
     "metadata": {},
     "output_type": "execute_result"
    }
   ],
   "source": [
    "union['totcount'] = union['count(Tile)_x']+union['count(Tile)_y']\n",
    "union.head()"
   ]
  },
  {
   "cell_type": "code",
   "execution_count": 30,
   "id": "8d683b53",
   "metadata": {},
   "outputs": [
    {
     "data": {
      "image/png": "[encoded data removed]",
      "text/plain": [
       "<Figure size 640x480 with 1 Axes>"
      ]
     },
     "metadata": {},
     "output_type": "display_data"
    }
   ],
   "source": [
    "# plot tbb counts on histogram\n",
    "\n",
    "plt.figure()\n",
    "plt.hist(union['totcount'],  bins=500)\n",
    "plt.xlabel('Coverage')\n",
    "plt.ylabel('Counts')\n",
    "plt.yscale('log')\n",
    "# plt.rcParams['axes.linewidth'] = 1.0\n",
    "# plt.xlim([0, 10])\n",
    "# plt.savefig('A10tilecoverage.png', dpi= 300, format='png')\n",
    "plt.show()"
   ]
  },
  {
   "cell_type": "code",
   "execution_count": 8,
   "id": "3fb45ca5",
   "metadata": {},
   "outputs": [
    {
     "name": "stdout",
     "output_type": "stream",
     "text": [
      "(28241827, 4) (19930000, 4)\n"
     ]
    }
   ],
   "source": [
    "union_ns = union[union['totcount'] != 1]\n",
    "\n",
    "print(union.shape, union_ns.shape)"
   ]
  },
  {
   "cell_type": "code",
   "execution_count": 9,
   "id": "b256a623",
   "metadata": {},
   "outputs": [
    {
     "data": {
      "text/html": [
       "<div>\n",
       "<style scoped>\n",
       "    .dataframe tbody tr th:only-of-type {\n",
       "        vertical-align: middle;\n",
       "    }\n",
       "\n",
       "    .dataframe tbody tr th {\n",
       "        vertical-align: top;\n",
       "    }\n",
       "\n",
       "    .dataframe thead th {\n",
       "        text-align: right;\n",
       "    }\n",
       "</style>\n",
       "<table border=\"1\" class=\"dataframe\">\n",
       "  <thead>\n",
       "    <tr style=\"text-align: right;\">\n",
       "      <th></th>\n",
       "      <th>count(Tile)_x</th>\n",
       "      <th>count(Tile)_y</th>\n",
       "      <th>totcount</th>\n",
       "    </tr>\n",
       "  </thead>\n",
       "  <tbody>\n",
       "    <tr>\n",
       "      <th>count</th>\n",
       "      <td>2.824183e+07</td>\n",
       "      <td>2.824183e+07</td>\n",
       "      <td>2.824183e+07</td>\n",
       "    </tr>\n",
       "    <tr>\n",
       "      <th>mean</th>\n",
       "      <td>2.778520e+00</td>\n",
       "      <td>2.503721e+00</td>\n",
       "      <td>5.282241e+00</td>\n",
       "    </tr>\n",
       "    <tr>\n",
       "      <th>std</th>\n",
       "      <td>3.305569e+00</td>\n",
       "      <td>2.693540e+00</td>\n",
       "      <td>5.196961e+00</td>\n",
       "    </tr>\n",
       "    <tr>\n",
       "      <th>min</th>\n",
       "      <td>0.000000e+00</td>\n",
       "      <td>0.000000e+00</td>\n",
       "      <td>1.000000e+00</td>\n",
       "    </tr>\n",
       "    <tr>\n",
       "      <th>25%</th>\n",
       "      <td>0.000000e+00</td>\n",
       "      <td>1.000000e+00</td>\n",
       "      <td>1.000000e+00</td>\n",
       "    </tr>\n",
       "    <tr>\n",
       "      <th>50%</th>\n",
       "      <td>2.000000e+00</td>\n",
       "      <td>2.000000e+00</td>\n",
       "      <td>3.000000e+00</td>\n",
       "    </tr>\n",
       "    <tr>\n",
       "      <th>75%</th>\n",
       "      <td>4.000000e+00</td>\n",
       "      <td>4.000000e+00</td>\n",
       "      <td>7.000000e+00</td>\n",
       "    </tr>\n",
       "    <tr>\n",
       "      <th>max</th>\n",
       "      <td>6.600000e+01</td>\n",
       "      <td>5.400000e+01</td>\n",
       "      <td>1.040000e+02</td>\n",
       "    </tr>\n",
       "  </tbody>\n",
       "</table>\n",
       "</div>"
      ],
      "text/plain": [
       "       count(Tile)_x  count(Tile)_y      totcount\n",
       "count   2.824183e+07   2.824183e+07  2.824183e+07\n",
       "mean    2.778520e+00   2.503721e+00  5.282241e+00\n",
       "std     3.305569e+00   2.693540e+00  5.196961e+00\n",
       "min     0.000000e+00   0.000000e+00  1.000000e+00\n",
       "25%     0.000000e+00   1.000000e+00  1.000000e+00\n",
       "50%     2.000000e+00   2.000000e+00  3.000000e+00\n",
       "75%     4.000000e+00   4.000000e+00  7.000000e+00\n",
       "max     6.600000e+01   5.400000e+01  1.040000e+02"
      ]
     },
     "execution_count": 9,
     "metadata": {},
     "output_type": "execute_result"
    }
   ],
   "source": [
    "union.describe()"
   ]
  },
  {
   "cell_type": "code",
   "execution_count": 11,
   "id": "0846cc0e",
   "metadata": {},
   "outputs": [
    {
     "name": "stdout",
     "output_type": "stream",
     "text": [
      "      count(Tile)_x  count(Tile)_y  totcount\n",
      "0.50            2.0            2.0       3.0\n",
      "0.95            9.0            8.0      16.0\n"
     ]
    }
   ],
   "source": [
    "print(union.quantile([0.5, 0.95], numeric_only=True))"
   ]
  },
  {
   "cell_type": "code",
   "execution_count": 12,
   "id": "4295040c",
   "metadata": {},
   "outputs": [
    {
     "data": {
      "text/html": [
       "<div>\n",
       "<style scoped>\n",
       "    .dataframe tbody tr th:only-of-type {\n",
       "        vertical-align: middle;\n",
       "    }\n",
       "\n",
       "    .dataframe tbody tr th {\n",
       "        vertical-align: top;\n",
       "    }\n",
       "\n",
       "    .dataframe thead th {\n",
       "        text-align: right;\n",
       "    }\n",
       "</style>\n",
       "<table border=\"1\" class=\"dataframe\">\n",
       "  <thead>\n",
       "    <tr style=\"text-align: right;\">\n",
       "      <th></th>\n",
       "      <th>count(Tile)_x</th>\n",
       "      <th>count(Tile)_y</th>\n",
       "      <th>totcount</th>\n",
       "    </tr>\n",
       "  </thead>\n",
       "  <tbody>\n",
       "    <tr>\n",
       "      <th>count</th>\n",
       "      <td>1.993000e+07</td>\n",
       "      <td>1.993000e+07</td>\n",
       "      <td>1.993000e+07</td>\n",
       "    </tr>\n",
       "    <tr>\n",
       "      <th>mean</th>\n",
       "      <td>3.769920e+00</td>\n",
       "      <td>3.298234e+00</td>\n",
       "      <td>7.068154e+00</td>\n",
       "    </tr>\n",
       "    <tr>\n",
       "      <th>std</th>\n",
       "      <td>3.470448e+00</td>\n",
       "      <td>2.834760e+00</td>\n",
       "      <td>5.237852e+00</td>\n",
       "    </tr>\n",
       "    <tr>\n",
       "      <th>min</th>\n",
       "      <td>0.000000e+00</td>\n",
       "      <td>0.000000e+00</td>\n",
       "      <td>2.000000e+00</td>\n",
       "    </tr>\n",
       "    <tr>\n",
       "      <th>25%</th>\n",
       "      <td>1.000000e+00</td>\n",
       "      <td>1.000000e+00</td>\n",
       "      <td>3.000000e+00</td>\n",
       "    </tr>\n",
       "    <tr>\n",
       "      <th>50%</th>\n",
       "      <td>3.000000e+00</td>\n",
       "      <td>3.000000e+00</td>\n",
       "      <td>6.000000e+00</td>\n",
       "    </tr>\n",
       "    <tr>\n",
       "      <th>75%</th>\n",
       "      <td>5.000000e+00</td>\n",
       "      <td>5.000000e+00</td>\n",
       "      <td>9.000000e+00</td>\n",
       "    </tr>\n",
       "    <tr>\n",
       "      <th>max</th>\n",
       "      <td>6.600000e+01</td>\n",
       "      <td>5.400000e+01</td>\n",
       "      <td>1.040000e+02</td>\n",
       "    </tr>\n",
       "  </tbody>\n",
       "</table>\n",
       "</div>"
      ],
      "text/plain": [
       "       count(Tile)_x  count(Tile)_y      totcount\n",
       "count   1.993000e+07   1.993000e+07  1.993000e+07\n",
       "mean    3.769920e+00   3.298234e+00  7.068154e+00\n",
       "std     3.470448e+00   2.834760e+00  5.237852e+00\n",
       "min     0.000000e+00   0.000000e+00  2.000000e+00\n",
       "25%     1.000000e+00   1.000000e+00  3.000000e+00\n",
       "50%     3.000000e+00   3.000000e+00  6.000000e+00\n",
       "75%     5.000000e+00   5.000000e+00  9.000000e+00\n",
       "max     6.600000e+01   5.400000e+01  1.040000e+02"
      ]
     },
     "execution_count": 12,
     "metadata": {},
     "output_type": "execute_result"
    }
   ],
   "source": [
    "union_ns.describe()"
   ]
  },
  {
   "cell_type": "code",
   "execution_count": 13,
   "id": "a71357e4",
   "metadata": {},
   "outputs": [
    {
     "name": "stdout",
     "output_type": "stream",
     "text": [
      "      count(Tile)_x  count(Tile)_y  totcount\n",
      "0.50            3.0            3.0       6.0\n",
      "0.95           11.0            9.0      17.0\n"
     ]
    }
   ],
   "source": [
    "print(union_ns.quantile([0.5, 0.95], numeric_only=True))"
   ]
  },
  {
   "cell_type": "code",
   "execution_count": 7,
   "id": "6505ad7c",
   "metadata": {},
   "outputs": [
    {
     "data": {
      "text/html": [
       "<div>\n",
       "<style scoped>\n",
       "    .dataframe tbody tr th:only-of-type {\n",
       "        vertical-align: middle;\n",
       "    }\n",
       "\n",
       "    .dataframe tbody tr th {\n",
       "        vertical-align: top;\n",
       "    }\n",
       "\n",
       "    .dataframe thead th {\n",
       "        text-align: right;\n",
       "    }\n",
       "</style>\n",
       "<table border=\"1\" class=\"dataframe\">\n",
       "  <thead>\n",
       "    <tr style=\"text-align: right;\">\n",
       "      <th></th>\n",
       "      <th>count(Tile)_x</th>\n",
       "      <th>TBB</th>\n",
       "      <th>count(Tile)_y</th>\n",
       "      <th>RPTRbc</th>\n",
       "    </tr>\n",
       "  </thead>\n",
       "  <tbody>\n",
       "    <tr>\n",
       "      <th>0</th>\n",
       "      <td>66.0</td>\n",
       "      <td>GACTTTGATGGTGCTGCTGATCCATGGTTTCCATTGTTTCCACAAG...</td>\n",
       "      <td>32.0</td>\n",
       "      <td>TTCAATGCGCCGGG</td>\n",
       "    </tr>\n",
       "    <tr>\n",
       "      <th>1</th>\n",
       "      <td>60.0</td>\n",
       "      <td>AGACCAGCTCAAGCTACTACTACTGCTGAACATTTGAATGTTGCTT...</td>\n",
       "      <td>31.0</td>\n",
       "      <td>ATTGATATTTTAGT</td>\n",
       "    </tr>\n",
       "    <tr>\n",
       "      <th>2</th>\n",
       "      <td>56.0</td>\n",
       "      <td>CAGAAACAGAAATCTATCTTGAGACCATCTGCTAGATTGAGAGGTG...</td>\n",
       "      <td>48.0</td>\n",
       "      <td>ACATACAGAGCCAT</td>\n",
       "    </tr>\n",
       "    <tr>\n",
       "      <th>3</th>\n",
       "      <td>55.0</td>\n",
       "      <td>GCTCAAGCTCAAGTTCAAACTCAACCACAAACTCAAACTCAAACTG...</td>\n",
       "      <td>33.0</td>\n",
       "      <td>GTGCGCACGTCCGA</td>\n",
       "    </tr>\n",
       "    <tr>\n",
       "      <th>4</th>\n",
       "      <td>54.0</td>\n",
       "      <td>AATTCTGTTGCTCCAGATACTAGAAGACATTCTGTTCAACATTTGA...</td>\n",
       "      <td>19.0</td>\n",
       "      <td>CGATCCACGCGCCA</td>\n",
       "    </tr>\n",
       "  </tbody>\n",
       "</table>\n",
       "</div>"
      ],
      "text/plain": [
       "   count(Tile)_x                                                TBB  \\\n",
       "0           66.0  GACTTTGATGGTGCTGCTGATCCATGGTTTCCATTGTTTCCACAAG...   \n",
       "1           60.0  AGACCAGCTCAAGCTACTACTACTGCTGAACATTTGAATGTTGCTT...   \n",
       "2           56.0  CAGAAACAGAAATCTATCTTGAGACCATCTGCTAGATTGAGAGGTG...   \n",
       "3           55.0  GCTCAAGCTCAAGTTCAAACTCAACCACAAACTCAAACTCAAACTG...   \n",
       "4           54.0  AATTCTGTTGCTCCAGATACTAGAAGACATTCTGTTCAACATTTGA...   \n",
       "\n",
       "   count(Tile)_y          RPTRbc  \n",
       "0           32.0  TTCAATGCGCCGGG  \n",
       "1           31.0  ATTGATATTTTAGT  \n",
       "2           48.0  ACATACAGAGCCAT  \n",
       "3           33.0  GTGCGCACGTCCGA  \n",
       "4           19.0  CGATCCACGCGCCA  "
      ]
     },
     "execution_count": 7,
     "metadata": {},
     "output_type": "execute_result"
    }
   ],
   "source": [
    "union['RPTRbc'] = union['TBB'].str.split('-').str[-1]\n",
    "union.head()"
   ]
  },
  {
   "cell_type": "code",
   "execution_count": 10,
   "id": "f22120c2",
   "metadata": {},
   "outputs": [
    {
     "name": "stdout",
     "output_type": "stream",
     "text": [
      "(14894636, 4)\n"
     ]
    },
    {
     "data": {
      "text/html": [
       "<div>\n",
       "<style scoped>\n",
       "    .dataframe tbody tr th:only-of-type {\n",
       "        vertical-align: middle;\n",
       "    }\n",
       "\n",
       "    .dataframe tbody tr th {\n",
       "        vertical-align: top;\n",
       "    }\n",
       "\n",
       "    .dataframe thead th {\n",
       "        text-align: right;\n",
       "    }\n",
       "</style>\n",
       "<table border=\"1\" class=\"dataframe\">\n",
       "  <thead>\n",
       "    <tr style=\"text-align: right;\">\n",
       "      <th></th>\n",
       "      <th>count(Tile)_x</th>\n",
       "      <th>TBB</th>\n",
       "      <th>count(Tile)_y</th>\n",
       "      <th>RPTRbc</th>\n",
       "    </tr>\n",
       "  </thead>\n",
       "  <tbody>\n",
       "    <tr>\n",
       "      <th>4</th>\n",
       "      <td>54.0</td>\n",
       "      <td>AATTCTGTTGCTCCAGATACTAGAAGACATTCTGTTCAACATTTGA...</td>\n",
       "      <td>19.0</td>\n",
       "      <td>CGATCCACGCGCCA</td>\n",
       "    </tr>\n",
       "    <tr>\n",
       "      <th>9</th>\n",
       "      <td>48.0</td>\n",
       "      <td>ACTACTCATTTGACTTCTCCATTGTCATTCTTTGATTCTCCAAATG...</td>\n",
       "      <td>26.0</td>\n",
       "      <td>CTGATAATGGCGCA</td>\n",
       "    </tr>\n",
       "    <tr>\n",
       "      <th>10</th>\n",
       "      <td>48.0</td>\n",
       "      <td>GTTGAATTGCCAGAAGAATTTACTGCATTTGATGGTGGTGCTAATA...</td>\n",
       "      <td>28.0</td>\n",
       "      <td>AAGCCACCCGACGC</td>\n",
       "    </tr>\n",
       "    <tr>\n",
       "      <th>16</th>\n",
       "      <td>47.0</td>\n",
       "      <td>TCTCCAGCTACTAATGGTATTTCTAAATCTAGAAGAAGGAAAGGTC...</td>\n",
       "      <td>12.0</td>\n",
       "      <td>CCGCCCGCAGTACG</td>\n",
       "    </tr>\n",
       "    <tr>\n",
       "      <th>17</th>\n",
       "      <td>47.0</td>\n",
       "      <td>GATATCTTTGCTGATGCATTTGGTTCTGCTCCACCATCTGCTGCAT...</td>\n",
       "      <td>18.0</td>\n",
       "      <td>CCGCCGACCTCTGA</td>\n",
       "    </tr>\n",
       "  </tbody>\n",
       "</table>\n",
       "</div>"
      ],
      "text/plain": [
       "    count(Tile)_x                                                TBB  \\\n",
       "4            54.0  AATTCTGTTGCTCCAGATACTAGAAGACATTCTGTTCAACATTTGA...   \n",
       "9            48.0  ACTACTCATTTGACTTCTCCATTGTCATTCTTTGATTCTCCAAATG...   \n",
       "10           48.0  GTTGAATTGCCAGAAGAATTTACTGCATTTGATGGTGGTGCTAATA...   \n",
       "16           47.0  TCTCCAGCTACTAATGGTATTTCTAAATCTAGAAGAAGGAAAGGTC...   \n",
       "17           47.0  GATATCTTTGCTGATGCATTTGGTTCTGCTCCACCATCTGCTGCAT...   \n",
       "\n",
       "    count(Tile)_y          RPTRbc  \n",
       "4            19.0  CGATCCACGCGCCA  \n",
       "9            26.0  CTGATAATGGCGCA  \n",
       "10           28.0  AAGCCACCCGACGC  \n",
       "16           12.0  CCGCCCGCAGTACG  \n",
       "17           18.0  CCGCCGACCTCTGA  "
      ]
     },
     "execution_count": 10,
     "metadata": {},
     "output_type": "execute_result"
    }
   ],
   "source": [
    "#filter out instances where RPTR BC is mapped to more than one TBB\n",
    "\n",
    "#Identify duplicates based on RPTR BCs\n",
    "duplicates_mask = union.duplicated(subset='RPTRbc', keep=False)\n",
    "#Filter df to exclude rows with duplicated RPTR BC values\n",
    "union_filtered = union[~duplicates_mask]\n",
    "\n",
    "print(union_filtered.shape)\n",
    "union_filtered.head()"
   ]
  },
  {
   "cell_type": "code",
   "execution_count": 11,
   "id": "e01eaaa0",
   "metadata": {
    "collapsed": true
   },
   "outputs": [
    {
     "data": {
      "text/html": [
       "<div>\n",
       "<style scoped>\n",
       "    .dataframe tbody tr th:only-of-type {\n",
       "        vertical-align: middle;\n",
       "    }\n",
       "\n",
       "    .dataframe tbody tr th {\n",
       "        vertical-align: top;\n",
       "    }\n",
       "\n",
       "    .dataframe thead th {\n",
       "        text-align: right;\n",
       "    }\n",
       "</style>\n",
       "<table border=\"1\" class=\"dataframe\">\n",
       "  <thead>\n",
       "    <tr style=\"text-align: right;\">\n",
       "      <th></th>\n",
       "      <th>index</th>\n",
       "      <th>RPTRbc</th>\n",
       "    </tr>\n",
       "  </thead>\n",
       "  <tbody>\n",
       "    <tr>\n",
       "      <th>0</th>\n",
       "      <td>CGATCCACGCGCCA</td>\n",
       "      <td>1</td>\n",
       "    </tr>\n",
       "    <tr>\n",
       "      <th>1</th>\n",
       "      <td>GAAACCAGTAACAT</td>\n",
       "      <td>1</td>\n",
       "    </tr>\n",
       "    <tr>\n",
       "      <th>2</th>\n",
       "      <td>CGTAGTCGAGCTGG</td>\n",
       "      <td>1</td>\n",
       "    </tr>\n",
       "    <tr>\n",
       "      <th>3</th>\n",
       "      <td>TCCTACCCCATCTC</td>\n",
       "      <td>1</td>\n",
       "    </tr>\n",
       "    <tr>\n",
       "      <th>4</th>\n",
       "      <td>CATGAGTTGCGCGC</td>\n",
       "      <td>1</td>\n",
       "    </tr>\n",
       "    <tr>\n",
       "      <th>...</th>\n",
       "      <td>...</td>\n",
       "      <td>...</td>\n",
       "    </tr>\n",
       "    <tr>\n",
       "      <th>14894631</th>\n",
       "      <td>AATATATAACTAGG</td>\n",
       "      <td>1</td>\n",
       "    </tr>\n",
       "    <tr>\n",
       "      <th>14894632</th>\n",
       "      <td>CTTCCGATGGCATA</td>\n",
       "      <td>1</td>\n",
       "    </tr>\n",
       "    <tr>\n",
       "      <th>14894633</th>\n",
       "      <td>AGGAAGTATAAAGG</td>\n",
       "      <td>1</td>\n",
       "    </tr>\n",
       "    <tr>\n",
       "      <th>14894634</th>\n",
       "      <td>AATATAAAGTATTC</td>\n",
       "      <td>1</td>\n",
       "    </tr>\n",
       "    <tr>\n",
       "      <th>14894635</th>\n",
       "      <td>CGTCGCAGAAAATA</td>\n",
       "      <td>1</td>\n",
       "    </tr>\n",
       "  </tbody>\n",
       "</table>\n",
       "<p>14894636 rows × 2 columns</p>\n",
       "</div>"
      ],
      "text/plain": [
       "                   index  RPTRbc\n",
       "0         CGATCCACGCGCCA       1\n",
       "1         GAAACCAGTAACAT       1\n",
       "2         CGTAGTCGAGCTGG       1\n",
       "3         TCCTACCCCATCTC       1\n",
       "4         CATGAGTTGCGCGC       1\n",
       "...                  ...     ...\n",
       "14894631  AATATATAACTAGG       1\n",
       "14894632  CTTCCGATGGCATA       1\n",
       "14894633  AGGAAGTATAAAGG       1\n",
       "14894634  AATATAAAGTATTC       1\n",
       "14894635  CGTCGCAGAAAATA       1\n",
       "\n",
       "[14894636 rows x 2 columns]"
      ]
     },
     "execution_count": 11,
     "metadata": {},
     "output_type": "execute_result"
    }
   ],
   "source": [
    "union_filtered['RPTRbc'].value_counts().to_frame().reset_index() #confirms that each unique RPTRbc in the filtered table only has one TBB associated with it"
   ]
  },
  {
   "cell_type": "code",
   "execution_count": 22,
   "id": "af4cdda5",
   "metadata": {
    "scrolled": true
   },
   "outputs": [
    {
     "data": {
      "text/html": [
       "<div>\n",
       "<style scoped>\n",
       "    .dataframe tbody tr th:only-of-type {\n",
       "        vertical-align: middle;\n",
       "    }\n",
       "\n",
       "    .dataframe tbody tr th {\n",
       "        vertical-align: top;\n",
       "    }\n",
       "\n",
       "    .dataframe thead th {\n",
       "        text-align: right;\n",
       "    }\n",
       "</style>\n",
       "<table border=\"1\" class=\"dataframe\">\n",
       "  <thead>\n",
       "    <tr style=\"text-align: right;\">\n",
       "      <th></th>\n",
       "      <th>count(Tile)_x</th>\n",
       "      <th>TBB</th>\n",
       "      <th>count(Tile)_y</th>\n",
       "      <th>totcount</th>\n",
       "      <th>RPTRbc</th>\n",
       "    </tr>\n",
       "  </thead>\n",
       "  <tbody>\n",
       "    <tr>\n",
       "      <th>0</th>\n",
       "      <td>66.0</td>\n",
       "      <td>GACTTTGATGGTGCTGCTGATCCATGGTTTCCATTGTTTCCACAAG...</td>\n",
       "      <td>32.0</td>\n",
       "      <td>98.0</td>\n",
       "      <td>TTCAATGCGCCGGG</td>\n",
       "    </tr>\n",
       "    <tr>\n",
       "      <th>1</th>\n",
       "      <td>60.0</td>\n",
       "      <td>AGACCAGCTCAAGCTACTACTACTGCTGAACATTTGAATGTTGCTT...</td>\n",
       "      <td>31.0</td>\n",
       "      <td>91.0</td>\n",
       "      <td>ATTGATATTTTAGT</td>\n",
       "    </tr>\n",
       "    <tr>\n",
       "      <th>2</th>\n",
       "      <td>56.0</td>\n",
       "      <td>CAGAAACAGAAATCTATCTTGAGACCATCTGCTAGATTGAGAGGTG...</td>\n",
       "      <td>48.0</td>\n",
       "      <td>104.0</td>\n",
       "      <td>ACATACAGAGCCAT</td>\n",
       "    </tr>\n",
       "    <tr>\n",
       "      <th>3</th>\n",
       "      <td>55.0</td>\n",
       "      <td>GCTCAAGCTCAAGTTCAAACTCAACCACAAACTCAAACTCAAACTG...</td>\n",
       "      <td>33.0</td>\n",
       "      <td>88.0</td>\n",
       "      <td>GTGCGCACGTCCGA</td>\n",
       "    </tr>\n",
       "    <tr>\n",
       "      <th>4</th>\n",
       "      <td>54.0</td>\n",
       "      <td>AATTCTGTTGCTCCAGATACTAGAAGACATTCTGTTCAACATTTGA...</td>\n",
       "      <td>19.0</td>\n",
       "      <td>73.0</td>\n",
       "      <td>CGATCCACGCGCCA</td>\n",
       "    </tr>\n",
       "  </tbody>\n",
       "</table>\n",
       "</div>"
      ],
      "text/plain": [
       "   count(Tile)_x                                                TBB  \\\n",
       "0           66.0  GACTTTGATGGTGCTGCTGATCCATGGTTTCCATTGTTTCCACAAG...   \n",
       "1           60.0  AGACCAGCTCAAGCTACTACTACTGCTGAACATTTGAATGTTGCTT...   \n",
       "2           56.0  CAGAAACAGAAATCTATCTTGAGACCATCTGCTAGATTGAGAGGTG...   \n",
       "3           55.0  GCTCAAGCTCAAGTTCAAACTCAACCACAAACTCAAACTCAAACTG...   \n",
       "4           54.0  AATTCTGTTGCTCCAGATACTAGAAGACATTCTGTTCAACATTTGA...   \n",
       "\n",
       "   count(Tile)_y  totcount          RPTRbc  \n",
       "0           32.0      98.0  TTCAATGCGCCGGG  \n",
       "1           31.0      91.0  ATTGATATTTTAGT  \n",
       "2           48.0     104.0  ACATACAGAGCCAT  \n",
       "3           33.0      88.0  GTGCGCACGTCCGA  \n",
       "4           19.0      73.0  CGATCCACGCGCCA  "
      ]
     },
     "execution_count": 22,
     "metadata": {},
     "output_type": "execute_result"
    }
   ],
   "source": [
    "union.head()"
   ]
  },
  {
   "cell_type": "code",
   "execution_count": 24,
   "id": "cfc7c190",
   "metadata": {},
   "outputs": [
    {
     "data": {
      "text/html": [
       "<div>\n",
       "<style scoped>\n",
       "    .dataframe tbody tr th:only-of-type {\n",
       "        vertical-align: middle;\n",
       "    }\n",
       "\n",
       "    .dataframe tbody tr th {\n",
       "        vertical-align: top;\n",
       "    }\n",
       "\n",
       "    .dataframe thead th {\n",
       "        text-align: right;\n",
       "    }\n",
       "</style>\n",
       "<table border=\"1\" class=\"dataframe\">\n",
       "  <thead>\n",
       "    <tr style=\"text-align: right;\">\n",
       "      <th></th>\n",
       "      <th>count(Tile)_x</th>\n",
       "      <th>TBB</th>\n",
       "      <th>count(Tile)_y</th>\n",
       "      <th>totcount</th>\n",
       "      <th>RPTRbc</th>\n",
       "      <th>Tile</th>\n",
       "    </tr>\n",
       "  </thead>\n",
       "  <tbody>\n",
       "    <tr>\n",
       "      <th>0</th>\n",
       "      <td>66.0</td>\n",
       "      <td>GACTTTGATGGTGCTGCTGATCCATGGTTTCCATTGTTTCCACAAG...</td>\n",
       "      <td>32.0</td>\n",
       "      <td>98.0</td>\n",
       "      <td>TTCAATGCGCCGGG</td>\n",
       "      <td>GACTTTGATGGTGCTGCTGATCCATGGTTTCCATTGTTTCCACAAG...</td>\n",
       "    </tr>\n",
       "    <tr>\n",
       "      <th>1</th>\n",
       "      <td>60.0</td>\n",
       "      <td>AGACCAGCTCAAGCTACTACTACTGCTGAACATTTGAATGTTGCTT...</td>\n",
       "      <td>31.0</td>\n",
       "      <td>91.0</td>\n",
       "      <td>ATTGATATTTTAGT</td>\n",
       "      <td>AGACCAGCTCAAGCTACTACTACTGCTGAACATTTGAATGTTGCTT...</td>\n",
       "    </tr>\n",
       "    <tr>\n",
       "      <th>2</th>\n",
       "      <td>56.0</td>\n",
       "      <td>CAGAAACAGAAATCTATCTTGAGACCATCTGCTAGATTGAGAGGTG...</td>\n",
       "      <td>48.0</td>\n",
       "      <td>104.0</td>\n",
       "      <td>ACATACAGAGCCAT</td>\n",
       "      <td>CAGAAACAGAAATCTATCTTGAGACCATCTGCTAGATTGAGAGGTG...</td>\n",
       "    </tr>\n",
       "    <tr>\n",
       "      <th>3</th>\n",
       "      <td>55.0</td>\n",
       "      <td>GCTCAAGCTCAAGTTCAAACTCAACCACAAACTCAAACTCAAACTG...</td>\n",
       "      <td>33.0</td>\n",
       "      <td>88.0</td>\n",
       "      <td>GTGCGCACGTCCGA</td>\n",
       "      <td>GCTCAAGCTCAAGTTCAAACTCAACCACAAACTCAAACTCAAACTG...</td>\n",
       "    </tr>\n",
       "    <tr>\n",
       "      <th>4</th>\n",
       "      <td>54.0</td>\n",
       "      <td>AATTCTGTTGCTCCAGATACTAGAAGACATTCTGTTCAACATTTGA...</td>\n",
       "      <td>19.0</td>\n",
       "      <td>73.0</td>\n",
       "      <td>CGATCCACGCGCCA</td>\n",
       "      <td>AATTCTGTTGCTCCAGATACTAGAAGACATTCTGTTCAACATTTGA...</td>\n",
       "    </tr>\n",
       "  </tbody>\n",
       "</table>\n",
       "</div>"
      ],
      "text/plain": [
       "   count(Tile)_x                                                TBB  \\\n",
       "0           66.0  GACTTTGATGGTGCTGCTGATCCATGGTTTCCATTGTTTCCACAAG...   \n",
       "1           60.0  AGACCAGCTCAAGCTACTACTACTGCTGAACATTTGAATGTTGCTT...   \n",
       "2           56.0  CAGAAACAGAAATCTATCTTGAGACCATCTGCTAGATTGAGAGGTG...   \n",
       "3           55.0  GCTCAAGCTCAAGTTCAAACTCAACCACAAACTCAAACTCAAACTG...   \n",
       "4           54.0  AATTCTGTTGCTCCAGATACTAGAAGACATTCTGTTCAACATTTGA...   \n",
       "\n",
       "   count(Tile)_y  totcount          RPTRbc  \\\n",
       "0           32.0      98.0  TTCAATGCGCCGGG   \n",
       "1           31.0      91.0  ATTGATATTTTAGT   \n",
       "2           48.0     104.0  ACATACAGAGCCAT   \n",
       "3           33.0      88.0  GTGCGCACGTCCGA   \n",
       "4           19.0      73.0  CGATCCACGCGCCA   \n",
       "\n",
       "                                                Tile  \n",
       "0  GACTTTGATGGTGCTGCTGATCCATGGTTTCCATTGTTTCCACAAG...  \n",
       "1  AGACCAGCTCAAGCTACTACTACTGCTGAACATTTGAATGTTGCTT...  \n",
       "2  CAGAAACAGAAATCTATCTTGAGACCATCTGCTAGATTGAGAGGTG...  \n",
       "3  GCTCAAGCTCAAGTTCAAACTCAACCACAAACTCAAACTCAAACTG...  \n",
       "4  AATTCTGTTGCTCCAGATACTAGAAGACATTCTGTTCAACATTTGA...  "
      ]
     },
     "execution_count": 24,
     "metadata": {},
     "output_type": "execute_result"
    }
   ],
   "source": [
    "union['Tile'] = union['TBB'].str.split('-').str[0]\n",
    "union.head()"
   ]
  },
  {
   "cell_type": "code",
   "execution_count": 26,
   "id": "c89c4fdd",
   "metadata": {},
   "outputs": [
    {
     "data": {
      "text/html": [
       "<div>\n",
       "<style scoped>\n",
       "    .dataframe tbody tr th:only-of-type {\n",
       "        vertical-align: middle;\n",
       "    }\n",
       "\n",
       "    .dataframe tbody tr th {\n",
       "        vertical-align: top;\n",
       "    }\n",
       "\n",
       "    .dataframe thead th {\n",
       "        text-align: right;\n",
       "    }\n",
       "</style>\n",
       "<table border=\"1\" class=\"dataframe\">\n",
       "  <thead>\n",
       "    <tr style=\"text-align: right;\">\n",
       "      <th></th>\n",
       "      <th>RPTRbc</th>\n",
       "      <th>Counts</th>\n",
       "    </tr>\n",
       "  </thead>\n",
       "  <tbody>\n",
       "    <tr>\n",
       "      <th>0</th>\n",
       "      <td>AAAAAAAAAAAAAA</td>\n",
       "      <td>1.0</td>\n",
       "    </tr>\n",
       "    <tr>\n",
       "      <th>1</th>\n",
       "      <td>AAAAAAAAAAAAAC</td>\n",
       "      <td>6.0</td>\n",
       "    </tr>\n",
       "    <tr>\n",
       "      <th>2</th>\n",
       "      <td>AAAAAAAAAAAAAG</td>\n",
       "      <td>2.0</td>\n",
       "    </tr>\n",
       "    <tr>\n",
       "      <th>3</th>\n",
       "      <td>AAAAAAAAAAAAAT</td>\n",
       "      <td>3.0</td>\n",
       "    </tr>\n",
       "    <tr>\n",
       "      <th>4</th>\n",
       "      <td>AAAAAAAAAAAACA</td>\n",
       "      <td>1.0</td>\n",
       "    </tr>\n",
       "  </tbody>\n",
       "</table>\n",
       "</div>"
      ],
      "text/plain": [
       "           RPTRbc  Counts\n",
       "0  AAAAAAAAAAAAAA     1.0\n",
       "1  AAAAAAAAAAAAAC     6.0\n",
       "2  AAAAAAAAAAAAAG     2.0\n",
       "3  AAAAAAAAAAAAAT     3.0\n",
       "4  AAAAAAAAAAAACA     1.0"
      ]
     },
     "execution_count": 26,
     "metadata": {},
     "output_type": "execute_result"
    }
   ],
   "source": [
    "union_RPTRcounts = union.groupby('RPTRbc')['totcount'].sum().reset_index()\n",
    "union_RPTRcounts.columns = ['RPTRbc', 'Counts']\n",
    "union_RPTRcounts.head()"
   ]
  },
  {
   "cell_type": "code",
   "execution_count": 27,
   "id": "10eb0f28",
   "metadata": {},
   "outputs": [
    {
     "data": {
      "image/png": "[encoded data removed]",
      "text/plain": [
       "<Figure size 640x480 with 1 Axes>"
      ]
     },
     "metadata": {},
     "output_type": "display_data"
    }
   ],
   "source": [
    "# plot rptr counts on histogram\n",
    "\n",
    "plt.figure()\n",
    "plt.hist(union_RPTRcounts['Counts'],  bins=500)\n",
    "plt.xlabel('Coverage')\n",
    "plt.ylabel('Counts')\n",
    "plt.yscale('log')\n",
    "# plt.rcParams['axes.linewidth'] = 1.0\n",
    "# plt.xlim([0, 10])\n",
    "# plt.savefig('A10tilecoverage.png', dpi= 300, format='png')\n",
    "plt.show()"
   ]
  },
  {
   "cell_type": "code",
   "execution_count": 28,
   "id": "e7535f82",
   "metadata": {},
   "outputs": [
    {
     "data": {
      "text/html": [
       "<div>\n",
       "<style scoped>\n",
       "    .dataframe tbody tr th:only-of-type {\n",
       "        vertical-align: middle;\n",
       "    }\n",
       "\n",
       "    .dataframe tbody tr th {\n",
       "        vertical-align: top;\n",
       "    }\n",
       "\n",
       "    .dataframe thead th {\n",
       "        text-align: right;\n",
       "    }\n",
       "</style>\n",
       "<table border=\"1\" class=\"dataframe\">\n",
       "  <thead>\n",
       "    <tr style=\"text-align: right;\">\n",
       "      <th></th>\n",
       "      <th>Tile</th>\n",
       "      <th>Counts</th>\n",
       "    </tr>\n",
       "  </thead>\n",
       "  <tbody>\n",
       "    <tr>\n",
       "      <th>0</th>\n",
       "      <td>AAAAATTCTAGATTTGTTTCTTTGATGCAAGGATTCTCTGATGGTT...</td>\n",
       "      <td>3888.0</td>\n",
       "    </tr>\n",
       "    <tr>\n",
       "      <th>1</th>\n",
       "      <td>AAAAATTCTCCATCTGGTTTGGCTCATTCTTCTGTTTCTGGTGTTG...</td>\n",
       "      <td>6099.0</td>\n",
       "    </tr>\n",
       "    <tr>\n",
       "      <th>2</th>\n",
       "      <td>AAACAAAATTCTCAAGTTGATCAATCTCCATTGTTGCCAGAAGAAG...</td>\n",
       "      <td>8416.0</td>\n",
       "    </tr>\n",
       "    <tr>\n",
       "      <th>3</th>\n",
       "      <td>AAACAAAGAGCTACTCCATTGACTCCAGTTGTTCCAGAATCTGATG...</td>\n",
       "      <td>7110.0</td>\n",
       "    </tr>\n",
       "    <tr>\n",
       "      <th>4</th>\n",
       "      <td>AAACAAAGATCTATTCCATTGTCTCCAATTGTTCCAGAATCTTCTG...</td>\n",
       "      <td>7054.0</td>\n",
       "    </tr>\n",
       "  </tbody>\n",
       "</table>\n",
       "</div>"
      ],
      "text/plain": [
       "                                                Tile  Counts\n",
       "0  AAAAATTCTAGATTTGTTTCTTTGATGCAAGGATTCTCTGATGGTT...  3888.0\n",
       "1  AAAAATTCTCCATCTGGTTTGGCTCATTCTTCTGTTTCTGGTGTTG...  6099.0\n",
       "2  AAACAAAATTCTCAAGTTGATCAATCTCCATTGTTGCCAGAAGAAG...  8416.0\n",
       "3  AAACAAAGAGCTACTCCATTGACTCCAGTTGTTCCAGAATCTGATG...  7110.0\n",
       "4  AAACAAAGATCTATTCCATTGTCTCCAATTGTTCCAGAATCTTCTG...  7054.0"
      ]
     },
     "execution_count": 28,
     "metadata": {},
     "output_type": "execute_result"
    }
   ],
   "source": [
    "union_Tilecounts = union.groupby('Tile')['totcount'].sum().reset_index()\n",
    "union_Tilecounts.columns = ['Tile', 'Counts']\n",
    "union_Tilecounts.head()"
   ]
  },
  {
   "cell_type": "code",
   "execution_count": 29,
   "id": "d64ffe02",
   "metadata": {},
   "outputs": [
    {
     "data": {
      "image/png": "[encoded data removed]",
      "text/plain": [
       "<Figure size 640x480 with 1 Axes>"
      ]
     },
     "metadata": {},
     "output_type": "display_data"
    }
   ],
   "source": [
    "# plot tile counts on histogram\n",
    "\n",
    "plt.figure()\n",
    "plt.hist(union_Tilecounts['Counts'],  bins=500)\n",
    "plt.xlabel('Coverage')\n",
    "plt.ylabel('Counts')\n",
    "plt.yscale('log')\n",
    "# plt.rcParams['axes.linewidth'] = 1.0\n",
    "# plt.xlim([0, 10])\n",
    "# plt.savefig('A10tilecoverage.png', dpi= 300, format='png')\n",
    "plt.show()"
   ]
  },
  {
   "cell_type": "code",
   "execution_count": 12,
   "id": "1f402fa0",
   "metadata": {},
   "outputs": [
    {
     "name": "stderr",
     "output_type": "stream",
     "text": [
      "/tmp/ipykernel_16281/2222855999.py:3: SettingWithCopyWarning: \n",
      "A value is trying to be set on a copy of a slice from a DataFrame.\n",
      "Try using .loc[row_indexer,col_indexer] = value instead\n",
      "\n",
      "See the caveats in the documentation: https://pandas.pydata.org/pandas-docs/stable/user_guide/indexing.html#returning-a-view-versus-a-copy\n",
      "  union_filtered['Tile'] = union_filtered['TBB'].str.split('-').str[0]\n"
     ]
    },
    {
     "data": {
      "text/html": [
       "<div>\n",
       "<style scoped>\n",
       "    .dataframe tbody tr th:only-of-type {\n",
       "        vertical-align: middle;\n",
       "    }\n",
       "\n",
       "    .dataframe tbody tr th {\n",
       "        vertical-align: top;\n",
       "    }\n",
       "\n",
       "    .dataframe thead th {\n",
       "        text-align: right;\n",
       "    }\n",
       "</style>\n",
       "<table border=\"1\" class=\"dataframe\">\n",
       "  <thead>\n",
       "    <tr style=\"text-align: right;\">\n",
       "      <th></th>\n",
       "      <th>count(Tile)_x</th>\n",
       "      <th>TBB</th>\n",
       "      <th>count(Tile)_y</th>\n",
       "      <th>RPTRbc</th>\n",
       "      <th>Tile</th>\n",
       "    </tr>\n",
       "  </thead>\n",
       "  <tbody>\n",
       "    <tr>\n",
       "      <th>4</th>\n",
       "      <td>54.0</td>\n",
       "      <td>AATTCTGTTGCTCCAGATACTAGAAGACATTCTGTTCAACATTTGA...</td>\n",
       "      <td>19.0</td>\n",
       "      <td>CGATCCACGCGCCA</td>\n",
       "      <td>AATTCTGTTGCTCCAGATACTAGAAGACATTCTGTTCAACATTTGA...</td>\n",
       "    </tr>\n",
       "    <tr>\n",
       "      <th>9</th>\n",
       "      <td>48.0</td>\n",
       "      <td>ACTACTCATTTGACTTCTCCATTGTCATTCTTTGATTCTCCAAATG...</td>\n",
       "      <td>26.0</td>\n",
       "      <td>CTGATAATGGCGCA</td>\n",
       "      <td>ACTACTCATTTGACTTCTCCATTGTCATTCTTTGATTCTCCAAATG...</td>\n",
       "    </tr>\n",
       "    <tr>\n",
       "      <th>10</th>\n",
       "      <td>48.0</td>\n",
       "      <td>GTTGAATTGCCAGAAGAATTTACTGCATTTGATGGTGGTGCTAATA...</td>\n",
       "      <td>28.0</td>\n",
       "      <td>AAGCCACCCGACGC</td>\n",
       "      <td>GTTGAATTGCCAGAAGAATTTACTGCATTTGATGGTGGTGCTAATA...</td>\n",
       "    </tr>\n",
       "    <tr>\n",
       "      <th>16</th>\n",
       "      <td>47.0</td>\n",
       "      <td>TCTCCAGCTACTAATGGTATTTCTAAATCTAGAAGAAGGAAAGGTC...</td>\n",
       "      <td>12.0</td>\n",
       "      <td>CCGCCCGCAGTACG</td>\n",
       "      <td>TCTCCAGCTACTAATGGTATTTCTAAATCTAGAAGAAGGAAAGGTC...</td>\n",
       "    </tr>\n",
       "    <tr>\n",
       "      <th>17</th>\n",
       "      <td>47.0</td>\n",
       "      <td>GATATCTTTGCTGATGCATTTGGTTCTGCTCCACCATCTGCTGCAT...</td>\n",
       "      <td>18.0</td>\n",
       "      <td>CCGCCGACCTCTGA</td>\n",
       "      <td>GATATCTTTGCTGATGCATTTGGTTCTGCTCCACCATCTGCTGCAT...</td>\n",
       "    </tr>\n",
       "  </tbody>\n",
       "</table>\n",
       "</div>"
      ],
      "text/plain": [
       "    count(Tile)_x                                                TBB  \\\n",
       "4            54.0  AATTCTGTTGCTCCAGATACTAGAAGACATTCTGTTCAACATTTGA...   \n",
       "9            48.0  ACTACTCATTTGACTTCTCCATTGTCATTCTTTGATTCTCCAAATG...   \n",
       "10           48.0  GTTGAATTGCCAGAAGAATTTACTGCATTTGATGGTGGTGCTAATA...   \n",
       "16           47.0  TCTCCAGCTACTAATGGTATTTCTAAATCTAGAAGAAGGAAAGGTC...   \n",
       "17           47.0  GATATCTTTGCTGATGCATTTGGTTCTGCTCCACCATCTGCTGCAT...   \n",
       "\n",
       "    count(Tile)_y          RPTRbc  \\\n",
       "4            19.0  CGATCCACGCGCCA   \n",
       "9            26.0  CTGATAATGGCGCA   \n",
       "10           28.0  AAGCCACCCGACGC   \n",
       "16           12.0  CCGCCCGCAGTACG   \n",
       "17           18.0  CCGCCGACCTCTGA   \n",
       "\n",
       "                                                 Tile  \n",
       "4   AATTCTGTTGCTCCAGATACTAGAAGACATTCTGTTCAACATTTGA...  \n",
       "9   ACTACTCATTTGACTTCTCCATTGTCATTCTTTGATTCTCCAAATG...  \n",
       "10  GTTGAATTGCCAGAAGAATTTACTGCATTTGATGGTGGTGCTAATA...  \n",
       "16  TCTCCAGCTACTAATGGTATTTCTAAATCTAGAAGAAGGAAAGGTC...  \n",
       "17  GATATCTTTGCTGATGCATTTGGTTCTGCTCCACCATCTGCTGCAT...  "
      ]
     },
     "execution_count": 12,
     "metadata": {},
     "output_type": "execute_result"
    }
   ],
   "source": [
    "#same Tile and RPTR bc analysis above but for the filtered map\n",
    "\n",
    "union_filtered['Tile'] = union_filtered['TBB'].str.split('-').str[0]\n",
    "union_filtered.head()"
   ]
  },
  {
   "cell_type": "code",
   "execution_count": 13,
   "id": "b366640e",
   "metadata": {},
   "outputs": [
    {
     "name": "stderr",
     "output_type": "stream",
     "text": [
      "/tmp/ipykernel_16281/270957925.py:1: SettingWithCopyWarning: \n",
      "A value is trying to be set on a copy of a slice from a DataFrame.\n",
      "Try using .loc[row_indexer,col_indexer] = value instead\n",
      "\n",
      "See the caveats in the documentation: https://pandas.pydata.org/pandas-docs/stable/user_guide/indexing.html#returning-a-view-versus-a-copy\n",
      "  union_filtered['totcount'] = union_filtered['count(Tile)_x']+union_filtered['count(Tile)_y']\n"
     ]
    },
    {
     "data": {
      "text/html": [
       "<div>\n",
       "<style scoped>\n",
       "    .dataframe tbody tr th:only-of-type {\n",
       "        vertical-align: middle;\n",
       "    }\n",
       "\n",
       "    .dataframe tbody tr th {\n",
       "        vertical-align: top;\n",
       "    }\n",
       "\n",
       "    .dataframe thead th {\n",
       "        text-align: right;\n",
       "    }\n",
       "</style>\n",
       "<table border=\"1\" class=\"dataframe\">\n",
       "  <thead>\n",
       "    <tr style=\"text-align: right;\">\n",
       "      <th></th>\n",
       "      <th>count(Tile)_x</th>\n",
       "      <th>TBB</th>\n",
       "      <th>count(Tile)_y</th>\n",
       "      <th>RPTRbc</th>\n",
       "      <th>Tile</th>\n",
       "      <th>totcount</th>\n",
       "    </tr>\n",
       "  </thead>\n",
       "  <tbody>\n",
       "    <tr>\n",
       "      <th>4</th>\n",
       "      <td>54.0</td>\n",
       "      <td>AATTCTGTTGCTCCAGATACTAGAAGACATTCTGTTCAACATTTGA...</td>\n",
       "      <td>19.0</td>\n",
       "      <td>CGATCCACGCGCCA</td>\n",
       "      <td>AATTCTGTTGCTCCAGATACTAGAAGACATTCTGTTCAACATTTGA...</td>\n",
       "      <td>73.0</td>\n",
       "    </tr>\n",
       "    <tr>\n",
       "      <th>9</th>\n",
       "      <td>48.0</td>\n",
       "      <td>ACTACTCATTTGACTTCTCCATTGTCATTCTTTGATTCTCCAAATG...</td>\n",
       "      <td>26.0</td>\n",
       "      <td>CTGATAATGGCGCA</td>\n",
       "      <td>ACTACTCATTTGACTTCTCCATTGTCATTCTTTGATTCTCCAAATG...</td>\n",
       "      <td>74.0</td>\n",
       "    </tr>\n",
       "    <tr>\n",
       "      <th>10</th>\n",
       "      <td>48.0</td>\n",
       "      <td>GTTGAATTGCCAGAAGAATTTACTGCATTTGATGGTGGTGCTAATA...</td>\n",
       "      <td>28.0</td>\n",
       "      <td>AAGCCACCCGACGC</td>\n",
       "      <td>GTTGAATTGCCAGAAGAATTTACTGCATTTGATGGTGGTGCTAATA...</td>\n",
       "      <td>76.0</td>\n",
       "    </tr>\n",
       "    <tr>\n",
       "      <th>16</th>\n",
       "      <td>47.0</td>\n",
       "      <td>TCTCCAGCTACTAATGGTATTTCTAAATCTAGAAGAAGGAAAGGTC...</td>\n",
       "      <td>12.0</td>\n",
       "      <td>CCGCCCGCAGTACG</td>\n",
       "      <td>TCTCCAGCTACTAATGGTATTTCTAAATCTAGAAGAAGGAAAGGTC...</td>\n",
       "      <td>59.0</td>\n",
       "    </tr>\n",
       "    <tr>\n",
       "      <th>17</th>\n",
       "      <td>47.0</td>\n",
       "      <td>GATATCTTTGCTGATGCATTTGGTTCTGCTCCACCATCTGCTGCAT...</td>\n",
       "      <td>18.0</td>\n",
       "      <td>CCGCCGACCTCTGA</td>\n",
       "      <td>GATATCTTTGCTGATGCATTTGGTTCTGCTCCACCATCTGCTGCAT...</td>\n",
       "      <td>65.0</td>\n",
       "    </tr>\n",
       "  </tbody>\n",
       "</table>\n",
       "</div>"
      ],
      "text/plain": [
       "    count(Tile)_x                                                TBB  \\\n",
       "4            54.0  AATTCTGTTGCTCCAGATACTAGAAGACATTCTGTTCAACATTTGA...   \n",
       "9            48.0  ACTACTCATTTGACTTCTCCATTGTCATTCTTTGATTCTCCAAATG...   \n",
       "10           48.0  GTTGAATTGCCAGAAGAATTTACTGCATTTGATGGTGGTGCTAATA...   \n",
       "16           47.0  TCTCCAGCTACTAATGGTATTTCTAAATCTAGAAGAAGGAAAGGTC...   \n",
       "17           47.0  GATATCTTTGCTGATGCATTTGGTTCTGCTCCACCATCTGCTGCAT...   \n",
       "\n",
       "    count(Tile)_y          RPTRbc  \\\n",
       "4            19.0  CGATCCACGCGCCA   \n",
       "9            26.0  CTGATAATGGCGCA   \n",
       "10           28.0  AAGCCACCCGACGC   \n",
       "16           12.0  CCGCCCGCAGTACG   \n",
       "17           18.0  CCGCCGACCTCTGA   \n",
       "\n",
       "                                                 Tile  totcount  \n",
       "4   AATTCTGTTGCTCCAGATACTAGAAGACATTCTGTTCAACATTTGA...      73.0  \n",
       "9   ACTACTCATTTGACTTCTCCATTGTCATTCTTTGATTCTCCAAATG...      74.0  \n",
       "10  GTTGAATTGCCAGAAGAATTTACTGCATTTGATGGTGGTGCTAATA...      76.0  \n",
       "16  TCTCCAGCTACTAATGGTATTTCTAAATCTAGAAGAAGGAAAGGTC...      59.0  \n",
       "17  GATATCTTTGCTGATGCATTTGGTTCTGCTCCACCATCTGCTGCAT...      65.0  "
      ]
     },
     "execution_count": 13,
     "metadata": {},
     "output_type": "execute_result"
    }
   ],
   "source": [
    "union_filtered['totcount'] = union_filtered['count(Tile)_x']+union_filtered['count(Tile)_y']\n",
    "union_filtered.head()"
   ]
  },
  {
   "cell_type": "code",
   "execution_count": 14,
   "id": "8ffb6d0a",
   "metadata": {},
   "outputs": [
    {
     "data": {
      "text/html": [
       "<div>\n",
       "<style scoped>\n",
       "    .dataframe tbody tr th:only-of-type {\n",
       "        vertical-align: middle;\n",
       "    }\n",
       "\n",
       "    .dataframe tbody tr th {\n",
       "        vertical-align: top;\n",
       "    }\n",
       "\n",
       "    .dataframe thead th {\n",
       "        text-align: right;\n",
       "    }\n",
       "</style>\n",
       "<table border=\"1\" class=\"dataframe\">\n",
       "  <thead>\n",
       "    <tr style=\"text-align: right;\">\n",
       "      <th></th>\n",
       "      <th>RPTRbc</th>\n",
       "      <th>Counts</th>\n",
       "    </tr>\n",
       "  </thead>\n",
       "  <tbody>\n",
       "    <tr>\n",
       "      <th>0</th>\n",
       "      <td>AAAAAAAAAAAAAA</td>\n",
       "      <td>1.0</td>\n",
       "    </tr>\n",
       "    <tr>\n",
       "      <th>1</th>\n",
       "      <td>AAAAAAAAAAAACA</td>\n",
       "      <td>1.0</td>\n",
       "    </tr>\n",
       "    <tr>\n",
       "      <th>2</th>\n",
       "      <td>AAAAAAAAAAAACT</td>\n",
       "      <td>4.0</td>\n",
       "    </tr>\n",
       "    <tr>\n",
       "      <th>3</th>\n",
       "      <td>AAAAAAAAAAAATA</td>\n",
       "      <td>4.0</td>\n",
       "    </tr>\n",
       "    <tr>\n",
       "      <th>4</th>\n",
       "      <td>AAAAAAAAAAAATC</td>\n",
       "      <td>7.0</td>\n",
       "    </tr>\n",
       "  </tbody>\n",
       "</table>\n",
       "</div>"
      ],
      "text/plain": [
       "           RPTRbc  Counts\n",
       "0  AAAAAAAAAAAAAA     1.0\n",
       "1  AAAAAAAAAAAACA     1.0\n",
       "2  AAAAAAAAAAAACT     4.0\n",
       "3  AAAAAAAAAAAATA     4.0\n",
       "4  AAAAAAAAAAAATC     7.0"
      ]
     },
     "execution_count": 14,
     "metadata": {},
     "output_type": "execute_result"
    }
   ],
   "source": [
    "union_filtered_RPTRcounts = union_filtered.groupby('RPTRbc')['totcount'].sum().reset_index()\n",
    "union_filtered_RPTRcounts.columns = ['RPTRbc', 'Counts']\n",
    "union_filtered_RPTRcounts.head()"
   ]
  },
  {
   "cell_type": "code",
   "execution_count": 15,
   "id": "ad28e155",
   "metadata": {},
   "outputs": [
    {
     "data": {
      "image/png": "[encoded data removed]",
      "text/plain": [
       "<Figure size 640x480 with 1 Axes>"
      ]
     },
     "metadata": {},
     "output_type": "display_data"
    }
   ],
   "source": [
    "# plot rptr counts on histogram\n",
    "\n",
    "plt.figure()\n",
    "plt.hist(union_filtered_RPTRcounts['Counts'],  bins=500)\n",
    "plt.xlabel('Coverage')\n",
    "plt.ylabel('Counts')\n",
    "plt.yscale('log')\n",
    "# plt.rcParams['axes.linewidth'] = 1.0\n",
    "# plt.xlim([0, 10])\n",
    "# plt.savefig('A10tilecoverage.png', dpi= 300, format='png')\n",
    "plt.show()"
   ]
  },
  {
   "cell_type": "code",
   "execution_count": 16,
   "id": "d1650851",
   "metadata": {},
   "outputs": [
    {
     "data": {
      "text/html": [
       "<div>\n",
       "<style scoped>\n",
       "    .dataframe tbody tr th:only-of-type {\n",
       "        vertical-align: middle;\n",
       "    }\n",
       "\n",
       "    .dataframe tbody tr th {\n",
       "        vertical-align: top;\n",
       "    }\n",
       "\n",
       "    .dataframe thead th {\n",
       "        text-align: right;\n",
       "    }\n",
       "</style>\n",
       "<table border=\"1\" class=\"dataframe\">\n",
       "  <thead>\n",
       "    <tr style=\"text-align: right;\">\n",
       "      <th></th>\n",
       "      <th>Tile</th>\n",
       "      <th>Counts</th>\n",
       "    </tr>\n",
       "  </thead>\n",
       "  <tbody>\n",
       "    <tr>\n",
       "      <th>0</th>\n",
       "      <td>AAAAATTCTAGATTTGTTTCTTTGATGCAAGGATTCTCTGATGGTT...</td>\n",
       "      <td>2412.0</td>\n",
       "    </tr>\n",
       "    <tr>\n",
       "      <th>1</th>\n",
       "      <td>AAAAATTCTCCATCTGGTTTGGCTCATTCTTCTGTTTCTGGTGTTG...</td>\n",
       "      <td>3680.0</td>\n",
       "    </tr>\n",
       "    <tr>\n",
       "      <th>2</th>\n",
       "      <td>AAACAAAATTCTCAAGTTGATCAATCTCCATTGTTGCCAGAAGAAG...</td>\n",
       "      <td>4561.0</td>\n",
       "    </tr>\n",
       "    <tr>\n",
       "      <th>3</th>\n",
       "      <td>AAACAAAGAGCTACTCCATTGACTCCAGTTGTTCCAGAATCTGATG...</td>\n",
       "      <td>3997.0</td>\n",
       "    </tr>\n",
       "    <tr>\n",
       "      <th>4</th>\n",
       "      <td>AAACAAAGATCTATTCCATTGTCTCCAATTGTTCCAGAATCTTCTG...</td>\n",
       "      <td>3947.0</td>\n",
       "    </tr>\n",
       "  </tbody>\n",
       "</table>\n",
       "</div>"
      ],
      "text/plain": [
       "                                                Tile  Counts\n",
       "0  AAAAATTCTAGATTTGTTTCTTTGATGCAAGGATTCTCTGATGGTT...  2412.0\n",
       "1  AAAAATTCTCCATCTGGTTTGGCTCATTCTTCTGTTTCTGGTGTTG...  3680.0\n",
       "2  AAACAAAATTCTCAAGTTGATCAATCTCCATTGTTGCCAGAAGAAG...  4561.0\n",
       "3  AAACAAAGAGCTACTCCATTGACTCCAGTTGTTCCAGAATCTGATG...  3997.0\n",
       "4  AAACAAAGATCTATTCCATTGTCTCCAATTGTTCCAGAATCTTCTG...  3947.0"
      ]
     },
     "execution_count": 16,
     "metadata": {},
     "output_type": "execute_result"
    }
   ],
   "source": [
    "union_filtered_Tilecounts = union_filtered.groupby('Tile')['totcount'].sum().reset_index()\n",
    "union_filtered_Tilecounts.columns = ['Tile', 'Counts']\n",
    "union_filtered_Tilecounts.head()"
   ]
  },
  {
   "cell_type": "code",
   "execution_count": 17,
   "id": "882aa0d0",
   "metadata": {},
   "outputs": [
    {
     "data": {
      "image/png": "[encoded data removed]",
      "text/plain": [
       "<Figure size 640x480 with 1 Axes>"
      ]
     },
     "metadata": {},
     "output_type": "display_data"
    }
   ],
   "source": [
    "# plot rptr counts on histogram\n",
    "\n",
    "plt.figure()\n",
    "plt.hist(union_filtered_Tilecounts['Counts'],  bins=500)\n",
    "plt.xlabel('Coverage')\n",
    "plt.ylabel('Counts')\n",
    "plt.yscale('log')\n",
    "# plt.rcParams['axes.linewidth'] = 1.0\n",
    "# plt.xlim([0, 10])\n",
    "# plt.savefig('A10tilecoverage.png', dpi= 300, format='png')\n",
    "plt.show()"
   ]
  },
  {
   "cell_type": "code",
   "execution_count": 18,
   "id": "6bb24c20",
   "metadata": {},
   "outputs": [
    {
     "data": {
      "text/plain": [
       "┌─────────────────────────────────────────────────────────────────────────────────────────────────────┬────────────────┐\n",
       "│                                                 TBB                                                 │     RPTRbc     │\n",
       "│                                               varchar                                               │    varchar     │\n",
       "├─────────────────────────────────────────────────────────────────────────────────────────────────────┼────────────────┤\n",
       "│ AATTCTGTTGCTCCAGATACTAGAAGACATTCTGTTCAACATTTGAGATCTCCATCTACTTATCCACAACAAATTCCACAAGATCCAAGAGTTACTA…  │ CGATCCACGCGCCA │\n",
       "│ ACTACTCATTTGACTTCTCCATTGTCATTCTTTGATTCTCCAAATGATTCTTATGATACTTCTCCATTGTTTGCTCCAGATGATATTACTCAAGATG…  │ CTGATAATGGCGCA │\n",
       "│ GTTGAATTGCCAGAAGAATTTACTGCATTTGATGGTGGTGCTAATACTGCATTCTCTTCTCCAGCTGTTCCATCTGTCTTTGACTTTGGTGGTTCTT…  │ AAGCCACCCGACGC │\n",
       "│ TCTCCAGCTACTAATGGTATTTCTAAATCTAGAAGAAGGAAAGGTCCATTGCCAGCTATTGCTGTTGATCCATCTGATAAGATTGCTTTGAAGAGAG…  │ CCGCCCGCAGTACG │\n",
       "│ GATATCTTTGCTGATGCATTTGGTTCTGCTCCACCATCTGCTGCATTTACTAATTTGACTTCTCCAGATATTGATGCTTCTCCATTCTTGAATGAAT…  │ CCGCCGACCTCTGA │\n",
       "└─────────────────────────────────────────────────────────────────────────────────────────────────────┴────────────────┘"
      ]
     },
     "execution_count": 18,
     "metadata": {},
     "output_type": "execute_result"
    }
   ],
   "source": [
    "conn.sql(\"DROP TABLE IF EXISTS UNION_CURRENT \")\n",
    "conn.sql(\"CREATE TABLE UNION_CURRENT AS SELECT TBB, RPTRbc FROM 'union_filtered'\")\n",
    "conn.sql(\"SELECT * FROM UNION_CURRENT LIMIT 5\")"
   ]
  },
  {
   "cell_type": "code",
   "execution_count": 19,
   "id": "e2436d30",
   "metadata": {},
   "outputs": [],
   "source": [
    "# conn.sql(\"COPY UNION_CURRENT TO '20240122_UNION.parquet' (FORMAT PARQUET);\") #move to seq analysis folder #deleted?\n",
    "# conn.sql(\"COPY UNION_CURRENT TO '20240123_UNION.parquet' (FORMAT PARQUET);\") #move to seq analysis folder"
   ]
  },
  {
   "cell_type": "code",
   "execution_count": null,
   "id": "dc933ca9",
   "metadata": {},
   "outputs": [],
   "source": []
  },
  {
   "cell_type": "code",
   "execution_count": 25,
   "id": "91a378ce",
   "metadata": {},
   "outputs": [
    {
     "name": "stdout",
     "output_type": "stream",
     "text": [
      "  Meaning  TotalCount\n",
      "0   apple          10\n",
      "1     egg         105\n"
     ]
    }
   ],
   "source": [
    "# Example DataFrame creation\n",
    "data = {'Code': ['abc', 'def', 'xyz'],\n",
    "        'Count': [5, 10, 100],\n",
    "        'Meaning': ['egg', 'apple', 'egg']}\n",
    "df = pd.DataFrame(data)\n",
    "\n",
    "# Group by 'Meaning' and sum the 'Count' for each group\n",
    "result_df = df.groupby('Meaning')['Count'].sum().reset_index()\n",
    "\n",
    "# Rename the columns if needed\n",
    "result_df.columns = ['Meaning', 'TotalCount']\n",
    "\n",
    "# Display the resulting DataFrame\n",
    "print(result_df)"
   ]
  },
  {
   "cell_type": "code",
   "execution_count": 20,
   "id": "ec534ded",
   "metadata": {},
   "outputs": [
    {
     "name": "stdout",
     "output_type": "stream",
     "text": [
      "  Code  Count   Meaning\n",
      "1  def     10     apple\n",
      "3  erg      4  platypus\n"
     ]
    }
   ],
   "source": [
    "# Assuming your DataFrame is named df\n",
    "# Replace the column names accordingly\n",
    "\n",
    "# Example DataFrame creation\n",
    "data = {'Code': ['abc', 'def', 'xyz', 'erg'],\n",
    "        'Count': [5, 10, 100, 4],\n",
    "        'Meaning': ['egg', 'apple', 'egg', 'platypus']}\n",
    "df = pd.DataFrame(data)\n",
    "\n",
    "# Identify duplicates based on the 'Meaning' column\n",
    "duplicates_mask = df.duplicated(subset='Meaning', keep=False)\n",
    "\n",
    "# Filter the DataFrame to exclude rows with duplicated 'Meaning' values\n",
    "result_df = df[~duplicates_mask]\n",
    "\n",
    "# Display the resulting DataFrame\n",
    "print(result_df)\n"
   ]
  },
  {
   "cell_type": "code",
   "execution_count": null,
   "id": "aa53134a",
   "metadata": {},
   "outputs": [],
   "source": []
  }
 ],
 "metadata": {
  "kernelspec": {
   "display_name": "biopython",
   "language": "python",
   "name": "biopython"
  },
  "language_info": {
   "codemirror_mode": {
    "name": "ipython",
    "version": 3
   },
   "file_extension": ".py",
   "mimetype": "text/x-python",
   "name": "python",
   "nbconvert_exporter": "python",
   "pygments_lexer": "ipython3",
   "version": "3.11.4"
  }
 },
 "nbformat": 4,
 "nbformat_minor": 5
}
