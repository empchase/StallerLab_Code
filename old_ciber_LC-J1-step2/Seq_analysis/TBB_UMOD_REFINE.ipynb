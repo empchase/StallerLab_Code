{
 "cells": [
  {
   "cell_type": "code",
   "execution_count": 1,
   "id": "6e3cf105",
   "metadata": {},
   "outputs": [],
   "source": [
    "import time\n",
    "import pandas as pd\n",
    "import re\n",
    "import numpy as np\n",
    "import matplotlib.pyplot as plt\n",
    "import seaborn as sns\n",
    "import os\n",
    "import csv\n",
    "import concurrent.futures\n",
    "\n",
    "import duckdb\n",
    "\n",
    "conn = duckdb.connect('/global/scratch/users/empchase/Seq_analysis/mydb.db') # create an in-memory database"
   ]
  },
  {
   "cell_type": "code",
   "execution_count": 11,
   "id": "eda65406",
   "metadata": {},
   "outputs": [
    {
     "data": {
      "text/plain": [
       "┌──────────┬─────────┬──────────────────┬──────────────────────┬───────────────────────────────────────────┬───────────┐\n",
       "│ database │ schema  │       name       │     column_names     │               column_types                │ temporary │\n",
       "│ varchar  │ varchar │     varchar      │      varchar[]       │                 varchar[]                 │  boolean  │\n",
       "├──────────┼─────────┼──────────────────┼──────────────────────┼───────────────────────────────────────────┼───────────┤\n",
       "│ mydb     │ main    │ SI_VI_AD0        │ [index, BCs, TBB, …  │ [VARCHAR, BIGINT, VARCHAR, VARCHAR]       │ false     │\n",
       "│ mydb     │ main    │ SI_VI_AD1        │ [index, BCs, TBB, …  │ [VARCHAR, BIGINT, VARCHAR, VARCHAR]       │ false     │\n",
       "│ mydb     │ main    │ SI_VI_RPTR0      │ [index, BCs, TBB, …  │ [VARCHAR, BIGINT, VARCHAR, VARCHAR]       │ false     │\n",
       "│ mydb     │ main    │ SI_VI_RPTR1      │ [index, BCs, TBB, …  │ [VARCHAR, BIGINT, VARCHAR, VARCHAR]       │ false     │\n",
       "│ mydb     │ main    │ TBB              │ [Tiles, ADbc, RPTR…  │ [VARCHAR, VARCHAR, VARCHAR, VARCHAR, VA…  │ false     │\n",
       "│ mydb     │ main    │ TBB_INTERSECTION │ [Tile, ADbc, RPTRb…  │ [VARCHAR, VARCHAR, VARCHAR, VARCHAR]      │ false     │\n",
       "│ mydb     │ main    │ TBB_UMOD         │ [Tiles, ADbc, RPTR…  │ [VARCHAR, VARCHAR, VARCHAR, VARCHAR]      │ false     │\n",
       "└──────────┴─────────┴──────────────────┴──────────────────────┴───────────────────────────────────────────┴───────────┘"
      ]
     },
     "execution_count": 11,
     "metadata": {},
     "output_type": "execute_result"
    }
   ],
   "source": [
    "conn.sql(\"SHOW ALL TABLES\")"
   ]
  },
  {
   "cell_type": "code",
   "execution_count": null,
   "id": "d83c6858",
   "metadata": {},
   "outputs": [],
   "source": [
    "start = time.perf_counter()\n",
    "conn.sql(\"\"\" DROP TABLE IF EXISTS TBB_UMOD  \"\"\")\n",
    "conn.sql(\"\"\" CREATE TABLE TBB_UMOD AS\n",
    "        SELECT Tiles, ADbc, RPTRbc\n",
    "        FROM TBB\n",
    "        WHERE RPTRBC IN (\n",
    "            SELECT RPTRBC\n",
    "            FROM TBB\n",
    "            GROUP BY RPTRBC\n",
    "            HAVING COUNT(DISTINCT TILES) = 1)\"\"\")\n",
    "\n",
    "finish = time.perf_counter()\n",
    "print(f'finished in {round(finish-start, 2)} seconds')\n",
    "print(conn.sql(\"SELECT * FROM TBB_UMOD LIMIT 5\"))\n",
    "\n",
    "#did not finish in >1 hr"
   ]
  },
  {
   "cell_type": "code",
   "execution_count": 14,
   "id": "aef0a68d",
   "metadata": {},
   "outputs": [],
   "source": [
    "# conn.sql(\"DROP TABLE TBB_NOV2023\")\n",
    "# conn.sql(\"ALTER TABLE TBB_UNION RENAME TO TBB_INTERSECTION\")\n",
    "# conn.sql(\n",
    "#     \"\"\"ALTER TABLE TBB_UMOD\n",
    "#     ADD TBB VARCHAR\"\"\")\n",
    "conn.sql(\n",
    "    \"\"\"UPDATE TBB_UMOD \n",
    "    SET TBB = CONCAT_WS('-',TILES, ADBC, RPTRBC);\"\"\")\n"
   ]
  },
  {
   "cell_type": "code",
   "execution_count": 16,
   "id": "65bb535b",
   "metadata": {},
   "outputs": [
    {
     "data": {
      "text/plain": [
       "┌──────────────────────┬─────────────┬────────────────┬────────────────────────────────────────────────────────────────┐\n",
       "│        Tiles         │    ADbc     │     RPTRbc     │                              TBB                               │\n",
       "│       varchar        │   varchar   │    varchar     │                            varchar                             │\n",
       "├──────────────────────┼─────────────┼────────────────┼────────────────────────────────────────────────────────────────┤\n",
       "│ CATAGATCTTCTCCATCT…  │ TCAAGTCGAAC │ CCCCCATCGGCGAG │ CATAGATCTTCTCCATCTGGTCATGATTCTCATTCTGCTACTGATATGGATTTGTTTGAT…  │\n",
       "└──────────────────────┴─────────────┴────────────────┴────────────────────────────────────────────────────────────────┘"
      ]
     },
     "execution_count": 16,
     "metadata": {},
     "output_type": "execute_result"
    }
   ],
   "source": [
    "conn.sql(\"\"\"SELECT * FROM TBB_UMOD LIMIT 1\"\"\")"
   ]
  },
  {
   "cell_type": "code",
   "execution_count": 27,
   "id": "3e20b937",
   "metadata": {},
   "outputs": [
    {
     "data": {
      "text/plain": [
       "'CATAGATCTTCTCCATCTGGTCATGATTCTCATTCTGCTACTGATATGGATTTGTTTGATGACTTTACTGCATTTGAAGGTGGTGCTTCTACTAATCAAAATTCATTTCCATCTGCTTAT-TCAAGTCGAAC-CCCCCATCGGCGAG'"
      ]
     },
     "execution_count": 27,
     "metadata": {},
     "output_type": "execute_result"
    }
   ],
   "source": [
    "conn.sql(\"\"\"SELECT TBB FROM TBB_UMOD WHERE ADBC = 'TCAAGTCGAAC'\"\"\").df().iloc[0,0]"
   ]
  },
  {
   "cell_type": "code",
   "execution_count": 28,
   "id": "84ac735a",
   "metadata": {},
   "outputs": [
    {
     "data": {
      "text/html": [
       "<div>\n",
       "<style scoped>\n",
       "    .dataframe tbody tr th:only-of-type {\n",
       "        vertical-align: middle;\n",
       "    }\n",
       "\n",
       "    .dataframe tbody tr th {\n",
       "        vertical-align: top;\n",
       "    }\n",
       "\n",
       "    .dataframe thead th {\n",
       "        text-align: right;\n",
       "    }\n",
       "</style>\n",
       "<table border=\"1\" class=\"dataframe\">\n",
       "  <thead>\n",
       "    <tr style=\"text-align: right;\">\n",
       "      <th></th>\n",
       "      <th>count(Tiles)</th>\n",
       "      <th>TBB</th>\n",
       "    </tr>\n",
       "  </thead>\n",
       "  <tbody>\n",
       "    <tr>\n",
       "      <th>0</th>\n",
       "      <td>1</td>\n",
       "      <td>CCATCTTCTGTTGCTGGTGTTAATGCTAGACAAAGGAAACCATTGC...</td>\n",
       "    </tr>\n",
       "    <tr>\n",
       "      <th>1</th>\n",
       "      <td>1</td>\n",
       "      <td>CAAGAAGAATTGGTTGATCCACCTAAACCATCTCAATCTCCATTGG...</td>\n",
       "    </tr>\n",
       "    <tr>\n",
       "      <th>2</th>\n",
       "      <td>1</td>\n",
       "      <td>GCTAGATCTCATACTGCTGCTACTATTCCACCATTGGACTTCTCTG...</td>\n",
       "    </tr>\n",
       "    <tr>\n",
       "      <th>3</th>\n",
       "      <td>1</td>\n",
       "      <td>CATTCTTCTGTTTCTGGTGTTAATTCTAGAAGAAGAGATAAACCAT...</td>\n",
       "    </tr>\n",
       "    <tr>\n",
       "      <th>4</th>\n",
       "      <td>1</td>\n",
       "      <td>GCTTCTCCAACTGCTAGATCTTCTATTTCTGGTAGGAAAGGTTCTA...</td>\n",
       "    </tr>\n",
       "  </tbody>\n",
       "</table>\n",
       "</div>"
      ],
      "text/plain": [
       "   count(Tiles)                                                TBB\n",
       "0             1  CCATCTTCTGTTGCTGGTGTTAATGCTAGACAAAGGAAACCATTGC...\n",
       "1             1  CAAGAAGAATTGGTTGATCCACCTAAACCATCTCAATCTCCATTGG...\n",
       "2             1  GCTAGATCTCATACTGCTGCTACTATTCCACCATTGGACTTCTCTG...\n",
       "3             1  CATTCTTCTGTTTCTGGTGTTAATTCTAGAAGAAGAGATAAACCAT...\n",
       "4             1  GCTTCTCCAACTGCTAGATCTTCTATTTCTGGTAGGAAAGGTTCTA..."
      ]
     },
     "execution_count": 28,
     "metadata": {},
     "output_type": "execute_result"
    }
   ],
   "source": [
    "countsdf = conn.sql(\n",
    "    \"\"\"SELECT COUNT(Tiles), TBB\n",
    "    FROM TBB_UMOD\n",
    "    GROUP BY TBB\n",
    "    ORDER BY COUNT(Tiles) DESC;\"\"\").df()\n",
    "\n",
    "countsdf.head()"
   ]
  },
  {
   "cell_type": "code",
   "execution_count": null,
   "id": "dfbb9ab7",
   "metadata": {},
   "outputs": [],
   "source": []
  }
 ],
 "metadata": {
  "kernelspec": {
   "display_name": "biopython",
   "language": "python",
   "name": "biopython"
  },
  "language_info": {
   "codemirror_mode": {
    "name": "ipython",
    "version": 3
   },
   "file_extension": ".py",
   "mimetype": "text/x-python",
   "name": "python",
   "nbconvert_exporter": "python",
   "pygments_lexer": "ipython3",
   "version": "3.11.4"
  }
 },
 "nbformat": 4,
 "nbformat_minor": 5
}
