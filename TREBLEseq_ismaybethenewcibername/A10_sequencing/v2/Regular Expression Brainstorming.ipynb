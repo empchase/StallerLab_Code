{
 "cells": [
  {
   "cell_type": "code",
   "execution_count": 1,
   "id": "241927c4",
   "metadata": {},
   "outputs": [],
   "source": [
    "import re"
   ]
  },
  {
   "cell_type": "code",
   "execution_count": 2,
   "id": "75b26250",
   "metadata": {},
   "outputs": [
    {
     "data": {
      "text/plain": [
       "'/global/scratch/users/empchase/A10_sequencing/v2'"
      ]
     },
     "execution_count": 2,
     "metadata": {},
     "output_type": "execute_result"
    }
   ],
   "source": [
    "pwd\n"
   ]
  },
  {
   "cell_type": "code",
   "execution_count": 2,
   "id": "2127f47c",
   "metadata": {},
   "outputs": [],
   "source": [
    "def complement(seqn):\n",
    "    complement = {'A': 'T', 'C': 'G', 'G': 'C', 'T': 'A', 'N':'N', 'X':'X'} \n",
    "    bases = list(seqn) \n",
    "    bases = [complement[base] for base in bases] \n",
    "    return ''.join(bases)\n",
    "def reverse_complement(s):\n",
    "        return complement(s[::-1])"
   ]
  },
  {
   "cell_type": "code",
   "execution_count": 3,
   "id": "3f786421",
   "metadata": {},
   "outputs": [
    {
     "name": "stdout",
     "output_type": "stream",
     "text": [
      "ACTGCGGGCTCTACTTCATCGGCTAGCNNNNNNNNNNNNNNNNNNNNNNNNNNNNNNNNNNNNNNNNNNNNNNNNNNNNNNNNNNNNNNNNNNNNNNNNNNNNNNNNNNNNNNNNNNNNNNNNNNNNNNNNNNNNNNNNNNNNNNNNTGACTAGCTGAGGCGCGCXNNNNNNNNNNNGGGCCCCTTAAGCTCGAXNNNNNNNNNNNNNNGGCCGCTCATGTAATTAGTTATG\n"
     ]
    }
   ],
   "source": [
    "ADeg = reverse_complement('CAtaactaattacatgaGCGGCCNNNNNNNNNNNNNNXTCGAGCTTAAGGGGCCCNNNNNNNNNNNXGCGCGCCTCAGCTAGTCANNNNNNNNNNNNNNNNNNNNNNNNNNNNNNNNNNNNNNNNNNNNNNNNNNNNNNNNNNNNNNNNNNNNNNNNNNNNNNNNNNNNNNNNNNNNNNNNNNNNNNNNNNNNNNNNNNNNNNNNgctagccgatgaagtagagcccgcagt'.upper())\n",
    "print(ADeg)\n",
    "ad_preceder = \"GGCTAGC\"\n",
    "bc1_preceder = \"CGCGCC\"\n",
    "# bc_anteceder = \"GGAGAGAA\" #nt. antecede also means go before haha so in the future use \"follow\" or \"succeed\"\n",
    "bc2_preceder = \"CTCGAG\"\n",
    "ad_length = 120\n",
    "bc1length = 11\n",
    "bc2length = 14"
   ]
  },
  {
   "cell_type": "code",
   "execution_count": 22,
   "id": "7ad6708e",
   "metadata": {},
   "outputs": [
    {
     "name": "stdout",
     "output_type": "stream",
     "text": [
      "['ACTGCGGGCTCTACTTCATC', 'NNNNNNNNNNNNNNNNNNNNNNNNNNNNNNNNNNNNNNNNNNNNNNNNNNNNNNNNNNNNNNNNNNNNNNNNNNNNNNNNNNNNNNNNNNNNNNNNNNNNNNNNNNNNNNNNNNNNNNNNTGACTAGCTGAGGCGCGCCNNNNNNNNNNNGGGCCCCTTAAGCTCGAGNNNNNNNNNNNNNNGGCCGCTCATGTAATTAGTTATG']\n",
      "NNNNNNNNNNNNNNNNNNNNNNNNNNNNNNNNNNNNNNNNNNNNNNNNNNNNNNNNNNNNNNNNNNNNNNNNNNNNNNNNNNNNNNNNNNNNNNNNNNNNNNNNNNNNNNNNNNNNNNNN NNNNNNNNNNN\n"
     ]
    }
   ],
   "source": [
    "#from Jordan's https://massivejords.github.io/tools/docs/_build/html/_modules/labtools/adtools/finder.html#pull_AD\n",
    "# searched_read = re.split(ad_preceder, ADeg, maxsplit=1) #first ad search\n",
    "# print(searched_read)\n",
    "# barcoded = True\n",
    "# AD = None\n",
    "# barcode = None\n",
    "\n",
    "# if len(searched_read) == 2: #if the first ad search was successful\n",
    "#     roi = searched_read[1] #then take the ad search\n",
    "#     AD = roi[:ad_length] \n",
    "#     if barcoded: #and if there is a barcode expected after the ad\n",
    "#         searched_read = re.split(bc_preceder, roi[ad_length:], maxsplit=1) #look for the barcode using the bc preceder in the portion of the read beyond the AD\n",
    "#         if len(searched_read) == 2: #if bc search was successful\n",
    "#             barcode = searched_read[1][:bclength] #the barcode is the first 11 characters of the search result\n",
    "#         else: #if bc search via preceder was unsuccessful\n",
    "#             searched_read = re.split(bc_anteceder, roi[ad_length:], maxsplit=1) #then search using anteceder in the region following the AD \n",
    "#             if len(searched_read) == 2: # if the anteceder bc search is successful\n",
    "#                 barcode = searched_read[0][-bclength:] #then the bc is in the first search term, the last 11 characters in that string\n",
    "#         if barcode == None or len(barcode) != bclength: #if both bc searches fail\n",
    "#             barcode = None #then the barcode can't be found\n",
    "        \n",
    "#     else: AD = roi[:ad_length] #if not barcoded, then here is the ad alone\n",
    "        \n",
    "# print(AD, barcode)"
   ]
  },
  {
   "cell_type": "code",
   "execution_count": 5,
   "id": "9e32bb77",
   "metadata": {},
   "outputs": [
    {
     "name": "stdout",
     "output_type": "stream",
     "text": [
      "['ACTGCGGGCTCTACTTCATC', 'NNNNNNNNNNNNNNNNNNNNNNNNNNNNNNNNNNNNNNNNNNNNNNNNNNNNNNNNNNNNNNNNNNNNNNNNNNNNNNNNNNNNNNNNNNNNNNNNNNNNNNNNNNNNNNNNNNNNNNNNTGACTAGCTGAGGCGCGCXNNNNNNNNNNNGGGCCCCTTAAGCTCGAXNNNNNNNNNNNNNNGGCCGCTCATGTAATTAGTTATG']\n",
      "NNNNNNNNNNNNNNNNNNNNNNNNNNNNNNNNNNNNNNNNNNNNNNNNNNNNNNNNNNNNNNNNNNNNNNNNNNNNNNNNNNNNNNNNNNNNNNNNNNNNNNNNNNNNNNNNNNNNNNNNTGACTAGCTGAGGCGCGCXNNNNNNNNNNNGGGCCCCTTAAGCTCGAXNNNNNNNNNNNNNNGGCCGCTCATGTAATTAGTTATG\n",
      "120\n"
     ]
    },
    {
     "ename": "TypeError",
     "evalue": "object of type 'NoneType' has no len()",
     "output_type": "error",
     "traceback": [
      "\u001b[0;31m---------------------------------------------------------------------------\u001b[0m",
      "\u001b[0;31mTypeError\u001b[0m                                 Traceback (most recent call last)",
      "Cell \u001b[0;32mIn[5], line 19\u001b[0m\n\u001b[1;32m     17\u001b[0m     \u001b[38;5;28;01melse\u001b[39;00m: \u001b[38;5;66;03m#if bc search via preceder was unsuccessful\u001b[39;00m\n\u001b[1;32m     18\u001b[0m         barcode1 \u001b[38;5;241m=\u001b[39m roi[\u001b[38;5;241m139\u001b[39m:\u001b[38;5;241m150\u001b[39m]\n\u001b[0;32m---> 19\u001b[0m         \u001b[38;5;28mprint\u001b[39m(\u001b[38;5;28;43mlen\u001b[39;49m\u001b[43m(\u001b[49m\u001b[43mbarcode\u001b[49m\u001b[43m)\u001b[49m)\n\u001b[1;32m     21\u001b[0m     searched_read \u001b[38;5;241m=\u001b[39m re\u001b[38;5;241m.\u001b[39msplit(bc2_preceder, roi[ad_length:], maxsplit\u001b[38;5;241m=\u001b[39m\u001b[38;5;241m1\u001b[39m) \u001b[38;5;66;03m#look for the barcode using the bc preceder in the portion of the read beyond the AD\u001b[39;00m\n\u001b[1;32m     22\u001b[0m \u001b[38;5;66;03m#     print(searched_read)\u001b[39;00m\n",
      "\u001b[0;31mTypeError\u001b[0m: object of type 'NoneType' has no len()"
     ]
    }
   ],
   "source": [
    "searched_read = re.split(ad_preceder, ADeg, maxsplit=1) #first ad search\n",
    "print(searched_read)\n",
    "barcoded = True\n",
    "AD = None\n",
    "barcode = None\n",
    "\n",
    "if len(searched_read) == 2: #if the first ad search was successful\n",
    "\n",
    "    roi = searched_read[1] #then take the ad search\n",
    "    print(roi)\n",
    "    AD = roi[:ad_length]\n",
    "    print(len(AD))\n",
    "\n",
    "    searched_read = re.split(bc1_preceder, roi[ad_length:], maxsplit=1) #look for the barcode using the bc preceder in the portion of the read beyond the AD\n",
    "    if len(searched_read) == 2: #if bc search was successful\n",
    "        barcode1 = searched_read[1][:bc1length] #the barcode is the first 11 characters of the search result\n",
    "    else: #if bc search via preceder was unsuccessful\n",
    "        barcode1 = roi[139:150]\n",
    "        print(len(barcode))\n",
    "\n",
    "    searched_read = re.split(bc2_preceder, roi[ad_length:], maxsplit=1) #look for the barcode using the bc preceder in the portion of the read beyond the AD\n",
    "#     print(searched_read)\n",
    "    if len(searched_read) == 2:\n",
    "        barcode2 = searched_read[1][:bc2length]\n",
    "    else: #if bc search via preceder was unsuccessful\n",
    "        barcode2 = roi[168:182]\n",
    "        \n",
    "\n",
    "        \n",
    "print(AD, barcode1, barcode2)"
   ]
  },
  {
   "cell_type": "code",
   "execution_count": null,
   "id": "948f3cfe",
   "metadata": {},
   "outputs": [],
   "source": [
    "def read_fastq_big(filename, subset = None, progress = True, **kwargs):\n",
    "    \"\"\"Generator for fastq file without opening into memory.\n",
    "    \n",
    "    Yields 4 lines of a fastq file at a time (name, seq, +, error).\n",
    "    Useful in situations where the fastq file is large and opening into RAM\n",
    "    would crash computer. Supports subsetting with sklearn.sample_without_replacement().\n",
    "    \n",
    "    Parameters\n",
    "    ----------\n",
    "    filename : str \n",
    "        Path to fastq or fastq.gz file.\n",
    "    subset: int\n",
    "        Number of reads to randomly subsample from file.\n",
    "    \n",
    "    Yields\n",
    "    ----------\n",
    "    (name, seq, qual) : (str, str, str)\n",
    "        tuple of str containing name, seq and quality for entry.\n",
    "    \n",
    "    Examples\n",
    "    ----------\n",
    "    >>> for line in read_fastq_big(\"example.fasta\"):\n",
    "    ...     name = line[0]\n",
    "    ...     seq = line[1]\n",
    "    ...     qual = line[2]\n",
    "    ...     print(name, seq)\n",
    "    Geraldine\n",
    "    ACGTGCTGAGGCTGCGCTAGCAT\n",
    "    Gustavo\n",
    "    CTGATGCTAGATGCTGATA\n",
    "    \"\"\"\n",
    "    name = None\n",
    "    seqs = []\n",
    "    if progress: \n",
    "        print(f\"Opening file {filename.split('/')[-1]} ...\", flush = True)\n",
    "\n",
    "#     if filename.endswith('.gz') and subset != None:\n",
    "#         raise NotImplementedError(\"No implementation for subsetting from a gzip file, please unzip.\")\n",
    "#     elif filename.endswith('.gz'):\n",
    "    if filename.endswith('.gz'):    \n",
    "        opener = gzip.open(filename, 'rt')\n",
    "    else: opener = open(filename)\n",
    "\n",
    "\n",
    "# #     if subset != None:\n",
    "# #         if progress: \n",
    "# #             print(\"Counting reads...\", end = '\\r', flush = True)\n",
    "# #         numreads = get_numreads(filename)\n",
    "# #         # every 4 lines is a read in fastq\n",
    "# #         all_reads = range(0, numreads*4, 4)\n",
    "# #         if subset != None:\n",
    "# #             # a list of indices to subsample\n",
    "# #             subset_indices = sample_without_replacement(len(all_reads), subset)\n",
    "# #             # get the actual read number from the index (aka the index*4)\n",
    "# #             subset_reads = [all_reads[i] for i in subset_indices]\n",
    "# #             if progress: \n",
    "# #                 print(\"Reading lines...\", end = '\\r', flush = True)\n",
    "# #             linenum = 0\n",
    "# #             total_line_num = 0\n",
    "# #             yielded_reads = 0\n",
    "\n",
    "# #             for line in subset_reads:\n",
    "# #                 name = linecache.getline(filename, line+1)\n",
    "# #                 seq = linecache.getline(filename, line+2)\n",
    "# #                 qual = linecache.getline(filename, line+4)\n",
    "\n",
    "# #                 yield(name.rstrip(), seq.rstrip(), qual.rstrip())\n",
    "# #                 yielded_reads += 1\n",
    "# #             if progress:\n",
    "# #                 print(f\"Total parsed reads = {numreads} with {yielded_reads} yielded                      \", flush = True)\n",
    "#     else:\n",
    "\n",
    "\n",
    "        with opener as file:\n",
    "            linenum = 0\n",
    "            readnum = 0\n",
    "            if progress: \n",
    "                print(f\"Reading lines... {readnum} reads completed\", end = '\\r', flush = True)\n",
    "            char_list = ['|', '/', '-', '\\\\']\n",
    "            c = 0\n",
    "\n",
    "            for line in file:\n",
    "                linenum += 1\n",
    "                if linenum == 5:\n",
    "                    linenum = 1\n",
    "                if linenum == 1: name = line\n",
    "                elif linenum == 2: seq = line\n",
    "                elif linenum == 3: opt = line\n",
    "                elif linenum == 4: \n",
    "                    qual = line\n",
    "                    yield(name.rstrip(), seq.rstrip(), qual.rstrip())\n",
    "                    readnum += 1\n",
    "                    if readnum%100000 == 0:\n",
    "                        char = char_list[c]\n",
    "                        c += 1\n",
    "                        if c == 4:\n",
    "                            c = 0\n",
    "                        if progress: \n",
    "                            print(f\"Reading lines {char} {readnum} reads completed\", end = '\\r', flush = True)\n",
    "            if progress:\n",
    "                print(f\"Total parsed reads = {readnum:,}                      \", flush = True)\n",
    "        opener.close()\n"
   ]
  }
 ],
 "metadata": {
  "kernelspec": {
   "display_name": "biopython",
   "language": "python",
   "name": "biopython"
  },
  "language_info": {
   "codemirror_mode": {
    "name": "ipython",
    "version": 3
   },
   "file_extension": ".py",
   "mimetype": "text/x-python",
   "name": "python",
   "nbconvert_exporter": "python",
   "pygments_lexer": "ipython3",
   "version": "3.11.4"
  }
 },
 "nbformat": 4,
 "nbformat_minor": 5
}
