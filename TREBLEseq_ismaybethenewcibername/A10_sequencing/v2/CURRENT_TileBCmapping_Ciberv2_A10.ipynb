{
 "cells": [
  {
   "cell_type": "code",
   "execution_count": 1,
   "id": "64b15db8",
   "metadata": {},
   "outputs": [],
   "source": [
    "import re\n",
    "import pandas as pd\n",
    "import seaborn as sns\n",
    "import time\n",
    "import matplotlib.pyplot as plt\n"
   ]
  },
  {
   "cell_type": "code",
   "execution_count": 3,
   "id": "16702074",
   "metadata": {},
   "outputs": [],
   "source": [
    "seqfile = '/global/scratch/projects/fc_mvslab/data/sequencing/CZB_Feb2024/A10_A11/results/A10_1_sequences.txt'\n",
    "a10design = 'a10_designfile.csv'"
   ]
  },
  {
   "cell_type": "code",
   "execution_count": 3,
   "id": "592384c4",
   "metadata": {},
   "outputs": [],
   "source": [
    "def complement(seqn):\n",
    "    complement = {'A': 'T', 'C': 'G', 'G': 'C', 'T': 'A', 'N':'N', 'X':'X'} \n",
    "    bases = list(seqn) \n",
    "    bases = [complement[base] for base in bases] \n",
    "    return ''.join(bases)\n",
    "def reverse_complement(s):\n",
    "        return complement(s[::-1])"
   ]
  },
  {
   "cell_type": "code",
   "execution_count": 8,
   "id": "8c00d423",
   "metadata": {},
   "outputs": [
    {
     "name": "stdout",
     "output_type": "stream",
     "text": [
      "20728\n"
     ]
    }
   ],
   "source": [
    "def design_dict(des):\n",
    "    dt = []\n",
    "    with open(des, 'r') as f_des:\n",
    "        # open the design file for reading\n",
    "        for line in f_des:\n",
    "            if \"ArrayDNA\" in line:\n",
    "                pass\n",
    "            else:\n",
    "                dt.append(line.strip())\n",
    "    \n",
    "    dt_dict = {}\n",
    "    for i in dt:\n",
    "        dt_dict[i] = 1\n",
    "        \n",
    "    print(len(dt_dict))\n",
    "    return(dt_dict)\n",
    "    \n",
    "dtiles = design_dict(a10design)"
   ]
  },
  {
   "cell_type": "code",
   "execution_count": 7,
   "id": "37388a8c",
   "metadata": {},
   "outputs": [
    {
     "name": "stdout",
     "output_type": "stream",
     "text": [
      "20728\n"
     ]
    }
   ],
   "source": [
    "#get list of designed tiles\n",
    "\n",
    "a10dt = []\n",
    "\n",
    "with open(a10design, 'r') as f: #read in design file (just arrayDNA column)\n",
    "    for line in f:\n",
    "        if \"ArrayDNA\" in line:\n",
    "            pass\n",
    "        else:\n",
    "            a10dt.append(line.strip())\n",
    "# print(a10dt[:5])\n",
    "print(len(a10dt))#20783\n",
    "\n",
    "#create a dictionary of values\n",
    "dtiles = {}\n",
    "for i in a10dt:\n",
    "    dtiles[i] = 1\n",
    "    \n",
    "# print(d)"
   ]
  },
  {
   "cell_type": "code",
   "execution_count": 5,
   "id": "a81bd022",
   "metadata": {},
   "outputs": [],
   "source": [
    "def tilebc_mapper(read, design_dict,\n",
    "                  ad_preceder = \"GGCTAGC\", ad_length = 120, \n",
    "                  bc1_preceder = \"CGCGCC\", bc1length = 11,\n",
    "                  bc2_preceder = \"CTCGAG\", bc2length = 14):\n",
    "    \"\"\"\n",
    "    read: \n",
    "    ad_preceder:\n",
    "    ad_length:\n",
    "    bc1_preceder:\n",
    "    bc1_length:\n",
    "    bc2_preceder:\n",
    "    bc2_length:\n",
    "    \"\"\"\n",
    "    \n",
    "    #Initial ad search\n",
    "    searched_read = re.split(ad_preceder, read, maxsplit=1) \n",
    "    AD = None\n",
    "    barcode1 = None\n",
    "    barcode2 = None\n",
    "    designed = 0\n",
    "    \n",
    "    if len(searched_read) == 2: #if the first ad search was successful\n",
    "        roi = searched_read[1] #then take the ad search\n",
    "#         print(\"roi =\", roi)\n",
    "        AD = roi[:ad_length] #and save the AD as the first part of the string\n",
    "        \n",
    "        #Check if AD Tile was designed\n",
    "        if design_dict:\n",
    "            if AD in design_dict:\n",
    "#                 print('yes designed')\n",
    "                designed = 1\n",
    "#             else:\n",
    "#                 print('not designed')\n",
    "\n",
    "        \n",
    "        #Initial bc1 search\n",
    "        searched_read = re.split(bc1_preceder, roi[ad_length:], maxsplit=1) #look for the barcode using the bc preceder in the portion of the read beyond the AD\n",
    "        if len(searched_read) == 2: #if initial bc1 search was successful\n",
    "            barcode1 = searched_read[1][:bc1length] #then the barcode is the first 11 characters of the search result\n",
    "        else: #if bc search via preceder was unsuccessful\n",
    "            #Secondary bc1 search\n",
    "            barcode1 = roi[139:150]\n",
    "    #         print(len(barcode))\n",
    "\n",
    "        #Initial bc2 search\n",
    "        searched_read = re.split(bc2_preceder, roi[ad_length:], maxsplit=1) #look for the barcode using the bc preceder in the portion of the read beyond the AD\n",
    "    #     print(searched_read)\n",
    "        if len(searched_read) == 2: #if search was successful\n",
    "            barcode2 = searched_read[1][:bc2length] #bc2 is the first character of search result\n",
    "        else: #if bc search via preceder was unsuccessful\n",
    "            #Secondary bc2 search\n",
    "            barcode2 = roi[168:182]\n",
    "    \n",
    "    return AD, barcode1, barcode2, designed"
   ]
  },
  {
   "cell_type": "code",
   "execution_count": 6,
   "id": "144df8f7",
   "metadata": {},
   "outputs": [
    {
     "data": {
      "text/plain": [
       "('NNNNNNNNNNNNNNNNNNNNNNNNNNNNNNNNNNNNNNNNNNNNNNNNNNNNNNNNNNNNNNNNNNNNNNNNNNNNNNNNNNNNNNNNNNNNNNNNNNNNNNNNNNNNNNNNNNNNNNNN',\n",
       " 'NNNNNNNNNNN',\n",
       " 'NNNNNNNNNNNNNN',\n",
       " 0)"
      ]
     },
     "execution_count": 6,
     "metadata": {},
     "output_type": "execute_result"
    }
   ],
   "source": [
    "ADeg = reverse_complement('CAtaactaattacatgaGCGGCCNNNNNNNNNNNNNNXTCGAGCTTAAGGGGCCCNNNNNNNNNNNXGCGCGCCTCAGCTAGTCANNNNNNNNNNNNNNNNNNNNNNNNNNNNNNNNNNNNNNNNNNNNNNNNNNNNNNNNNNNNNNNNNNNNNNNNNNNNNNNNNNNNNNNNNNNNNNNNNNNNNNNNNNNNNNNNNNNNNNNNgctagccgatgaagtagagcccgcagt'.upper())\n",
    "tilebc_mapper(ADeg, dtiles)"
   ]
  },
  {
   "cell_type": "code",
   "execution_count": 7,
   "id": "b0b55d97",
   "metadata": {},
   "outputs": [],
   "source": [
    "def buildmapdf (readfile, readcount):\n",
    "    \"\"\"Takes file of sequences only (readfile) and #lines in that file (readcount)\"\"\"\n",
    "    \n",
    "    #set up progress updates\n",
    "    iteration_count = 0 #start a counter for the loop to be able to print progress at N iterations\n",
    "    total_iterations = readcount \n",
    "    progress_counter = readcount/10\n",
    "    \n",
    "    total_designed = 0 #to immediately count how many tiles were designed\n",
    "    start1 = time.perf_counter() #start counter\n",
    "    \n",
    "    data = []\n",
    "    \n",
    "    with open(readfile, 'r') as fin:\n",
    "        print(\"Opened file\")\n",
    "\n",
    "        for line in fin:\n",
    "            \"\"\"\n",
    "            Each iteration is \n",
    "            \"\"\"\n",
    "            iteration_count += 1\n",
    "            #clean the read\n",
    "            seq = line.strip()\n",
    "            seq = reverse_complement(seq)\n",
    "            #find ad tile and bcs\n",
    "            to_df = tilebc_mapper(seq, dtiles) #uses gcn4 designed tiles to check for designed\n",
    "            #count the number of designed\n",
    "            total_designed += to_df[3]\n",
    "\n",
    "            if iteration_count % progress_counter ==0: # progress update\n",
    "                print((f\"Iteration {iteration_count}: Progress {iteration_count/total_iterations*100:.2f}%\"))\n",
    "                progtime = time.perf_counter()\n",
    "                print(f'iteration time progress: {round(progtime-start1, 2)} seconds')\n",
    "\n",
    "#             print(\"results = \", ad, adbc, rptrbc, dquery)\n",
    "            data.append(to_df)\n",
    "        \n",
    "    finish = time.perf_counter()\n",
    "    print(f'finished processing in {round(finish-start1, 2)} seconds')\n",
    "    print(f'Total designed = {total_designed} out of {total_iterations}')\n",
    "#     print(data)\n",
    "    output_df = pd.DataFrame(data, columns=['AD', 'AD_BC', 'RPTR_BC', 'Designed'])\n",
    "    finish = time.perf_counter()\n",
    "    print(f'finished creating df in {round(finish-start1, 2)} seconds')\n",
    "    return output_df"
   ]
  },
  {
   "cell_type": "code",
   "execution_count": 8,
   "id": "a0a31a45",
   "metadata": {},
   "outputs": [
    {
     "name": "stdout",
     "output_type": "stream",
     "text": [
      "Opened file\n",
      "finished processing in 2540.71 seconds\n",
      "Total designed = 48675583 out of 138420998\n",
      "finished creating df in 2614.67 seconds\n"
     ]
    }
   ],
   "source": [
    "bigmap = buildmapdf(seqfile, 138420998)"
   ]
  },
  {
   "cell_type": "code",
   "execution_count": 9,
   "id": "9e01f05d",
   "metadata": {},
   "outputs": [
    {
     "data": {
      "text/html": [
       "<div>\n",
       "<style scoped>\n",
       "    .dataframe tbody tr th:only-of-type {\n",
       "        vertical-align: middle;\n",
       "    }\n",
       "\n",
       "    .dataframe tbody tr th {\n",
       "        vertical-align: top;\n",
       "    }\n",
       "\n",
       "    .dataframe thead th {\n",
       "        text-align: right;\n",
       "    }\n",
       "</style>\n",
       "<table border=\"1\" class=\"dataframe\">\n",
       "  <thead>\n",
       "    <tr style=\"text-align: right;\">\n",
       "      <th></th>\n",
       "      <th>AD</th>\n",
       "      <th>AD_BC</th>\n",
       "      <th>RPTR_BC</th>\n",
       "      <th>Designed</th>\n",
       "    </tr>\n",
       "  </thead>\n",
       "  <tbody>\n",
       "    <tr>\n",
       "      <th>0</th>\n",
       "      <td>ACTTCTAACTTTCATCATGATCAAGAAGCTGACTTTGTCTTGTTTC...</td>\n",
       "      <td>CCCCGCCATGG</td>\n",
       "      <td>CAGTTATCTCGTTA</td>\n",
       "      <td>0</td>\n",
       "    </tr>\n",
       "    <tr>\n",
       "      <th>1</th>\n",
       "      <td>AAAGCTACTGGTCCACCAGCATCTCCAGTTATTAGAGGTTCTGCTT...</td>\n",
       "      <td>TGCATTCCTAC</td>\n",
       "      <td>ACGGATTAGTCGTA</td>\n",
       "      <td>0</td>\n",
       "    </tr>\n",
       "    <tr>\n",
       "      <th>2</th>\n",
       "      <td>GGTTCTGGTACTCCACAAAGGAAAGGTTCTGTTGCTTCTACTGGTC...</td>\n",
       "      <td>TTTCAGCTGTT</td>\n",
       "      <td>GAAGGAGCAGGTGC</td>\n",
       "      <td>0</td>\n",
       "    </tr>\n",
       "    <tr>\n",
       "      <th>3</th>\n",
       "      <td>AGATTGGAAGCTACTTATGAGAATATTAGAATTAATCAATCTTCTT...</td>\n",
       "      <td>TTCGCTTAATG</td>\n",
       "      <td>AGAAGAACTGAGGA</td>\n",
       "      <td>1</td>\n",
       "    </tr>\n",
       "    <tr>\n",
       "      <th>4</th>\n",
       "      <td>TCTTGGTTGCCTTCTTCTTCTTCTTCTCCACCAGCTGCATCTGCTC...</td>\n",
       "      <td>CGTTGCTGACA</td>\n",
       "      <td>GAAGGAAATATGAT</td>\n",
       "      <td>0</td>\n",
       "    </tr>\n",
       "  </tbody>\n",
       "</table>\n",
       "</div>"
      ],
      "text/plain": [
       "                                                  AD        AD_BC  \\\n",
       "0  ACTTCTAACTTTCATCATGATCAAGAAGCTGACTTTGTCTTGTTTC...  CCCCGCCATGG   \n",
       "1  AAAGCTACTGGTCCACCAGCATCTCCAGTTATTAGAGGTTCTGCTT...  TGCATTCCTAC   \n",
       "2  GGTTCTGGTACTCCACAAAGGAAAGGTTCTGTTGCTTCTACTGGTC...  TTTCAGCTGTT   \n",
       "3  AGATTGGAAGCTACTTATGAGAATATTAGAATTAATCAATCTTCTT...  TTCGCTTAATG   \n",
       "4  TCTTGGTTGCCTTCTTCTTCTTCTTCTCCACCAGCTGCATCTGCTC...  CGTTGCTGACA   \n",
       "\n",
       "          RPTR_BC  Designed  \n",
       "0  CAGTTATCTCGTTA         0  \n",
       "1  ACGGATTAGTCGTA         0  \n",
       "2  GAAGGAGCAGGTGC         0  \n",
       "3  AGAAGAACTGAGGA         1  \n",
       "4  GAAGGAAATATGAT         0  "
      ]
     },
     "execution_count": 9,
     "metadata": {},
     "output_type": "execute_result"
    }
   ],
   "source": [
    "bigmap.head()"
   ]
  },
  {
   "cell_type": "code",
   "execution_count": 10,
   "id": "7c6ce44c",
   "metadata": {},
   "outputs": [
    {
     "data": {
      "text/html": [
       "<div>\n",
       "<style scoped>\n",
       "    .dataframe tbody tr th:only-of-type {\n",
       "        vertical-align: middle;\n",
       "    }\n",
       "\n",
       "    .dataframe tbody tr th {\n",
       "        vertical-align: top;\n",
       "    }\n",
       "\n",
       "    .dataframe thead th {\n",
       "        text-align: right;\n",
       "    }\n",
       "</style>\n",
       "<table border=\"1\" class=\"dataframe\">\n",
       "  <thead>\n",
       "    <tr style=\"text-align: right;\">\n",
       "      <th></th>\n",
       "      <th>Designed</th>\n",
       "    </tr>\n",
       "  </thead>\n",
       "  <tbody>\n",
       "    <tr>\n",
       "      <th>count</th>\n",
       "      <td>1.384210e+08</td>\n",
       "    </tr>\n",
       "    <tr>\n",
       "      <th>mean</th>\n",
       "      <td>3.516488e-01</td>\n",
       "    </tr>\n",
       "    <tr>\n",
       "      <th>std</th>\n",
       "      <td>4.774850e-01</td>\n",
       "    </tr>\n",
       "    <tr>\n",
       "      <th>min</th>\n",
       "      <td>0.000000e+00</td>\n",
       "    </tr>\n",
       "    <tr>\n",
       "      <th>25%</th>\n",
       "      <td>0.000000e+00</td>\n",
       "    </tr>\n",
       "    <tr>\n",
       "      <th>50%</th>\n",
       "      <td>0.000000e+00</td>\n",
       "    </tr>\n",
       "    <tr>\n",
       "      <th>75%</th>\n",
       "      <td>1.000000e+00</td>\n",
       "    </tr>\n",
       "    <tr>\n",
       "      <th>max</th>\n",
       "      <td>1.000000e+00</td>\n",
       "    </tr>\n",
       "  </tbody>\n",
       "</table>\n",
       "</div>"
      ],
      "text/plain": [
       "           Designed\n",
       "count  1.384210e+08\n",
       "mean   3.516488e-01\n",
       "std    4.774850e-01\n",
       "min    0.000000e+00\n",
       "25%    0.000000e+00\n",
       "50%    0.000000e+00\n",
       "75%    1.000000e+00\n",
       "max    1.000000e+00"
      ]
     },
     "execution_count": 10,
     "metadata": {},
     "output_type": "execute_result"
    }
   ],
   "source": [
    "bigmap.describe()"
   ]
  },
  {
   "cell_type": "code",
   "execution_count": 66,
   "id": "2f258cf4",
   "metadata": {},
   "outputs": [
    {
     "ename": "NameError",
     "evalue": "name 'plt' is not defined",
     "output_type": "error",
     "traceback": [
      "\u001b[0;31m---------------------------------------------------------------------------\u001b[0m",
      "\u001b[0;31mNameError\u001b[0m                                 Traceback (most recent call last)",
      "Cell \u001b[0;32mIn[66], line 3\u001b[0m\n\u001b[1;32m      1\u001b[0m \u001b[38;5;66;03m#plot tile qual as histogram\u001b[39;00m\n\u001b[0;32m----> 3\u001b[0m \u001b[43mplt\u001b[49m\u001b[38;5;241m.\u001b[39mhist(bigmap[\u001b[38;5;124m'\u001b[39m\u001b[38;5;124mDesigned\u001b[39m\u001b[38;5;124m'\u001b[39m])\n\u001b[1;32m      5\u001b[0m plt\u001b[38;5;241m.\u001b[39mshow()\n",
      "\u001b[0;31mNameError\u001b[0m: name 'plt' is not defined"
     ]
    }
   ],
   "source": [
    "#plot tile qual as histogram\n",
    "\n",
    "plt.hist(bigmap['Designed'])\n",
    "\n",
    "plt.show()"
   ]
  },
  {
   "cell_type": "code",
   "execution_count": 11,
   "id": "797294f3",
   "metadata": {},
   "outputs": [],
   "source": [
    "bigmap.to_csv('CURRENT_A10_1_tbcRAW_v2.csv')"
   ]
  },
  {
   "cell_type": "code",
   "execution_count": null,
   "id": "35e8ddc2",
   "metadata": {},
   "outputs": [],
   "source": [
    "# !pip install scikit-learn\n",
    "# !pip install ' https://github.com/massivejords/tools/blob/main/dist/labtools-0.1.1-py3-none-any.whl?raw=true'\n"
   ]
  }
 ],
 "metadata": {
  "kernelspec": {
   "display_name": "biopython",
   "language": "python",
   "name": "biopython"
  },
  "language_info": {
   "codemirror_mode": {
    "name": "ipython",
    "version": 3
   },
   "file_extension": ".py",
   "mimetype": "text/x-python",
   "name": "python",
   "nbconvert_exporter": "python",
   "pygments_lexer": "ipython3",
   "version": "3.11.4"
  }
 },
 "nbformat": 4,
 "nbformat_minor": 5
}
