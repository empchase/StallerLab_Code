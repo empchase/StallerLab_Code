{
 "cells": [
  {
   "cell_type": "code",
   "execution_count": 1,
   "id": "835f3c7f",
   "metadata": {},
   "outputs": [],
   "source": [
    "from Bio import SeqIO\n",
    "import pandas as pd\n",
    "import re\n",
    "import numpy as np\n",
    "import matplotlib.pyplot as plt\n",
    "import seaborn as sns"
   ]
  },
  {
   "cell_type": "code",
   "execution_count": 2,
   "id": "ef84e2df",
   "metadata": {},
   "outputs": [
    {
     "name": "stdout",
     "output_type": "stream",
     "text": [
      "GGCTAGC\n"
     ]
    }
   ],
   "source": [
    "tile_5_flank = \"ggctagc\".upper()\n",
    "tile_3_flank = \"TGACTAG\"\n",
    "barcode1_5_flank = \"GCGCGCC\"\n",
    "barcode1_3_flank = \"GGGCCCC\"\n",
    "barcode2_5_flank = \"GCTCGAG\"\n",
    "barcode2_3_flank = \"GGCCGCT\"\n",
    "print(tile_5_flank)"
   ]
  },
  {
   "cell_type": "code",
   "execution_count": 9,
   "id": "b8602fd7",
   "metadata": {},
   "outputs": [],
   "source": [
    "# def check_flanks(seq, flank_5, flank_3, tolerance=1):\n",
    "#     flank_length = len(flank_5)\n",
    "#     mismatch_count = 0\n",
    "#     for i in range(flank_length):\n",
    "#         if seq[i] != flank_5[i]:\n",
    "#             mismatch_count += 1\n",
    "#             if mismatch_count > tolerance:\n",
    "#                 return False\n",
    "#     return True"
   ]
  },
  {
   "cell_type": "code",
   "execution_count": 25,
   "id": "e2e72e74",
   "metadata": {
    "collapsed": true
   },
   "outputs": [
    {
     "name": "stdout",
     "output_type": "stream",
     "text": [
      "CATAACTAATTACATGAGCGGCCNNNNNNNNNNNNNNCTCGAGCTTAAGGGGCCCNNNNNNNNNNNGGCGCGCCTCAGCTAGTCANNNNNNNNNNNNNNNNNNNNNNNNNNNNNNNNNNNNNNNNNNNNNNNNNNNNNNNNNNNNNNNNNNNNNNNNNNNNNNNNNNNNNNNNNNNNNNNNNNNNNNNNNNNNNNNNNNNNNNNNGCTAGCCGATGAAGTAGAGCCCGCAGT\n"
     ]
    },
    {
     "data": {
      "text/plain": [
       "'ACTGCGGGCTCTACTTCATCGGCTAGCNNNNNNNNNNNNNNNNNNNNNNNNNNNNNNNNNNNNNNNNNNNNNNNNNNNNNNNNNNNNNNNNNNNNNNNNNNNNNNNNNNNNNNNNNNNNNNNNNNNNNNNNNNNNNNNNNNNNNNNNTGACTAGCTGAGGCGCGCCNNNNNNNNNNNGGGCCCCTTAAGCTCGAGNNNNNNNNNNNNNNGGCCGCTCATGTAATTAGTTATG'"
      ]
     },
     "execution_count": 25,
     "metadata": {},
     "output_type": "execute_result"
    }
   ],
   "source": [
    "ogseqtest = 'tcatcggctagcNNNNNNNNNNNNNNNNNNNNNNNNNNNNNNNNNNNNNNNNNNNNNNNNNNNNNNNNNNNNNNNNNNNNNNNNNNNNNNNNNNNNNNNNNNNNNNNNNNNNNNNNNNNNNNNNNNNNNNNNTGACTAGCTGA'.upper()\n",
    "rc_ogseqtest = 'CAtaactaattacatgaGCGGCCNNNNNNNNNNNNNNCTCGAGCTTAAGGGGCCCNNNNNNNNNNNGGCGCGCCTCAGCTAGTCANNNNNNNNNNNNNNNNNNNNNNNNNNNNNNNNNNNNNNNNNNNNNNNNNNNNNNNNNNNNNNNNNNNNNNNNNNNNNNNNNNNNNNNNNNNNNNNNNNNNNNNNNNNNNNNNNNNNNNNNgctagccgatgaagtagagcccgcagt'.upper()\n",
    "mutseqtest = 'tcatcgxctagcNNNNNNNNNNNNNNNNNNNNNNNNNNNNNNNNNNNNNNNNNNNNNNNNNNNNNNNNNNNNNNNNNNNNNNNNNNNNNNNNNNNNNNNNNNNNNNNNNNNNNNNNNNNNNNNNNNNNNNNNTGACTAGCTGA'.upper()\n",
    "print(rc_ogseqtest)\n",
    "reverse_complement(rc_ogseqtest)\n",
    "# check_flanks(mutseqtest, tile_5_flank, tile_3_flank)"
   ]
  },
  {
   "cell_type": "code",
   "execution_count": 40,
   "id": "6ebca8b3",
   "metadata": {},
   "outputs": [],
   "source": [
    "def complement(seqn):\n",
    "    complement = {'A': 'T', 'C': 'G', 'G': 'C', 'T': 'A', 'N':'N', 'X':'X'} \n",
    "    bases = list(seqn) \n",
    "    bases = [complement[base] for base in bases] \n",
    "    return ''.join(bases)\n",
    "def reverse_complement(s):\n",
    "        return complement(s[::-1])"
   ]
  },
  {
   "cell_type": "code",
   "execution_count": 11,
   "id": "c526250c",
   "metadata": {},
   "outputs": [],
   "source": [
    "\n",
    "def find_tile(seq):\n",
    "    tile_length = len(tile_5_flank)\n",
    "    max_search_pos = len(seq) - tile_length\n",
    "    \n",
    "    for i in range(max_search_pos + 1):\n",
    "        if seq[i:i+tile_length].startswith(tile_5_flank):\n",
    "            return i+7  # Return the start position of the tile  ##NEED TO FIX THE TILE START\n",
    "    return -1  # Return -1 if tile not found\n",
    "\n",
    "def parse_fastq(file_path):\n",
    "    correct_reads = []\n",
    "    incorrect_lengths = 0\n",
    "    no_match = 0\n",
    "    \n",
    "    for record in SeqIO.parse(file_path, \"fastq\"):\n",
    "        seq = str(record.seq)\n",
    "        print(seq)\n",
    "        seq = reverse_complement(seq)\n",
    "        print('-'+seq)\n",
    "        tile_start = find_tile(seq)\n",
    "        print(tile_start)\n",
    "        \n",
    "        if tile_start != -1:\n",
    "            tile = seq[tile_start:tile_start+119]  # Adjusted for the correct tile length\n",
    "            print(tile)\n",
    "            barcode1 = seq[tile_start+120:tile_start+131]  # Assuming barcode1 length is 11\n",
    "            print(barcode1)\n",
    "            barcode2 = seq[tile_start+131:tile_start+145]  # Assuming barcode2 length is 14\n",
    "            print(barcode2)\n",
    "            \n",
    "            if (len(tile) == 120 and len(barcode1) == 11 and len(barcode2) == 14 and\n",
    "                check_flanks(tile, tile_5_flank, tile_3_flank) and\n",
    "                check_flanks(barcode1, barcode1_5_flank, barcode1_3_flank) and\n",
    "                check_flanks(barcode2, barcode2_5_flank, barcode2_3_flank)):\n",
    "                \n",
    "                correct_reads.append({\n",
    "                    'tile': tile,\n",
    "                    'barcode1': barcode1,\n",
    "                    'barcode2': barcode2\n",
    "                })\n",
    "            else:\n",
    "                incorrect_lengths += 1\n",
    "        else:\n",
    "            no_match += 1\n",
    "    \n",
    "    return correct_reads, incorrect_lengths, no_match\n"
   ]
  },
  {
   "cell_type": "code",
   "execution_count": 12,
   "id": "bbac1efe",
   "metadata": {},
   "outputs": [
    {
     "name": "stdout",
     "output_type": "stream",
     "text": [
      "GNTACATAACTAATTACATGAGAGGCCTAACGAGATAACTGCTCGAGCTTAAGGTGCCCCATGGCGGGGCGTCGCGCCTCAGCTAGTCAATTTGGAGCAGTATGAGAAGTAGCTGGAGTCTTTCAATAGATCTTCTAGCCAATCTATGATCAGTAGAAGCTGGAAACAAGACAAAGTCAGCTTCTTGATCATGATGAAAGTTAGAAGTGCTAGCCGATGAAGTAGAGCCCGCAGT\n",
      "-ACTGCGGGCTCTACTTCATCGGCTAGCACTTCTAACTTTCATCATGATCAAGAAGCTGACTTTGTCTTGTTTCCAGCTTCTACTGATCATAGATTGGCTAGAAGATCTATTGAAAGACTCCAGCTACTTCTCATACTGCTCCAAATTGACTAGCTGAGGCGCGACGCCCCGCCATGGGGCACCTTAAGCTCGAGCAGTTATCTCGTTAGGCCTCTCATGTAATTAGTTATGTANC\n",
      "27\n",
      "ACTTCTAACTTTCATCATGATCAAGAAGCTGACTTTGTCTTGTTTCCAGCTTCTACTGATCATAGATTGGCTAGAAGATCTATTGAAAGACTCCAGCTACTTCTCATACTGCTCCAAAT\n",
      "GACTAGCTGAG\n",
      "GCGCGACGCCCCGC\n",
      "GGCATAACTACTTACATGAGCGTCCTACGACTAATCCGTCTCGAGCTTAAGGTGACCGTAGGAATGCAGGCGCGCCTCAGCTAGTCAAGCATTAACACCAGCAACAGTAGAATGTTTAACACCTTGTCTAGATGGAGCTGGAGACATAGATGGAGCTGGAGAAGCAGAACCTCTAATAACTGGAGATGCTGGTGGACCAGTAGCTTTGCTAGCCTATGAAGTAGAGCCATAAGTTAG\n",
      "-CTAACTTATGGCTCTACTTCATAGGCTAGCAAAGCTACTGGTCCACCAGCATCTCCAGTTATTAGAGGTTCTGCTTCTCCAGCTCCATCTATGTCTCCAGCTCCATCTAGACAAGGTGTTAAACATTCTACTGTTGCTGGTGTTAATGCTTGACTAGCTGAGGCGCGCCTGCATTCCTACGGTCACCTTAAGCTCGAGACGGATTAGTCGTAGGACGCTCATGTAAGTAGTTATGCC\n",
      "30\n",
      "AAAGCTACTGGTCCACCAGCATCTCCAGTTATTAGAGGTTCTGCTTCTCCAGCTCCATCTATGTCTCCAGCTCCATCTAGACAAGGTGTTAAACATTCTACTGTTGCTGGTGTTAATGC\n",
      "TGACTAGCTGA\n",
      "GGCGCGCCTGCATT\n",
      "GGACATAACTACTTACATGAGCGGCCGCACCTGCTCCTTCCTCGAGCTTAAGTGTCCCAACAGCTGAAAGGCTAGCCTCAGCTAGTCACAAGACAGTAGATCTTTCATTAGCCAAATTTCTCAAAGTTGGAACATGATGATTATGTCTAATATTATCTCGTTGACCAGTAGAAGCAACAGAACCTTTCCTTTGTGGAGTACCAGAACCGCTAGCCTATGAAGTAGAGCCATAAGTTAG\n",
      "-CTAACTTATGGCTCTACTTCATAGGCTAGCGGTTCTGGTACTCCACAAAGGAAAGGTTCTGTTGCTTCTACTGGTCAACGAGATAATATTAGACATAATCATCATGTTCCAACTTTGAGAAATTTGGCTAATGAAAGATCTACTGTCTTGTGACTAGCTGAGGCTAGCCTTTCAGCTGTTGGGACACTTAAGCTCGAGGAAGGAGCAGGTGCGGCCGCTCATGTAAGTAGTTATGTCC\n",
      "30\n",
      "GGTTCTGGTACTCCACAAAGGAAAGGTTCTGTTGCTTCTACTGGTCAACGAGATAATATTAGACATAATCATCATGTTCCAACTTTGAGAAATTTGGCTAATGAAAGATCTACTGTCTT\n",
      "TGACTAGCTGA\n",
      "GGCTAGCCTTTCAG\n",
      "GGACATAACTACTTACATGAGAGGCCTCCTCAGTTCTTCTCTCGAGCTTAAGTTTCCCCATTAAGCGAAGTAGAGCCTCAGCTAGTCAAGTAGCTGGTGGAGTAGTTGGCAAAGAATAAGCATGAGTTCTAGACAAATTACCTGGTGGTTTAGAAGTAGAACAAGAAGATTGATTAATTCTAATATTCTCATAAGTAGCTTCCAATCTGCTAGCCTATGAAGTAGAGCCCGAAGTTAG\n",
      "-CTAACTTCGGGCTCTACTTCATAGGCTAGCAGATTGGAAGCTACTTATGAGAATATTAGAATTAATCAATCTTCTTGTTCTACTTCTAAACCACCAGGTAATTTGTCTAGAACTCATGCTTATTCTTTGCCAACTACTCCACCAGCTACTTGACTAGCTGAGGCTCTACTTCGCTTAATGGGGAAACTTAAGCTCGAGAGAAGAACTGAGGAGGCCTCTCATGTAAGTAGTTATGTCC\n",
      "30\n",
      "AGATTGGAAGCTACTTATGAGAATATTAGAATTAATCAATCTTCTTGTTCTACTTCTAAACCACCAGGTAATTTGTCTAGAACTCATGCTTATTCTTTGCCAACTACTCCACCAGCTAC\n",
      "TGACTAGCTGA\n",
      "GGCTCTACTTCGCT\n",
      "GGACATAACTCCTTACATGAGCGGCCATCATATTTCCTTCCTCGAGCTTAAGGGGCCCTGTCAGCAACGGGCGAGCCTCAGCTAGTCAAGTAGTTCTAGTTGGTTGTGGAGAATCAAACAAGACAAAGTCTTGTTGTGGTGGAGATTGAAAGTTATGATGTTGAGCAGATGCAGCTGGTGGAGAAGAAGAAGAAGAAGGCAACCAAGAGCTAGCCGATGAAGTAGAGCCAGCAGTT\n",
      "-AACTGCTGGCTCTACTTCATCGGCTAGCTCTTGGTTGCCTTCTTCTTCTTCTTCTCCACCAGCTGCATCTGCTCAACATCATAACTTTCAATCTCCACCACAACAAGACTTTGTCTTGTTTGATTCTCCACAACCAACTAGAACTACTTGACTAGCTGAGGCTCGCCCGTTGCTGACAGGGCCCCTTAAGCTCGAGGAAGGAAATATGATGGCCGCTCATGTAAGGAGTTATGTCC\n",
      "28\n",
      "TCTTGGTTGCCTTCTTCTTCTTCTTCTCCACCAGCTGCATCTGCTCAACATCATAACTTTCAATCTCCACCACAACAAGACTTTGTCTTGTTTGATTCTCCACAACCAACTAGAACTAC\n",
      "TGACTAGCTGA\n",
      "GGCTCGCCCGTTGC\n",
      "GGTACATAACTAATTACATGAGCGGCCCACTTCTATAGTCTCTCGAGCTTAATGGGCCCTGATCACCTGGGGATCGCCTCAGCTAGTCAACCAAAGTCACCAGAATCAAATGATGGAGAAACATCATAACCATCATTAAAGTCTGGAGATTCATTATAAATAGATGGAGAAGTCAAAGCAGTCAAAGCAGTAGAATTTGGAGCAGACATGCTAGCCGATGAAGTAGAGCCCGCAGT\n",
      "-ACTGCGGGCTCTACTTCATCGGCTAGCATGTCTGCTCCAAATTCTACTGCTTTGACTGCTTTGACTTCTCCATCTATTTATAATGAATCTCCAGACTTTAATGATGGTTATGATGTTTCTCCATCATTTGATTCTGGTGACTTTGGTTGACTAGCTGAGGCGATCCCCAGGTGATCAGGGCCCATTAAGCTCGAGAGACTATAGAAGTGGGCCGCTCATGTAATTAGTTATGTACC\n",
      "27\n",
      "ATGTCTGCTCCAAATTCTACTGCTTTGACTGCTTTGACTTCTCCATCTATTTATAATGAATCTCCAGACTTTAATGATGGTTATGATGTTTCTCCATCATTTGATTCTGGTGACTTTGG\n",
      "TGACTAGCTGA\n",
      "GGCGATCCCCAGGT\n",
      "GGACATAACTACTTACATGAGAGGCCTACGTATCCGATTACTCGAGCTTAAGTTGCCCTAACATTCATAGTCTAGCCTCAGCTAGTCAAGCATCAGCCATAGCTTCTTTAGGAGCCATAATACCAGTTGGAATTTGTTGTGGAGACAACATAGACAAATCAAAGTCAGCACCAAATTGATCAGTAGAGAAGTCAAACAAATCTGGCAAGCTAGCCGATGAAGTAGAGCCATCAGTTA\n",
      "-TAACTGATGGCTCTACTTCATCGGCTAGCTTGCCAGATTTGTTTGACTTCTCTACTGATCAATTTGGTGCTGACTTTGATTTGTCTATGTTGTCTCCACAACAAATTCCAACTGGTATTATGGCTCCTAAAGAAGCTATGGCTGATGCTTGACTAGCTGAGGCTAGACTATGAATGTTAGGGCAACTTAAGCTCGAGTAATCGGATACGTAGGCCTCTCATGTAAGTAGTTATGTCC\n",
      "29\n",
      "TTGCCAGATTTGTTTGACTTCTCTACTGATCAATTTGGTGCTGACTTTGATTTGTCTATGTTGTCTCCACAACAAATTCCAACTGGTATTATGGCTCCTAAAGAAGCTATGGCTGATGC\n",
      "TGACTAGCTGA\n",
      "GGCTAGACTATGAA\n",
      "GGATAACTAATTACATGAGCGGCCGCGAGCGAGGAGGTCTCGAGCTTAAGGGGCCCGTTCCAAAATAGGCGCGCCTCAGCTAGTCAAAACATGGAGTAGATGGAATATGAGTTTGTTCAAAGTGAGCCAACAAAGCTGGTGGAGCTGGAGAAGATGGATGTGGTTGAGCATCTGGAGCTTGTTGATTGCTAGCCGATGAAGTAGAGCCATCAGTTAG\n",
      "-CTAACTGATGGCTCTACTTCATCGGCTAGCAATCAACAAGCTCCAGATGCTCAACCACATCCATCTTCTCCAGCTCCACCAGCTTTGTTGGCTCACTTTGAACAAACTCATATTCCATCTACTCCATGTTTTGACTAGCTGAGGCGCGCCTATTTTGGAACGGGCCCCTTAAGCTCGAGACCTCCTCGCTCGCGGCCGCTCATGTAATTAGTTATCC\n",
      "30\n",
      "AATCAACAAGCTCCAGATGCTCAACCACATCCATCTTCTCCAGCTCCACCAGCTTTGTTGGCTCACTTTGAACAAACTCATATTCCATCTACTCCATGTTTTGACTAGCTGAGGCGCGC\n",
      "TATTTTGGAAC\n",
      "GGGCCCCTTAAGCT\n",
      "GGCATAACTACTTACATGAGCGGCCGTTTAGTTTAACGTCTCGAGCTTAAGGGGCCCTACAATCTTGTGGATCTCCTCAGCTAGTCAATCAGAAGCATCAAATTTAATAACTGGCAATGGTTTCCTTTGTCTAGCAGCAATTCTAGAAATAGAAGAAGATTTAGAAGATGGACTTCTAGCTGGAGACAATGGTGGAGAACCAGTAGAGCTAGCGGATGAAGTAGAGCCCGCAGTAA\n",
      "-TTACTGCGGGCTCTACTTCATCCGCTAGCTCTACTGGTTCTCCACCATTGTCTCCAGCTAGAAGTCCATCTTCTAAATCTTCTTCTATTTCTAGAATTGCTGCTAGACAAAGGAAACCATTGCCAGTTATTAAATTTGATGCTTCTGATTGACTAGCTGAGGAGATCCACAAGATTGTAGGGCCCCTTAAGCTCGAGACGTTAAACTAAACGGCCGCTCATGTAAGTAGTTATGCC\n",
      "-1\n",
      "GGTAACTAATTACATGAGCGGCCCCCTCTTTTTTTTACTCGAGCTTAAGGGGACCTCCACGTGATCGGCGCGACTCAGCTAGTCATTCAAAGTCAGTAGTACCCAAATGCAAATTCAAATCAGCTGGAGAATAGAATGAAACATCTGGAGAAACATCTGGAGAAGCTGGAAAGTCACCAAATCAAACAACATATCAGAAGATGGGCTAGCCGAAGAAGTAGAGCCCGCAGTT\n",
      "-AACTGCGGGCTCTACTTCTTCGGCTAGCCCATCTTCTGATATGTTGTTTGATTTGGTGACTTTCCAGCTTCTCCAGATGTTTCTCCAGATGTTTCATTCTATTCTCCAGCTGATTTGAATTTGCATTTGGGTACTACTGACTTTGAATGACTAGCTGAGTCGCGCCGATCACGTGGAGGTCCCCTTAAGCTCGAGTAAAAAAAAGAGGGGGCCGCTCATGTAATTAGTTACC\n",
      "28\n",
      "CCATCTTCTGATATGTTGTTTGATTTGGTGACTTTCCAGCTTCTCCAGATGTTTCTCCAGATGTTTCATTCTATTCTCCAGCTGATTTGAATTTGCATTTGGGTACTACTGACTTTGAA\n",
      "GACTAGCTGAG\n",
      "TCGCGCCGATCACG\n"
     ]
    },
    {
     "data": {
      "text/plain": [
       "([], 9, 1)"
      ]
     },
     "execution_count": 12,
     "metadata": {},
     "output_type": "execute_result"
    }
   ],
   "source": [
    "parse_fastq('A10_short.assembled.fastq')"
   ]
  },
  {
   "cell_type": "code",
   "execution_count": 26,
   "id": "1238c00e",
   "metadata": {},
   "outputs": [
    {
     "name": "stdout",
     "output_type": "stream",
     "text": [
      "[18]\n",
      "[20]\n",
      "[14]\n"
     ]
    }
   ],
   "source": [
    "def find_subsequence_positions(sequence, subsequence):\n",
    "    subsequence_length = len(subsequence)\n",
    "    sequence_length = len(sequence)\n",
    "    positions = []\n",
    "    \n",
    "    for i in range(sequence_length - subsequence_length + 1):\n",
    "        mismatch_count = 0\n",
    "        for j in range(subsequence_length):\n",
    "            if sequence[i+j] != subsequence[j]:\n",
    "                mismatch_count += 1\n",
    "                if mismatch_count > 1:\n",
    "                    break\n",
    "        if mismatch_count <= 1:\n",
    "            positions.append(i)\n",
    "    \n",
    "    return positions\n",
    "\n",
    "def check_subsequence_with_substitution(sequence, subsequence):\n",
    "    sequence = sequence.lower()  # Convert sequence to lowercase\n",
    "    subsequence = subsequence.lower()  # Convert subsequence to lowercase\n",
    "    return find_subsequence_positions(sequence, subsequence)\n",
    "\n",
    "sequence1 = \"AACTGCGGGCTCTACTTCTTCGGCTAGCCCATCTTCTGATATGTTGTTTGATTTGGTGACTTTCCAGCTTCTCCAGATGTTTCTCCAGATGTTTCATTCTATTCTCCAGCTGATTTGAATTTGCATTTGGGTACTACTGACTTTGAATGACTAGCTGAGTCGCGCCGATCACGTGGAGGTCCCCTTAAGCTCGAGTAAAAAAAAGAGGGGGCCGCTCATGTAATTAGTTACC\"\n",
    "sequence2 = \"CTAACTGATGGCTCTACTTCATCGGCTAGCAATCAACAAGCTCCAGATGCTCAACCACATCCATCTTCTCCAGCTCCACCAGCTTTGTTGGCTCACTTTGAACAAACTCATATTCCATCTACTCCATGTTTTGACTAGCTGAGGCGCGCCTATTTTGGAACGGGCCCCTTAAGCTCGAGACCTCCTCGCTCGCGGCCGCTCATGTAATTAGTTATCC\"\n",
    "sequence3 = \"gcgggctctacttcatcggctagcNNNNNNNNNNNNNNNNNNNNNNNNNNNNNNNNNNNNNNNNNNNNNNNNNNNNNNNNNNNNNNNNNNNNNNNNNNNNNNNNNNNNNNNNNNNNNNNNNNNNNNNNNNNNNNNNNNNNNNNNTGACTAGCTGAGGCGCGCCNNNNNNNNNNNGGGCCCCTTAAGCTCGAGNNNNNNNNNNNNNNGGCCGCtcatgtaattagttaT\"\n",
    "subsequence = \"atcggctagc\"\n",
    "\n",
    "print(check_subsequence_with_substitution(sequence1, subsequence))  # Output: [18]\n",
    "print(check_subsequence_with_substitution(sequence2, subsequence))  # Output: [20]\n",
    "print(check_subsequence_with_substitution(sequence3, subsequence))  # Output: [14]\n"
   ]
  },
  {
   "cell_type": "code",
   "execution_count": 27,
   "id": "f15b8d88",
   "metadata": {},
   "outputs": [
    {
     "data": {
      "text/plain": [
       "10"
      ]
     },
     "execution_count": 27,
     "metadata": {},
     "output_type": "execute_result"
    }
   ],
   "source": [
    "len(subsequence)"
   ]
  },
  {
   "cell_type": "code",
   "execution_count": 39,
   "id": "1cb4b7ad",
   "metadata": {},
   "outputs": [
    {
     "name": "stdout",
     "output_type": "stream",
     "text": [
      "NNNNNNNNNNNNNNNNNNNNNNNNNNNNNNNNNNNNNNNNNNNNNNNNNNNNNNNNNNNNNNNNNNNNNNNNNNNNNNNNNNNNNNNNNNNNNNNNNNNNNNNNNNNNNNNNNNNNNNNN\n",
      "120\n",
      "NNNNNNNNNNN\n",
      "11\n",
      "NNNNNNNNNNNNNN\n",
      "14\n"
     ]
    }
   ],
   "source": [
    "#try it on snapgene map sequence\n",
    "print(sequence3[24:144])\n",
    "print(len((sequence3[24:144])))\n",
    "# len(sequence1[29:149]) #120\n",
    "print(sequence3[163:174])\n",
    "print(len(sequence3[163:174]))\n",
    "print(sequence3[192:206])\n",
    "print(len(sequence3[192:206]))\n",
    "\n",
    "#now generalize: \n",
    "# p = check_subsequence_with_substitution__output \n",
    "# ll = length of preceder\n",
    "# s = p +ll\n",
    "\n",
    "# tile = sequenceX[s : s+120]\n",
    "# adbc = sequenceX[s+139 : s+150]\n",
    "# rptrbc = sequenceX[s+168 : s+182]"
   ]
  },
  {
   "cell_type": "code",
   "execution_count": null,
   "id": "526669aa",
   "metadata": {},
   "outputs": [],
   "source": []
  },
  {
   "cell_type": "code",
   "execution_count": 42,
   "id": "ac70bd58",
   "metadata": {},
   "outputs": [
    {
     "data": {
      "text/plain": [
       "['GNTAGC', 'GGCGCGCCTCAGCTNGTCA', 'AAGGGGCCC', 'CTCGAGC', 'ATGNNNGGCC']"
      ]
     },
     "execution_count": 42,
     "metadata": {},
     "output_type": "execute_result"
    }
   ],
   "source": [
    "consensuslist = [\"GCTANC\",\n",
    "\"TGACNAGCTGAGGCGCGCC\",\n",
    "\"GGGCCCCTT\",\n",
    "\"GCTCGAG\",\n",
    "\"GGCCNNNCAT\"]\n",
    "rc_consensuslist = []\n",
    "\n",
    "for s in consensuslist:\n",
    "    rc_consensuslist.append(reverse_complement(s))\n",
    "    \n",
    "rc_consensuslist"
   ]
  },
  {
   "cell_type": "code",
   "execution_count": 43,
   "id": "8a58ee6e",
   "metadata": {},
   "outputs": [
    {
     "name": "stdout",
     "output_type": "stream",
     "text": [
      "GNTAGC\n",
      "GGCGCGCCTCAGCTNGTCA\n",
      "AAGGGGCCC\n",
      "CTCGAGC\n",
      "ATGNNNGGCC\n"
     ]
    }
   ],
   "source": [
    "for t in rc_consensuslist:\n",
    "    print(t)"
   ]
  },
  {
   "cell_type": "code",
   "execution_count": null,
   "id": "59125eab",
   "metadata": {},
   "outputs": [],
   "source": []
  },
  {
   "cell_type": "code",
   "execution_count": null,
   "id": "8dd14c0b",
   "metadata": {},
   "outputs": [],
   "source": []
  },
  {
   "cell_type": "code",
   "execution_count": null,
   "id": "e4fc95ba",
   "metadata": {},
   "outputs": [],
   "source": []
  },
  {
   "cell_type": "code",
   "execution_count": null,
   "id": "eae95949",
   "metadata": {},
   "outputs": [],
   "source": []
  },
  {
   "cell_type": "code",
   "execution_count": null,
   "id": "ab66f3df",
   "metadata": {},
   "outputs": [],
   "source": []
  },
  {
   "cell_type": "code",
   "execution_count": null,
   "id": "a0311c12",
   "metadata": {},
   "outputs": [],
   "source": [
    "def has_subsequence_with_substitution(sequence, subsequence):\n",
    "    subsequence_length = len(subsequence)\n",
    "    sequence_length = len(sequence)\n",
    "    \n",
    "    for i in range(sequence_length - subsequence_length + 1):\n",
    "        mismatch_count = 0\n",
    "        for j in range(subsequence_length):\n",
    "            if sequence[i+j] != subsequence[j]:\n",
    "                mismatch_count += 1\n",
    "                if mismatch_count > 1:\n",
    "                    break\n",
    "        if mismatch_count <= 1:\n",
    "            return True\n",
    "    return False\n",
    "\n",
    "def check_subsequence_with_substitution(sequence, subsequence):\n",
    "    sequence = sequence.lower()  # Convert sequence to lowercase\n",
    "    subsequence = subsequence.lower()  # Convert subsequence to lowercase\n",
    "    return has_subsequence_with_substitution(sequence, subsequence)\n",
    "\n",
    "sequence1 = \"AACTGCGGGCTCTACTTCATCXGCTAGCCCATCTTCTGATATGTTGTTTGATTTGGTGACTTTCCAGCTTCTCCAGATGTTTCTCCAGATGTTTCATTCTATTCTCCAGCTGATTTGAATTTGCATTTGGGTACTACTGACTTTGAATGACTAGCTGAGTCGCGCCGATCACGTGGAGGTCCCCTTAAGCTCGAGTAAAAAAAAGAGGGGGCCGCTCATGTAATTAGTTACC\"\n",
    "sequence2 = \"CTAACTGATGGCTCTACTTCATCGGCTAGCAATCAACAAGCTCCAGATGCTCAACCACATCCATCTTCTCCAGCTCCACCAGCTTTGTTGGCTCACTTTGAACAAACTCATATTCCATCTACTCCATGTTTTGACTAGCTGAGGCGCGCCTATTTTGGAACGGGCCCCTTAAGCTCGAGACCTCCTCGCTCGCGGCCGCTCATGTAATTAGTTATCC\"\n",
    "subsequence = \"atcggctagc\"\n",
    "\n",
    "print(check_subsequence_with_substitution(sequence1, subsequence))  # Output: True\n",
    "print(check_subsequence_with_substitution(sequence2, subsequence))  # Output: True\n"
   ]
  }
 ],
 "metadata": {
  "kernelspec": {
   "display_name": "biopython",
   "language": "python",
   "name": "biopython"
  },
  "language_info": {
   "codemirror_mode": {
    "name": "ipython",
    "version": 3
   },
   "file_extension": ".py",
   "mimetype": "text/x-python",
   "name": "python",
   "nbconvert_exporter": "python",
   "pygments_lexer": "ipython3",
   "version": "3.11.4"
  }
 },
 "nbformat": 4,
 "nbformat_minor": 5
}
