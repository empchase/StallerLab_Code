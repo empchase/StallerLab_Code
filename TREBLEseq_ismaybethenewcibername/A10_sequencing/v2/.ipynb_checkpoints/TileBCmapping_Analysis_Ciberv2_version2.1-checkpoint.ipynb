{
 "cells": [
  {
   "cell_type": "markdown",
   "id": "7938c955",
   "metadata": {},
   "source": [
    "Same as 2.0 except parallelized and cleaned up"
   ]
  },
  {
   "cell_type": "code",
   "execution_count": 6,
   "id": "26fca480",
   "metadata": {},
   "outputs": [],
   "source": [
    "import re\n",
    "import pandas as pd\n",
    "import seaborn as sns\n",
    "import time\n",
    "import concurrent.futures"
   ]
  },
  {
   "cell_type": "code",
   "execution_count": 2,
   "id": "0303195b",
   "metadata": {},
   "outputs": [],
   "source": [
    "seqfile = 'Ciberv2_A10_1_sequences.txt'\n",
    "a10design = 'a10_designfile.csv'"
   ]
  },
  {
   "cell_type": "code",
   "execution_count": 3,
   "id": "df57dd1e",
   "metadata": {},
   "outputs": [
    {
     "name": "stdout",
     "output_type": "stream",
     "text": [
      "20783\n"
     ]
    }
   ],
   "source": [
    "#get list of designed tiles\n",
    "\n",
    "a10dt = []\n",
    "\n",
    "with open(a10design, 'r') as f:\n",
    "    for line in f:\n",
    "        if \"ArrayDNA\" in line:\n",
    "            pass\n",
    "        else:\n",
    "            a10dt.append(line.strip())\n",
    "# print(a10dt[:5])\n",
    "print(len(a10dt))#20783\n",
    "\n",
    "#create a dictionary of values\n",
    "dtiles = {}\n",
    "for i in a10dt:\n",
    "    dtiles[i] = 1\n",
    "    \n",
    "# print(d)"
   ]
  },
  {
   "cell_type": "code",
   "execution_count": 15,
   "id": "943d5194",
   "metadata": {},
   "outputs": [],
   "source": [
    "def complement(seqn):\n",
    "    complement = {'A': 'T', 'C': 'G', 'G': 'C', 'T': 'A', 'N':'N', 'X':'X'} \n",
    "    bases = list(seqn) \n",
    "    bases = [complement[base] for base in bases] \n",
    "    return ''.join(bases)\n",
    "def reverse_complement(s):\n",
    "        return complement(s[::-1])\n",
    "def cleaner(seq):\n",
    "    #clean the read\n",
    "    seq = line.strip()\n",
    "    seq = reverse_complement(seq)"
   ]
  },
  {
   "cell_type": "code",
   "execution_count": 18,
   "id": "9e4dc5bb",
   "metadata": {},
   "outputs": [],
   "source": [
    "def tilebc_mapper(read, design_dict=dtiles, needs_clean = True,\n",
    "                  ad_preceder = \"GGCTAGC\", ad_length = 120, \n",
    "                  bc1_preceder = \"CGCGCC\", bc1length = 11,\n",
    "                  bc2_preceder = \"CTCGAG\", bc2length = 14):\n",
    "    \"\"\"\n",
    "    read: \n",
    "    ad_preceder:\n",
    "    ad_length:\n",
    "    bc1_preceder:\n",
    "    bc1_length:\n",
    "    bc2_preceder:\n",
    "    bc2_length:\n",
    "    \"\"\"\n",
    "    if needs_clean:\n",
    "        read = cleaner(read)\n",
    "    \n",
    "    #Initial ad search\n",
    "    searched_read = re.split(ad_preceder, read, maxsplit=1) \n",
    "    AD = None\n",
    "    barcode1 = None\n",
    "    barcode2 = None\n",
    "    designed = 0\n",
    "    \n",
    "    if len(searched_read) == 2: #if the first ad search was successful\n",
    "        roi = searched_read[1] #then take the ad search\n",
    "#         print(\"roi =\", roi)\n",
    "        AD = roi[:ad_length] #and save the AD as the first part of the string\n",
    "        \n",
    "        #Check if AD Tile was designed\n",
    "        if design_dict:\n",
    "            if AD in design_dict:\n",
    "#                 print('yes designed')\n",
    "                designed = 1\n",
    "#             else:\n",
    "#                 print('not designed')\n",
    "\n",
    "        \n",
    "        #Initial bc1 search\n",
    "        searched_read = re.split(bc1_preceder, roi[ad_length:], maxsplit=1) #look for the barcode using the bc preceder in the portion of the read beyond the AD\n",
    "        if len(searched_read) == 2: #if initial bc1 search was successful\n",
    "            barcode1 = searched_read[1][:bc1length] #then the barcode is the first 11 characters of the search result\n",
    "        else: #if bc search via preceder was unsuccessful\n",
    "            #Secondary bc1 search\n",
    "            barcode1 = roi[139:150]\n",
    "    #         print(len(barcode))\n",
    "\n",
    "        #Initial bc2 search\n",
    "        searched_read = re.split(bc2_preceder, roi[ad_length:], maxsplit=1) #look for the barcode using the bc preceder in the portion of the read beyond the AD\n",
    "    #     print(searched_read)\n",
    "        if len(searched_read) == 2: #if search was successful\n",
    "            barcode2 = searched_read[1][:bc2length] #bc2 is the first character of search result\n",
    "        else: #if bc search via preceder was unsuccessful\n",
    "            #Secondary bc2 search\n",
    "            barcode2 = roi[168:182]\n",
    "    \n",
    "    return AD, barcode1, barcode2, designed"
   ]
  },
  {
   "cell_type": "code",
   "execution_count": 19,
   "id": "044d8147",
   "metadata": {},
   "outputs": [],
   "source": [
    "def buildmapdf_parallel (readfile, readcount):\n",
    "    iteration_count = 0\n",
    "    total_iterations = readcount\n",
    "    progress_counter = readcount/10\n",
    "    total_designed = 0\n",
    "    start1 = time.perf_counter()\n",
    "    \n",
    "    data = []\n",
    "    \n",
    "    with open(readfile, 'r') as fin:\n",
    "        print(f\"Opened file {readfile}\")\n",
    "        start2 = time.perf_counter()\n",
    "        with concurrent.futures.ProcessPoolExecutor() as executor:\n",
    "            for to_data in executor.map(tilebc_mapper, fin):\n",
    "                iteration_count += 1\n",
    "                data.append(to_data)\n",
    "                \n",
    "                #print progress for every 10% of lines processed\n",
    "                if iteration_count % progress_counter ==0:\n",
    "                    print(f\"Iteration {iteration_count}: Progress {iteration_count/total_iterations*100:.2f}%\")\n",
    "                    progtime = time.perf_counter()\n",
    "                    print(f'Time Elapsed: {round(progtime-start1, 2)} seconds')\n",
    "        finish = time.perf_counter()\n",
    "        print(f'All data processed in {round(finish-start2, 2)} seconds')\n",
    "        \n",
    "    print(f'Total Designed: {total_designed}')\n",
    "    output_df = pd.DataFrame(data, columns=['AD', 'AD_BC', 'RPTR_BC', 'Designed'])\n",
    "    finish = time.perf_counter()\n",
    "    print(f'finished creating df in {round(finish-start1, 2)} seconds')\n",
    "    return output_df    "
   ]
  },
  {
   "cell_type": "code",
   "execution_count": 20,
   "id": "d06648b0",
   "metadata": {},
   "outputs": [
    {
     "name": "stdout",
     "output_type": "stream",
     "text": [
      "Opened file tinyishCiberv2seq.txt\n"
     ]
    },
    {
     "ename": "TypeError",
     "evalue": "expected string or bytes-like object, got 'NoneType'",
     "output_type": "error",
     "traceback": [
      "\u001b[0;31m---------------------------------------------------------------------------\u001b[0m",
      "\u001b[0;31m_RemoteTraceback\u001b[0m                          Traceback (most recent call last)",
      "\u001b[0;31m_RemoteTraceback\u001b[0m: \n\"\"\"\nTraceback (most recent call last):\n  File \"/global/home/users/empchase/.conda/envs/biopython/lib/python3.11/concurrent/futures/process.py\", line 256, in _process_worker\n    r = call_item.fn(*call_item.args, **call_item.kwargs)\n        ^^^^^^^^^^^^^^^^^^^^^^^^^^^^^^^^^^^^^^^^^^^^^^^^^\n  File \"/global/home/users/empchase/.conda/envs/biopython/lib/python3.11/concurrent/futures/process.py\", line 205, in _process_chunk\n    return [fn(*args) for args in chunk]\n           ^^^^^^^^^^^^^^^^^^^^^^^^^^^^^\n  File \"/global/home/users/empchase/.conda/envs/biopython/lib/python3.11/concurrent/futures/process.py\", line 205, in <listcomp>\n    return [fn(*args) for args in chunk]\n            ^^^^^^^^^\n  File \"/tmp/ipykernel_11797/3983912306.py\", line 18, in tilebc_mapper\n    searched_read = re.split(ad_preceder, read, maxsplit=1)\n                   ^^^^^^^^^^^^^^^^^^^^^^^^^^^^^^^^^^^^^^^\n  File \"/global/home/users/empchase/.conda/envs/biopython/lib/python3.11/re/__init__.py\", line 206, in split\n    return _compile(pattern, flags).split(string, maxsplit)\n           ^^^^^^^^^^^^^^^^^^^^^^^^^^^^^^^^^^^^^^^^^^^^^^^^\nTypeError: expected string or bytes-like object, got 'NoneType'\n\"\"\"",
      "\nThe above exception was the direct cause of the following exception:\n",
      "\u001b[0;31mTypeError\u001b[0m                                 Traceback (most recent call last)",
      "Cell \u001b[0;32mIn[20], line 1\u001b[0m\n\u001b[0;32m----> 1\u001b[0m testdf \u001b[38;5;241m=\u001b[39m \u001b[43mbuildmapdf_parallel\u001b[49m\u001b[43m(\u001b[49m\u001b[38;5;124;43m'\u001b[39;49m\u001b[38;5;124;43mtinyishCiberv2seq.txt\u001b[39;49m\u001b[38;5;124;43m'\u001b[39;49m\u001b[43m,\u001b[49m\u001b[43m \u001b[49m\u001b[38;5;241;43m100\u001b[39;49m\u001b[43m)\u001b[49m\n\u001b[1;32m      2\u001b[0m testdf\u001b[38;5;241m.\u001b[39mhead(\u001b[38;5;241m20\u001b[39m)\n",
      "Cell \u001b[0;32mIn[19], line 14\u001b[0m, in \u001b[0;36mbuildmapdf_parallel\u001b[0;34m(readfile, readcount)\u001b[0m\n\u001b[1;32m     12\u001b[0m start2 \u001b[38;5;241m=\u001b[39m time\u001b[38;5;241m.\u001b[39mperf_counter()\n\u001b[1;32m     13\u001b[0m \u001b[38;5;28;01mwith\u001b[39;00m concurrent\u001b[38;5;241m.\u001b[39mfutures\u001b[38;5;241m.\u001b[39mProcessPoolExecutor() \u001b[38;5;28;01mas\u001b[39;00m executor:\n\u001b[0;32m---> 14\u001b[0m     \u001b[38;5;28;01mfor\u001b[39;00m to_data \u001b[38;5;129;01min\u001b[39;00m executor\u001b[38;5;241m.\u001b[39mmap(tilebc_mapper, fin):\n\u001b[1;32m     15\u001b[0m         iteration_count \u001b[38;5;241m+\u001b[39m\u001b[38;5;241m=\u001b[39m \u001b[38;5;241m1\u001b[39m\n\u001b[1;32m     16\u001b[0m         data\u001b[38;5;241m.\u001b[39mappend(to_data)\n",
      "File \u001b[0;32m~/.conda/envs/biopython/lib/python3.11/concurrent/futures/process.py:602\u001b[0m, in \u001b[0;36m_chain_from_iterable_of_lists\u001b[0;34m(iterable)\u001b[0m\n\u001b[1;32m    596\u001b[0m \u001b[38;5;28;01mdef\u001b[39;00m \u001b[38;5;21m_chain_from_iterable_of_lists\u001b[39m(iterable):\n\u001b[1;32m    597\u001b[0m \u001b[38;5;250m    \u001b[39m\u001b[38;5;124;03m\"\"\"\u001b[39;00m\n\u001b[1;32m    598\u001b[0m \u001b[38;5;124;03m    Specialized implementation of itertools.chain.from_iterable.\u001b[39;00m\n\u001b[1;32m    599\u001b[0m \u001b[38;5;124;03m    Each item in *iterable* should be a list.  This function is\u001b[39;00m\n\u001b[1;32m    600\u001b[0m \u001b[38;5;124;03m    careful not to keep references to yielded objects.\u001b[39;00m\n\u001b[1;32m    601\u001b[0m \u001b[38;5;124;03m    \"\"\"\u001b[39;00m\n\u001b[0;32m--> 602\u001b[0m     \u001b[38;5;28;01mfor\u001b[39;00m element \u001b[38;5;129;01min\u001b[39;00m iterable:\n\u001b[1;32m    603\u001b[0m         element\u001b[38;5;241m.\u001b[39mreverse()\n\u001b[1;32m    604\u001b[0m         \u001b[38;5;28;01mwhile\u001b[39;00m element:\n",
      "File \u001b[0;32m~/.conda/envs/biopython/lib/python3.11/concurrent/futures/_base.py:619\u001b[0m, in \u001b[0;36mExecutor.map.<locals>.result_iterator\u001b[0;34m()\u001b[0m\n\u001b[1;32m    616\u001b[0m \u001b[38;5;28;01mwhile\u001b[39;00m fs:\n\u001b[1;32m    617\u001b[0m     \u001b[38;5;66;03m# Careful not to keep a reference to the popped future\u001b[39;00m\n\u001b[1;32m    618\u001b[0m     \u001b[38;5;28;01mif\u001b[39;00m timeout \u001b[38;5;129;01mis\u001b[39;00m \u001b[38;5;28;01mNone\u001b[39;00m:\n\u001b[0;32m--> 619\u001b[0m         \u001b[38;5;28;01myield\u001b[39;00m \u001b[43m_result_or_cancel\u001b[49m\u001b[43m(\u001b[49m\u001b[43mfs\u001b[49m\u001b[38;5;241;43m.\u001b[39;49m\u001b[43mpop\u001b[49m\u001b[43m(\u001b[49m\u001b[43m)\u001b[49m\u001b[43m)\u001b[49m\n\u001b[1;32m    620\u001b[0m     \u001b[38;5;28;01melse\u001b[39;00m:\n\u001b[1;32m    621\u001b[0m         \u001b[38;5;28;01myield\u001b[39;00m _result_or_cancel(fs\u001b[38;5;241m.\u001b[39mpop(), end_time \u001b[38;5;241m-\u001b[39m time\u001b[38;5;241m.\u001b[39mmonotonic())\n",
      "File \u001b[0;32m~/.conda/envs/biopython/lib/python3.11/concurrent/futures/_base.py:317\u001b[0m, in \u001b[0;36m_result_or_cancel\u001b[0;34m(***failed resolving arguments***)\u001b[0m\n\u001b[1;32m    315\u001b[0m \u001b[38;5;28;01mtry\u001b[39;00m:\n\u001b[1;32m    316\u001b[0m     \u001b[38;5;28;01mtry\u001b[39;00m:\n\u001b[0;32m--> 317\u001b[0m         \u001b[38;5;28;01mreturn\u001b[39;00m \u001b[43mfut\u001b[49m\u001b[38;5;241;43m.\u001b[39;49m\u001b[43mresult\u001b[49m\u001b[43m(\u001b[49m\u001b[43mtimeout\u001b[49m\u001b[43m)\u001b[49m\n\u001b[1;32m    318\u001b[0m     \u001b[38;5;28;01mfinally\u001b[39;00m:\n\u001b[1;32m    319\u001b[0m         fut\u001b[38;5;241m.\u001b[39mcancel()\n",
      "File \u001b[0;32m~/.conda/envs/biopython/lib/python3.11/concurrent/futures/_base.py:456\u001b[0m, in \u001b[0;36mFuture.result\u001b[0;34m(self, timeout)\u001b[0m\n\u001b[1;32m    454\u001b[0m     \u001b[38;5;28;01mraise\u001b[39;00m CancelledError()\n\u001b[1;32m    455\u001b[0m \u001b[38;5;28;01melif\u001b[39;00m \u001b[38;5;28mself\u001b[39m\u001b[38;5;241m.\u001b[39m_state \u001b[38;5;241m==\u001b[39m FINISHED:\n\u001b[0;32m--> 456\u001b[0m     \u001b[38;5;28;01mreturn\u001b[39;00m \u001b[38;5;28;43mself\u001b[39;49m\u001b[38;5;241;43m.\u001b[39;49m\u001b[43m__get_result\u001b[49m\u001b[43m(\u001b[49m\u001b[43m)\u001b[49m\n\u001b[1;32m    457\u001b[0m \u001b[38;5;28;01melse\u001b[39;00m:\n\u001b[1;32m    458\u001b[0m     \u001b[38;5;28;01mraise\u001b[39;00m \u001b[38;5;167;01mTimeoutError\u001b[39;00m()\n",
      "File \u001b[0;32m~/.conda/envs/biopython/lib/python3.11/concurrent/futures/_base.py:401\u001b[0m, in \u001b[0;36mFuture.__get_result\u001b[0;34m(self)\u001b[0m\n\u001b[1;32m    399\u001b[0m \u001b[38;5;28;01mif\u001b[39;00m \u001b[38;5;28mself\u001b[39m\u001b[38;5;241m.\u001b[39m_exception:\n\u001b[1;32m    400\u001b[0m     \u001b[38;5;28;01mtry\u001b[39;00m:\n\u001b[0;32m--> 401\u001b[0m         \u001b[38;5;28;01mraise\u001b[39;00m \u001b[38;5;28mself\u001b[39m\u001b[38;5;241m.\u001b[39m_exception\n\u001b[1;32m    402\u001b[0m     \u001b[38;5;28;01mfinally\u001b[39;00m:\n\u001b[1;32m    403\u001b[0m         \u001b[38;5;66;03m# Break a reference cycle with the exception in self._exception\u001b[39;00m\n\u001b[1;32m    404\u001b[0m         \u001b[38;5;28mself\u001b[39m \u001b[38;5;241m=\u001b[39m \u001b[38;5;28;01mNone\u001b[39;00m\n",
      "\u001b[0;31mTypeError\u001b[0m: expected string or bytes-like object, got 'NoneType'"
     ]
    }
   ],
   "source": [
    "testdf = buildmapdf_parallel('tinyishCiberv2seq.txt', 100)\n",
    "testdf.head(20)"
   ]
  },
  {
   "cell_type": "code",
   "execution_count": null,
   "id": "ccb8565d",
   "metadata": {},
   "outputs": [],
   "source": []
  },
  {
   "cell_type": "code",
   "execution_count": null,
   "id": "893580a0",
   "metadata": {},
   "outputs": [],
   "source": []
  }
 ],
 "metadata": {
  "kernelspec": {
   "display_name": "biopython",
   "language": "python",
   "name": "biopython"
  },
  "language_info": {
   "codemirror_mode": {
    "name": "ipython",
    "version": 3
   },
   "file_extension": ".py",
   "mimetype": "text/x-python",
   "name": "python",
   "nbconvert_exporter": "python",
   "pygments_lexer": "ipython3",
   "version": "3.11.4"
  }
 },
 "nbformat": 4,
 "nbformat_minor": 5
}
