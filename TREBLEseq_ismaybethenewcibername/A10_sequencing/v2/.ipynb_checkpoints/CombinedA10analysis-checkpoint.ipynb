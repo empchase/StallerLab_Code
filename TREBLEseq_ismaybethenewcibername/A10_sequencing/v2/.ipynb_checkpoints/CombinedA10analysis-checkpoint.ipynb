{
 "cells": [
  {
   "cell_type": "code",
   "execution_count": 1,
   "id": "14e8f47d",
   "metadata": {},
   "outputs": [],
   "source": [
    "import pandas as pd\n",
    "# import re\n",
    "import numpy as np\n",
    "import matplotlib.pyplot as plt\n",
    "import seaborn as sns\n",
    "import concurrent.futures\n",
    "import time\n",
    "import duckdb \n",
    "conn = duckdb.connect('analysis.db') # create an in-memory database"
   ]
  },
  {
   "cell_type": "code",
   "execution_count": 2,
   "id": "b983f109",
   "metadata": {},
   "outputs": [
    {
     "data": {
      "text/plain": [
       "┌──────────┬─────────┬──────────────────────┬──────────────────────┬─────────────────────────────┬───────────┐\n",
       "│ database │ schema  │         name         │     column_names     │        column_types         │ temporary │\n",
       "│ varchar  │ varchar │       varchar        │      varchar[]       │          varchar[]          │  boolean  │\n",
       "├──────────┼─────────┼──────────────────────┼──────────────────────┼─────────────────────────────┼───────────┤\n",
       "│ analysis │ main    │ A10_1_1_MAP_20240320 │ [AD, AD_BC, RPTR_BC] │ [VARCHAR, VARCHAR, VARCHAR] │ false     │\n",
       "│ analysis │ main    │ A10_1_2_MAP_20240320 │ [AD, AD_BC, RPTR_BC] │ [VARCHAR, VARCHAR, VARCHAR] │ false     │\n",
       "│ analysis │ main    │ A10_1_ADBC           │ [index, AD BCs]      │ [VARCHAR, BIGINT]           │ false     │\n",
       "│ analysis │ main    │ A10_1_AD_FIL         │ [index, AD BCs]      │ [VARCHAR, BIGINT]           │ false     │\n",
       "│ analysis │ main    │ A10_1_RPTR           │ [index, RPTR BCs]    │ [VARCHAR, BIGINT]           │ false     │\n",
       "│ analysis │ main    │ A10_1_RPTR_FIL       │ [index, RPTR BCs]    │ [VARCHAR, BIGINT]           │ false     │\n",
       "│ analysis │ main    │ A10_1_TBB_FIL        │ [index, Cat]         │ [VARCHAR, BIGINT]           │ false     │\n",
       "│ analysis │ main    │ A10_1_TILE           │ [index, Tiles]       │ [VARCHAR, BIGINT]           │ false     │\n",
       "│ analysis │ main    │ A10_1_TILE_FIL       │ [index, Tiles]       │ [VARCHAR, BIGINT]           │ false     │\n",
       "│ analysis │ main    │ A10_2_ADBC           │ [index, AD_BC]       │ [VARCHAR, BIGINT]           │ false     │\n",
       "│ analysis │ main    │ A10_2_AD_FIL         │ [index, AD_BC]       │ [VARCHAR, BIGINT]           │ false     │\n",
       "│ analysis │ main    │ A10_2_MAP_20240320   │ [AD, AD_BC, RPTR_BC] │ [VARCHAR, VARCHAR, VARCHAR] │ false     │\n",
       "│ analysis │ main    │ A10_2_RPTR           │ [index, RPTR_BC]     │ [VARCHAR, BIGINT]           │ false     │\n",
       "│ analysis │ main    │ A10_2_RPTR_FIL       │ [index, RPTR_BC]     │ [VARCHAR, BIGINT]           │ false     │\n",
       "│ analysis │ main    │ A10_2_TBB_FIL        │ [index, Cat]         │ [VARCHAR, BIGINT]           │ false     │\n",
       "│ analysis │ main    │ A10_2_TILE           │ [index, AD]          │ [VARCHAR, BIGINT]           │ false     │\n",
       "│ analysis │ main    │ A10_2_TILE_FIL       │ [index, AD]          │ [VARCHAR, BIGINT]           │ false     │\n",
       "├──────────┴─────────┴──────────────────────┴──────────────────────┴─────────────────────────────┴───────────┤\n",
       "│ 17 rows                                                                                          6 columns │\n",
       "└────────────────────────────────────────────────────────────────────────────────────────────────────────────┘"
      ]
     },
     "execution_count": 2,
     "metadata": {},
     "output_type": "execute_result"
    }
   ],
   "source": [
    "conn.sql(\"SHOW ALL TABLES\")"
   ]
  },
  {
   "cell_type": "code",
   "execution_count": 11,
   "id": "e48ee67a",
   "metadata": {},
   "outputs": [],
   "source": [
    "#save as df\n",
    "# adbc1_stats = conn.sql(\"\"\"SELECT * FROM A10_1_ADBC \"\"\").df()\n",
    "# rptr1_stats = conn.sql(\"\"\"SELECT * FROM A10_1_RPTR \"\"\").df()\n",
    "tile1_stats0 = conn.sql(\"\"\"SELECT * FROM A10_1_TILE \"\"\").df()\n",
    "# adbc2_stats = conn.sql(\"\"\"SELECT * FROM A10_2_ADBC \"\"\").df()\n",
    "# rptr2_stats = conn.sql(\"\"\"SELECT * FROM A10_2_RPTR \"\"\").df()\n",
    "tile2_stats0 = conn.sql(\"\"\"SELECT * FROM A10_2_TILE \"\"\").df()"
   ]
  },
  {
   "cell_type": "code",
   "execution_count": 9,
   "id": "3aed027c",
   "metadata": {},
   "outputs": [
    {
     "data": {
      "text/html": [
       "<div>\n",
       "<style scoped>\n",
       "    .dataframe tbody tr th:only-of-type {\n",
       "        vertical-align: middle;\n",
       "    }\n",
       "\n",
       "    .dataframe tbody tr th {\n",
       "        vertical-align: top;\n",
       "    }\n",
       "\n",
       "    .dataframe thead th {\n",
       "        text-align: right;\n",
       "    }\n",
       "</style>\n",
       "<table border=\"1\" class=\"dataframe\">\n",
       "  <thead>\n",
       "    <tr style=\"text-align: right;\">\n",
       "      <th></th>\n",
       "      <th>index</th>\n",
       "      <th>AD_BC</th>\n",
       "    </tr>\n",
       "  </thead>\n",
       "  <tbody>\n",
       "    <tr>\n",
       "      <th>1</th>\n",
       "      <td>CTTCACTCACT</td>\n",
       "      <td>19572</td>\n",
       "    </tr>\n",
       "    <tr>\n",
       "      <th>2</th>\n",
       "      <td>TCCTGAGCTAC</td>\n",
       "      <td>18204</td>\n",
       "    </tr>\n",
       "    <tr>\n",
       "      <th>3</th>\n",
       "      <td>CCCACCCGTGC</td>\n",
       "      <td>17906</td>\n",
       "    </tr>\n",
       "    <tr>\n",
       "      <th>4</th>\n",
       "      <td>TTGCCCATCGT</td>\n",
       "      <td>11813</td>\n",
       "    </tr>\n",
       "    <tr>\n",
       "      <th>5</th>\n",
       "      <td>GCTAAGGCGTA</td>\n",
       "      <td>7031</td>\n",
       "    </tr>\n",
       "  </tbody>\n",
       "</table>\n",
       "</div>"
      ],
      "text/plain": [
       "         index  AD_BC\n",
       "1  CTTCACTCACT  19572\n",
       "2  TCCTGAGCTAC  18204\n",
       "3  CCCACCCGTGC  17906\n",
       "4  TTGCCCATCGT  11813\n",
       "5  GCTAAGGCGTA   7031"
      ]
     },
     "execution_count": 9,
     "metadata": {},
     "output_type": "execute_result"
    }
   ],
   "source": [
    "adbc1_stats = adbc1_stats.rename(columns={\"AD BCs\": \"AD_BC\"})\n",
    "adbc1_stats = adbc1_stats.drop(0)\n",
    "adbc1_stats.head()"
   ]
  },
  {
   "cell_type": "code",
   "execution_count": 6,
   "id": "383a0477",
   "metadata": {},
   "outputs": [
    {
     "data": {
      "text/html": [
       "<div>\n",
       "<style scoped>\n",
       "    .dataframe tbody tr th:only-of-type {\n",
       "        vertical-align: middle;\n",
       "    }\n",
       "\n",
       "    .dataframe tbody tr th {\n",
       "        vertical-align: top;\n",
       "    }\n",
       "\n",
       "    .dataframe thead th {\n",
       "        text-align: right;\n",
       "    }\n",
       "</style>\n",
       "<table border=\"1\" class=\"dataframe\">\n",
       "  <thead>\n",
       "    <tr style=\"text-align: right;\">\n",
       "      <th></th>\n",
       "      <th>index</th>\n",
       "      <th>AD_BC</th>\n",
       "    </tr>\n",
       "  </thead>\n",
       "  <tbody>\n",
       "    <tr>\n",
       "      <th>0</th>\n",
       "      <td>TTAAGCTCGAG</td>\n",
       "      <td>61332</td>\n",
       "    </tr>\n",
       "    <tr>\n",
       "      <th>1</th>\n",
       "      <td>CCTTAAGCTCG</td>\n",
       "      <td>59104</td>\n",
       "    </tr>\n",
       "    <tr>\n",
       "      <th>2</th>\n",
       "      <td>CTTAAGCTCGA</td>\n",
       "      <td>57190</td>\n",
       "    </tr>\n",
       "    <tr>\n",
       "      <th>3</th>\n",
       "      <td>CCCTTAAGCTC</td>\n",
       "      <td>49709</td>\n",
       "    </tr>\n",
       "    <tr>\n",
       "      <th>4</th>\n",
       "      <td>CCCCTTAAGCT</td>\n",
       "      <td>38439</td>\n",
       "    </tr>\n",
       "  </tbody>\n",
       "</table>\n",
       "</div>"
      ],
      "text/plain": [
       "         index  AD_BC\n",
       "0  TTAAGCTCGAG  61332\n",
       "1  CCTTAAGCTCG  59104\n",
       "2  CTTAAGCTCGA  57190\n",
       "3  CCCTTAAGCTC  49709\n",
       "4  CCCCTTAAGCT  38439"
      ]
     },
     "execution_count": 6,
     "metadata": {},
     "output_type": "execute_result"
    }
   ],
   "source": [
    "adbc2_stats.head()"
   ]
  },
  {
   "cell_type": "code",
   "execution_count": 10,
   "id": "ed5000af",
   "metadata": {},
   "outputs": [
    {
     "data": {
      "text/html": [
       "<div>\n",
       "<style scoped>\n",
       "    .dataframe tbody tr th:only-of-type {\n",
       "        vertical-align: middle;\n",
       "    }\n",
       "\n",
       "    .dataframe tbody tr th {\n",
       "        vertical-align: top;\n",
       "    }\n",
       "\n",
       "    .dataframe thead th {\n",
       "        text-align: right;\n",
       "    }\n",
       "</style>\n",
       "<table border=\"1\" class=\"dataframe\">\n",
       "  <thead>\n",
       "    <tr style=\"text-align: right;\">\n",
       "      <th></th>\n",
       "      <th>index</th>\n",
       "      <th>AD_BC</th>\n",
       "      <th>dataset</th>\n",
       "    </tr>\n",
       "  </thead>\n",
       "  <tbody>\n",
       "    <tr>\n",
       "      <th>1</th>\n",
       "      <td>CTTCACTCACT</td>\n",
       "      <td>19572</td>\n",
       "      <td>set1</td>\n",
       "    </tr>\n",
       "    <tr>\n",
       "      <th>2</th>\n",
       "      <td>TCCTGAGCTAC</td>\n",
       "      <td>18204</td>\n",
       "      <td>set1</td>\n",
       "    </tr>\n",
       "    <tr>\n",
       "      <th>3</th>\n",
       "      <td>CCCACCCGTGC</td>\n",
       "      <td>17906</td>\n",
       "      <td>set1</td>\n",
       "    </tr>\n",
       "    <tr>\n",
       "      <th>4</th>\n",
       "      <td>TTGCCCATCGT</td>\n",
       "      <td>11813</td>\n",
       "      <td>set1</td>\n",
       "    </tr>\n",
       "    <tr>\n",
       "      <th>5</th>\n",
       "      <td>GCTAAGGCGTA</td>\n",
       "      <td>7031</td>\n",
       "      <td>set1</td>\n",
       "    </tr>\n",
       "  </tbody>\n",
       "</table>\n",
       "</div>"
      ],
      "text/plain": [
       "         index  AD_BC dataset\n",
       "1  CTTCACTCACT  19572    set1\n",
       "2  TCCTGAGCTAC  18204    set1\n",
       "3  CCCACCCGTGC  17906    set1\n",
       "4  TTGCCCATCGT  11813    set1\n",
       "5  GCTAAGGCGTA   7031    set1"
      ]
     },
     "execution_count": 10,
     "metadata": {},
     "output_type": "execute_result"
    }
   ],
   "source": [
    "all_adbc = pd.concat([adbc1_stats.assign(dataset='set1'), adbc2_stats.assign(dataset='set2')])\n",
    "all_adbc.head()"
   ]
  },
  {
   "cell_type": "code",
   "execution_count": 22,
   "id": "e15de3e0",
   "metadata": {},
   "outputs": [
    {
     "data": {
      "image/png": "[encoded data removed]",
      "text/plain": [
       "<Figure size 640x480 with 1 Axes>"
      ]
     },
     "metadata": {},
     "output_type": "display_data"
    }
   ],
   "source": [
    "sns.histplot(x='AD_BC', data=all_adbc, log_scale=(True, True),\n",
    "                hue='dataset')\n",
    "plt.savefig('A10_adbc_comp.jpg')\n",
    "plt.show()"
   ]
  },
  {
   "cell_type": "code",
   "execution_count": 14,
   "id": "c7ad3dee",
   "metadata": {},
   "outputs": [
    {
     "data": {
      "text/html": [
       "<div>\n",
       "<style scoped>\n",
       "    .dataframe tbody tr th:only-of-type {\n",
       "        vertical-align: middle;\n",
       "    }\n",
       "\n",
       "    .dataframe tbody tr th {\n",
       "        vertical-align: top;\n",
       "    }\n",
       "\n",
       "    .dataframe thead th {\n",
       "        text-align: right;\n",
       "    }\n",
       "</style>\n",
       "<table border=\"1\" class=\"dataframe\">\n",
       "  <thead>\n",
       "    <tr style=\"text-align: right;\">\n",
       "      <th></th>\n",
       "      <th>index</th>\n",
       "      <th>RPTR BCs</th>\n",
       "    </tr>\n",
       "  </thead>\n",
       "  <tbody>\n",
       "    <tr>\n",
       "      <th>0</th>\n",
       "      <td>X</td>\n",
       "      <td>45796783</td>\n",
       "    </tr>\n",
       "    <tr>\n",
       "      <th>1</th>\n",
       "      <td>TGCAGGAGCCACTC</td>\n",
       "      <td>22787</td>\n",
       "    </tr>\n",
       "    <tr>\n",
       "      <th>2</th>\n",
       "      <td>CTAGGTTAAAAGTA</td>\n",
       "      <td>20120</td>\n",
       "    </tr>\n",
       "    <tr>\n",
       "      <th>3</th>\n",
       "      <td>ATTGTTACCTGCCA</td>\n",
       "      <td>19397</td>\n",
       "    </tr>\n",
       "    <tr>\n",
       "      <th>4</th>\n",
       "      <td>GGGGTTAAGTTGAA</td>\n",
       "      <td>18719</td>\n",
       "    </tr>\n",
       "  </tbody>\n",
       "</table>\n",
       "</div>"
      ],
      "text/plain": [
       "            index  RPTR BCs\n",
       "0               X  45796783\n",
       "1  TGCAGGAGCCACTC     22787\n",
       "2  CTAGGTTAAAAGTA     20120\n",
       "3  ATTGTTACCTGCCA     19397\n",
       "4  GGGGTTAAGTTGAA     18719"
      ]
     },
     "execution_count": 14,
     "metadata": {},
     "output_type": "execute_result"
    }
   ],
   "source": [
    "rptr1_stats.head()"
   ]
  },
  {
   "cell_type": "code",
   "execution_count": 15,
   "id": "b199b57f",
   "metadata": {},
   "outputs": [
    {
     "data": {
      "text/html": [
       "<div>\n",
       "<style scoped>\n",
       "    .dataframe tbody tr th:only-of-type {\n",
       "        vertical-align: middle;\n",
       "    }\n",
       "\n",
       "    .dataframe tbody tr th {\n",
       "        vertical-align: top;\n",
       "    }\n",
       "\n",
       "    .dataframe thead th {\n",
       "        text-align: right;\n",
       "    }\n",
       "</style>\n",
       "<table border=\"1\" class=\"dataframe\">\n",
       "  <thead>\n",
       "    <tr style=\"text-align: right;\">\n",
       "      <th></th>\n",
       "      <th>index</th>\n",
       "      <th>RPTR_BC</th>\n",
       "      <th>dataset</th>\n",
       "    </tr>\n",
       "  </thead>\n",
       "  <tbody>\n",
       "    <tr>\n",
       "      <th>1</th>\n",
       "      <td>TGCAGGAGCCACTC</td>\n",
       "      <td>22787</td>\n",
       "      <td>set1</td>\n",
       "    </tr>\n",
       "    <tr>\n",
       "      <th>2</th>\n",
       "      <td>CTAGGTTAAAAGTA</td>\n",
       "      <td>20120</td>\n",
       "      <td>set1</td>\n",
       "    </tr>\n",
       "    <tr>\n",
       "      <th>3</th>\n",
       "      <td>ATTGTTACCTGCCA</td>\n",
       "      <td>19397</td>\n",
       "      <td>set1</td>\n",
       "    </tr>\n",
       "    <tr>\n",
       "      <th>4</th>\n",
       "      <td>GGGGTTAAGTTGAA</td>\n",
       "      <td>18719</td>\n",
       "      <td>set1</td>\n",
       "    </tr>\n",
       "    <tr>\n",
       "      <th>5</th>\n",
       "      <td>GCTGAGCTATTCAG</td>\n",
       "      <td>18592</td>\n",
       "      <td>set1</td>\n",
       "    </tr>\n",
       "  </tbody>\n",
       "</table>\n",
       "</div>"
      ],
      "text/plain": [
       "            index  RPTR_BC dataset\n",
       "1  TGCAGGAGCCACTC    22787    set1\n",
       "2  CTAGGTTAAAAGTA    20120    set1\n",
       "3  ATTGTTACCTGCCA    19397    set1\n",
       "4  GGGGTTAAGTTGAA    18719    set1\n",
       "5  GCTGAGCTATTCAG    18592    set1"
      ]
     },
     "execution_count": 15,
     "metadata": {},
     "output_type": "execute_result"
    }
   ],
   "source": [
    "rptr1_stats = rptr1_stats.drop(0).rename(columns={'RPTR BCs': 'RPTR_BC'})\n",
    "all_rptr = pd.concat([rptr1_stats.assign(dataset='set1'), rptr2_stats.assign(dataset='set2')])\n",
    "all_rptr.head()"
   ]
  },
  {
   "cell_type": "code",
   "execution_count": 23,
   "id": "8562d968",
   "metadata": {},
   "outputs": [
    {
     "data": {
      "image/png": "[encoded data removed]",
      "text/plain": [
       "<Figure size 640x480 with 1 Axes>"
      ]
     },
     "metadata": {},
     "output_type": "display_data"
    }
   ],
   "source": [
    "sns.histplot(x='RPTR_BC', data=all_rptr, log_scale=(True, True),\n",
    "                hue='dataset')\n",
    "plt.savefig('A10_rptrbc_comp.jpg')\n",
    "\n",
    "plt.show()"
   ]
  },
  {
   "cell_type": "code",
   "execution_count": 12,
   "id": "8833dcfd",
   "metadata": {},
   "outputs": [
    {
     "data": {
      "text/html": [
       "<div>\n",
       "<style scoped>\n",
       "    .dataframe tbody tr th:only-of-type {\n",
       "        vertical-align: middle;\n",
       "    }\n",
       "\n",
       "    .dataframe tbody tr th {\n",
       "        vertical-align: top;\n",
       "    }\n",
       "\n",
       "    .dataframe thead th {\n",
       "        text-align: right;\n",
       "    }\n",
       "</style>\n",
       "<table border=\"1\" class=\"dataframe\">\n",
       "  <thead>\n",
       "    <tr style=\"text-align: right;\">\n",
       "      <th></th>\n",
       "      <th>index</th>\n",
       "      <th>Tiles</th>\n",
       "    </tr>\n",
       "  </thead>\n",
       "  <tbody>\n",
       "    <tr>\n",
       "      <th>0</th>\n",
       "      <td>X</td>\n",
       "      <td>65156045</td>\n",
       "    </tr>\n",
       "    <tr>\n",
       "      <th>1</th>\n",
       "      <td>CAACAAACTCAACCATTGCCAGAATTGGTTCAACCAGTTCAACCAA...</td>\n",
       "      <td>18947</td>\n",
       "    </tr>\n",
       "    <tr>\n",
       "      <th>2</th>\n",
       "      <td>CCATTGATAATTCTAGAATTGCTGTTCCATCTCAAAGAAGACATTC...</td>\n",
       "      <td>16118</td>\n",
       "    </tr>\n",
       "    <tr>\n",
       "      <th>3</th>\n",
       "      <td>TCTGCTGATTATTCTGGTTTGCAATCTGATTATTCTCCATTGACTG...</td>\n",
       "      <td>15379</td>\n",
       "    </tr>\n",
       "    <tr>\n",
       "      <th>4</th>\n",
       "      <td>CCACAATCTGTTATCTT</td>\n",
       "      <td>15103</td>\n",
       "    </tr>\n",
       "  </tbody>\n",
       "</table>\n",
       "</div>"
      ],
      "text/plain": [
       "                                               index     Tiles\n",
       "0                                                  X  65156045\n",
       "1  CAACAAACTCAACCATTGCCAGAATTGGTTCAACCAGTTCAACCAA...     18947\n",
       "2  CCATTGATAATTCTAGAATTGCTGTTCCATCTCAAAGAAGACATTC...     16118\n",
       "3  TCTGCTGATTATTCTGGTTTGCAATCTGATTATTCTCCATTGACTG...     15379\n",
       "4                                  CCACAATCTGTTATCTT     15103"
      ]
     },
     "execution_count": 12,
     "metadata": {},
     "output_type": "execute_result"
    }
   ],
   "source": [
    "tile1_stats0.head()"
   ]
  },
  {
   "cell_type": "code",
   "execution_count": 13,
   "id": "871612d0",
   "metadata": {},
   "outputs": [
    {
     "data": {
      "text/html": [
       "<div>\n",
       "<style scoped>\n",
       "    .dataframe tbody tr th:only-of-type {\n",
       "        vertical-align: middle;\n",
       "    }\n",
       "\n",
       "    .dataframe tbody tr th {\n",
       "        vertical-align: top;\n",
       "    }\n",
       "\n",
       "    .dataframe thead th {\n",
       "        text-align: right;\n",
       "    }\n",
       "</style>\n",
       "<table border=\"1\" class=\"dataframe\">\n",
       "  <thead>\n",
       "    <tr style=\"text-align: right;\">\n",
       "      <th></th>\n",
       "      <th>index</th>\n",
       "      <th>AD</th>\n",
       "      <th>dataset</th>\n",
       "    </tr>\n",
       "  </thead>\n",
       "  <tbody>\n",
       "    <tr>\n",
       "      <th>1</th>\n",
       "      <td>CAACAAACTCAACCATTGCCAGAATTGGTTCAACCAGTTCAACCAA...</td>\n",
       "      <td>18947</td>\n",
       "      <td>set1</td>\n",
       "    </tr>\n",
       "    <tr>\n",
       "      <th>2</th>\n",
       "      <td>CCATTGATAATTCTAGAATTGCTGTTCCATCTCAAAGAAGACATTC...</td>\n",
       "      <td>16118</td>\n",
       "      <td>set1</td>\n",
       "    </tr>\n",
       "    <tr>\n",
       "      <th>3</th>\n",
       "      <td>TCTGCTGATTATTCTGGTTTGCAATCTGATTATTCTCCATTGACTG...</td>\n",
       "      <td>15379</td>\n",
       "      <td>set1</td>\n",
       "    </tr>\n",
       "    <tr>\n",
       "      <th>4</th>\n",
       "      <td>CCACAATCTGTTATCTT</td>\n",
       "      <td>15103</td>\n",
       "      <td>set1</td>\n",
       "    </tr>\n",
       "    <tr>\n",
       "      <th>5</th>\n",
       "      <td>TTGGCTTCTGATTCTTTGCCACCATTGCCACCAACTCCAAGATCTC...</td>\n",
       "      <td>14318</td>\n",
       "      <td>set1</td>\n",
       "    </tr>\n",
       "  </tbody>\n",
       "</table>\n",
       "</div>"
      ],
      "text/plain": [
       "                                               index     AD dataset\n",
       "1  CAACAAACTCAACCATTGCCAGAATTGGTTCAACCAGTTCAACCAA...  18947    set1\n",
       "2  CCATTGATAATTCTAGAATTGCTGTTCCATCTCAAAGAAGACATTC...  16118    set1\n",
       "3  TCTGCTGATTATTCTGGTTTGCAATCTGATTATTCTCCATTGACTG...  15379    set1\n",
       "4                                  CCACAATCTGTTATCTT  15103    set1\n",
       "5  TTGGCTTCTGATTCTTTGCCACCATTGCCACCAACTCCAAGATCTC...  14318    set1"
      ]
     },
     "execution_count": 13,
     "metadata": {},
     "output_type": "execute_result"
    }
   ],
   "source": [
    "tile1_stats0 = tile1_stats0.drop(0).rename(columns={'Tiles':'AD'})\n",
    "all_tile = pd.concat([tile1_stats0.assign(dataset='set1'), tile2_stats0.assign(dataset='set2')])\n",
    "all_tile.head()"
   ]
  },
  {
   "cell_type": "code",
   "execution_count": 14,
   "id": "e0bd0948",
   "metadata": {},
   "outputs": [
    {
     "data": {
      "image/png": "[encoded data removed]",
      "text/plain": [
       "<Figure size 640x480 with 1 Axes>"
      ]
     },
     "metadata": {},
     "output_type": "display_data"
    }
   ],
   "source": [
    "sns.histplot(x='AD', data=all_tile, log_scale=(True, True),\n",
    "                hue='dataset')\n",
    "plt.savefig('A10_tile_comp.jpg')\n",
    "\n",
    "plt.show()"
   ]
  },
  {
   "cell_type": "code",
   "execution_count": 25,
   "id": "bd0da0c3",
   "metadata": {},
   "outputs": [
    {
     "data": {
      "text/plain": [
       "'/global/scratch/users/empchase/A10_sequencing/v2'"
      ]
     },
     "execution_count": 25,
     "metadata": {},
     "output_type": "execute_result"
    }
   ],
   "source": [
    "pwd\n"
   ]
  },
  {
   "cell_type": "code",
   "execution_count": null,
   "id": "08eafc8a",
   "metadata": {},
   "outputs": [],
   "source": []
  },
  {
   "cell_type": "code",
   "execution_count": 3,
   "id": "50e5e4b2",
   "metadata": {},
   "outputs": [
    {
     "data": {
      "text/plain": [
       "┌──────────┬─────────┬──────────────────────┬──────────────────────┬─────────────────────────────┬───────────┐\n",
       "│ database │ schema  │         name         │     column_names     │        column_types         │ temporary │\n",
       "│ varchar  │ varchar │       varchar        │      varchar[]       │          varchar[]          │  boolean  │\n",
       "├──────────┼─────────┼──────────────────────┼──────────────────────┼─────────────────────────────┼───────────┤\n",
       "│ analysis │ main    │ A10_1_1_MAP_20240320 │ [AD, AD_BC, RPTR_BC] │ [VARCHAR, VARCHAR, VARCHAR] │ false     │\n",
       "│ analysis │ main    │ A10_1_2_MAP_20240320 │ [AD, AD_BC, RPTR_BC] │ [VARCHAR, VARCHAR, VARCHAR] │ false     │\n",
       "│ analysis │ main    │ A10_1_ADBC           │ [index, AD BCs]      │ [VARCHAR, BIGINT]           │ false     │\n",
       "│ analysis │ main    │ A10_1_AD_FIL         │ [index, AD BCs]      │ [VARCHAR, BIGINT]           │ false     │\n",
       "│ analysis │ main    │ A10_1_RPTR           │ [index, RPTR BCs]    │ [VARCHAR, BIGINT]           │ false     │\n",
       "│ analysis │ main    │ A10_1_RPTR_FIL       │ [index, RPTR BCs]    │ [VARCHAR, BIGINT]           │ false     │\n",
       "│ analysis │ main    │ A10_1_TILE           │ [index, Tiles]       │ [VARCHAR, BIGINT]           │ false     │\n",
       "│ analysis │ main    │ A10_1_TILE_FIL       │ [index, Tiles]       │ [VARCHAR, BIGINT]           │ false     │\n",
       "│ analysis │ main    │ A10_2_ADBC           │ [index, AD_BC]       │ [VARCHAR, BIGINT]           │ false     │\n",
       "│ analysis │ main    │ A10_2_AD_FIL         │ [index, AD_BC]       │ [VARCHAR, BIGINT]           │ false     │\n",
       "│ analysis │ main    │ A10_2_MAP_20240320   │ [AD, AD_BC, RPTR_BC] │ [VARCHAR, VARCHAR, VARCHAR] │ false     │\n",
       "│ analysis │ main    │ A10_2_RPTR           │ [index, RPTR_BC]     │ [VARCHAR, BIGINT]           │ false     │\n",
       "│ analysis │ main    │ A10_2_RPTR_FIL       │ [index, RPTR_BC]     │ [VARCHAR, BIGINT]           │ false     │\n",
       "│ analysis │ main    │ A10_2_TILE           │ [index, AD]          │ [VARCHAR, BIGINT]           │ false     │\n",
       "│ analysis │ main    │ A10_2_TILE_FIL       │ [index, AD]          │ [VARCHAR, BIGINT]           │ false     │\n",
       "├──────────┴─────────┴──────────────────────┴──────────────────────┴─────────────────────────────┴───────────┤\n",
       "│ 15 rows                                                                                          6 columns │\n",
       "└────────────────────────────────────────────────────────────────────────────────────────────────────────────┘"
      ]
     },
     "execution_count": 3,
     "metadata": {},
     "output_type": "execute_result"
    }
   ],
   "source": [
    "conn.sql(\"SHOW ALL TABLES\")"
   ]
  },
  {
   "cell_type": "code",
   "execution_count": 4,
   "id": "018c7b44",
   "metadata": {},
   "outputs": [],
   "source": [
    "#save as df\n",
    "adbc1_stats = conn.sql(\"\"\"SELECT * FROM A10_1_AD_FIL \"\"\").df()\n",
    "rptr1_stats = conn.sql(\"\"\"SELECT * FROM A10_1_RPTR_FIL \"\"\").df()\n",
    "tile1_stats = conn.sql(\"\"\"SELECT * FROM A10_1_TILE_FIL \"\"\").df()\n",
    "adbc2_stats = conn.sql(\"\"\"SELECT * FROM A10_2_AD_FIL \"\"\").df()\n",
    "rptr2_stats = conn.sql(\"\"\"SELECT * FROM A10_2_RPTR_FIL \"\"\").df()\n",
    "tile2_stats = conn.sql(\"\"\"SELECT * FROM A10_2_TILE_FIL \"\"\").df()"
   ]
  },
  {
   "cell_type": "code",
   "execution_count": 5,
   "id": "a10fe7de",
   "metadata": {},
   "outputs": [
    {
     "data": {
      "text/html": [
       "<div>\n",
       "<style scoped>\n",
       "    .dataframe tbody tr th:only-of-type {\n",
       "        vertical-align: middle;\n",
       "    }\n",
       "\n",
       "    .dataframe tbody tr th {\n",
       "        vertical-align: top;\n",
       "    }\n",
       "\n",
       "    .dataframe thead th {\n",
       "        text-align: right;\n",
       "    }\n",
       "</style>\n",
       "<table border=\"1\" class=\"dataframe\">\n",
       "  <thead>\n",
       "    <tr style=\"text-align: right;\">\n",
       "      <th></th>\n",
       "      <th>index</th>\n",
       "      <th>RPTR_BC</th>\n",
       "      <th>dataset</th>\n",
       "    </tr>\n",
       "  </thead>\n",
       "  <tbody>\n",
       "    <tr>\n",
       "      <th>1</th>\n",
       "      <td>TGCAGGAGCCACTC</td>\n",
       "      <td>11933</td>\n",
       "      <td>set1</td>\n",
       "    </tr>\n",
       "    <tr>\n",
       "      <th>2</th>\n",
       "      <td>GGGGTTAAGTTGAA</td>\n",
       "      <td>9468</td>\n",
       "      <td>set1</td>\n",
       "    </tr>\n",
       "    <tr>\n",
       "      <th>3</th>\n",
       "      <td>GCAACTAACCATTT</td>\n",
       "      <td>7433</td>\n",
       "      <td>set1</td>\n",
       "    </tr>\n",
       "    <tr>\n",
       "      <th>4</th>\n",
       "      <td>GCTAAAGGTGGCAT</td>\n",
       "      <td>6560</td>\n",
       "      <td>set1</td>\n",
       "    </tr>\n",
       "    <tr>\n",
       "      <th>5</th>\n",
       "      <td>AAGATAATAATACA</td>\n",
       "      <td>6464</td>\n",
       "      <td>set1</td>\n",
       "    </tr>\n",
       "  </tbody>\n",
       "</table>\n",
       "</div>"
      ],
      "text/plain": [
       "            index  RPTR_BC dataset\n",
       "1  TGCAGGAGCCACTC    11933    set1\n",
       "2  GGGGTTAAGTTGAA     9468    set1\n",
       "3  GCAACTAACCATTT     7433    set1\n",
       "4  GCTAAAGGTGGCAT     6560    set1\n",
       "5  AAGATAATAATACA     6464    set1"
      ]
     },
     "execution_count": 5,
     "metadata": {},
     "output_type": "execute_result"
    }
   ],
   "source": [
    "rptr1_stats = rptr1_stats.drop(0).rename(columns={'RPTR BCs': 'RPTR_BC'})\n",
    "all_rptr = pd.concat([rptr1_stats.assign(dataset='set1'), rptr2_stats.assign(dataset='set2')])\n",
    "all_rptr.head()"
   ]
  },
  {
   "cell_type": "code",
   "execution_count": 6,
   "id": "5c7af19d",
   "metadata": {},
   "outputs": [
    {
     "data": {
      "image/png": "[encoded data removed]",
      "text/plain": [
       "<Figure size 640x480 with 1 Axes>"
      ]
     },
     "metadata": {},
     "output_type": "display_data"
    }
   ],
   "source": [
    "sns.histplot(x='RPTR_BC', data=all_rptr, log_scale=(True, True),\n",
    "                hue='dataset')\n",
    "plt.savefig('A10_rptrbc_comp_FIL.jpg')\n",
    "\n",
    "plt.show()"
   ]
  },
  {
   "cell_type": "code",
   "execution_count": 7,
   "id": "2b11d6d4",
   "metadata": {},
   "outputs": [
    {
     "data": {
      "text/html": [
       "<div>\n",
       "<style scoped>\n",
       "    .dataframe tbody tr th:only-of-type {\n",
       "        vertical-align: middle;\n",
       "    }\n",
       "\n",
       "    .dataframe tbody tr th {\n",
       "        vertical-align: top;\n",
       "    }\n",
       "\n",
       "    .dataframe thead th {\n",
       "        text-align: right;\n",
       "    }\n",
       "</style>\n",
       "<table border=\"1\" class=\"dataframe\">\n",
       "  <thead>\n",
       "    <tr style=\"text-align: right;\">\n",
       "      <th></th>\n",
       "      <th>index</th>\n",
       "      <th>AD_BC</th>\n",
       "      <th>dataset</th>\n",
       "    </tr>\n",
       "  </thead>\n",
       "  <tbody>\n",
       "    <tr>\n",
       "      <th>1</th>\n",
       "      <td>GCTAAGGCGTA</td>\n",
       "      <td>4638</td>\n",
       "      <td>set1</td>\n",
       "    </tr>\n",
       "    <tr>\n",
       "      <th>2</th>\n",
       "      <td>AAGAGCCGGTA</td>\n",
       "      <td>2624</td>\n",
       "      <td>set1</td>\n",
       "    </tr>\n",
       "    <tr>\n",
       "      <th>3</th>\n",
       "      <td>TGTACCTACAT</td>\n",
       "      <td>2308</td>\n",
       "      <td>set1</td>\n",
       "    </tr>\n",
       "    <tr>\n",
       "      <th>4</th>\n",
       "      <td>GCGATCCATTC</td>\n",
       "      <td>1855</td>\n",
       "      <td>set1</td>\n",
       "    </tr>\n",
       "    <tr>\n",
       "      <th>5</th>\n",
       "      <td>ATTGATAGGAC</td>\n",
       "      <td>1800</td>\n",
       "      <td>set1</td>\n",
       "    </tr>\n",
       "  </tbody>\n",
       "</table>\n",
       "</div>"
      ],
      "text/plain": [
       "         index  AD_BC dataset\n",
       "1  GCTAAGGCGTA   4638    set1\n",
       "2  AAGAGCCGGTA   2624    set1\n",
       "3  TGTACCTACAT   2308    set1\n",
       "4  GCGATCCATTC   1855    set1\n",
       "5  ATTGATAGGAC   1800    set1"
      ]
     },
     "execution_count": 7,
     "metadata": {},
     "output_type": "execute_result"
    }
   ],
   "source": [
    "adbc1_stats = adbc1_stats.drop(0).rename(columns={'AD BCs': 'AD_BC'})\n",
    "all_adbc = pd.concat([adbc1_stats.assign(dataset='set1'), adbc2_stats.assign(dataset='set2')])\n",
    "all_adbc.head()"
   ]
  },
  {
   "cell_type": "code",
   "execution_count": 8,
   "id": "d518e206",
   "metadata": {},
   "outputs": [
    {
     "data": {
      "image/png": "[encoded data removed]",
      "text/plain": [
       "<Figure size 640x480 with 1 Axes>"
      ]
     },
     "metadata": {},
     "output_type": "display_data"
    }
   ],
   "source": [
    "sns.histplot(x='AD_BC', data=all_adbc, log_scale=(True, True),\n",
    "                hue='dataset')\n",
    "plt.savefig('A10_adbc_comp_FIL.jpg')\n",
    "plt.show()"
   ]
  },
  {
   "cell_type": "code",
   "execution_count": 16,
   "id": "e7894a56",
   "metadata": {},
   "outputs": [
    {
     "data": {
      "text/html": [
       "<div>\n",
       "<style scoped>\n",
       "    .dataframe tbody tr th:only-of-type {\n",
       "        vertical-align: middle;\n",
       "    }\n",
       "\n",
       "    .dataframe tbody tr th {\n",
       "        vertical-align: top;\n",
       "    }\n",
       "\n",
       "    .dataframe thead th {\n",
       "        text-align: right;\n",
       "    }\n",
       "</style>\n",
       "<table border=\"1\" class=\"dataframe\">\n",
       "  <thead>\n",
       "    <tr style=\"text-align: right;\">\n",
       "      <th></th>\n",
       "      <th>index</th>\n",
       "      <th>AD</th>\n",
       "      <th>dataset</th>\n",
       "    </tr>\n",
       "  </thead>\n",
       "  <tbody>\n",
       "    <tr>\n",
       "      <th>1</th>\n",
       "      <td>TCTGCTGATTATTCTGGTTTGCAATCTGATTATTCTCCATTGACTG...</td>\n",
       "      <td>15379</td>\n",
       "      <td>set1</td>\n",
       "    </tr>\n",
       "    <tr>\n",
       "      <th>2</th>\n",
       "      <td>TTGGCTTCTGATTCTTTGCCACCATTGCCACCAACTCCAAGATCTC...</td>\n",
       "      <td>14318</td>\n",
       "      <td>set1</td>\n",
       "    </tr>\n",
       "    <tr>\n",
       "      <th>3</th>\n",
       "      <td>AATAATTTGCCATCTGATTGGTTGTGTTCTGGTAATGGTGGTAATA...</td>\n",
       "      <td>13952</td>\n",
       "      <td>set1</td>\n",
       "    </tr>\n",
       "    <tr>\n",
       "      <th>4</th>\n",
       "      <td>GATCAAGCTTTGTCTGGTGATCCATGGTATCCATTGTTTCCACAAG...</td>\n",
       "      <td>11568</td>\n",
       "      <td>set1</td>\n",
       "    </tr>\n",
       "    <tr>\n",
       "      <th>5</th>\n",
       "      <td>TTCTCTGCTGATTATTCTGGTTTGCAATCTGATTATTCTCCATTGA...</td>\n",
       "      <td>11145</td>\n",
       "      <td>set1</td>\n",
       "    </tr>\n",
       "  </tbody>\n",
       "</table>\n",
       "</div>"
      ],
      "text/plain": [
       "                                               index     AD dataset\n",
       "1  TCTGCTGATTATTCTGGTTTGCAATCTGATTATTCTCCATTGACTG...  15379    set1\n",
       "2  TTGGCTTCTGATTCTTTGCCACCATTGCCACCAACTCCAAGATCTC...  14318    set1\n",
       "3  AATAATTTGCCATCTGATTGGTTGTGTTCTGGTAATGGTGGTAATA...  13952    set1\n",
       "4  GATCAAGCTTTGTCTGGTGATCCATGGTATCCATTGTTTCCACAAG...  11568    set1\n",
       "5  TTCTCTGCTGATTATTCTGGTTTGCAATCTGATTATTCTCCATTGA...  11145    set1"
      ]
     },
     "execution_count": 16,
     "metadata": {},
     "output_type": "execute_result"
    }
   ],
   "source": [
    "# tile1_stats = tile1_stats.drop(0).rename(columns={'Tiles':'AD'})\n",
    "all_tile = pd.concat([tile1_stats.assign(dataset='set1'), tile2_stats.assign(dataset='set2')])\n",
    "all_tile.head()"
   ]
  },
  {
   "cell_type": "code",
   "execution_count": 17,
   "id": "d6fed313",
   "metadata": {},
   "outputs": [
    {
     "data": {
      "image/png": "[encoded data removed]",
      "text/plain": [
       "<Figure size 640x480 with 1 Axes>"
      ]
     },
     "metadata": {},
     "output_type": "display_data"
    }
   ],
   "source": [
    "sns.histplot(x='AD', data=all_tile, log_scale=(True, True),\n",
    "                hue='dataset')\n",
    "plt.savefig('A10_tile_comp_FIL.jpg')\n",
    "\n",
    "plt.show()"
   ]
  },
  {
   "cell_type": "code",
   "execution_count": null,
   "id": "5f035994",
   "metadata": {},
   "outputs": [],
   "source": []
  },
  {
   "cell_type": "code",
   "execution_count": 3,
   "id": "4c6f08d3",
   "metadata": {},
   "outputs": [
    {
     "data": {
      "text/plain": [
       "┌──────────┬─────────┬──────────────────────┬──────────────────────┬─────────────────────────────┬───────────┐\n",
       "│ database │ schema  │         name         │     column_names     │        column_types         │ temporary │\n",
       "│ varchar  │ varchar │       varchar        │      varchar[]       │          varchar[]          │  boolean  │\n",
       "├──────────┼─────────┼──────────────────────┼──────────────────────┼─────────────────────────────┼───────────┤\n",
       "│ analysis │ main    │ A10_1_1_MAP_20240320 │ [AD, AD_BC, RPTR_BC] │ [VARCHAR, VARCHAR, VARCHAR] │ false     │\n",
       "│ analysis │ main    │ A10_1_2_MAP_20240320 │ [AD, AD_BC, RPTR_BC] │ [VARCHAR, VARCHAR, VARCHAR] │ false     │\n",
       "│ analysis │ main    │ A10_1_ADBC           │ [index, AD BCs]      │ [VARCHAR, BIGINT]           │ false     │\n",
       "│ analysis │ main    │ A10_1_AD_FIL         │ [index, AD BCs]      │ [VARCHAR, BIGINT]           │ false     │\n",
       "│ analysis │ main    │ A10_1_RPTR           │ [index, RPTR BCs]    │ [VARCHAR, BIGINT]           │ false     │\n",
       "│ analysis │ main    │ A10_1_RPTR_FIL       │ [index, RPTR BCs]    │ [VARCHAR, BIGINT]           │ false     │\n",
       "│ analysis │ main    │ A10_1_TBB_FIL        │ [index, Cat]         │ [VARCHAR, BIGINT]           │ false     │\n",
       "│ analysis │ main    │ A10_1_TILE           │ [index, Tiles]       │ [VARCHAR, BIGINT]           │ false     │\n",
       "│ analysis │ main    │ A10_1_TILE_FIL       │ [index, Tiles]       │ [VARCHAR, BIGINT]           │ false     │\n",
       "│ analysis │ main    │ A10_2_ADBC           │ [index, AD_BC]       │ [VARCHAR, BIGINT]           │ false     │\n",
       "│ analysis │ main    │ A10_2_AD_FIL         │ [index, AD_BC]       │ [VARCHAR, BIGINT]           │ false     │\n",
       "│ analysis │ main    │ A10_2_MAP_20240320   │ [AD, AD_BC, RPTR_BC] │ [VARCHAR, VARCHAR, VARCHAR] │ false     │\n",
       "│ analysis │ main    │ A10_2_RPTR           │ [index, RPTR_BC]     │ [VARCHAR, BIGINT]           │ false     │\n",
       "│ analysis │ main    │ A10_2_RPTR_FIL       │ [index, RPTR_BC]     │ [VARCHAR, BIGINT]           │ false     │\n",
       "│ analysis │ main    │ A10_2_TBB_FIL        │ [index, Cat]         │ [VARCHAR, BIGINT]           │ false     │\n",
       "│ analysis │ main    │ A10_2_TILE           │ [index, AD]          │ [VARCHAR, BIGINT]           │ false     │\n",
       "│ analysis │ main    │ A10_2_TILE_FIL       │ [index, AD]          │ [VARCHAR, BIGINT]           │ false     │\n",
       "├──────────┴─────────┴──────────────────────┴──────────────────────┴─────────────────────────────┴───────────┤\n",
       "│ 17 rows                                                                                          6 columns │\n",
       "└────────────────────────────────────────────────────────────────────────────────────────────────────────────┘"
      ]
     },
     "execution_count": 3,
     "metadata": {},
     "output_type": "execute_result"
    }
   ],
   "source": [
    "conn.sql(\"SHOW ALL TABLES\")"
   ]
  },
  {
   "cell_type": "code",
   "execution_count": 4,
   "id": "5e710265",
   "metadata": {},
   "outputs": [],
   "source": [
    "tbb1_stats = conn.sql(\"\"\"SELECT * FROM A10_1_TBB_FIL \"\"\").df()\n",
    "tbb2_stats = conn.sql(\"\"\"SELECT * FROM A10_2_TBB_FIL \"\"\").df()"
   ]
  },
  {
   "cell_type": "code",
   "execution_count": 5,
   "id": "9586d471",
   "metadata": {},
   "outputs": [
    {
     "data": {
      "text/html": [
       "<div>\n",
       "<style scoped>\n",
       "    .dataframe tbody tr th:only-of-type {\n",
       "        vertical-align: middle;\n",
       "    }\n",
       "\n",
       "    .dataframe tbody tr th {\n",
       "        vertical-align: top;\n",
       "    }\n",
       "\n",
       "    .dataframe thead th {\n",
       "        text-align: right;\n",
       "    }\n",
       "</style>\n",
       "<table border=\"1\" class=\"dataframe\">\n",
       "  <thead>\n",
       "    <tr style=\"text-align: right;\">\n",
       "      <th></th>\n",
       "      <th>index</th>\n",
       "      <th>Cat</th>\n",
       "    </tr>\n",
       "  </thead>\n",
       "  <tbody>\n",
       "    <tr>\n",
       "      <th>0</th>\n",
       "      <td>CAACAAACTCAACCATTGCCAGAATTGGTTCAACCAGTTCAACCAA...</td>\n",
       "      <td>3886</td>\n",
       "    </tr>\n",
       "    <tr>\n",
       "      <th>1</th>\n",
       "      <td>AATAATTTGCCATCTGATTGGTTGTGTTCTGGTAATGGTGGTAATA...</td>\n",
       "      <td>2262</td>\n",
       "    </tr>\n",
       "    <tr>\n",
       "      <th>2</th>\n",
       "      <td>GATCAAGCTTTGTCTGGTGATCCATGGTATCCATTGTTTCCACAAG...</td>\n",
       "      <td>1995</td>\n",
       "    </tr>\n",
       "    <tr>\n",
       "      <th>3</th>\n",
       "      <td>CCATCTTCTACTGCTTTGACTGCTTTGACTTCTCCATCTTTGTTTG...</td>\n",
       "      <td>1601</td>\n",
       "    </tr>\n",
       "    <tr>\n",
       "      <th>4</th>\n",
       "      <td>GCTGTTGTTACTACTTCTGCTGCTTCTCAAGGTGCTGGTGGTAATT...</td>\n",
       "      <td>1557</td>\n",
       "    </tr>\n",
       "  </tbody>\n",
       "</table>\n",
       "</div>"
      ],
      "text/plain": [
       "                                               index   Cat\n",
       "0  CAACAAACTCAACCATTGCCAGAATTGGTTCAACCAGTTCAACCAA...  3886\n",
       "1  AATAATTTGCCATCTGATTGGTTGTGTTCTGGTAATGGTGGTAATA...  2262\n",
       "2  GATCAAGCTTTGTCTGGTGATCCATGGTATCCATTGTTTCCACAAG...  1995\n",
       "3  CCATCTTCTACTGCTTTGACTGCTTTGACTTCTCCATCTTTGTTTG...  1601\n",
       "4  GCTGTTGTTACTACTTCTGCTGCTTCTCAAGGTGCTGGTGGTAATT...  1557"
      ]
     },
     "execution_count": 5,
     "metadata": {},
     "output_type": "execute_result"
    }
   ],
   "source": [
    "tbb1_stats.head()"
   ]
  },
  {
   "cell_type": "code",
   "execution_count": 6,
   "id": "0c9cc5a0",
   "metadata": {},
   "outputs": [
    {
     "data": {
      "text/html": [
       "<div>\n",
       "<style scoped>\n",
       "    .dataframe tbody tr th:only-of-type {\n",
       "        vertical-align: middle;\n",
       "    }\n",
       "\n",
       "    .dataframe tbody tr th {\n",
       "        vertical-align: top;\n",
       "    }\n",
       "\n",
       "    .dataframe thead th {\n",
       "        text-align: right;\n",
       "    }\n",
       "</style>\n",
       "<table border=\"1\" class=\"dataframe\">\n",
       "  <thead>\n",
       "    <tr style=\"text-align: right;\">\n",
       "      <th></th>\n",
       "      <th>index</th>\n",
       "      <th>Cat</th>\n",
       "    </tr>\n",
       "  </thead>\n",
       "  <tbody>\n",
       "    <tr>\n",
       "      <th>0</th>\n",
       "      <td>CAACAAACTCAACCATTGCCAGAATTGGTTCAACCAGTTCAACCAA...</td>\n",
       "      <td>20241</td>\n",
       "    </tr>\n",
       "    <tr>\n",
       "      <th>1</th>\n",
       "      <td>AATAATTTGCCATCTGATTGGTTGTGTTCTGGTAATGGTGGTAATA...</td>\n",
       "      <td>15933</td>\n",
       "    </tr>\n",
       "    <tr>\n",
       "      <th>2</th>\n",
       "      <td>GATCAAGCTTTGTCTGGTGATCCATGGTATCCATTGTTTCCACAAG...</td>\n",
       "      <td>12670</td>\n",
       "    </tr>\n",
       "    <tr>\n",
       "      <th>3</th>\n",
       "      <td>CCAGACTTTGATGCTTTGTTTGATTTGACTGCTAATTCATTTGTTG...</td>\n",
       "      <td>11259</td>\n",
       "    </tr>\n",
       "    <tr>\n",
       "      <th>4</th>\n",
       "      <td>GCTGTTGTTACTACTTCTGCTGCTTCTCAAGGTGCTGGTGGTAATT...</td>\n",
       "      <td>10592</td>\n",
       "    </tr>\n",
       "  </tbody>\n",
       "</table>\n",
       "</div>"
      ],
      "text/plain": [
       "                                               index    Cat\n",
       "0  CAACAAACTCAACCATTGCCAGAATTGGTTCAACCAGTTCAACCAA...  20241\n",
       "1  AATAATTTGCCATCTGATTGGTTGTGTTCTGGTAATGGTGGTAATA...  15933\n",
       "2  GATCAAGCTTTGTCTGGTGATCCATGGTATCCATTGTTTCCACAAG...  12670\n",
       "3  CCAGACTTTGATGCTTTGTTTGATTTGACTGCTAATTCATTTGTTG...  11259\n",
       "4  GCTGTTGTTACTACTTCTGCTGCTTCTCAAGGTGCTGGTGGTAATT...  10592"
      ]
     },
     "execution_count": 6,
     "metadata": {},
     "output_type": "execute_result"
    }
   ],
   "source": [
    "tbb2_stats.head()"
   ]
  },
  {
   "cell_type": "code",
   "execution_count": 7,
   "id": "fd857c03",
   "metadata": {},
   "outputs": [
    {
     "data": {
      "text/html": [
       "<div>\n",
       "<style scoped>\n",
       "    .dataframe tbody tr th:only-of-type {\n",
       "        vertical-align: middle;\n",
       "    }\n",
       "\n",
       "    .dataframe tbody tr th {\n",
       "        vertical-align: top;\n",
       "    }\n",
       "\n",
       "    .dataframe thead th {\n",
       "        text-align: right;\n",
       "    }\n",
       "</style>\n",
       "<table border=\"1\" class=\"dataframe\">\n",
       "  <thead>\n",
       "    <tr style=\"text-align: right;\">\n",
       "      <th></th>\n",
       "      <th>index</th>\n",
       "      <th>Cat</th>\n",
       "      <th>dataset</th>\n",
       "    </tr>\n",
       "  </thead>\n",
       "  <tbody>\n",
       "    <tr>\n",
       "      <th>0</th>\n",
       "      <td>CAACAAACTCAACCATTGCCAGAATTGGTTCAACCAGTTCAACCAA...</td>\n",
       "      <td>3886</td>\n",
       "      <td>set1</td>\n",
       "    </tr>\n",
       "    <tr>\n",
       "      <th>1</th>\n",
       "      <td>AATAATTTGCCATCTGATTGGTTGTGTTCTGGTAATGGTGGTAATA...</td>\n",
       "      <td>2262</td>\n",
       "      <td>set1</td>\n",
       "    </tr>\n",
       "    <tr>\n",
       "      <th>2</th>\n",
       "      <td>GATCAAGCTTTGTCTGGTGATCCATGGTATCCATTGTTTCCACAAG...</td>\n",
       "      <td>1995</td>\n",
       "      <td>set1</td>\n",
       "    </tr>\n",
       "    <tr>\n",
       "      <th>3</th>\n",
       "      <td>CCATCTTCTACTGCTTTGACTGCTTTGACTTCTCCATCTTTGTTTG...</td>\n",
       "      <td>1601</td>\n",
       "      <td>set1</td>\n",
       "    </tr>\n",
       "    <tr>\n",
       "      <th>4</th>\n",
       "      <td>GCTGTTGTTACTACTTCTGCTGCTTCTCAAGGTGCTGGTGGTAATT...</td>\n",
       "      <td>1557</td>\n",
       "      <td>set1</td>\n",
       "    </tr>\n",
       "  </tbody>\n",
       "</table>\n",
       "</div>"
      ],
      "text/plain": [
       "                                               index   Cat dataset\n",
       "0  CAACAAACTCAACCATTGCCAGAATTGGTTCAACCAGTTCAACCAA...  3886    set1\n",
       "1  AATAATTTGCCATCTGATTGGTTGTGTTCTGGTAATGGTGGTAATA...  2262    set1\n",
       "2  GATCAAGCTTTGTCTGGTGATCCATGGTATCCATTGTTTCCACAAG...  1995    set1\n",
       "3  CCATCTTCTACTGCTTTGACTGCTTTGACTTCTCCATCTTTGTTTG...  1601    set1\n",
       "4  GCTGTTGTTACTACTTCTGCTGCTTCTCAAGGTGCTGGTGGTAATT...  1557    set1"
      ]
     },
     "execution_count": 7,
     "metadata": {},
     "output_type": "execute_result"
    }
   ],
   "source": [
    "all_tbb = pd.concat([tbb1_stats.assign(dataset='set1'), tbb2_stats.assign(dataset='set2')])\n",
    "all_tbb.head()"
   ]
  },
  {
   "cell_type": "code",
   "execution_count": 9,
   "id": "33918189",
   "metadata": {},
   "outputs": [
    {
     "data": {
      "image/png": "[encoded data removed]",
      "text/plain": [
       "<Figure size 640x480 with 1 Axes>"
      ]
     },
     "metadata": {},
     "output_type": "display_data"
    }
   ],
   "source": [
    "sns.histplot(x='Cat', data=all_tbb, log_scale=(True, True),\n",
    "                hue='dataset')\n",
    "plt.savefig('A10_tbb_comp_FIL.jpg')\n",
    "\n",
    "plt.show()"
   ]
  },
  {
   "cell_type": "code",
   "execution_count": 10,
   "id": "a7c73541",
   "metadata": {},
   "outputs": [
    {
     "data": {
      "text/plain": [
       "'/global/scratch/users/empchase/A10_sequencing/v2'"
      ]
     },
     "execution_count": 10,
     "metadata": {},
     "output_type": "execute_result"
    }
   ],
   "source": [
    "pwd"
   ]
  },
  {
   "cell_type": "code",
   "execution_count": 20,
   "id": "f73cbe8e",
   "metadata": {},
   "outputs": [
    {
     "data": {
      "text/html": [
       "<div>\n",
       "<style scoped>\n",
       "    .dataframe tbody tr th:only-of-type {\n",
       "        vertical-align: middle;\n",
       "    }\n",
       "\n",
       "    .dataframe tbody tr th {\n",
       "        vertical-align: top;\n",
       "    }\n",
       "\n",
       "    .dataframe thead th {\n",
       "        text-align: right;\n",
       "    }\n",
       "</style>\n",
       "<table border=\"1\" class=\"dataframe\">\n",
       "  <thead>\n",
       "    <tr style=\"text-align: right;\">\n",
       "      <th></th>\n",
       "      <th>index</th>\n",
       "      <th>Cat</th>\n",
       "      <th>index_2</th>\n",
       "      <th>Cat_2</th>\n",
       "    </tr>\n",
       "  </thead>\n",
       "  <tbody>\n",
       "    <tr>\n",
       "      <th>0</th>\n",
       "      <td>GTCTTGCAATTGGATATTGATATGTTCTTGGAAGATTCTGATTCTC...</td>\n",
       "      <td>1</td>\n",
       "      <td>GTCTTGCAATTGGATATTGATATGTTCTTGGAAGATTCTGATTCTC...</td>\n",
       "      <td>1</td>\n",
       "    </tr>\n",
       "    <tr>\n",
       "      <th>1</th>\n",
       "      <td>TTGTTTCAAACTCAAACTAATCCAGTTGATTTGCCAGATTTGTTTG...</td>\n",
       "      <td>1</td>\n",
       "      <td>TTGTTTCAAACTCAAACTAATCCAGTTGATTTGCCAGATTTGTTTG...</td>\n",
       "      <td>1</td>\n",
       "    </tr>\n",
       "    <tr>\n",
       "      <th>2</th>\n",
       "      <td>TTGTTTCCACAAGAGAATGGTCATGCTCCACAAGCTTTGAAACCAG...</td>\n",
       "      <td>1</td>\n",
       "      <td>TTGTTTCCACAAGAGAATGGTCATGCTCCACAAGCTTTGAAACCAG...</td>\n",
       "      <td>1</td>\n",
       "    </tr>\n",
       "    <tr>\n",
       "      <th>3</th>\n",
       "      <td>GATCAATCTTCTACTTTGCATAGAACTACTTCTAATAATCCATATT...</td>\n",
       "      <td>1</td>\n",
       "      <td>GATCAATCTTCTACTTTGCATAGAACTACTTCTAATAATCCATATT...</td>\n",
       "      <td>1</td>\n",
       "    </tr>\n",
       "    <tr>\n",
       "      <th>4</th>\n",
       "      <td>TTCTCTTTGCCAACTGCTACTATTCCATCTCAAGAATTTAATTTGT...</td>\n",
       "      <td>1</td>\n",
       "      <td>TTCTCTTTGCCAACTGCTACTATTCCATCTCAAGAATTTAATTTGT...</td>\n",
       "      <td>1</td>\n",
       "    </tr>\n",
       "    <tr>\n",
       "      <th>...</th>\n",
       "      <td>...</td>\n",
       "      <td>...</td>\n",
       "      <td>...</td>\n",
       "      <td>...</td>\n",
       "    </tr>\n",
       "    <tr>\n",
       "      <th>355646</th>\n",
       "      <td>TTGTCTTCTCCAGCTCCACATGCTTATAGACATCAATTGAATACTA...</td>\n",
       "      <td>34</td>\n",
       "      <td>TTGTCTTCTCCAGCTCCACATGCTTATAGACATCAATTGAATACTA...</td>\n",
       "      <td>148</td>\n",
       "    </tr>\n",
       "    <tr>\n",
       "      <th>355647</th>\n",
       "      <td>TCATTTGTTGATGGTTTGGATGCTGCTTCTTTGGCTATGTTTGATA...</td>\n",
       "      <td>22</td>\n",
       "      <td>TCATTTGTTGATGGTTTGGATGCTGCTTCTTTGGCTATGTTTGATA...</td>\n",
       "      <td>148</td>\n",
       "    </tr>\n",
       "    <tr>\n",
       "      <th>355648</th>\n",
       "      <td>TCTCCAATGGAAGTTCCAGCTGATTTGGAAATTACTGAAACTGATT...</td>\n",
       "      <td>23</td>\n",
       "      <td>TCTCCAATGGAAGTTCCAGCTGATTTGGAAATTACTGAAACTGATT...</td>\n",
       "      <td>148</td>\n",
       "    </tr>\n",
       "    <tr>\n",
       "      <th>355649</th>\n",
       "      <td>TTGTGTCCATTGGTTTGTCCAGCTCAATGGTATGCTTATGTTATTG...</td>\n",
       "      <td>11</td>\n",
       "      <td>TTGTGTCCATTGGTTTGTCCAGCTCAATGGTATGCTTATGTTATTG...</td>\n",
       "      <td>151</td>\n",
       "    </tr>\n",
       "    <tr>\n",
       "      <th>355650</th>\n",
       "      <td>AACTTTAAAGAAGCTATTCCATCTTCTAGAGAATCTTCTAGGATTC...</td>\n",
       "      <td>14</td>\n",
       "      <td>AACTTTAAAGAAGCTATTCCATCTTCTAGAGAATCTTCTAGGATTC...</td>\n",
       "      <td>148</td>\n",
       "    </tr>\n",
       "  </tbody>\n",
       "</table>\n",
       "<p>355651 rows × 4 columns</p>\n",
       "</div>"
      ],
      "text/plain": [
       "                                                    index  Cat  \\\n",
       "0       GTCTTGCAATTGGATATTGATATGTTCTTGGAAGATTCTGATTCTC...    1   \n",
       "1       TTGTTTCAAACTCAAACTAATCCAGTTGATTTGCCAGATTTGTTTG...    1   \n",
       "2       TTGTTTCCACAAGAGAATGGTCATGCTCCACAAGCTTTGAAACCAG...    1   \n",
       "3       GATCAATCTTCTACTTTGCATAGAACTACTTCTAATAATCCATATT...    1   \n",
       "4       TTCTCTTTGCCAACTGCTACTATTCCATCTCAAGAATTTAATTTGT...    1   \n",
       "...                                                   ...  ...   \n",
       "355646  TTGTCTTCTCCAGCTCCACATGCTTATAGACATCAATTGAATACTA...   34   \n",
       "355647  TCATTTGTTGATGGTTTGGATGCTGCTTCTTTGGCTATGTTTGATA...   22   \n",
       "355648  TCTCCAATGGAAGTTCCAGCTGATTTGGAAATTACTGAAACTGATT...   23   \n",
       "355649  TTGTGTCCATTGGTTTGTCCAGCTCAATGGTATGCTTATGTTATTG...   11   \n",
       "355650  AACTTTAAAGAAGCTATTCCATCTTCTAGAGAATCTTCTAGGATTC...   14   \n",
       "\n",
       "                                                  index_2  Cat_2  \n",
       "0       GTCTTGCAATTGGATATTGATATGTTCTTGGAAGATTCTGATTCTC...      1  \n",
       "1       TTGTTTCAAACTCAAACTAATCCAGTTGATTTGCCAGATTTGTTTG...      1  \n",
       "2       TTGTTTCCACAAGAGAATGGTCATGCTCCACAAGCTTTGAAACCAG...      1  \n",
       "3       GATCAATCTTCTACTTTGCATAGAACTACTTCTAATAATCCATATT...      1  \n",
       "4       TTCTCTTTGCCAACTGCTACTATTCCATCTCAAGAATTTAATTTGT...      1  \n",
       "...                                                   ...    ...  \n",
       "355646  TTGTCTTCTCCAGCTCCACATGCTTATAGACATCAATTGAATACTA...    148  \n",
       "355647  TCATTTGTTGATGGTTTGGATGCTGCTTCTTTGGCTATGTTTGATA...    148  \n",
       "355648  TCTCCAATGGAAGTTCCAGCTGATTTGGAAATTACTGAAACTGATT...    148  \n",
       "355649  TTGTGTCCATTGGTTTGTCCAGCTCAATGGTATGCTTATGTTATTG...    151  \n",
       "355650  AACTTTAAAGAAGCTATTCCATCTTCTAGAGAATCTTCTAGGATTC...    148  \n",
       "\n",
       "[355651 rows x 4 columns]"
      ]
     },
     "execution_count": 20,
     "metadata": {},
     "output_type": "execute_result"
    }
   ],
   "source": [
    "# tbb1list = tbb1_stats['Cat'].copy()\n",
    "# tbb2list = tbb2_stats['Cat'].copy()\n",
    "\n",
    "# tbbset = intersection(tbb1list,tbb2list)\n",
    "# tbbset[:10]\n",
    "\n",
    "# int_df = pd.merge(tbb1_stats, tbb2_stats, how='inner', on = ['Cat'])\n",
    "# int_df.head()\n",
    "\n",
    "int_df = conn.sql(\"\"\" SELECT A10_1_TBB_FIL.INDEX, A10_1_TBB_FIL.CAT, A10_2_TBB_FIL.INDEX, A10_2_TBB_FIL.CAT\n",
    "            FROM A10_1_TBB_FIL\n",
    "            INNER JOIN A10_2_TBB_FIL ON \n",
    "            A10_1_TBB_FIL.INDEX = A10_2_TBB_FIL.INDEX\"\"\").df()\n",
    "int_df"
   ]
  },
  {
   "cell_type": "code",
   "execution_count": 33,
   "id": "77669691",
   "metadata": {},
   "outputs": [
    {
     "data": {
      "image/png": "[encoded data removed]",
      "text/plain": [
       "<Figure size 640x480 with 1 Axes>"
      ]
     },
     "metadata": {},
     "output_type": "display_data"
    }
   ],
   "source": [
    "ax = sns.regplot(x='Cat', y= 'Cat_2', data=int_df, color=\".3\", line_kws=dict(color=\"r\"),)\n",
    "ax.set(xlabel = 'Method 1 TBB', ylabel = 'Method 2 TBB')\n",
    "ax.set_xscale('log')\n",
    "ax.set_yscale('log')\n",
    "\n",
    "# plt.savefig('figures/20240321/A10_tbb_dotcorr_FIL.jpg')\n",
    "\n",
    "plt.show()"
   ]
  },
  {
   "cell_type": "code",
   "execution_count": 34,
   "id": "9c7a30b5",
   "metadata": {},
   "outputs": [],
   "source": [
    "conn.close()"
   ]
  },
  {
   "cell_type": "code",
   "execution_count": null,
   "id": "72b898c2",
   "metadata": {},
   "outputs": [],
   "source": [
    "\"/global/scratch/users/empchase/A10_sequencing/v2analysis.db\""
   ]
  }
 ],
 "metadata": {
  "kernelspec": {
   "display_name": "biopython",
   "language": "python",
   "name": "biopython"
  },
  "language_info": {
   "codemirror_mode": {
    "name": "ipython",
    "version": 3
   },
   "file_extension": ".py",
   "mimetype": "text/x-python",
   "name": "python",
   "nbconvert_exporter": "python",
   "pygments_lexer": "ipython3",
   "version": "3.11.4"
  }
 },
 "nbformat": 4,
 "nbformat_minor": 5
}
