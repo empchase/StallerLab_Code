{
 "cells": [
  {
   "cell_type": "code",
   "execution_count": 1,
   "id": "db21ffa5",
   "metadata": {},
   "outputs": [],
   "source": [
    "import pandas as pd\n",
    "import re\n",
    "import numpy as np\n",
    "import matplotlib.pyplot as plt\n",
    "import seaborn as sns\n",
    "import concurrent.futures\n",
    "import time\n",
    "import duckdb \n",
    "conn = duckdb.connect('analysis.db') # create an in-memory database"
   ]
  },
  {
   "cell_type": "code",
   "execution_count": 2,
   "id": "6e351b0c",
   "metadata": {},
   "outputs": [
    {
     "data": {
      "text/plain": [
       "┌──────────┬─────────┬──────────────────────┬──────────────────────┬─────────────────────────────┬───────────┐\n",
       "│ database │ schema  │         name         │     column_names     │        column_types         │ temporary │\n",
       "│ varchar  │ varchar │       varchar        │      varchar[]       │          varchar[]          │  boolean  │\n",
       "├──────────┼─────────┼──────────────────────┼──────────────────────┼─────────────────────────────┼───────────┤\n",
       "│ analysis │ main    │ A10_1_1_MAP_20240320 │ [AD, AD_BC, RPTR_BC] │ [VARCHAR, VARCHAR, VARCHAR] │ false     │\n",
       "│ analysis │ main    │ A10_1_2_MAP_20240320 │ [AD, AD_BC, RPTR_BC] │ [VARCHAR, VARCHAR, VARCHAR] │ false     │\n",
       "│ analysis │ main    │ A10_1_ADBC           │ [index, AD BCs]      │ [VARCHAR, BIGINT]           │ false     │\n",
       "│ analysis │ main    │ A10_1_AD_FIL         │ [index, AD BCs]      │ [VARCHAR, BIGINT]           │ false     │\n",
       "│ analysis │ main    │ A10_1_RPTR           │ [index, RPTR BCs]    │ [VARCHAR, BIGINT]           │ false     │\n",
       "│ analysis │ main    │ A10_1_RPTR_FIL       │ [index, RPTR BCs]    │ [VARCHAR, BIGINT]           │ false     │\n",
       "│ analysis │ main    │ A10_1_TBB_FIL        │ [index, Cat]         │ [VARCHAR, BIGINT]           │ false     │\n",
       "│ analysis │ main    │ A10_1_TILE           │ [index, Tiles]       │ [VARCHAR, BIGINT]           │ false     │\n",
       "│ analysis │ main    │ A10_1_TILE_FIL       │ [index, Tiles]       │ [VARCHAR, BIGINT]           │ false     │\n",
       "│ analysis │ main    │ A10_2_ADBC           │ [index, AD_BC]       │ [VARCHAR, BIGINT]           │ false     │\n",
       "│ analysis │ main    │ A10_2_AD_FIL         │ [index, AD_BC]       │ [VARCHAR, BIGINT]           │ false     │\n",
       "│ analysis │ main    │ A10_2_MAP_20240320   │ [AD, AD_BC, RPTR_BC] │ [VARCHAR, VARCHAR, VARCHAR] │ false     │\n",
       "│ analysis │ main    │ A10_2_RPTR           │ [index, RPTR_BC]     │ [VARCHAR, BIGINT]           │ false     │\n",
       "│ analysis │ main    │ A10_2_RPTR_FIL       │ [index, RPTR_BC]     │ [VARCHAR, BIGINT]           │ false     │\n",
       "│ analysis │ main    │ A10_2_TBB_FIL        │ [index, Cat]         │ [VARCHAR, BIGINT]           │ false     │\n",
       "│ analysis │ main    │ A10_2_TILE           │ [index, AD]          │ [VARCHAR, BIGINT]           │ false     │\n",
       "│ analysis │ main    │ A10_2_TILE_FIL       │ [index, AD]          │ [VARCHAR, BIGINT]           │ false     │\n",
       "├──────────┴─────────┴──────────────────────┴──────────────────────┴─────────────────────────────┴───────────┤\n",
       "│ 17 rows                                                                                          6 columns │\n",
       "└────────────────────────────────────────────────────────────────────────────────────────────────────────────┘"
      ]
     },
     "execution_count": 2,
     "metadata": {},
     "output_type": "execute_result"
    }
   ],
   "source": [
    "conn.sql(\"SHOW ALL TABLES\")"
   ]
  },
  {
   "cell_type": "code",
   "execution_count": 5,
   "id": "0b9b600a",
   "metadata": {},
   "outputs": [
    {
     "data": {
      "text/html": [
       "<div>\n",
       "<style scoped>\n",
       "    .dataframe tbody tr th:only-of-type {\n",
       "        vertical-align: middle;\n",
       "    }\n",
       "\n",
       "    .dataframe tbody tr th {\n",
       "        vertical-align: top;\n",
       "    }\n",
       "\n",
       "    .dataframe thead th {\n",
       "        text-align: right;\n",
       "    }\n",
       "</style>\n",
       "<table border=\"1\" class=\"dataframe\">\n",
       "  <thead>\n",
       "    <tr style=\"text-align: right;\">\n",
       "      <th></th>\n",
       "      <th>count(AD)</th>\n",
       "      <th>RPTR_BC</th>\n",
       "    </tr>\n",
       "  </thead>\n",
       "  <tbody>\n",
       "    <tr>\n",
       "      <th>0</th>\n",
       "      <td>2</td>\n",
       "      <td>TAGATAGTCTGATA</td>\n",
       "    </tr>\n",
       "    <tr>\n",
       "      <th>1</th>\n",
       "      <td>3</td>\n",
       "      <td>TCGGTACTGACTGG</td>\n",
       "    </tr>\n",
       "    <tr>\n",
       "      <th>2</th>\n",
       "      <td>3</td>\n",
       "      <td>AAGGTACTTGATTG</td>\n",
       "    </tr>\n",
       "    <tr>\n",
       "      <th>3</th>\n",
       "      <td>1</td>\n",
       "      <td>GTTGCCATACACTA</td>\n",
       "    </tr>\n",
       "    <tr>\n",
       "      <th>4</th>\n",
       "      <td>4</td>\n",
       "      <td>GTTCGTGGATTACA</td>\n",
       "    </tr>\n",
       "    <tr>\n",
       "      <th>...</th>\n",
       "      <td>...</td>\n",
       "      <td>...</td>\n",
       "    </tr>\n",
       "    <tr>\n",
       "      <th>588767</th>\n",
       "      <td>1</td>\n",
       "      <td>TTTAGCACGCATGA</td>\n",
       "    </tr>\n",
       "    <tr>\n",
       "      <th>588768</th>\n",
       "      <td>1</td>\n",
       "      <td>AATCTTCGCATCAT</td>\n",
       "    </tr>\n",
       "    <tr>\n",
       "      <th>588769</th>\n",
       "      <td>1</td>\n",
       "      <td>AATTCTTATATAGC</td>\n",
       "    </tr>\n",
       "    <tr>\n",
       "      <th>588770</th>\n",
       "      <td>1</td>\n",
       "      <td>TATCCCTACAAATC</td>\n",
       "    </tr>\n",
       "    <tr>\n",
       "      <th>588771</th>\n",
       "      <td>1</td>\n",
       "      <td>GAAGGTCGAAGATG</td>\n",
       "    </tr>\n",
       "  </tbody>\n",
       "</table>\n",
       "<p>588772 rows × 2 columns</p>\n",
       "</div>"
      ],
      "text/plain": [
       "        count(AD)         RPTR_BC\n",
       "0               2  TAGATAGTCTGATA\n",
       "1               3  TCGGTACTGACTGG\n",
       "2               3  AAGGTACTTGATTG\n",
       "3               1  GTTGCCATACACTA\n",
       "4               4  GTTCGTGGATTACA\n",
       "...           ...             ...\n",
       "588767          1  TTTAGCACGCATGA\n",
       "588768          1  AATCTTCGCATCAT\n",
       "588769          1  AATTCTTATATAGC\n",
       "588770          1  TATCCCTACAAATC\n",
       "588771          1  GAAGGTCGAAGATG\n",
       "\n",
       "[588772 rows x 2 columns]"
      ]
     },
     "execution_count": 5,
     "metadata": {},
     "output_type": "execute_result"
    }
   ],
   "source": [
    "rptr_tile = conn.sql(\"\"\"SELECT COUNT(AD), RPTR_BC \n",
    "FROM A10_2_MAP_20240320 \n",
    "GROUP BY RPTR_BC\"\"\").df()\n",
    "\n",
    "rptr_tile"
   ]
  },
  {
   "cell_type": "code",
   "execution_count": 8,
   "id": "c8919032",
   "metadata": {},
   "outputs": [
    {
     "data": {
      "text/plain": [
       "<Axes: xlabel='count(AD)', ylabel='Count'>"
      ]
     },
     "execution_count": 8,
     "metadata": {},
     "output_type": "execute_result"
    },
    {
     "data": {
      "image/png": "[encoded data removed]",
      "text/plain": [
       "<Figure size 640x480 with 1 Axes>"
      ]
     },
     "metadata": {},
     "output_type": "display_data"
    }
   ],
   "source": [
    "sns.histplot(rptr_tile, x='count(AD)', log_scale=(True, True))"
   ]
  },
  {
   "cell_type": "code",
   "execution_count": 14,
   "id": "df650c50",
   "metadata": {},
   "outputs": [
    {
     "name": "stderr",
     "output_type": "stream",
     "text": [
      "/tmp/ipykernel_18261/1554487946.py:1: FutureWarning: The default value of numeric_only in DataFrame.sum is deprecated. In a future version, it will default to False. In addition, specifying 'numeric_only=None' is deprecated. Select only valid columns or specify the value of numeric_only to silence this warning.\n",
      "  rptr_tile[rptr_tile['count(AD)'] != 1].sum()\n"
     ]
    },
    {
     "data": {
      "text/plain": [
       "count(AD)    778806\n",
       "dtype: int64"
      ]
     },
     "execution_count": 14,
     "metadata": {},
     "output_type": "execute_result"
    }
   ],
   "source": [
    "rptr_tile[rptr_tile['count(AD)'] != 1].sum()"
   ]
  },
  {
   "cell_type": "code",
   "execution_count": 10,
   "id": "cf051651",
   "metadata": {},
   "outputs": [
    {
     "data": {
      "text/html": [
       "<div>\n",
       "<style scoped>\n",
       "    .dataframe tbody tr th:only-of-type {\n",
       "        vertical-align: middle;\n",
       "    }\n",
       "\n",
       "    .dataframe tbody tr th {\n",
       "        vertical-align: top;\n",
       "    }\n",
       "\n",
       "    .dataframe thead th {\n",
       "        text-align: right;\n",
       "    }\n",
       "</style>\n",
       "<table border=\"1\" class=\"dataframe\">\n",
       "  <thead>\n",
       "    <tr style=\"text-align: right;\">\n",
       "      <th></th>\n",
       "      <th>count(AD)</th>\n",
       "      <th>RPTR_BC</th>\n",
       "    </tr>\n",
       "  </thead>\n",
       "  <tbody>\n",
       "    <tr>\n",
       "      <th>0</th>\n",
       "      <td>2</td>\n",
       "      <td>AAGGAGCGGTCCGT</td>\n",
       "    </tr>\n",
       "    <tr>\n",
       "      <th>1</th>\n",
       "      <td>1</td>\n",
       "      <td>TAAATAAATCCGCA</td>\n",
       "    </tr>\n",
       "    <tr>\n",
       "      <th>2</th>\n",
       "      <td>1</td>\n",
       "      <td>AGTACGTCCTCTCG</td>\n",
       "    </tr>\n",
       "    <tr>\n",
       "      <th>3</th>\n",
       "      <td>1</td>\n",
       "      <td>CCGTGATTAAATGA</td>\n",
       "    </tr>\n",
       "    <tr>\n",
       "      <th>4</th>\n",
       "      <td>1</td>\n",
       "      <td>AAAGAAAGTAATTA</td>\n",
       "    </tr>\n",
       "    <tr>\n",
       "      <th>...</th>\n",
       "      <td>...</td>\n",
       "      <td>...</td>\n",
       "    </tr>\n",
       "    <tr>\n",
       "      <th>284818</th>\n",
       "      <td>1</td>\n",
       "      <td>AAGCCATGTTCCAC</td>\n",
       "    </tr>\n",
       "    <tr>\n",
       "      <th>284819</th>\n",
       "      <td>1</td>\n",
       "      <td>CATTCCGTCGACAG</td>\n",
       "    </tr>\n",
       "    <tr>\n",
       "      <th>284820</th>\n",
       "      <td>1</td>\n",
       "      <td>GAGCTAGGTGACAT</td>\n",
       "    </tr>\n",
       "    <tr>\n",
       "      <th>284821</th>\n",
       "      <td>2</td>\n",
       "      <td>TCACCCAAGTGCGG</td>\n",
       "    </tr>\n",
       "    <tr>\n",
       "      <th>284822</th>\n",
       "      <td>2</td>\n",
       "      <td>TTCGATCAGAATTA</td>\n",
       "    </tr>\n",
       "  </tbody>\n",
       "</table>\n",
       "<p>284823 rows × 2 columns</p>\n",
       "</div>"
      ],
      "text/plain": [
       "        count(AD)         RPTR_BC\n",
       "0               2  AAGGAGCGGTCCGT\n",
       "1               1  TAAATAAATCCGCA\n",
       "2               1  AGTACGTCCTCTCG\n",
       "3               1  CCGTGATTAAATGA\n",
       "4               1  AAAGAAAGTAATTA\n",
       "...           ...             ...\n",
       "284818          1  AAGCCATGTTCCAC\n",
       "284819          1  CATTCCGTCGACAG\n",
       "284820          1  GAGCTAGGTGACAT\n",
       "284821          2  TCACCCAAGTGCGG\n",
       "284822          2  TTCGATCAGAATTA\n",
       "\n",
       "[284823 rows x 2 columns]"
      ]
     },
     "execution_count": 10,
     "metadata": {},
     "output_type": "execute_result"
    }
   ],
   "source": [
    "rptr_tile_m1 = conn.sql(\"\"\"SELECT COUNT(AD), RPTR_BC \n",
    "FROM A10_1_2_MAP_20240320 \n",
    "GROUP BY RPTR_BC\"\"\").df()\n",
    "\n",
    "rptr_tile_m1"
   ]
  },
  {
   "cell_type": "code",
   "execution_count": 11,
   "id": "e2af3df9",
   "metadata": {},
   "outputs": [
    {
     "data": {
      "text/plain": [
       "<Axes: xlabel='count(AD)', ylabel='Count'>"
      ]
     },
     "execution_count": 11,
     "metadata": {},
     "output_type": "execute_result"
    },
    {
     "data": {
      "image/png": "[encoded data removed]",
      "text/plain": [
       "<Figure size 640x480 with 1 Axes>"
      ]
     },
     "metadata": {},
     "output_type": "display_data"
    }
   ],
   "source": [
    "sns.histplot(rptr_tile_m1, x='count(AD)', log_scale=(True, True))"
   ]
  },
  {
   "cell_type": "code",
   "execution_count": 13,
   "id": "4dc104d5",
   "metadata": {},
   "outputs": [
    {
     "name": "stderr",
     "output_type": "stream",
     "text": [
      "/tmp/ipykernel_18261/1938551348.py:1: FutureWarning: The default value of numeric_only in DataFrame.sum is deprecated. In a future version, it will default to False. In addition, specifying 'numeric_only=None' is deprecated. Select only valid columns or specify the value of numeric_only to silence this warning.\n",
      "  rptr_tile_m1[rptr_tile_m1['count(AD)'] != 1].sum()\n"
     ]
    },
    {
     "data": {
      "text/plain": [
       "count(AD)    140621\n",
       "dtype: int64"
      ]
     },
     "execution_count": 13,
     "metadata": {},
     "output_type": "execute_result"
    }
   ],
   "source": [
    "rptr_tile_m1[rptr_tile_m1['count(AD)'] != 1].sum()"
   ]
  },
  {
   "cell_type": "code",
   "execution_count": 15,
   "id": "bd067d0d",
   "metadata": {},
   "outputs": [
    {
     "data": {
      "text/html": [
       "<div>\n",
       "<style scoped>\n",
       "    .dataframe tbody tr th:only-of-type {\n",
       "        vertical-align: middle;\n",
       "    }\n",
       "\n",
       "    .dataframe tbody tr th {\n",
       "        vertical-align: top;\n",
       "    }\n",
       "\n",
       "    .dataframe thead th {\n",
       "        text-align: right;\n",
       "    }\n",
       "</style>\n",
       "<table border=\"1\" class=\"dataframe\">\n",
       "  <thead>\n",
       "    <tr style=\"text-align: right;\">\n",
       "      <th></th>\n",
       "      <th>count(AD)</th>\n",
       "      <th>RPTR_BC</th>\n",
       "    </tr>\n",
       "  </thead>\n",
       "  <tbody>\n",
       "    <tr>\n",
       "      <th>0</th>\n",
       "      <td>2</td>\n",
       "      <td>CAGGTGTATAGAGA</td>\n",
       "    </tr>\n",
       "    <tr>\n",
       "      <th>1</th>\n",
       "      <td>1</td>\n",
       "      <td>ATAAAACCTATGTG</td>\n",
       "    </tr>\n",
       "    <tr>\n",
       "      <th>2</th>\n",
       "      <td>1</td>\n",
       "      <td>GCGAAGTAATGTCT</td>\n",
       "    </tr>\n",
       "    <tr>\n",
       "      <th>3</th>\n",
       "      <td>3</td>\n",
       "      <td>CCTTTTCTAGAAAG</td>\n",
       "    </tr>\n",
       "    <tr>\n",
       "      <th>4</th>\n",
       "      <td>3</td>\n",
       "      <td>GCAATGAATGGCGT</td>\n",
       "    </tr>\n",
       "    <tr>\n",
       "      <th>...</th>\n",
       "      <td>...</td>\n",
       "      <td>...</td>\n",
       "    </tr>\n",
       "    <tr>\n",
       "      <th>437551</th>\n",
       "      <td>3</td>\n",
       "      <td>TTAAATGATTCCTC</td>\n",
       "    </tr>\n",
       "    <tr>\n",
       "      <th>437552</th>\n",
       "      <td>4</td>\n",
       "      <td>ATTGCTGTGGTTGT</td>\n",
       "    </tr>\n",
       "    <tr>\n",
       "      <th>437553</th>\n",
       "      <td>2</td>\n",
       "      <td>ATTCGACACCCGCC</td>\n",
       "    </tr>\n",
       "    <tr>\n",
       "      <th>437554</th>\n",
       "      <td>3</td>\n",
       "      <td>ATCTCCATCGTTGC</td>\n",
       "    </tr>\n",
       "    <tr>\n",
       "      <th>437555</th>\n",
       "      <td>3</td>\n",
       "      <td>ATCTTTGGACATTT</td>\n",
       "    </tr>\n",
       "  </tbody>\n",
       "</table>\n",
       "<p>437556 rows × 2 columns</p>\n",
       "</div>"
      ],
      "text/plain": [
       "        count(AD)         RPTR_BC\n",
       "0               2  CAGGTGTATAGAGA\n",
       "1               1  ATAAAACCTATGTG\n",
       "2               1  GCGAAGTAATGTCT\n",
       "3               3  CCTTTTCTAGAAAG\n",
       "4               3  GCAATGAATGGCGT\n",
       "...           ...             ...\n",
       "437551          3  TTAAATGATTCCTC\n",
       "437552          4  ATTGCTGTGGTTGT\n",
       "437553          2  ATTCGACACCCGCC\n",
       "437554          3  ATCTCCATCGTTGC\n",
       "437555          3  ATCTTTGGACATTT\n",
       "\n",
       "[437556 rows x 2 columns]"
      ]
     },
     "execution_count": 15,
     "metadata": {},
     "output_type": "execute_result"
    }
   ],
   "source": [
    "rptr_tile_m1_1 = conn.sql(\"\"\"SELECT COUNT(AD), RPTR_BC \n",
    "FROM A10_1_1_MAP_20240320 \n",
    "GROUP BY RPTR_BC\"\"\").df()\n",
    "\n",
    "rptr_tile_m1_1"
   ]
  },
  {
   "cell_type": "code",
   "execution_count": 16,
   "id": "1bd41367",
   "metadata": {},
   "outputs": [
    {
     "data": {
      "text/plain": [
       "<Axes: xlabel='count(AD)', ylabel='Count'>"
      ]
     },
     "execution_count": 16,
     "metadata": {},
     "output_type": "execute_result"
    },
    {
     "data": {
      "image/png": "[encoded data removed]",
      "text/plain": [
       "<Figure size 640x480 with 1 Axes>"
      ]
     },
     "metadata": {},
     "output_type": "display_data"
    }
   ],
   "source": [
    "sns.histplot(rptr_tile_m1_1, x='count(AD)', log_scale=(True, True))"
   ]
  },
  {
   "cell_type": "code",
   "execution_count": 18,
   "id": "309df597",
   "metadata": {},
   "outputs": [
    {
     "name": "stderr",
     "output_type": "stream",
     "text": [
      "/tmp/ipykernel_18261/2261431814.py:1: FutureWarning: The default value of numeric_only in DataFrame.sum is deprecated. In a future version, it will default to False. In addition, specifying 'numeric_only=None' is deprecated. Select only valid columns or specify the value of numeric_only to silence this warning.\n",
      "  rptr_tile_m1_1[rptr_tile_m1_1['count(AD)'] != 1].sum()\n"
     ]
    },
    {
     "data": {
      "text/plain": [
       "count(AD)    776222\n",
       "dtype: int64"
      ]
     },
     "execution_count": 18,
     "metadata": {},
     "output_type": "execute_result"
    }
   ],
   "source": [
    "rptr_tile_m1_1[rptr_tile_m1_1['count(AD)'] != 1].sum()"
   ]
  },
  {
   "cell_type": "code",
   "execution_count": null,
   "id": "07c06507",
   "metadata": {},
   "outputs": [],
   "source": []
  }
 ],
 "metadata": {
  "kernelspec": {
   "display_name": "biopython",
   "language": "python",
   "name": "biopython"
  },
  "language_info": {
   "codemirror_mode": {
    "name": "ipython",
    "version": 3
   },
   "file_extension": ".py",
   "mimetype": "text/x-python",
   "name": "python",
   "nbconvert_exporter": "python",
   "pygments_lexer": "ipython3",
   "version": "3.11.4"
  }
 },
 "nbformat": 4,
 "nbformat_minor": 5
}
