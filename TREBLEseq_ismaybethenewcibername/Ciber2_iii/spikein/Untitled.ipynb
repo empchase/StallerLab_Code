{
 "cells": [
  {
   "cell_type": "markdown",
   "id": "548c5b3d-60d9-48a5-9576-045af8a616c8",
   "metadata": {},
   "source": [
    "# Pre-processing (always need to run)"
   ]
  },
  {
   "cell_type": "code",
   "execution_count": 2,
   "id": "3483af03-99af-428d-a046-7d09d1c3897e",
   "metadata": {},
   "outputs": [],
   "source": [
    "import pandas as pd\n",
    "import numpy as np\n",
    "import matplotlib.pyplot as plt\n",
    "import seaborn as sns\n",
    "import os\n",
    "import csv\n",
    "import scipy\n",
    "import string\n",
    "from scipy.stats import spearmanr, pearsonr\n",
    "import numpy as np"
   ]
  },
  {
   "cell_type": "code",
   "execution_count": 3,
   "id": "47273593-6e56-40e6-9906-f1b6586a6785",
   "metadata": {},
   "outputs": [
    {
     "data": {
      "text/plain": [
       "'/global/scratch/projects/fc_mvslab/OpenProjects/EChase/ciber2_iii/spikein'"
      ]
     },
     "execution_count": 3,
     "metadata": {},
     "output_type": "execute_result"
    }
   ],
   "source": [
    "pwd"
   ]
  },
  {
   "cell_type": "code",
   "execution_count": 22,
   "id": "2db197d6-29c9-47e7-ace4-d357e8cf3fed",
   "metadata": {},
   "outputs": [
    {
     "name": "stdout",
     "output_type": "stream",
     "text": [
      "['Staller', 'RPTR', '2', '15', 'MVS', '0081']\n",
      "['Staller', 'AD', '2', '30', 'MVS', '0061']\n",
      "['Staller', 'RPTR', '3', '0', 'MVS', '0085']\n",
      "['Staller', 'AD', '4', '30', 'MVS', '0075']\n",
      "['Staller', 'RPTR', '2', '10', 'MVS', '0080']\n",
      "['Staller', 'RPTR', '2', '5', 'MVS', '0079']\n",
      "['Staller', 'AD', '4', '10', 'MVS', '0073']\n",
      "['Staller', 'AD', '3', '5', 'MVS', '0065']\n",
      "['Staller', 'RPTR', '4', '15', 'MVS', '0095']\n",
      "['Staller', 'RPTR', '4', '30', 'MVS', '0096']\n",
      "['Staller', 'RPTR', '2', '30', 'MVS', '0082']\n",
      "['Staller', 'RPTR', '3', '240', 'MVS', '0091']\n",
      "['Staller', 'AD', '2', '5', 'MVS', '0058']\n",
      "['Staller', 'RPTR', '3', '15', 'MVS', '0088']\n",
      "['Staller', 'RPTR', '4', '240', 'MVS', '0050']\n",
      "['Staller', 'AD', '2', '180', 'MVS', '0062']\n",
      "['Staller', 'AD', '3', '240', 'MVS', '0070']\n",
      "['Staller', 'AD', '3', '0', 'MVS', '0064']\n",
      "['Staller', 'AD', '3', '15', 'MVS', '0067']\n",
      "['Staller', 'AD', '4', '240', 'MVS', '0077']\n",
      "['Staller', 'AD', '2', '240', 'MVS', '0063']\n",
      "['Staller', 'RPTR', '4', '5', 'MVS', '0093']\n",
      "['Staller', 'RPTR', '4', '0', 'MVS', '0092']\n",
      "['Staller', 'AD', '4', '0', 'MVS', '0071']\n",
      "['Staller', 'RPTR', '2', '180', 'MVS', '0083']\n",
      "['Staller', 'RPTR', '2', '240', 'MVS', '0084']\n",
      "['Staller', 'AD', '2', '15', 'MVS', '0060']\n",
      "['Staller', 'RPTR', '2', '0', 'MVS', '0078']\n",
      "['Staller', 'RPTR', '3', '10', 'MVS', '0087']\n",
      "['Staller', 'AD', '2', '10', 'MVS', '0059']\n",
      "['Staller', 'RPTR', '3', '30', 'MVS', '0089']\n",
      "['Staller', 'RPTR', '3', '5', 'MVS', '0086']\n",
      "['Staller', 'RPTR', '4', '180', 'MVS', '0049']\n",
      "['Staller', 'RPTR', '4', '10', 'MVS', '0094']\n",
      "['Staller', 'RPTR', '3', '180', 'MVS', '0090']\n",
      "['Staller', 'AD', '3', '10', 'MVS', '0066']\n",
      "['Staller', 'AD', '2', '0', 'MVS', '0057']\n",
      "['Staller', 'AD', '4', '15', 'MVS', '0074']\n",
      "['Staller', 'AD', '4', '180', 'MVS', '0076']\n",
      "['Staller', 'AD', '3', '30', 'MVS', '0068']\n",
      "['Staller', 'AD', '3', '180', 'MVS', '0069']\n",
      "['Staller', 'AD', '4', '5', 'MVS', '0072']\n"
     ]
    }
   ],
   "source": [
    "# peardata = 'pear_results.txt'\n",
    "# pdata = []\n",
    "# with open(peardata, 'r') as f: \n",
    "#     for line in f:\n",
    "#         line = line.strip()\n",
    "#         rawstats = line.split(':')\n",
    "#         tot_paired = rawstats[1].split('/')[0]\n",
    "#         tot_paired = int(tot_paired.replace(\",\", \"\"))\n",
    "#         # print(tot_paired)\n",
    "#         pdata.append(tot_paired)\n",
    "\n",
    "\n",
    "pdata_files = 'pear_results_filepaths.txt'\n",
    "fdata = []\n",
    "with open(pdata_files, 'r') as f: \n",
    "    for line in f:\n",
    "        line = line.strip()\n",
    "        rawstats = line.split(':')\n",
    "        rawfnames = rawstats[1].split('/')[1]\n",
    "        libnames = rawfnames.split('_')[:6]\n",
    "        print()\n",
    "        # tot_paired = rawstats[1].split('/')[0]\n",
    "        # tot_paired = int(tot_paired.replace(\",\", \"\"))\n",
    "        # # print(tot_paired)\n",
    "        # pdata.append(tot_paired)\n",
    "# \tLibrary\n",
    "# 1\tStaller_AD_2_0_MVS_0057\n"
   ]
  },
  {
   "cell_type": "code",
   "execution_count": null,
   "id": "08a7a341-6afc-4bdd-94ca-ec0bcc56f2d7",
   "metadata": {},
   "outputs": [],
   "source": []
  }
 ],
 "metadata": {
  "kernelspec": {
   "display_name": "biopython",
   "language": "python",
   "name": "biopython"
  },
  "language_info": {
   "codemirror_mode": {
    "name": "ipython",
    "version": 3
   },
   "file_extension": ".py",
   "mimetype": "text/x-python",
   "name": "python",
   "nbconvert_exporter": "python",
   "pygments_lexer": "ipython3",
   "version": "3.11.4"
  }
 },
 "nbformat": 4,
 "nbformat_minor": 5
}
